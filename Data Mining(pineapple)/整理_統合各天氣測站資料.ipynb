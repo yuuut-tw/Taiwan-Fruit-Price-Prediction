{
 "cells": [
  {
   "cell_type": "code",
   "execution_count": 1,
   "metadata": {},
   "outputs": [],
   "source": [
    "import os\n",
    "import glob\n",
    "import time\n",
    "import concurrent.futures\n",
    "import pandas as pd"
   ]
  },
  {
   "cell_type": "code",
   "execution_count": 2,
   "metadata": {},
   "outputs": [],
   "source": [
    "# Create directory\n",
    "if os.path.exists(\"./cleaned data/weather_data/test\"):\n",
    "    pass\n",
    "else:\n",
    "    os.mkdir(\"./cleaned data/weather_data/test/\")"
   ]
  },
  {
   "cell_type": "code",
   "execution_count": 23,
   "metadata": {},
   "outputs": [],
   "source": [
    "# Create a function dealing with the seperated data, merging them into one file. \n",
    "\n",
    "def whole_data(dir_path):\n",
    "    for subdir_path in glob.glob(dir_path):\n",
    "        location = subdir_path.split(\"/\")[-1] # window的話路徑呈現方式不同，將\"/\"換成\"\\\\\"\n",
    "        df = pd.DataFrame()\n",
    "        \n",
    "        for file_path in sorted(glob.glob(subdir_path + \"/*.csv\")):\n",
    "            df_ele = pd.read_csv(file_path)\n",
    "            df = df.append(df_ele)\n",
    "        \n",
    "        df.to_csv(f\"./cleaned data/weather_data/{location}.csv\", index=False)\n",
    "        \n",
    "        print(f\"Successfully processed: {location}\")\n",
    "        "
   ]
  },
  {
   "cell_type": "code",
   "execution_count": 24,
   "metadata": {},
   "outputs": [
    {
     "name": "stdout",
     "output_type": "stream",
     "text": [
      "Successfully processed: 臺北\n",
      "Successfully processed: 蘇澳\n",
      "Successfully processed: 竹子湖\n",
      "Successfully processed: 淡水\n",
      "Successfully processed: 玉山\n",
      "Successfully processed: 蘭嶼\n",
      "Successfully processed: 恆春\n",
      "Successfully processed: 臺中\n",
      "Successfully processed: 金門\n",
      "Successfully processed: 宜蘭\n",
      "Successfully processed: 新竹\n",
      "Successfully processed: 大武\n",
      "Successfully processed: 高雄\n",
      "Successfully processed: 板橋\n",
      "Successfully processed: 東吉島\n",
      "Successfully processed: 彭佳嶼\n",
      "Successfully processed: 日月潭\n",
      "Successfully processed: 成功\n",
      "Successfully processed: 臺南\n",
      "Successfully processed: 新屋\n",
      "Successfully processed: 澎湖\n",
      "Successfully processed: 花蓮\n",
      "Successfully processed: 阿里山\n",
      "Successfully processed: 田中\n",
      "Successfully processed: 基隆\n",
      "Successfully processed: 嘉義\n",
      "Successfully processed: 永康\n",
      "Successfully processed: 臺東\n",
      "Successfully processed: 鞍部\n"
     ]
    }
   ],
   "source": [
    "# 執行程式\n",
    "whole_data(\"../data/WeatherDatas/*\")"
   ]
  },
  {
   "cell_type": "code",
   "execution_count": 5,
   "metadata": {},
   "outputs": [
    {
     "name": "stdout",
     "output_type": "stream",
     "text": [
      "Total time: 1.1972439289093018sec\n"
     ]
    }
   ],
   "source": [
    "# 測試：多執行緒 => 目前尚未成功\n",
    "start_time = time.time()\n",
    "\n",
    "\n",
    "with concurrent.futures.ThreadPoolExecutor(max_workers=10) as executor:\n",
    "    executor.submit(whole_data, \"../data/WeatherDatas/*\")\n",
    "\n",
    "end_time = time.time()\n",
    "\n",
    "print(\"Total time: {}sec\".format(end_time - start_time))"
   ]
  },
  {
   "cell_type": "code",
   "execution_count": null,
   "metadata": {},
   "outputs": [],
   "source": []
  }
 ],
 "metadata": {
  "kernelspec": {
   "display_name": "Python 3",
   "language": "python",
   "name": "python3"
  },
  "language_info": {
   "codemirror_mode": {
    "name": "ipython",
    "version": 3
   },
   "file_extension": ".py",
   "mimetype": "text/x-python",
   "name": "python",
   "nbconvert_exporter": "python",
   "pygments_lexer": "ipython3",
   "version": "3.8.3"
  }
 },
 "nbformat": 4,
 "nbformat_minor": 4
}
