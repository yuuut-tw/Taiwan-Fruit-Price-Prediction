{
 "cells": [
  {
   "cell_type": "markdown",
   "metadata": {},
   "source": [
    "# **鳳梨交易價格**\n",
    "- 首先我們必須先知道鳳梨主要交易市場在哪邊"
   ]
  },
  {
   "cell_type": "code",
   "execution_count": 1,
   "metadata": {
    "ExecuteTime": {
     "end_time": "2021-07-12T01:25:19.978776Z",
     "start_time": "2021-07-12T01:25:19.683265Z"
    }
   },
   "outputs": [],
   "source": [
    "import pandas as pd\n",
    "import warnings\n",
    "warnings.simplefilter(action='ignore', category=FutureWarning)\n",
    "\n",
    "import matplotlib.pyplot as plt \n",
    "import seaborn as sns\n",
    "import re\n",
    "\n",
    "%matplotlib inline"
   ]
  },
  {
   "cell_type": "code",
   "execution_count": 2,
   "metadata": {
    "ExecuteTime": {
     "end_time": "2021-07-12T01:25:22.580072Z",
     "start_time": "2021-07-12T01:25:22.496678Z"
    }
   },
   "outputs": [
    {
     "data": {
      "text/html": [
       "<div>\n",
       "<style scoped>\n",
       "    .dataframe tbody tr th:only-of-type {\n",
       "        vertical-align: middle;\n",
       "    }\n",
       "\n",
       "    .dataframe tbody tr th {\n",
       "        vertical-align: top;\n",
       "    }\n",
       "\n",
       "    .dataframe thead th {\n",
       "        text-align: right;\n",
       "    }\n",
       "</style>\n",
       "<table border=\"1\" class=\"dataframe\">\n",
       "  <thead>\n",
       "    <tr style=\"text-align: right;\">\n",
       "      <th></th>\n",
       "      <th>Unnamed: 0</th>\n",
       "      <th>日期</th>\n",
       "      <th>市場</th>\n",
       "      <th>產品</th>\n",
       "      <th>上價</th>\n",
       "      <th>中價</th>\n",
       "      <th>下價</th>\n",
       "      <th>平均價(元/公斤)</th>\n",
       "      <th>平均價_跟前一交易日比較%</th>\n",
       "      <th>交易量(公斤)</th>\n",
       "      <th>交易量_跟前一交易日比較%</th>\n",
       "    </tr>\n",
       "  </thead>\n",
       "  <tbody>\n",
       "    <tr>\n",
       "      <th>0</th>\n",
       "      <td>0</td>\n",
       "      <td>100/01/01</td>\n",
       "      <td>104 台北二</td>\n",
       "      <td>B2 鳳梨 金鑽鳳梨</td>\n",
       "      <td>29.4</td>\n",
       "      <td>23.0</td>\n",
       "      <td>13.2</td>\n",
       "      <td>22.3</td>\n",
       "      <td>-  7</td>\n",
       "      <td>3885</td>\n",
       "      <td>122</td>\n",
       "    </tr>\n",
       "    <tr>\n",
       "      <th>1</th>\n",
       "      <td>1</td>\n",
       "      <td>100/01/02</td>\n",
       "      <td>104 台北二</td>\n",
       "      <td>B2 鳳梨 金鑽鳳梨</td>\n",
       "      <td>30.1</td>\n",
       "      <td>22.6</td>\n",
       "      <td>12.3</td>\n",
       "      <td>22.1</td>\n",
       "      <td>-  1</td>\n",
       "      <td>5468</td>\n",
       "      <td>+ 41</td>\n",
       "    </tr>\n",
       "    <tr>\n",
       "      <th>2</th>\n",
       "      <td>2</td>\n",
       "      <td>100/01/04</td>\n",
       "      <td>104 台北二</td>\n",
       "      <td>B2 鳳梨 金鑽鳳梨</td>\n",
       "      <td>28.3</td>\n",
       "      <td>21.6</td>\n",
       "      <td>10.1</td>\n",
       "      <td>20.7</td>\n",
       "      <td>-</td>\n",
       "      <td>5068</td>\n",
       "      <td>-</td>\n",
       "    </tr>\n",
       "    <tr>\n",
       "      <th>3</th>\n",
       "      <td>3</td>\n",
       "      <td>100/01/05</td>\n",
       "      <td>104 台北二</td>\n",
       "      <td>B2 鳳梨 金鑽鳳梨</td>\n",
       "      <td>27.5</td>\n",
       "      <td>16.9</td>\n",
       "      <td>7.4</td>\n",
       "      <td>17.1</td>\n",
       "      <td>- 17</td>\n",
       "      <td>5212</td>\n",
       "      <td>+  3</td>\n",
       "    </tr>\n",
       "    <tr>\n",
       "      <th>4</th>\n",
       "      <td>4</td>\n",
       "      <td>100/01/06</td>\n",
       "      <td>104 台北二</td>\n",
       "      <td>B2 鳳梨 金鑽鳳梨</td>\n",
       "      <td>31.4</td>\n",
       "      <td>19.7</td>\n",
       "      <td>9.0</td>\n",
       "      <td>19.9</td>\n",
       "      <td>-  4</td>\n",
       "      <td>620</td>\n",
       "      <td>- 88</td>\n",
       "    </tr>\n",
       "  </tbody>\n",
       "</table>\n",
       "</div>"
      ],
      "text/plain": [
       "   Unnamed: 0         日期         市場           產品    上價    中價    下價  平均價(元/公斤)  \\\n",
       "0           0  100/01/01  104 台北二    B2 鳳梨 金鑽鳳梨   29.4  23.0  13.2       22.3   \n",
       "1           1  100/01/02  104 台北二    B2 鳳梨 金鑽鳳梨   30.1  22.6  12.3       22.1   \n",
       "2           2  100/01/04  104 台北二    B2 鳳梨 金鑽鳳梨   28.3  21.6  10.1       20.7   \n",
       "3           3  100/01/05  104 台北二    B2 鳳梨 金鑽鳳梨   27.5  16.9   7.4       17.1   \n",
       "4           4  100/01/06  104 台北二    B2 鳳梨 金鑽鳳梨   31.4  19.7   9.0       19.9   \n",
       "\n",
       "  平均價_跟前一交易日比較%  交易量(公斤) 交易量_跟前一交易日比較%  \n",
       "0          -  7     3885           122  \n",
       "1          -  1     5468          + 41  \n",
       "2          -        5068          -     \n",
       "3          - 17     5212          +  3  \n",
       "4          -  4      620          - 88  "
      ]
     },
     "execution_count": 2,
     "metadata": {},
     "output_type": "execute_result"
    }
   ],
   "source": [
    "df_price = pd.read_csv(\"../data/farmproduct_pineapple_crawler.csv\",  encoding=\"utf8\")\n",
    "df_price.head()"
   ]
  },
  {
   "cell_type": "markdown",
   "metadata": {},
   "source": [
    "### **資料基本情報**"
   ]
  },
  {
   "cell_type": "code",
   "execution_count": 3,
   "metadata": {
    "ExecuteTime": {
     "end_time": "2021-07-12T01:25:31.188604Z",
     "start_time": "2021-07-12T01:25:31.180627Z"
    }
   },
   "outputs": [
    {
     "data": {
      "text/plain": [
       "array(['104 台北二  ', '109 台北一  ', '220 板橋區', '241 三重區', '260 宜蘭市',\n",
       "       '338 桃\\u3000農', '400 台中市  ', '420 豐原區', '600 嘉義市', '800 高雄市',\n",
       "       '830 鳳山區', '930 台東市'], dtype=object)"
      ]
     },
     "execution_count": 3,
     "metadata": {},
     "output_type": "execute_result"
    }
   ],
   "source": [
    "df_price[\"市場\"].unique()"
   ]
  },
  {
   "cell_type": "code",
   "execution_count": 4,
   "metadata": {
    "ExecuteTime": {
     "end_time": "2021-07-12T01:25:32.653934Z",
     "start_time": "2021-07-12T01:25:32.633988Z"
    }
   },
   "outputs": [
    {
     "data": {
      "text/plain": [
       "Unnamed: 0         int64\n",
       "日期                object\n",
       "市場                object\n",
       "產品                object\n",
       "上價               float64\n",
       "中價               float64\n",
       "下價               float64\n",
       "平均價(元/公斤)        float64\n",
       "平均價_跟前一交易日比較%     object\n",
       "交易量(公斤)            int64\n",
       "交易量_跟前一交易日比較%     object\n",
       "dtype: object"
      ]
     },
     "execution_count": 4,
     "metadata": {},
     "output_type": "execute_result"
    }
   ],
   "source": [
    "df_price.dtypes"
   ]
  },
  {
   "cell_type": "code",
   "execution_count": 5,
   "metadata": {
    "ExecuteTime": {
     "end_time": "2021-07-12T01:25:35.220707Z",
     "start_time": "2021-07-12T01:25:35.213724Z"
    }
   },
   "outputs": [
    {
     "data": {
      "text/plain": [
       "Index(['Unnamed: 0', '日期', '市場', '產品', '上價', '中價', '下價', '平均價(元/公斤)',\n",
       "       '平均價_跟前一交易日比較%', '交易量(公斤)', '交易量_跟前一交易日比較%'],\n",
       "      dtype='object')"
      ]
     },
     "execution_count": 5,
     "metadata": {},
     "output_type": "execute_result"
    }
   ],
   "source": [
    "df_price.columns"
   ]
  },
  {
   "cell_type": "code",
   "execution_count": 6,
   "metadata": {},
   "outputs": [
    {
     "data": {
      "text/plain": [
       "array(['B2 鳳梨 金鑽鳳梨 '], dtype=object)"
      ]
     },
     "execution_count": 6,
     "metadata": {},
     "output_type": "execute_result"
    }
   ],
   "source": [
    "df_price[\"產品\"].unique()"
   ]
  },
  {
   "cell_type": "markdown",
   "metadata": {},
   "source": [
    "### **修正＆刪去不必要資料**"
   ]
  },
  {
   "cell_type": "code",
   "execution_count": 7,
   "metadata": {
    "ExecuteTime": {
     "end_time": "2021-07-12T01:25:37.977094Z",
     "start_time": "2021-07-12T01:25:37.971113Z"
    }
   },
   "outputs": [],
   "source": [
    "df_price.drop(columns=[\"Unnamed: 0\", \"平均價_跟前一交易日比較%\", \"交易量_跟前一交易日比較%\"], inplace=True)"
   ]
  },
  {
   "cell_type": "code",
   "execution_count": 8,
   "metadata": {
    "ExecuteTime": {
     "end_time": "2021-07-12T01:25:39.817408Z",
     "start_time": "2021-07-12T01:25:39.774523Z"
    }
   },
   "outputs": [
    {
     "data": {
      "text/html": [
       "<div>\n",
       "<style scoped>\n",
       "    .dataframe tbody tr th:only-of-type {\n",
       "        vertical-align: middle;\n",
       "    }\n",
       "\n",
       "    .dataframe tbody tr th {\n",
       "        vertical-align: top;\n",
       "    }\n",
       "\n",
       "    .dataframe thead th {\n",
       "        text-align: right;\n",
       "    }\n",
       "</style>\n",
       "<table border=\"1\" class=\"dataframe\">\n",
       "  <thead>\n",
       "    <tr style=\"text-align: right;\">\n",
       "      <th></th>\n",
       "      <th>日期</th>\n",
       "      <th>市場</th>\n",
       "      <th>產品</th>\n",
       "      <th>上價</th>\n",
       "      <th>中價</th>\n",
       "      <th>下價</th>\n",
       "      <th>平均價(元/公斤)</th>\n",
       "      <th>交易量(公斤)</th>\n",
       "    </tr>\n",
       "  </thead>\n",
       "  <tbody>\n",
       "    <tr>\n",
       "      <th>0</th>\n",
       "      <td>100/01/01</td>\n",
       "      <td>104 台北二</td>\n",
       "      <td>B2 鳳梨 金鑽鳳梨</td>\n",
       "      <td>29.4</td>\n",
       "      <td>23.0</td>\n",
       "      <td>13.2</td>\n",
       "      <td>22.3</td>\n",
       "      <td>3885</td>\n",
       "    </tr>\n",
       "    <tr>\n",
       "      <th>1</th>\n",
       "      <td>100/01/02</td>\n",
       "      <td>104 台北二</td>\n",
       "      <td>B2 鳳梨 金鑽鳳梨</td>\n",
       "      <td>30.1</td>\n",
       "      <td>22.6</td>\n",
       "      <td>12.3</td>\n",
       "      <td>22.1</td>\n",
       "      <td>5468</td>\n",
       "    </tr>\n",
       "    <tr>\n",
       "      <th>2</th>\n",
       "      <td>100/01/04</td>\n",
       "      <td>104 台北二</td>\n",
       "      <td>B2 鳳梨 金鑽鳳梨</td>\n",
       "      <td>28.3</td>\n",
       "      <td>21.6</td>\n",
       "      <td>10.1</td>\n",
       "      <td>20.7</td>\n",
       "      <td>5068</td>\n",
       "    </tr>\n",
       "    <tr>\n",
       "      <th>3</th>\n",
       "      <td>100/01/05</td>\n",
       "      <td>104 台北二</td>\n",
       "      <td>B2 鳳梨 金鑽鳳梨</td>\n",
       "      <td>27.5</td>\n",
       "      <td>16.9</td>\n",
       "      <td>7.4</td>\n",
       "      <td>17.1</td>\n",
       "      <td>5212</td>\n",
       "    </tr>\n",
       "    <tr>\n",
       "      <th>4</th>\n",
       "      <td>100/01/06</td>\n",
       "      <td>104 台北二</td>\n",
       "      <td>B2 鳳梨 金鑽鳳梨</td>\n",
       "      <td>31.4</td>\n",
       "      <td>19.7</td>\n",
       "      <td>9.0</td>\n",
       "      <td>19.9</td>\n",
       "      <td>620</td>\n",
       "    </tr>\n",
       "  </tbody>\n",
       "</table>\n",
       "</div>"
      ],
      "text/plain": [
       "          日期         市場           產品    上價    中價    下價  平均價(元/公斤)  交易量(公斤)\n",
       "0  100/01/01  104 台北二    B2 鳳梨 金鑽鳳梨   29.4  23.0  13.2       22.3     3885\n",
       "1  100/01/02  104 台北二    B2 鳳梨 金鑽鳳梨   30.1  22.6  12.3       22.1     5468\n",
       "2  100/01/04  104 台北二    B2 鳳梨 金鑽鳳梨   28.3  21.6  10.1       20.7     5068\n",
       "3  100/01/05  104 台北二    B2 鳳梨 金鑽鳳梨   27.5  16.9   7.4       17.1     5212\n",
       "4  100/01/06  104 台北二    B2 鳳梨 金鑽鳳梨   31.4  19.7   9.0       19.9      620"
      ]
     },
     "execution_count": 8,
     "metadata": {},
     "output_type": "execute_result"
    }
   ],
   "source": [
    "df_price.head()"
   ]
  },
  {
   "cell_type": "code",
   "execution_count": 9,
   "metadata": {
    "ExecuteTime": {
     "end_time": "2021-07-12T01:25:47.942968Z",
     "start_time": "2021-07-12T01:25:47.928009Z"
    }
   },
   "outputs": [],
   "source": [
    "# 欄位去除空白值\n",
    "target_cols = ['市場', '產品']"
   ]
  },
  {
   "cell_type": "code",
   "execution_count": 10,
   "metadata": {
    "ExecuteTime": {
     "end_time": "2021-07-12T01:25:49.146190Z",
     "start_time": "2021-07-12T01:25:49.123199Z"
    }
   },
   "outputs": [
    {
     "data": {
      "text/html": [
       "<div>\n",
       "<style scoped>\n",
       "    .dataframe tbody tr th:only-of-type {\n",
       "        vertical-align: middle;\n",
       "    }\n",
       "\n",
       "    .dataframe tbody tr th {\n",
       "        vertical-align: top;\n",
       "    }\n",
       "\n",
       "    .dataframe thead th {\n",
       "        text-align: right;\n",
       "    }\n",
       "</style>\n",
       "<table border=\"1\" class=\"dataframe\">\n",
       "  <thead>\n",
       "    <tr style=\"text-align: right;\">\n",
       "      <th></th>\n",
       "      <th>市場</th>\n",
       "      <th>產品</th>\n",
       "    </tr>\n",
       "  </thead>\n",
       "  <tbody>\n",
       "    <tr>\n",
       "      <th>0</th>\n",
       "      <td>104 台北二</td>\n",
       "      <td>B2 鳳梨 金鑽鳳梨</td>\n",
       "    </tr>\n",
       "    <tr>\n",
       "      <th>1</th>\n",
       "      <td>104 台北二</td>\n",
       "      <td>B2 鳳梨 金鑽鳳梨</td>\n",
       "    </tr>\n",
       "    <tr>\n",
       "      <th>2</th>\n",
       "      <td>104 台北二</td>\n",
       "      <td>B2 鳳梨 金鑽鳳梨</td>\n",
       "    </tr>\n",
       "    <tr>\n",
       "      <th>3</th>\n",
       "      <td>104 台北二</td>\n",
       "      <td>B2 鳳梨 金鑽鳳梨</td>\n",
       "    </tr>\n",
       "    <tr>\n",
       "      <th>4</th>\n",
       "      <td>104 台北二</td>\n",
       "      <td>B2 鳳梨 金鑽鳳梨</td>\n",
       "    </tr>\n",
       "    <tr>\n",
       "      <th>...</th>\n",
       "      <td>...</td>\n",
       "      <td>...</td>\n",
       "    </tr>\n",
       "    <tr>\n",
       "      <th>31491</th>\n",
       "      <td>930 台東市</td>\n",
       "      <td>B2 鳳梨 金鑽鳳梨</td>\n",
       "    </tr>\n",
       "    <tr>\n",
       "      <th>31492</th>\n",
       "      <td>930 台東市</td>\n",
       "      <td>B2 鳳梨 金鑽鳳梨</td>\n",
       "    </tr>\n",
       "    <tr>\n",
       "      <th>31493</th>\n",
       "      <td>930 台東市</td>\n",
       "      <td>B2 鳳梨 金鑽鳳梨</td>\n",
       "    </tr>\n",
       "    <tr>\n",
       "      <th>31494</th>\n",
       "      <td>930 台東市</td>\n",
       "      <td>B2 鳳梨 金鑽鳳梨</td>\n",
       "    </tr>\n",
       "    <tr>\n",
       "      <th>31495</th>\n",
       "      <td>930 台東市</td>\n",
       "      <td>B2 鳳梨 金鑽鳳梨</td>\n",
       "    </tr>\n",
       "  </tbody>\n",
       "</table>\n",
       "<p>31496 rows × 2 columns</p>\n",
       "</div>"
      ],
      "text/plain": [
       "              市場           產品\n",
       "0      104 台北二    B2 鳳梨 金鑽鳳梨 \n",
       "1      104 台北二    B2 鳳梨 金鑽鳳梨 \n",
       "2      104 台北二    B2 鳳梨 金鑽鳳梨 \n",
       "3      104 台北二    B2 鳳梨 金鑽鳳梨 \n",
       "4      104 台北二    B2 鳳梨 金鑽鳳梨 \n",
       "...          ...          ...\n",
       "31491    930 台東市  B2 鳳梨 金鑽鳳梨 \n",
       "31492    930 台東市  B2 鳳梨 金鑽鳳梨 \n",
       "31493    930 台東市  B2 鳳梨 金鑽鳳梨 \n",
       "31494    930 台東市  B2 鳳梨 金鑽鳳梨 \n",
       "31495    930 台東市  B2 鳳梨 金鑽鳳梨 \n",
       "\n",
       "[31496 rows x 2 columns]"
      ]
     },
     "execution_count": 10,
     "metadata": {},
     "output_type": "execute_result"
    }
   ],
   "source": [
    "df_price[target_cols]"
   ]
  },
  {
   "cell_type": "code",
   "execution_count": 11,
   "metadata": {
    "ExecuteTime": {
     "end_time": "2021-07-12T01:25:58.603897Z",
     "start_time": "2021-07-12T01:25:58.376363Z"
    }
   },
   "outputs": [],
   "source": [
    "df_price[target_cols] = df_price[target_cols].apply(lambda x: x.str.strip(\" \"))"
   ]
  },
  {
   "cell_type": "code",
   "execution_count": 12,
   "metadata": {
    "ExecuteTime": {
     "end_time": "2021-07-12T01:26:03.456409Z",
     "start_time": "2021-07-12T01:26:03.447359Z"
    }
   },
   "outputs": [],
   "source": [
    "df_price.loc[(df_price[\"市場\"] == \"338 桃\\u3000農\"), \"市場\"] = \"338 桃農\""
   ]
  },
  {
   "cell_type": "markdown",
   "metadata": {},
   "source": [
    "### **轉換資料型態**"
   ]
  },
  {
   "cell_type": "code",
   "execution_count": 13,
   "metadata": {
    "ExecuteTime": {
     "end_time": "2021-07-12T01:26:07.966515Z",
     "start_time": "2021-07-12T01:26:07.925120Z"
    }
   },
   "outputs": [
    {
     "data": {
      "text/html": [
       "<div>\n",
       "<style scoped>\n",
       "    .dataframe tbody tr th:only-of-type {\n",
       "        vertical-align: middle;\n",
       "    }\n",
       "\n",
       "    .dataframe tbody tr th {\n",
       "        vertical-align: top;\n",
       "    }\n",
       "\n",
       "    .dataframe thead th {\n",
       "        text-align: right;\n",
       "    }\n",
       "</style>\n",
       "<table border=\"1\" class=\"dataframe\">\n",
       "  <thead>\n",
       "    <tr style=\"text-align: right;\">\n",
       "      <th></th>\n",
       "      <th>日期</th>\n",
       "      <th>市場</th>\n",
       "      <th>產品</th>\n",
       "      <th>上價</th>\n",
       "      <th>中價</th>\n",
       "      <th>下價</th>\n",
       "      <th>平均價(元/公斤)</th>\n",
       "      <th>交易量(公斤)</th>\n",
       "    </tr>\n",
       "  </thead>\n",
       "  <tbody>\n",
       "    <tr>\n",
       "      <th>0</th>\n",
       "      <td>100/01/01</td>\n",
       "      <td>104 台北二</td>\n",
       "      <td>B2 鳳梨 金鑽鳳梨</td>\n",
       "      <td>29.4</td>\n",
       "      <td>23.0</td>\n",
       "      <td>13.2</td>\n",
       "      <td>22.3</td>\n",
       "      <td>3885</td>\n",
       "    </tr>\n",
       "    <tr>\n",
       "      <th>1</th>\n",
       "      <td>100/01/02</td>\n",
       "      <td>104 台北二</td>\n",
       "      <td>B2 鳳梨 金鑽鳳梨</td>\n",
       "      <td>30.1</td>\n",
       "      <td>22.6</td>\n",
       "      <td>12.3</td>\n",
       "      <td>22.1</td>\n",
       "      <td>5468</td>\n",
       "    </tr>\n",
       "    <tr>\n",
       "      <th>2</th>\n",
       "      <td>100/01/04</td>\n",
       "      <td>104 台北二</td>\n",
       "      <td>B2 鳳梨 金鑽鳳梨</td>\n",
       "      <td>28.3</td>\n",
       "      <td>21.6</td>\n",
       "      <td>10.1</td>\n",
       "      <td>20.7</td>\n",
       "      <td>5068</td>\n",
       "    </tr>\n",
       "    <tr>\n",
       "      <th>3</th>\n",
       "      <td>100/01/05</td>\n",
       "      <td>104 台北二</td>\n",
       "      <td>B2 鳳梨 金鑽鳳梨</td>\n",
       "      <td>27.5</td>\n",
       "      <td>16.9</td>\n",
       "      <td>7.4</td>\n",
       "      <td>17.1</td>\n",
       "      <td>5212</td>\n",
       "    </tr>\n",
       "    <tr>\n",
       "      <th>4</th>\n",
       "      <td>100/01/06</td>\n",
       "      <td>104 台北二</td>\n",
       "      <td>B2 鳳梨 金鑽鳳梨</td>\n",
       "      <td>31.4</td>\n",
       "      <td>19.7</td>\n",
       "      <td>9.0</td>\n",
       "      <td>19.9</td>\n",
       "      <td>620</td>\n",
       "    </tr>\n",
       "  </tbody>\n",
       "</table>\n",
       "</div>"
      ],
      "text/plain": [
       "          日期       市場          產品    上價    中價    下價  平均價(元/公斤)  交易量(公斤)\n",
       "0  100/01/01  104 台北二  B2 鳳梨 金鑽鳳梨  29.4  23.0  13.2       22.3     3885\n",
       "1  100/01/02  104 台北二  B2 鳳梨 金鑽鳳梨  30.1  22.6  12.3       22.1     5468\n",
       "2  100/01/04  104 台北二  B2 鳳梨 金鑽鳳梨  28.3  21.6  10.1       20.7     5068\n",
       "3  100/01/05  104 台北二  B2 鳳梨 金鑽鳳梨  27.5  16.9   7.4       17.1     5212\n",
       "4  100/01/06  104 台北二  B2 鳳梨 金鑽鳳梨  31.4  19.7   9.0       19.9      620"
      ]
     },
     "execution_count": 13,
     "metadata": {},
     "output_type": "execute_result"
    }
   ],
   "source": [
    "df_price.head()"
   ]
  },
  {
   "cell_type": "code",
   "execution_count": 14,
   "metadata": {
    "ExecuteTime": {
     "end_time": "2021-07-12T01:26:10.866760Z",
     "start_time": "2021-07-12T01:26:10.842819Z"
    }
   },
   "outputs": [
    {
     "data": {
      "text/plain": [
       "日期            object\n",
       "市場            object\n",
       "產品            object\n",
       "上價           float64\n",
       "中價           float64\n",
       "下價           float64\n",
       "平均價(元/公斤)    float64\n",
       "交易量(公斤)        int64\n",
       "dtype: object"
      ]
     },
     "execution_count": 14,
     "metadata": {},
     "output_type": "execute_result"
    }
   ],
   "source": [
    "df_price.dtypes"
   ]
  },
  {
   "cell_type": "code",
   "execution_count": 15,
   "metadata": {
    "ExecuteTime": {
     "end_time": "2021-07-12T01:26:13.140543Z",
     "start_time": "2021-07-12T01:26:13.065716Z"
    }
   },
   "outputs": [],
   "source": [
    "# 民國轉成西元\n",
    "df_price[\"日期\"] = df_price[\"日期\"].apply(lambda x: re.sub(\"\\d{3}\", \"{}\".format((int(x.split(\"/\")[0]) + 1911)), x))"
   ]
  },
  {
   "cell_type": "code",
   "execution_count": 16,
   "metadata": {
    "ExecuteTime": {
     "end_time": "2021-07-12T01:26:17.576722Z",
     "start_time": "2021-07-12T01:26:17.535567Z"
    }
   },
   "outputs": [],
   "source": [
    "# object -> datetime\n",
    "df_price[\"日期\"] = df_price[\"日期\"].astype(\"datetime64\")"
   ]
  },
  {
   "cell_type": "code",
   "execution_count": 17,
   "metadata": {
    "ExecuteTime": {
     "end_time": "2021-07-12T01:26:18.135058Z",
     "start_time": "2021-07-12T01:26:18.121332Z"
    }
   },
   "outputs": [
    {
     "data": {
      "text/plain": [
       "日期           datetime64[ns]\n",
       "市場                   object\n",
       "產品                   object\n",
       "上價                  float64\n",
       "中價                  float64\n",
       "下價                  float64\n",
       "平均價(元/公斤)           float64\n",
       "交易量(公斤)               int64\n",
       "dtype: object"
      ]
     },
     "execution_count": 17,
     "metadata": {},
     "output_type": "execute_result"
    }
   ],
   "source": [
    "df_price.dtypes"
   ]
  },
  {
   "cell_type": "code",
   "execution_count": 18,
   "metadata": {
    "ExecuteTime": {
     "end_time": "2021-07-12T01:26:22.524464Z",
     "start_time": "2021-07-12T01:26:22.153791Z"
    }
   },
   "outputs": [],
   "source": [
    "# 清理完後放入，cleaned data區\n",
    "df_price.to_csv(\"cleaned data/價格_全國鳳梨交易資料(初步清洗).csv\", index=False)"
   ]
  },
  {
   "cell_type": "code",
   "execution_count": null,
   "metadata": {},
   "outputs": [],
   "source": []
  },
  {
   "cell_type": "markdown",
   "metadata": {},
   "source": [
    "### **觀察哪個市場交易量最大，最具參考性**\n",
    "\n",
    "前三大市場\n",
    "- 台中\n",
    "- 三重\n",
    "- 台北一"
   ]
  },
  {
   "cell_type": "code",
   "execution_count": 19,
   "metadata": {
    "ExecuteTime": {
     "end_time": "2021-07-12T01:26:25.331584Z",
     "start_time": "2021-07-12T01:26:25.318620Z"
    }
   },
   "outputs": [
    {
     "data": {
      "text/html": [
       "<div>\n",
       "<style scoped>\n",
       "    .dataframe tbody tr th:only-of-type {\n",
       "        vertical-align: middle;\n",
       "    }\n",
       "\n",
       "    .dataframe tbody tr th {\n",
       "        vertical-align: top;\n",
       "    }\n",
       "\n",
       "    .dataframe thead th {\n",
       "        text-align: right;\n",
       "    }\n",
       "</style>\n",
       "<table border=\"1\" class=\"dataframe\">\n",
       "  <thead>\n",
       "    <tr style=\"text-align: right;\">\n",
       "      <th></th>\n",
       "      <th>交易量(公斤)</th>\n",
       "    </tr>\n",
       "    <tr>\n",
       "      <th>市場</th>\n",
       "      <th></th>\n",
       "    </tr>\n",
       "  </thead>\n",
       "  <tbody>\n",
       "    <tr>\n",
       "      <th>400 台中市</th>\n",
       "      <td>161713447</td>\n",
       "    </tr>\n",
       "    <tr>\n",
       "      <th>241 三重區</th>\n",
       "      <td>97574849</td>\n",
       "    </tr>\n",
       "    <tr>\n",
       "      <th>109 台北一</th>\n",
       "      <td>80663247</td>\n",
       "    </tr>\n",
       "    <tr>\n",
       "      <th>830 鳳山區</th>\n",
       "      <td>43652960</td>\n",
       "    </tr>\n",
       "    <tr>\n",
       "      <th>104 台北二</th>\n",
       "      <td>40847847</td>\n",
       "    </tr>\n",
       "    <tr>\n",
       "      <th>600 嘉義市</th>\n",
       "      <td>21826833</td>\n",
       "    </tr>\n",
       "    <tr>\n",
       "      <th>800 高雄市</th>\n",
       "      <td>18846585</td>\n",
       "    </tr>\n",
       "    <tr>\n",
       "      <th>420 豐原區</th>\n",
       "      <td>14681297</td>\n",
       "    </tr>\n",
       "    <tr>\n",
       "      <th>220 板橋區</th>\n",
       "      <td>7313238</td>\n",
       "    </tr>\n",
       "    <tr>\n",
       "      <th>260 宜蘭市</th>\n",
       "      <td>6734000</td>\n",
       "    </tr>\n",
       "    <tr>\n",
       "      <th>930 台東市</th>\n",
       "      <td>2943752</td>\n",
       "    </tr>\n",
       "    <tr>\n",
       "      <th>338 桃農</th>\n",
       "      <td>1191698</td>\n",
       "    </tr>\n",
       "  </tbody>\n",
       "</table>\n",
       "</div>"
      ],
      "text/plain": [
       "           交易量(公斤)\n",
       "市場                \n",
       "400 台中市  161713447\n",
       "241 三重區   97574849\n",
       "109 台北一   80663247\n",
       "830 鳳山區   43652960\n",
       "104 台北二   40847847\n",
       "600 嘉義市   21826833\n",
       "800 高雄市   18846585\n",
       "420 豐原區   14681297\n",
       "220 板橋區    7313238\n",
       "260 宜蘭市    6734000\n",
       "930 台東市    2943752\n",
       "338 桃農     1191698"
      ]
     },
     "execution_count": 19,
     "metadata": {},
     "output_type": "execute_result"
    }
   ],
   "source": [
    "# 粗淺地groupy各市場歷年交易量總和 => 發現台中市獨佔鰲頭\n",
    "df_price.groupby(\"市場\").agg({\"交易量(公斤)\":\"sum\"}).sort_values(\"交易量(公斤)\", ascending=False)\n"
   ]
  },
  {
   "cell_type": "markdown",
   "metadata": {},
   "source": [
    "#### **歷年前五大交易市場**"
   ]
  },
  {
   "cell_type": "code",
   "execution_count": 20,
   "metadata": {
    "ExecuteTime": {
     "end_time": "2021-07-12T01:26:27.501973Z",
     "start_time": "2021-07-12T01:26:27.455072Z"
    }
   },
   "outputs": [
    {
     "data": {
      "text/plain": [
       "Year  市場     \n",
       "2011  400 台中市    14182.6\n",
       "      241 三重區     9669.5\n",
       "      830 鳳山區     8056.2\n",
       "      109 台北一     6944.4\n",
       "      104 台北二     3175.9\n",
       "2012  400 台中市    14534.9\n",
       "      241 三重區     9464.6\n",
       "      109 台北一     8077.8\n",
       "      830 鳳山區     5174.3\n",
       "      104 台北二     3646.7\n",
       "2013  400 台中市    14832.7\n",
       "      241 三重區    10129.2\n",
       "      109 台北一     7456.5\n",
       "      104 台北二     3768.4\n",
       "      830 鳳山區     3725.7\n",
       "2014  400 台中市    15022.8\n",
       "      241 三重區     9532.5\n",
       "      109 台北一     8851.6\n",
       "      104 台北二     3632.0\n",
       "      830 鳳山區     2799.2\n",
       "2015  400 台中市    15471.5\n",
       "      241 三重區     9060.8\n",
       "      109 台北一     7873.8\n",
       "      104 台北二     3833.5\n",
       "      830 鳳山區     2908.7\n",
       "2016  400 台中市    16368.9\n",
       "      241 三重區    10165.2\n",
       "      109 台北一     8381.4\n",
       "      104 台北二     4320.7\n",
       "      830 鳳山區     3855.1\n",
       "2017  400 台中市    15697.2\n",
       "      241 三重區     8997.9\n",
       "      109 台北一     7104.0\n",
       "      104 台北二     4070.5\n",
       "      830 鳳山區     3819.2\n",
       "2018  400 台中市    15215.3\n",
       "      241 三重區     9285.0\n",
       "      109 台北一     7815.0\n",
       "      104 台北二     4063.5\n",
       "      600 嘉義市     3568.1\n",
       "2019  400 台中市    15243.9\n",
       "      241 三重區     8527.9\n",
       "      109 台北一     7344.3\n",
       "      104 台北二     4053.3\n",
       "      830 鳳山區     3890.8\n",
       "2020  400 台中市    15846.6\n",
       "      241 三重區     7943.0\n",
       "      109 台北一     6759.7\n",
       "      830 鳳山區     4323.7\n",
       "      104 台北二     3987.6\n",
       "2021  400 台中市     9297.0\n",
       "      241 三重區     4799.3\n",
       "      109 台北一     4054.7\n",
       "      830 鳳山區     2328.2\n",
       "      104 台北二     2295.7\n",
       "Name: 交易量(公斤), dtype: float64"
      ]
     },
     "execution_count": 20,
     "metadata": {},
     "output_type": "execute_result"
    }
   ],
   "source": [
    "# 進一步分析每年每個市場總量，由此可知，台中都是交易量最大的市場\n",
    "df_price[\"Year\"] = df_price[\"日期\"].dt.year                   # 創建一個Year欄位來當groupby鍵值\n",
    "df_agg = (df_price.groupby([\"Year\", \"市場\"]).agg({\"交易量(公斤)\":\"sum\"})/1000).round(1)\n",
    "g = df_agg[\"交易量(公斤)\"].groupby(\"Year\", group_keys=False)\n",
    "res = g.apply(lambda x: x.sort_values(ascending=False).head(5))\n",
    "res #.to_excel(\"鳳梨各市場交易量(2011~2021).xlsx\") #-> 可轉成csv檔進一步了解"
   ]
  },
  {
   "cell_type": "code",
   "execution_count": 21,
   "metadata": {
    "ExecuteTime": {
     "end_time": "2021-07-12T01:26:29.422038Z",
     "start_time": "2021-07-12T01:26:29.382635Z"
    }
   },
   "outputs": [
    {
     "data": {
      "text/html": [
       "<div>\n",
       "<style scoped>\n",
       "    .dataframe tbody tr th:only-of-type {\n",
       "        vertical-align: middle;\n",
       "    }\n",
       "\n",
       "    .dataframe tbody tr th {\n",
       "        vertical-align: top;\n",
       "    }\n",
       "\n",
       "    .dataframe thead th {\n",
       "        text-align: right;\n",
       "    }\n",
       "</style>\n",
       "<table border=\"1\" class=\"dataframe\">\n",
       "  <thead>\n",
       "    <tr style=\"text-align: right;\">\n",
       "      <th></th>\n",
       "      <th>交易量(公斤)</th>\n",
       "    </tr>\n",
       "    <tr>\n",
       "      <th>市場</th>\n",
       "      <th></th>\n",
       "    </tr>\n",
       "  </thead>\n",
       "  <tbody>\n",
       "    <tr>\n",
       "      <th>400 台中市</th>\n",
       "      <td>15846648</td>\n",
       "    </tr>\n",
       "    <tr>\n",
       "      <th>241 三重區</th>\n",
       "      <td>7943033</td>\n",
       "    </tr>\n",
       "    <tr>\n",
       "      <th>109 台北一</th>\n",
       "      <td>6759717</td>\n",
       "    </tr>\n",
       "    <tr>\n",
       "      <th>830 鳳山區</th>\n",
       "      <td>4323720</td>\n",
       "    </tr>\n",
       "    <tr>\n",
       "      <th>104 台北二</th>\n",
       "      <td>3987600</td>\n",
       "    </tr>\n",
       "    <tr>\n",
       "      <th>420 豐原區</th>\n",
       "      <td>3040171</td>\n",
       "    </tr>\n",
       "    <tr>\n",
       "      <th>600 嘉義市</th>\n",
       "      <td>2000000</td>\n",
       "    </tr>\n",
       "    <tr>\n",
       "      <th>800 高雄市</th>\n",
       "      <td>1666660</td>\n",
       "    </tr>\n",
       "    <tr>\n",
       "      <th>220 板橋區</th>\n",
       "      <td>1580228</td>\n",
       "    </tr>\n",
       "    <tr>\n",
       "      <th>930 台東市</th>\n",
       "      <td>724637</td>\n",
       "    </tr>\n",
       "    <tr>\n",
       "      <th>260 宜蘭市</th>\n",
       "      <td>584780</td>\n",
       "    </tr>\n",
       "    <tr>\n",
       "      <th>338 桃農</th>\n",
       "      <td>206994</td>\n",
       "    </tr>\n",
       "  </tbody>\n",
       "</table>\n",
       "</div>"
      ],
      "text/plain": [
       "          交易量(公斤)\n",
       "市場               \n",
       "400 台中市  15846648\n",
       "241 三重區   7943033\n",
       "109 台北一   6759717\n",
       "830 鳳山區   4323720\n",
       "104 台北二   3987600\n",
       "420 豐原區   3040171\n",
       "600 嘉義市   2000000\n",
       "800 高雄市   1666660\n",
       "220 板橋區   1580228\n",
       "930 台東市    724637\n",
       "260 宜蘭市    584780\n",
       "338 桃農     206994"
      ]
     },
     "execution_count": 21,
     "metadata": {},
     "output_type": "execute_result"
    }
   ],
   "source": [
    "# 2020年\n",
    "df_2020 = df_price.loc[df_price[\"Year\"] == 2020]\n",
    "df_2020.groupby(\"市場\").agg({\"交易量(公斤)\":sum}).sort_values(by=\"交易量(公斤)\", ascending=False)"
   ]
  },
  {
   "cell_type": "code",
   "execution_count": 22,
   "metadata": {},
   "outputs": [
    {
     "data": {
      "text/html": [
       "<div>\n",
       "<style scoped>\n",
       "    .dataframe tbody tr th:only-of-type {\n",
       "        vertical-align: middle;\n",
       "    }\n",
       "\n",
       "    .dataframe tbody tr th {\n",
       "        vertical-align: top;\n",
       "    }\n",
       "\n",
       "    .dataframe thead th {\n",
       "        text-align: right;\n",
       "    }\n",
       "</style>\n",
       "<table border=\"1\" class=\"dataframe\">\n",
       "  <thead>\n",
       "    <tr style=\"text-align: right;\">\n",
       "      <th></th>\n",
       "      <th>交易量(公斤)</th>\n",
       "      <th>平均價(元/公斤)</th>\n",
       "    </tr>\n",
       "    <tr>\n",
       "      <th>市場</th>\n",
       "      <th></th>\n",
       "      <th></th>\n",
       "    </tr>\n",
       "  </thead>\n",
       "  <tbody>\n",
       "    <tr>\n",
       "      <th>400 台中市</th>\n",
       "      <td>15846648</td>\n",
       "      <td>18.685185</td>\n",
       "    </tr>\n",
       "    <tr>\n",
       "      <th>241 三重區</th>\n",
       "      <td>7943033</td>\n",
       "      <td>17.644781</td>\n",
       "    </tr>\n",
       "    <tr>\n",
       "      <th>109 台北一</th>\n",
       "      <td>6759717</td>\n",
       "      <td>24.001347</td>\n",
       "    </tr>\n",
       "    <tr>\n",
       "      <th>830 鳳山區</th>\n",
       "      <td>4323720</td>\n",
       "      <td>17.532394</td>\n",
       "    </tr>\n",
       "    <tr>\n",
       "      <th>104 台北二</th>\n",
       "      <td>3987600</td>\n",
       "      <td>24.506397</td>\n",
       "    </tr>\n",
       "    <tr>\n",
       "      <th>420 豐原區</th>\n",
       "      <td>3040171</td>\n",
       "      <td>16.185417</td>\n",
       "    </tr>\n",
       "    <tr>\n",
       "      <th>600 嘉義市</th>\n",
       "      <td>2000000</td>\n",
       "      <td>16.051205</td>\n",
       "    </tr>\n",
       "    <tr>\n",
       "      <th>800 高雄市</th>\n",
       "      <td>1666660</td>\n",
       "      <td>21.020598</td>\n",
       "    </tr>\n",
       "    <tr>\n",
       "      <th>220 板橋區</th>\n",
       "      <td>1580228</td>\n",
       "      <td>13.217466</td>\n",
       "    </tr>\n",
       "    <tr>\n",
       "      <th>930 台東市</th>\n",
       "      <td>724637</td>\n",
       "      <td>20.683221</td>\n",
       "    </tr>\n",
       "    <tr>\n",
       "      <th>260 宜蘭市</th>\n",
       "      <td>584780</td>\n",
       "      <td>23.261682</td>\n",
       "    </tr>\n",
       "    <tr>\n",
       "      <th>338 桃農</th>\n",
       "      <td>206994</td>\n",
       "      <td>13.618359</td>\n",
       "    </tr>\n",
       "  </tbody>\n",
       "</table>\n",
       "</div>"
      ],
      "text/plain": [
       "          交易量(公斤)  平均價(元/公斤)\n",
       "市場                          \n",
       "400 台中市  15846648  18.685185\n",
       "241 三重區   7943033  17.644781\n",
       "109 台北一   6759717  24.001347\n",
       "830 鳳山區   4323720  17.532394\n",
       "104 台北二   3987600  24.506397\n",
       "420 豐原區   3040171  16.185417\n",
       "600 嘉義市   2000000  16.051205\n",
       "800 高雄市   1666660  21.020598\n",
       "220 板橋區   1580228  13.217466\n",
       "930 台東市    724637  20.683221\n",
       "260 宜蘭市    584780  23.261682\n",
       "338 桃農     206994  13.618359"
      ]
     },
     "execution_count": 22,
     "metadata": {},
     "output_type": "execute_result"
    }
   ],
   "source": [
    "df_2020.groupby(\"市場\").agg({\"交易量(公斤)\":sum, \"平均價(元/公斤)\": \"mean\"}).sort_values(by=\"交易量(公斤)\", ascending=False)"
   ]
  },
  {
   "cell_type": "code",
   "execution_count": null,
   "metadata": {},
   "outputs": [],
   "source": []
  },
  {
   "cell_type": "markdown",
   "metadata": {},
   "source": [
    "### **價格趨勢: 前4大市場是否價格&產量曲線**\n",
    "- 400 台中市\n",
    "- 241 三重區\n",
    "- 109 台北一 \n",
    "- 830 鳳山區"
   ]
  },
  {
   "cell_type": "code",
   "execution_count": 23,
   "metadata": {},
   "outputs": [
    {
     "data": {
      "text/html": [
       "<div>\n",
       "<style scoped>\n",
       "    .dataframe tbody tr th:only-of-type {\n",
       "        vertical-align: middle;\n",
       "    }\n",
       "\n",
       "    .dataframe tbody tr th {\n",
       "        vertical-align: top;\n",
       "    }\n",
       "\n",
       "    .dataframe thead th {\n",
       "        text-align: right;\n",
       "    }\n",
       "</style>\n",
       "<table border=\"1\" class=\"dataframe\">\n",
       "  <thead>\n",
       "    <tr style=\"text-align: right;\">\n",
       "      <th></th>\n",
       "      <th>Market</th>\n",
       "      <th>Avg price</th>\n",
       "      <th>Volume(kg)</th>\n",
       "      <th>Year</th>\n",
       "    </tr>\n",
       "    <tr>\n",
       "      <th>Date</th>\n",
       "      <th></th>\n",
       "      <th></th>\n",
       "      <th></th>\n",
       "      <th></th>\n",
       "    </tr>\n",
       "  </thead>\n",
       "  <tbody>\n",
       "    <tr>\n",
       "      <th>2011-01-01</th>\n",
       "      <td>104 台北二</td>\n",
       "      <td>22.3</td>\n",
       "      <td>3885</td>\n",
       "      <td>2011</td>\n",
       "    </tr>\n",
       "    <tr>\n",
       "      <th>2011-01-02</th>\n",
       "      <td>104 台北二</td>\n",
       "      <td>22.1</td>\n",
       "      <td>5468</td>\n",
       "      <td>2011</td>\n",
       "    </tr>\n",
       "    <tr>\n",
       "      <th>2011-01-04</th>\n",
       "      <td>104 台北二</td>\n",
       "      <td>20.7</td>\n",
       "      <td>5068</td>\n",
       "      <td>2011</td>\n",
       "    </tr>\n",
       "    <tr>\n",
       "      <th>2011-01-05</th>\n",
       "      <td>104 台北二</td>\n",
       "      <td>17.1</td>\n",
       "      <td>5212</td>\n",
       "      <td>2011</td>\n",
       "    </tr>\n",
       "    <tr>\n",
       "      <th>2011-01-06</th>\n",
       "      <td>104 台北二</td>\n",
       "      <td>19.9</td>\n",
       "      <td>620</td>\n",
       "      <td>2011</td>\n",
       "    </tr>\n",
       "    <tr>\n",
       "      <th>...</th>\n",
       "      <td>...</td>\n",
       "      <td>...</td>\n",
       "      <td>...</td>\n",
       "      <td>...</td>\n",
       "    </tr>\n",
       "    <tr>\n",
       "      <th>2021-06-08</th>\n",
       "      <td>930 台東市</td>\n",
       "      <td>16.5</td>\n",
       "      <td>3899</td>\n",
       "      <td>2021</td>\n",
       "    </tr>\n",
       "    <tr>\n",
       "      <th>2021-06-09</th>\n",
       "      <td>930 台東市</td>\n",
       "      <td>17.3</td>\n",
       "      <td>3152</td>\n",
       "      <td>2021</td>\n",
       "    </tr>\n",
       "    <tr>\n",
       "      <th>2021-06-10</th>\n",
       "      <td>930 台東市</td>\n",
       "      <td>19.3</td>\n",
       "      <td>4528</td>\n",
       "      <td>2021</td>\n",
       "    </tr>\n",
       "    <tr>\n",
       "      <th>2021-06-11</th>\n",
       "      <td>930 台東市</td>\n",
       "      <td>16.7</td>\n",
       "      <td>3258</td>\n",
       "      <td>2021</td>\n",
       "    </tr>\n",
       "    <tr>\n",
       "      <th>2021-06-12</th>\n",
       "      <td>930 台東市</td>\n",
       "      <td>19.7</td>\n",
       "      <td>2757</td>\n",
       "      <td>2021</td>\n",
       "    </tr>\n",
       "  </tbody>\n",
       "</table>\n",
       "<p>31496 rows × 4 columns</p>\n",
       "</div>"
      ],
      "text/plain": [
       "             Market  Avg price  Volume(kg)  Year\n",
       "Date                                            \n",
       "2011-01-01  104 台北二       22.3        3885  2011\n",
       "2011-01-02  104 台北二       22.1        5468  2011\n",
       "2011-01-04  104 台北二       20.7        5068  2011\n",
       "2011-01-05  104 台北二       17.1        5212  2011\n",
       "2011-01-06  104 台北二       19.9         620  2011\n",
       "...             ...        ...         ...   ...\n",
       "2021-06-08  930 台東市       16.5        3899  2021\n",
       "2021-06-09  930 台東市       17.3        3152  2021\n",
       "2021-06-10  930 台東市       19.3        4528  2021\n",
       "2021-06-11  930 台東市       16.7        3258  2021\n",
       "2021-06-12  930 台東市       19.7        2757  2021\n",
       "\n",
       "[31496 rows x 4 columns]"
      ]
     },
     "execution_count": 23,
     "metadata": {},
     "output_type": "execute_result"
    }
   ],
   "source": [
    "markets = df_price[['日期', '市場', '平均價(元/公斤)', '交易量(公斤)', 'Year']]\n",
    "markets.columns = [\"Date\", \"Market\", \"Avg price\", \"Volume(kg)\", \"Year\"]\n",
    "markets.set_index(\"Date\", inplace=True)\n",
    "markets"
   ]
  },
  {
   "cell_type": "code",
   "execution_count": 24,
   "metadata": {},
   "outputs": [],
   "source": [
    "# 台中\n",
    "TC = markets[markets[\"Market\"] == \"400 台中市\"].drop(columns=[\"Market\", \"Year\"])\n",
    "TC.columns = [\"TC_Avg price\", \"TC_Volume(kg)\"]\n",
    "TC = TC.resample(\"D\").fillna(\"ffill\")"
   ]
  },
  {
   "cell_type": "code",
   "execution_count": 25,
   "metadata": {},
   "outputs": [],
   "source": [
    "# 台北一\n",
    "TP = markets[markets[\"Market\"] == \"109 台北一\"].drop(columns=[\"Market\", \"Year\"])\n",
    "TP.columns = [\"TP_Avg price\", \"TP_Volume(kg)\"]\n",
    "TP = TP.resample(\"D\").fillna(\"ffill\")"
   ]
  },
  {
   "cell_type": "code",
   "execution_count": 26,
   "metadata": {},
   "outputs": [],
   "source": [
    "# 三重(新北)\n",
    "NTP = markets[markets[\"Market\"] == \"241 三重區\"].drop(columns=[\"Market\", \"Year\"])\n",
    "NTP.columns = [\"NTP_Avg price\", \"NTP_Volume(kg)\"]\n",
    "NTP = NTP.resample(\"D\").fillna(\"ffill\")"
   ]
  },
  {
   "cell_type": "code",
   "execution_count": 27,
   "metadata": {},
   "outputs": [],
   "source": [
    "# 鳳山(高雄)\n",
    "KS = markets[markets[\"Market\"] == \"830 鳳山區\"].drop(columns=[\"Market\", \"Year\"])\n",
    "KS.columns = [\"KS_Avg price\", \"KS_Volume(kg)\"]\n",
    "KS = KS.resample(\"D\").fillna(\"ffill\")"
   ]
  },
  {
   "cell_type": "code",
   "execution_count": 28,
   "metadata": {},
   "outputs": [
    {
     "data": {
      "text/html": [
       "<div>\n",
       "<style scoped>\n",
       "    .dataframe tbody tr th:only-of-type {\n",
       "        vertical-align: middle;\n",
       "    }\n",
       "\n",
       "    .dataframe tbody tr th {\n",
       "        vertical-align: top;\n",
       "    }\n",
       "\n",
       "    .dataframe thead th {\n",
       "        text-align: right;\n",
       "    }\n",
       "</style>\n",
       "<table border=\"1\" class=\"dataframe\">\n",
       "  <thead>\n",
       "    <tr style=\"text-align: right;\">\n",
       "      <th></th>\n",
       "      <th>TC_Avg price</th>\n",
       "      <th>TC_Volume(kg)</th>\n",
       "      <th>TP_Avg price</th>\n",
       "      <th>TP_Volume(kg)</th>\n",
       "      <th>NTP_Avg price</th>\n",
       "      <th>NTP_Volume(kg)</th>\n",
       "      <th>KS_Avg price</th>\n",
       "      <th>KS_Volume(kg)</th>\n",
       "    </tr>\n",
       "    <tr>\n",
       "      <th>Date</th>\n",
       "      <th></th>\n",
       "      <th></th>\n",
       "      <th></th>\n",
       "      <th></th>\n",
       "      <th></th>\n",
       "      <th></th>\n",
       "      <th></th>\n",
       "      <th></th>\n",
       "    </tr>\n",
       "  </thead>\n",
       "  <tbody>\n",
       "    <tr>\n",
       "      <th>2011-01-01</th>\n",
       "      <td>17.0</td>\n",
       "      <td>17027</td>\n",
       "      <td>27.0</td>\n",
       "      <td>8912</td>\n",
       "      <td>16.9</td>\n",
       "      <td>13981</td>\n",
       "      <td>17.8</td>\n",
       "      <td>9020</td>\n",
       "    </tr>\n",
       "    <tr>\n",
       "      <th>2011-01-02</th>\n",
       "      <td>17.4</td>\n",
       "      <td>23476</td>\n",
       "      <td>24.9</td>\n",
       "      <td>20203</td>\n",
       "      <td>18.0</td>\n",
       "      <td>24488</td>\n",
       "      <td>17.8</td>\n",
       "      <td>15590</td>\n",
       "    </tr>\n",
       "    <tr>\n",
       "      <th>2011-01-03</th>\n",
       "      <td>17.4</td>\n",
       "      <td>23476</td>\n",
       "      <td>24.9</td>\n",
       "      <td>20203</td>\n",
       "      <td>18.0</td>\n",
       "      <td>24488</td>\n",
       "      <td>17.8</td>\n",
       "      <td>15590</td>\n",
       "    </tr>\n",
       "    <tr>\n",
       "      <th>2011-01-04</th>\n",
       "      <td>17.6</td>\n",
       "      <td>51764</td>\n",
       "      <td>20.5</td>\n",
       "      <td>17912</td>\n",
       "      <td>17.4</td>\n",
       "      <td>20745</td>\n",
       "      <td>18.6</td>\n",
       "      <td>21150</td>\n",
       "    </tr>\n",
       "    <tr>\n",
       "      <th>2011-01-05</th>\n",
       "      <td>17.5</td>\n",
       "      <td>11247</td>\n",
       "      <td>20.1</td>\n",
       "      <td>6372</td>\n",
       "      <td>19.3</td>\n",
       "      <td>2118</td>\n",
       "      <td>18.9</td>\n",
       "      <td>22080</td>\n",
       "    </tr>\n",
       "    <tr>\n",
       "      <th>...</th>\n",
       "      <td>...</td>\n",
       "      <td>...</td>\n",
       "      <td>...</td>\n",
       "      <td>...</td>\n",
       "      <td>...</td>\n",
       "      <td>...</td>\n",
       "      <td>...</td>\n",
       "      <td>...</td>\n",
       "    </tr>\n",
       "    <tr>\n",
       "      <th>2021-06-10</th>\n",
       "      <td>21.0</td>\n",
       "      <td>163380</td>\n",
       "      <td>23.3</td>\n",
       "      <td>41180</td>\n",
       "      <td>19.4</td>\n",
       "      <td>51508</td>\n",
       "      <td>12.8</td>\n",
       "      <td>29030</td>\n",
       "    </tr>\n",
       "    <tr>\n",
       "      <th>2021-06-11</th>\n",
       "      <td>21.1</td>\n",
       "      <td>87697</td>\n",
       "      <td>20.3</td>\n",
       "      <td>38081</td>\n",
       "      <td>18.0</td>\n",
       "      <td>50368</td>\n",
       "      <td>12.6</td>\n",
       "      <td>39750</td>\n",
       "    </tr>\n",
       "    <tr>\n",
       "      <th>2021-06-12</th>\n",
       "      <td>20.3</td>\n",
       "      <td>82402</td>\n",
       "      <td>22.5</td>\n",
       "      <td>37734</td>\n",
       "      <td>16.8</td>\n",
       "      <td>57555</td>\n",
       "      <td>12.1</td>\n",
       "      <td>25860</td>\n",
       "    </tr>\n",
       "    <tr>\n",
       "      <th>2021-06-13</th>\n",
       "      <td>19.4</td>\n",
       "      <td>85591</td>\n",
       "      <td>22.5</td>\n",
       "      <td>44855</td>\n",
       "      <td>17.1</td>\n",
       "      <td>62220</td>\n",
       "      <td>12.2</td>\n",
       "      <td>27380</td>\n",
       "    </tr>\n",
       "    <tr>\n",
       "      <th>2021-06-14</th>\n",
       "      <td>19.2</td>\n",
       "      <td>42877</td>\n",
       "      <td>20.5</td>\n",
       "      <td>29091</td>\n",
       "      <td>14.7</td>\n",
       "      <td>36279</td>\n",
       "      <td>12.3</td>\n",
       "      <td>19270</td>\n",
       "    </tr>\n",
       "  </tbody>\n",
       "</table>\n",
       "<p>3818 rows × 8 columns</p>\n",
       "</div>"
      ],
      "text/plain": [
       "            TC_Avg price  TC_Volume(kg)  TP_Avg price  TP_Volume(kg)  \\\n",
       "Date                                                                   \n",
       "2011-01-01          17.0          17027          27.0           8912   \n",
       "2011-01-02          17.4          23476          24.9          20203   \n",
       "2011-01-03          17.4          23476          24.9          20203   \n",
       "2011-01-04          17.6          51764          20.5          17912   \n",
       "2011-01-05          17.5          11247          20.1           6372   \n",
       "...                  ...            ...           ...            ...   \n",
       "2021-06-10          21.0         163380          23.3          41180   \n",
       "2021-06-11          21.1          87697          20.3          38081   \n",
       "2021-06-12          20.3          82402          22.5          37734   \n",
       "2021-06-13          19.4          85591          22.5          44855   \n",
       "2021-06-14          19.2          42877          20.5          29091   \n",
       "\n",
       "            NTP_Avg price  NTP_Volume(kg)  KS_Avg price  KS_Volume(kg)  \n",
       "Date                                                                    \n",
       "2011-01-01           16.9           13981          17.8           9020  \n",
       "2011-01-02           18.0           24488          17.8          15590  \n",
       "2011-01-03           18.0           24488          17.8          15590  \n",
       "2011-01-04           17.4           20745          18.6          21150  \n",
       "2011-01-05           19.3            2118          18.9          22080  \n",
       "...                   ...             ...           ...            ...  \n",
       "2021-06-10           19.4           51508          12.8          29030  \n",
       "2021-06-11           18.0           50368          12.6          39750  \n",
       "2021-06-12           16.8           57555          12.1          25860  \n",
       "2021-06-13           17.1           62220          12.2          27380  \n",
       "2021-06-14           14.7           36279          12.3          19270  \n",
       "\n",
       "[3818 rows x 8 columns]"
      ]
     },
     "execution_count": 28,
     "metadata": {},
     "output_type": "execute_result"
    }
   ],
   "source": [
    "dfs = [TC, TP, NTP, KS]\n",
    "df_total = pd.concat(dfs, join='inner', axis=1)\n",
    "df_total"
   ]
  },
  {
   "cell_type": "code",
   "execution_count": 29,
   "metadata": {},
   "outputs": [
    {
     "data": {
      "text/plain": [
       "TP_Avg price     0.751075\n",
       "NTP_Avg price    0.719145\n",
       "KS_Avg price     0.532240\n",
       "Name: TC_Avg price, dtype: float64"
      ]
     },
     "execution_count": 29,
     "metadata": {},
     "output_type": "execute_result"
    }
   ],
   "source": [
    "df_avg_price = df_total[[\"TC_Avg price\", \"TP_Avg price\", \"NTP_Avg price\", \"KS_Avg price\"]]\n",
    "df_price_corr = df_avg_price.corr()[\"TC_Avg price\"][1:]\n",
    "df_price_corr"
   ]
  },
  {
   "cell_type": "code",
   "execution_count": 39,
   "metadata": {},
   "outputs": [
    {
     "data": {
      "text/plain": [
       "<seaborn.axisgrid.PairGrid at 0x20dd2c6f610>"
      ]
     },
     "execution_count": 39,
     "metadata": {},
     "output_type": "execute_result"
    },
    {
     "data": {
      "image/png": "[encoded data removed]",
      "text/plain": [
       "<Figure size 720x180 with 5 Axes>"
      ]
     },
     "metadata": {
      "needs_background": "light"
     },
     "output_type": "display_data"
    }
   ],
   "source": [
    "sns.pairplot(data=df_avg_price, \n",
    "                x_vars=df_avg_price.columns,\n",
    "                y_vars=\"TC_Avg price\")"
   ]
  },
  {
   "cell_type": "code",
   "execution_count": 31,
   "metadata": {},
   "outputs": [
    {
     "data": {
      "text/plain": [
       "TP_Volume(kg)     0.883647\n",
       "NTP_Volume(kg)    0.915200\n",
       "KS_Volume(kg)     0.508069\n",
       "Name: TC_Volume(kg), dtype: float64"
      ]
     },
     "execution_count": 31,
     "metadata": {},
     "output_type": "execute_result"
    }
   ],
   "source": [
    "df_volume = df_total[[\"TC_Volume(kg)\", \"TP_Volume(kg)\", \"NTP_Volume(kg)\", \"KS_Volume(kg)\"]]\n",
    "df_vol_corr = df_volume.corr()[\"TC_Volume(kg)\"][1:]\n",
    "df_vol_corr"
   ]
  },
  {
   "cell_type": "code",
   "execution_count": 32,
   "metadata": {},
   "outputs": [
    {
     "data": {
      "text/plain": [
       "<seaborn.axisgrid.PairGrid at 0x20dd131c490>"
      ]
     },
     "execution_count": 32,
     "metadata": {},
     "output_type": "execute_result"
    },
    {
     "data": {
      "image/png": "[encoded data removed]",
      "text/plain": [
       "<Figure size 720x180 with 5 Axes>"
      ]
     },
     "metadata": {
      "needs_background": "light"
     },
     "output_type": "display_data"
    }
   ],
   "source": [
    "sns.pairplot(data=df_volume, \n",
    "                #x_vars=df_avg_price[\"TP_Avg price\"],\n",
    "                y_vars=[\"TC_Volume(kg)\"])"
   ]
  },
  {
   "cell_type": "markdown",
   "metadata": {},
   "source": [
    "#### Plotting "
   ]
  },
  {
   "cell_type": "code",
   "execution_count": 33,
   "metadata": {},
   "outputs": [
    {
     "data": {
      "text/plain": [
       "<AxesSubplot:xlabel='Date'>"
      ]
     },
     "execution_count": 33,
     "metadata": {},
     "output_type": "execute_result"
    },
    {
     "data": {
      "image/png": "[encoded data removed]",
      "text/plain": [
       "<Figure size 720x576 with 1 Axes>"
      ]
     },
     "metadata": {
      "needs_background": "light"
     },
     "output_type": "display_data"
    }
   ],
   "source": [
    "df_avg_price.plot(figsize=(10, 8), sharex=True, kind='line')"
   ]
  },
  {
   "cell_type": "code",
   "execution_count": 34,
   "metadata": {},
   "outputs": [
    {
     "data": {
      "text/plain": [
       "<AxesSubplot:xlabel='Date'>"
      ]
     },
     "execution_count": 34,
     "metadata": {},
     "output_type": "execute_result"
    },
    {
     "data": {
      "image/png": "[encoded data removed]",
      "text/plain": [
       "<Figure size 720x576 with 1 Axes>"
      ]
     },
     "metadata": {
      "needs_background": "light"
     },
     "output_type": "display_data"
    }
   ],
   "source": [
    "df_volume.plot(figsize=(10, 8), sharex=True, kind='line')"
   ]
  },
  {
   "cell_type": "code",
   "execution_count": 35,
   "metadata": {},
   "outputs": [],
   "source": [
    "df_volume.to_csv(\"Pipeapple main market volume.csv\")"
   ]
  },
  {
   "cell_type": "markdown",
   "metadata": {},
   "source": [
    "### 以台中價格進行預測"
   ]
  },
  {
   "cell_type": "code",
   "execution_count": null,
   "metadata": {},
   "outputs": [],
   "source": []
  }
 ],
 "metadata": {
  "kernelspec": {
   "display_name": "Python 3",
   "language": "python",
   "name": "python3"
  },
  "language_info": {
   "codemirror_mode": {
    "name": "ipython",
    "version": 3
   },
   "file_extension": ".py",
   "mimetype": "text/x-python",
   "name": "python",
   "nbconvert_exporter": "python",
   "pygments_lexer": "ipython3",
   "version": "3.8.5"
  },
  "toc": {
   "base_numbering": 1,
   "nav_menu": {},
   "number_sections": true,
   "sideBar": true,
   "skip_h1_title": false,
   "title_cell": "Table of Contents",
   "title_sidebar": "Contents",
   "toc_cell": false,
   "toc_position": {},
   "toc_section_display": true,
   "toc_window_display": false
  },
  "varInspector": {
   "cols": {
    "lenName": 16,
    "lenType": 16,
    "lenVar": 40
   },
   "kernels_config": {
    "python": {
     "delete_cmd_postfix": "",
     "delete_cmd_prefix": "del ",
     "library": "var_list.py",
     "varRefreshCmd": "print(var_dic_list())"
    },
    "r": {
     "delete_cmd_postfix": ") ",
     "delete_cmd_prefix": "rm(",
     "library": "var_list.r",
     "varRefreshCmd": "cat(var_dic_list()) "
    }
   },
   "types_to_exclude": [
    "module",
    "function",
    "builtin_function_or_method",
    "instance",
    "_Feature"
   ],
   "window_display": false
  }
 },
 "nbformat": 4,
 "nbformat_minor": 4
}
