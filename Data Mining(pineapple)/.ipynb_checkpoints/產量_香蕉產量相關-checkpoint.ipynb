{
 "cells": [
  {
   "cell_type": "code",
   "execution_count": 2,
   "metadata": {
    "ExecuteTime": {
     "end_time": "2021-05-25T04:37:37.038015Z",
     "start_time": "2021-05-25T04:37:36.098589Z"
    }
   },
   "outputs": [],
   "source": [
    "# import geopandas as gpd\n",
    "import matplotlib.pyplot as plt\n",
    "import requests\n",
    "import pandas as pd\n",
    "import numpy as np\n",
    "import json\n",
    "import re\n",
    "pd.options.mode.chained_assignment = None  # default='warn'"
   ]
  },
  {
   "cell_type": "markdown",
   "metadata": {},
   "source": [
    "## data cleaning"
   ]
  },
  {
   "cell_type": "code",
   "execution_count": 3,
   "metadata": {},
   "outputs": [
    {
     "data": {
      "text/html": [
       "<div>\n",
       "<style scoped>\n",
       "    .dataframe tbody tr th:only-of-type {\n",
       "        vertical-align: middle;\n",
       "    }\n",
       "\n",
       "    .dataframe tbody tr th {\n",
       "        vertical-align: top;\n",
       "    }\n",
       "\n",
       "    .dataframe thead th {\n",
       "        text-align: right;\n",
       "    }\n",
       "</style>\n",
       "<table border=\"1\" class=\"dataframe\">\n",
       "  <thead>\n",
       "    <tr style=\"text-align: right;\">\n",
       "      <th></th>\n",
       "      <th>年度</th>\n",
       "      <th>地區別</th>\n",
       "      <th>果品類別</th>\n",
       "      <th>種植株數</th>\n",
       "      <th>收穫株數</th>\n",
       "      <th>種植面積_公頃</th>\n",
       "      <th>收穫面積_公頃</th>\n",
       "      <th>每株平均產量_公斤</th>\n",
       "      <th>每公頃平均產量_公斤</th>\n",
       "      <th>產量_公噸</th>\n",
       "    </tr>\n",
       "  </thead>\n",
       "  <tbody>\n",
       "    <tr>\n",
       "      <th>0</th>\n",
       "      <td>2019</td>\n",
       "      <td>新北市</td>\n",
       "      <td>香蕉</td>\n",
       "      <td>108619</td>\n",
       "      <td>102262</td>\n",
       "      <td>74.99</td>\n",
       "      <td>71.01</td>\n",
       "      <td>13.74</td>\n",
       "      <td>19793.48</td>\n",
       "      <td>1405.535</td>\n",
       "    </tr>\n",
       "    <tr>\n",
       "      <th>1</th>\n",
       "      <td>2019</td>\n",
       "      <td>台北市</td>\n",
       "      <td>香蕉</td>\n",
       "      <td>12830</td>\n",
       "      <td>12830</td>\n",
       "      <td>10.36</td>\n",
       "      <td>10.36</td>\n",
       "      <td>12.55</td>\n",
       "      <td>15543.15</td>\n",
       "      <td>161.027</td>\n",
       "    </tr>\n",
       "    <tr>\n",
       "      <th>2</th>\n",
       "      <td>2019</td>\n",
       "      <td>桃園市</td>\n",
       "      <td>香蕉</td>\n",
       "      <td>44420</td>\n",
       "      <td>43940</td>\n",
       "      <td>57.11</td>\n",
       "      <td>56.47</td>\n",
       "      <td>18.85</td>\n",
       "      <td>14666.65</td>\n",
       "      <td>828.226</td>\n",
       "    </tr>\n",
       "    <tr>\n",
       "      <th>3</th>\n",
       "      <td>2019</td>\n",
       "      <td>台中市</td>\n",
       "      <td>香蕉</td>\n",
       "      <td>574129</td>\n",
       "      <td>560455</td>\n",
       "      <td>629.71</td>\n",
       "      <td>614.39</td>\n",
       "      <td>15.54</td>\n",
       "      <td>14178.52</td>\n",
       "      <td>8711.141</td>\n",
       "    </tr>\n",
       "    <tr>\n",
       "      <th>4</th>\n",
       "      <td>2019</td>\n",
       "      <td>台南市</td>\n",
       "      <td>香蕉</td>\n",
       "      <td>1481610</td>\n",
       "      <td>1476420</td>\n",
       "      <td>1062.65</td>\n",
       "      <td>1057.46</td>\n",
       "      <td>16.26</td>\n",
       "      <td>22703.58</td>\n",
       "      <td>24008.13</td>\n",
       "    </tr>\n",
       "    <tr>\n",
       "      <th>...</th>\n",
       "      <td>...</td>\n",
       "      <td>...</td>\n",
       "      <td>...</td>\n",
       "      <td>...</td>\n",
       "      <td>...</td>\n",
       "      <td>...</td>\n",
       "      <td>...</td>\n",
       "      <td>...</td>\n",
       "      <td>...</td>\n",
       "      <td>...</td>\n",
       "    </tr>\n",
       "    <tr>\n",
       "      <th>7066</th>\n",
       "      <td>2011</td>\n",
       "      <td>基隆市</td>\n",
       "      <td>其他水果</td>\n",
       "      <td>327</td>\n",
       "      <td>327</td>\n",
       "      <td>1.01</td>\n",
       "      <td>1.01</td>\n",
       "      <td>10</td>\n",
       "      <td>3237.62</td>\n",
       "      <td>3.27</td>\n",
       "    </tr>\n",
       "    <tr>\n",
       "      <th>7067</th>\n",
       "      <td>2011</td>\n",
       "      <td>新竹市</td>\n",
       "      <td>其他水果</td>\n",
       "      <td>2538</td>\n",
       "      <td>2538</td>\n",
       "      <td>1.84</td>\n",
       "      <td>1.84</td>\n",
       "      <td>10.56</td>\n",
       "      <td>14560.87</td>\n",
       "      <td>26.792</td>\n",
       "    </tr>\n",
       "    <tr>\n",
       "      <th>7068</th>\n",
       "      <td>2011</td>\n",
       "      <td>嘉義市</td>\n",
       "      <td>其他水果</td>\n",
       "      <td>25711</td>\n",
       "      <td>25711</td>\n",
       "      <td>38.43</td>\n",
       "      <td>38.43</td>\n",
       "      <td>16.66</td>\n",
       "      <td>11147.46</td>\n",
       "      <td>428.397</td>\n",
       "    </tr>\n",
       "    <tr>\n",
       "      <th>7069</th>\n",
       "      <td>2011</td>\n",
       "      <td>金門縣</td>\n",
       "      <td>其他水果</td>\n",
       "      <td>0</td>\n",
       "      <td>0</td>\n",
       "      <td>0</td>\n",
       "      <td>0</td>\n",
       "      <td>0</td>\n",
       "      <td>0</td>\n",
       "      <td>0</td>\n",
       "    </tr>\n",
       "    <tr>\n",
       "      <th>7070</th>\n",
       "      <td>2011</td>\n",
       "      <td>連江縣</td>\n",
       "      <td>其他水果</td>\n",
       "      <td>0</td>\n",
       "      <td>0</td>\n",
       "      <td>0</td>\n",
       "      <td>0</td>\n",
       "      <td>0</td>\n",
       "      <td>0</td>\n",
       "      <td>0</td>\n",
       "    </tr>\n",
       "  </tbody>\n",
       "</table>\n",
       "<p>7071 rows × 10 columns</p>\n",
       "</div>"
      ],
      "text/plain": [
       "        年度  地區別  果品類別     種植株數     收穫株數  種植面積_公頃  收穫面積_公頃 每株平均產量_公斤  \\\n",
       "0     2019  新北市    香蕉   108619   102262    74.99    71.01     13.74   \n",
       "1     2019  台北市    香蕉    12830    12830    10.36    10.36     12.55   \n",
       "2     2019  桃園市    香蕉    44420    43940    57.11    56.47     18.85   \n",
       "3     2019  台中市    香蕉   574129   560455   629.71   614.39     15.54   \n",
       "4     2019  台南市    香蕉  1481610  1476420  1062.65  1057.46     16.26   \n",
       "...    ...  ...   ...      ...      ...      ...      ...       ...   \n",
       "7066  2011  基隆市  其他水果      327      327     1.01     1.01        10   \n",
       "7067  2011  新竹市  其他水果     2538     2538     1.84     1.84     10.56   \n",
       "7068  2011  嘉義市  其他水果    25711    25711    38.43    38.43     16.66   \n",
       "7069  2011  金門縣  其他水果        0        0        0        0         0   \n",
       "7070  2011  連江縣  其他水果        0        0        0        0         0   \n",
       "\n",
       "     每公頃平均產量_公斤     產量_公噸  \n",
       "0      19793.48  1405.535  \n",
       "1      15543.15   161.027  \n",
       "2      14666.65   828.226  \n",
       "3      14178.52  8711.141  \n",
       "4      22703.58  24008.13  \n",
       "...         ...       ...  \n",
       "7066    3237.62      3.27  \n",
       "7067   14560.87    26.792  \n",
       "7068   11147.46   428.397  \n",
       "7069          0         0  \n",
       "7070          0         0  \n",
       "\n",
       "[7071 rows x 10 columns]"
      ]
     },
     "execution_count": 3,
     "metadata": {},
     "output_type": "execute_result"
    }
   ],
   "source": [
    "# read csv\n",
    "df = pd.read_csv(\"../data/產量_臺灣地區果品生產概況(2011~2019).csv\", encoding=\"utf8\")\n",
    "df"
   ]
  },
  {
   "cell_type": "markdown",
   "metadata": {},
   "source": [
    "### 保留香蕉資料"
   ]
  },
  {
   "cell_type": "code",
   "execution_count": 4,
   "metadata": {},
   "outputs": [
    {
     "data": {
      "text/html": [
       "<div>\n",
       "<style scoped>\n",
       "    .dataframe tbody tr th:only-of-type {\n",
       "        vertical-align: middle;\n",
       "    }\n",
       "\n",
       "    .dataframe tbody tr th {\n",
       "        vertical-align: top;\n",
       "    }\n",
       "\n",
       "    .dataframe thead th {\n",
       "        text-align: right;\n",
       "    }\n",
       "</style>\n",
       "<table border=\"1\" class=\"dataframe\">\n",
       "  <thead>\n",
       "    <tr style=\"text-align: right;\">\n",
       "      <th></th>\n",
       "      <th>年度</th>\n",
       "      <th>地區別</th>\n",
       "      <th>果品類別</th>\n",
       "      <th>種植株數</th>\n",
       "      <th>收穫株數</th>\n",
       "      <th>種植面積_公頃</th>\n",
       "      <th>收穫面積_公頃</th>\n",
       "      <th>每株平均產量_公斤</th>\n",
       "      <th>每公頃平均產量_公斤</th>\n",
       "      <th>產量_公噸</th>\n",
       "    </tr>\n",
       "  </thead>\n",
       "  <tbody>\n",
       "    <tr>\n",
       "      <th>0</th>\n",
       "      <td>2019</td>\n",
       "      <td>新北市</td>\n",
       "      <td>香蕉</td>\n",
       "      <td>108619</td>\n",
       "      <td>102262</td>\n",
       "      <td>74.99</td>\n",
       "      <td>71.01</td>\n",
       "      <td>13.74</td>\n",
       "      <td>19793.48</td>\n",
       "      <td>1405.535</td>\n",
       "    </tr>\n",
       "    <tr>\n",
       "      <th>1</th>\n",
       "      <td>2019</td>\n",
       "      <td>台北市</td>\n",
       "      <td>香蕉</td>\n",
       "      <td>12830</td>\n",
       "      <td>12830</td>\n",
       "      <td>10.36</td>\n",
       "      <td>10.36</td>\n",
       "      <td>12.55</td>\n",
       "      <td>15543.15</td>\n",
       "      <td>161.027</td>\n",
       "    </tr>\n",
       "    <tr>\n",
       "      <th>2</th>\n",
       "      <td>2019</td>\n",
       "      <td>桃園市</td>\n",
       "      <td>香蕉</td>\n",
       "      <td>44420</td>\n",
       "      <td>43940</td>\n",
       "      <td>57.11</td>\n",
       "      <td>56.47</td>\n",
       "      <td>18.85</td>\n",
       "      <td>14666.65</td>\n",
       "      <td>828.226</td>\n",
       "    </tr>\n",
       "    <tr>\n",
       "      <th>3</th>\n",
       "      <td>2019</td>\n",
       "      <td>台中市</td>\n",
       "      <td>香蕉</td>\n",
       "      <td>574129</td>\n",
       "      <td>560455</td>\n",
       "      <td>629.71</td>\n",
       "      <td>614.39</td>\n",
       "      <td>15.54</td>\n",
       "      <td>14178.52</td>\n",
       "      <td>8711.141</td>\n",
       "    </tr>\n",
       "    <tr>\n",
       "      <th>4</th>\n",
       "      <td>2019</td>\n",
       "      <td>台南市</td>\n",
       "      <td>香蕉</td>\n",
       "      <td>1481610</td>\n",
       "      <td>1476420</td>\n",
       "      <td>1062.65</td>\n",
       "      <td>1057.46</td>\n",
       "      <td>16.26</td>\n",
       "      <td>22703.58</td>\n",
       "      <td>24008.13</td>\n",
       "    </tr>\n",
       "    <tr>\n",
       "      <th>...</th>\n",
       "      <td>...</td>\n",
       "      <td>...</td>\n",
       "      <td>...</td>\n",
       "      <td>...</td>\n",
       "      <td>...</td>\n",
       "      <td>...</td>\n",
       "      <td>...</td>\n",
       "      <td>...</td>\n",
       "      <td>...</td>\n",
       "      <td>...</td>\n",
       "    </tr>\n",
       "    <tr>\n",
       "      <th>6318</th>\n",
       "      <td>2011</td>\n",
       "      <td>基隆市</td>\n",
       "      <td>香蕉</td>\n",
       "      <td>3786</td>\n",
       "      <td>3786</td>\n",
       "      <td>3.57</td>\n",
       "      <td>3.57</td>\n",
       "      <td>9.22</td>\n",
       "      <td>9782.07</td>\n",
       "      <td>34.922</td>\n",
       "    </tr>\n",
       "    <tr>\n",
       "      <th>6319</th>\n",
       "      <td>2011</td>\n",
       "      <td>新竹市</td>\n",
       "      <td>香蕉</td>\n",
       "      <td>8802</td>\n",
       "      <td>8802</td>\n",
       "      <td>5.64</td>\n",
       "      <td>5.64</td>\n",
       "      <td>14.38</td>\n",
       "      <td>22448.58</td>\n",
       "      <td>126.61</td>\n",
       "    </tr>\n",
       "    <tr>\n",
       "      <th>6320</th>\n",
       "      <td>2011</td>\n",
       "      <td>嘉義市</td>\n",
       "      <td>香蕉</td>\n",
       "      <td>79710</td>\n",
       "      <td>79710</td>\n",
       "      <td>53.14</td>\n",
       "      <td>53.14</td>\n",
       "      <td>12.05</td>\n",
       "      <td>18081.6</td>\n",
       "      <td>960.856</td>\n",
       "    </tr>\n",
       "    <tr>\n",
       "      <th>6321</th>\n",
       "      <td>2011</td>\n",
       "      <td>金門縣</td>\n",
       "      <td>香蕉</td>\n",
       "      <td>0</td>\n",
       "      <td>0</td>\n",
       "      <td>0</td>\n",
       "      <td>0</td>\n",
       "      <td>0</td>\n",
       "      <td>0</td>\n",
       "      <td>0</td>\n",
       "    </tr>\n",
       "    <tr>\n",
       "      <th>6322</th>\n",
       "      <td>2011</td>\n",
       "      <td>連江縣</td>\n",
       "      <td>香蕉</td>\n",
       "      <td>0</td>\n",
       "      <td>0</td>\n",
       "      <td>0</td>\n",
       "      <td>0</td>\n",
       "      <td>0</td>\n",
       "      <td>0</td>\n",
       "      <td>0</td>\n",
       "    </tr>\n",
       "  </tbody>\n",
       "</table>\n",
       "<p>202 rows × 10 columns</p>\n",
       "</div>"
      ],
      "text/plain": [
       "        年度  地區別 果品類別     種植株數     收穫株數  種植面積_公頃  收穫面積_公頃 每株平均產量_公斤 每公頃平均產量_公斤  \\\n",
       "0     2019  新北市   香蕉   108619   102262    74.99    71.01     13.74   19793.48   \n",
       "1     2019  台北市   香蕉    12830    12830    10.36    10.36     12.55   15543.15   \n",
       "2     2019  桃園市   香蕉    44420    43940    57.11    56.47     18.85   14666.65   \n",
       "3     2019  台中市   香蕉   574129   560455   629.71   614.39     15.54   14178.52   \n",
       "4     2019  台南市   香蕉  1481610  1476420  1062.65  1057.46     16.26   22703.58   \n",
       "...    ...  ...  ...      ...      ...      ...      ...       ...        ...   \n",
       "6318  2011  基隆市   香蕉     3786     3786     3.57     3.57      9.22    9782.07   \n",
       "6319  2011  新竹市   香蕉     8802     8802     5.64     5.64     14.38   22448.58   \n",
       "6320  2011  嘉義市   香蕉    79710    79710    53.14    53.14     12.05    18081.6   \n",
       "6321  2011  金門縣   香蕉        0        0        0        0         0          0   \n",
       "6322  2011  連江縣   香蕉        0        0        0        0         0          0   \n",
       "\n",
       "         產量_公噸  \n",
       "0     1405.535  \n",
       "1      161.027  \n",
       "2      828.226  \n",
       "3     8711.141  \n",
       "4     24008.13  \n",
       "...        ...  \n",
       "6318    34.922  \n",
       "6319    126.61  \n",
       "6320   960.856  \n",
       "6321         0  \n",
       "6322         0  \n",
       "\n",
       "[202 rows x 10 columns]"
      ]
     },
     "execution_count": 4,
     "metadata": {},
     "output_type": "execute_result"
    }
   ],
   "source": [
    "df_banana = df.loc[df[\"果品類別\"] == \"香蕉\"]\n",
    "df_banana"
   ]
  },
  {
   "cell_type": "markdown",
   "metadata": {},
   "source": [
    "### 去除不必要地區別[\"臺灣省\",\"福建省\"]"
   ]
  },
  {
   "cell_type": "code",
   "execution_count": 5,
   "metadata": {
    "ExecuteTime": {
     "end_time": "2021-05-25T04:37:42.440122Z",
     "start_time": "2021-05-25T04:37:42.410716Z"
    }
   },
   "outputs": [
    {
     "data": {
      "text/html": [
       "<div>\n",
       "<style scoped>\n",
       "    .dataframe tbody tr th:only-of-type {\n",
       "        vertical-align: middle;\n",
       "    }\n",
       "\n",
       "    .dataframe tbody tr th {\n",
       "        vertical-align: top;\n",
       "    }\n",
       "\n",
       "    .dataframe thead th {\n",
       "        text-align: right;\n",
       "    }\n",
       "</style>\n",
       "<table border=\"1\" class=\"dataframe\">\n",
       "  <thead>\n",
       "    <tr style=\"text-align: right;\">\n",
       "      <th></th>\n",
       "      <th>年度</th>\n",
       "      <th>地區別</th>\n",
       "      <th>果品類別</th>\n",
       "      <th>種植株數</th>\n",
       "      <th>收穫株數</th>\n",
       "      <th>種植面積_公頃</th>\n",
       "      <th>收穫面積_公頃</th>\n",
       "      <th>每株平均產量_公斤</th>\n",
       "      <th>每公頃平均產量_公斤</th>\n",
       "      <th>產量_公噸</th>\n",
       "    </tr>\n",
       "  </thead>\n",
       "  <tbody>\n",
       "    <tr>\n",
       "      <th>0</th>\n",
       "      <td>2019</td>\n",
       "      <td>新北市</td>\n",
       "      <td>香蕉</td>\n",
       "      <td>108619</td>\n",
       "      <td>102262</td>\n",
       "      <td>74.99</td>\n",
       "      <td>71.01</td>\n",
       "      <td>13.74</td>\n",
       "      <td>19793.48</td>\n",
       "      <td>1405.535</td>\n",
       "    </tr>\n",
       "    <tr>\n",
       "      <th>1</th>\n",
       "      <td>2019</td>\n",
       "      <td>台北市</td>\n",
       "      <td>香蕉</td>\n",
       "      <td>12830</td>\n",
       "      <td>12830</td>\n",
       "      <td>10.36</td>\n",
       "      <td>10.36</td>\n",
       "      <td>12.55</td>\n",
       "      <td>15543.15</td>\n",
       "      <td>161.027</td>\n",
       "    </tr>\n",
       "    <tr>\n",
       "      <th>2</th>\n",
       "      <td>2019</td>\n",
       "      <td>桃園市</td>\n",
       "      <td>香蕉</td>\n",
       "      <td>44420</td>\n",
       "      <td>43940</td>\n",
       "      <td>57.11</td>\n",
       "      <td>56.47</td>\n",
       "      <td>18.85</td>\n",
       "      <td>14666.65</td>\n",
       "      <td>828.226</td>\n",
       "    </tr>\n",
       "    <tr>\n",
       "      <th>3</th>\n",
       "      <td>2019</td>\n",
       "      <td>台中市</td>\n",
       "      <td>香蕉</td>\n",
       "      <td>574129</td>\n",
       "      <td>560455</td>\n",
       "      <td>629.71</td>\n",
       "      <td>614.39</td>\n",
       "      <td>15.54</td>\n",
       "      <td>14178.52</td>\n",
       "      <td>8711.141</td>\n",
       "    </tr>\n",
       "    <tr>\n",
       "      <th>4</th>\n",
       "      <td>2019</td>\n",
       "      <td>台南市</td>\n",
       "      <td>香蕉</td>\n",
       "      <td>1481610</td>\n",
       "      <td>1476420</td>\n",
       "      <td>1062.65</td>\n",
       "      <td>1057.46</td>\n",
       "      <td>16.26</td>\n",
       "      <td>22703.58</td>\n",
       "      <td>24008.13</td>\n",
       "    </tr>\n",
       "    <tr>\n",
       "      <th>...</th>\n",
       "      <td>...</td>\n",
       "      <td>...</td>\n",
       "      <td>...</td>\n",
       "      <td>...</td>\n",
       "      <td>...</td>\n",
       "      <td>...</td>\n",
       "      <td>...</td>\n",
       "      <td>...</td>\n",
       "      <td>...</td>\n",
       "      <td>...</td>\n",
       "    </tr>\n",
       "    <tr>\n",
       "      <th>6318</th>\n",
       "      <td>2011</td>\n",
       "      <td>基隆市</td>\n",
       "      <td>香蕉</td>\n",
       "      <td>3786</td>\n",
       "      <td>3786</td>\n",
       "      <td>3.57</td>\n",
       "      <td>3.57</td>\n",
       "      <td>9.22</td>\n",
       "      <td>9782.07</td>\n",
       "      <td>34.922</td>\n",
       "    </tr>\n",
       "    <tr>\n",
       "      <th>6319</th>\n",
       "      <td>2011</td>\n",
       "      <td>新竹市</td>\n",
       "      <td>香蕉</td>\n",
       "      <td>8802</td>\n",
       "      <td>8802</td>\n",
       "      <td>5.64</td>\n",
       "      <td>5.64</td>\n",
       "      <td>14.38</td>\n",
       "      <td>22448.58</td>\n",
       "      <td>126.61</td>\n",
       "    </tr>\n",
       "    <tr>\n",
       "      <th>6320</th>\n",
       "      <td>2011</td>\n",
       "      <td>嘉義市</td>\n",
       "      <td>香蕉</td>\n",
       "      <td>79710</td>\n",
       "      <td>79710</td>\n",
       "      <td>53.14</td>\n",
       "      <td>53.14</td>\n",
       "      <td>12.05</td>\n",
       "      <td>18081.6</td>\n",
       "      <td>960.856</td>\n",
       "    </tr>\n",
       "    <tr>\n",
       "      <th>6321</th>\n",
       "      <td>2011</td>\n",
       "      <td>金門縣</td>\n",
       "      <td>香蕉</td>\n",
       "      <td>0</td>\n",
       "      <td>0</td>\n",
       "      <td>0</td>\n",
       "      <td>0</td>\n",
       "      <td>0</td>\n",
       "      <td>0</td>\n",
       "      <td>0</td>\n",
       "    </tr>\n",
       "    <tr>\n",
       "      <th>6322</th>\n",
       "      <td>2011</td>\n",
       "      <td>連江縣</td>\n",
       "      <td>香蕉</td>\n",
       "      <td>0</td>\n",
       "      <td>0</td>\n",
       "      <td>0</td>\n",
       "      <td>0</td>\n",
       "      <td>0</td>\n",
       "      <td>0</td>\n",
       "      <td>0</td>\n",
       "    </tr>\n",
       "  </tbody>\n",
       "</table>\n",
       "<p>198 rows × 10 columns</p>\n",
       "</div>"
      ],
      "text/plain": [
       "        年度  地區別 果品類別     種植株數     收穫株數  種植面積_公頃  收穫面積_公頃 每株平均產量_公斤 每公頃平均產量_公斤  \\\n",
       "0     2019  新北市   香蕉   108619   102262    74.99    71.01     13.74   19793.48   \n",
       "1     2019  台北市   香蕉    12830    12830    10.36    10.36     12.55   15543.15   \n",
       "2     2019  桃園市   香蕉    44420    43940    57.11    56.47     18.85   14666.65   \n",
       "3     2019  台中市   香蕉   574129   560455   629.71   614.39     15.54   14178.52   \n",
       "4     2019  台南市   香蕉  1481610  1476420  1062.65  1057.46     16.26   22703.58   \n",
       "...    ...  ...  ...      ...      ...      ...      ...       ...        ...   \n",
       "6318  2011  基隆市   香蕉     3786     3786     3.57     3.57      9.22    9782.07   \n",
       "6319  2011  新竹市   香蕉     8802     8802     5.64     5.64     14.38   22448.58   \n",
       "6320  2011  嘉義市   香蕉    79710    79710    53.14    53.14     12.05    18081.6   \n",
       "6321  2011  金門縣   香蕉        0        0        0        0         0          0   \n",
       "6322  2011  連江縣   香蕉        0        0        0        0         0          0   \n",
       "\n",
       "         產量_公噸  \n",
       "0     1405.535  \n",
       "1      161.027  \n",
       "2      828.226  \n",
       "3     8711.141  \n",
       "4     24008.13  \n",
       "...        ...  \n",
       "6318    34.922  \n",
       "6319    126.61  \n",
       "6320   960.856  \n",
       "6321         0  \n",
       "6322         0  \n",
       "\n",
       "[198 rows x 10 columns]"
      ]
     },
     "execution_count": 5,
     "metadata": {},
     "output_type": "execute_result"
    }
   ],
   "source": [
    "df_banana = df_banana.loc[~(df_banana[\"地區別\"].isin([\"臺灣省\",\"福建省\"]))]\n",
    "df_banana"
   ]
  },
  {
   "cell_type": "code",
   "execution_count": 29,
   "metadata": {},
   "outputs": [],
   "source": [
    "# replace \"-\" with 0\n",
    "df_banana = df_banana.replace(\"-\", 0)"
   ]
  },
  {
   "cell_type": "code",
   "execution_count": 30,
   "metadata": {},
   "outputs": [
    {
     "data": {
      "text/html": [
       "<div>\n",
       "<style scoped>\n",
       "    .dataframe tbody tr th:only-of-type {\n",
       "        vertical-align: middle;\n",
       "    }\n",
       "\n",
       "    .dataframe tbody tr th {\n",
       "        vertical-align: top;\n",
       "    }\n",
       "\n",
       "    .dataframe thead th {\n",
       "        text-align: right;\n",
       "    }\n",
       "</style>\n",
       "<table border=\"1\" class=\"dataframe\">\n",
       "  <thead>\n",
       "    <tr style=\"text-align: right;\">\n",
       "      <th></th>\n",
       "      <th>年度</th>\n",
       "      <th>地區別</th>\n",
       "      <th>果品類別</th>\n",
       "      <th>種植株數</th>\n",
       "      <th>收穫株數</th>\n",
       "      <th>種植面積_公頃</th>\n",
       "      <th>收穫面積_公頃</th>\n",
       "      <th>每株平均產量_公斤</th>\n",
       "      <th>每公頃平均產量_公斤</th>\n",
       "      <th>產量_公噸</th>\n",
       "    </tr>\n",
       "  </thead>\n",
       "  <tbody>\n",
       "    <tr>\n",
       "      <th>0</th>\n",
       "      <td>2019</td>\n",
       "      <td>新北市</td>\n",
       "      <td>香蕉</td>\n",
       "      <td>108619</td>\n",
       "      <td>102262</td>\n",
       "      <td>74.99</td>\n",
       "      <td>71.01</td>\n",
       "      <td>13.74</td>\n",
       "      <td>19793.48</td>\n",
       "      <td>1405.535</td>\n",
       "    </tr>\n",
       "    <tr>\n",
       "      <th>1</th>\n",
       "      <td>2019</td>\n",
       "      <td>台北市</td>\n",
       "      <td>香蕉</td>\n",
       "      <td>12830</td>\n",
       "      <td>12830</td>\n",
       "      <td>10.36</td>\n",
       "      <td>10.36</td>\n",
       "      <td>12.55</td>\n",
       "      <td>15543.15</td>\n",
       "      <td>161.027</td>\n",
       "    </tr>\n",
       "    <tr>\n",
       "      <th>2</th>\n",
       "      <td>2019</td>\n",
       "      <td>桃園市</td>\n",
       "      <td>香蕉</td>\n",
       "      <td>44420</td>\n",
       "      <td>43940</td>\n",
       "      <td>57.11</td>\n",
       "      <td>56.47</td>\n",
       "      <td>18.85</td>\n",
       "      <td>14666.65</td>\n",
       "      <td>828.226</td>\n",
       "    </tr>\n",
       "    <tr>\n",
       "      <th>3</th>\n",
       "      <td>2019</td>\n",
       "      <td>台中市</td>\n",
       "      <td>香蕉</td>\n",
       "      <td>574129</td>\n",
       "      <td>560455</td>\n",
       "      <td>629.71</td>\n",
       "      <td>614.39</td>\n",
       "      <td>15.54</td>\n",
       "      <td>14178.52</td>\n",
       "      <td>8711.141</td>\n",
       "    </tr>\n",
       "    <tr>\n",
       "      <th>4</th>\n",
       "      <td>2019</td>\n",
       "      <td>台南市</td>\n",
       "      <td>香蕉</td>\n",
       "      <td>1481610</td>\n",
       "      <td>1476420</td>\n",
       "      <td>1062.65</td>\n",
       "      <td>1057.46</td>\n",
       "      <td>16.26</td>\n",
       "      <td>22703.58</td>\n",
       "      <td>24008.130</td>\n",
       "    </tr>\n",
       "    <tr>\n",
       "      <th>...</th>\n",
       "      <td>...</td>\n",
       "      <td>...</td>\n",
       "      <td>...</td>\n",
       "      <td>...</td>\n",
       "      <td>...</td>\n",
       "      <td>...</td>\n",
       "      <td>...</td>\n",
       "      <td>...</td>\n",
       "      <td>...</td>\n",
       "      <td>...</td>\n",
       "    </tr>\n",
       "    <tr>\n",
       "      <th>6318</th>\n",
       "      <td>2011</td>\n",
       "      <td>基隆市</td>\n",
       "      <td>香蕉</td>\n",
       "      <td>3786</td>\n",
       "      <td>3786</td>\n",
       "      <td>3.57</td>\n",
       "      <td>3.57</td>\n",
       "      <td>9.22</td>\n",
       "      <td>9782.07</td>\n",
       "      <td>34.922</td>\n",
       "    </tr>\n",
       "    <tr>\n",
       "      <th>6319</th>\n",
       "      <td>2011</td>\n",
       "      <td>新竹市</td>\n",
       "      <td>香蕉</td>\n",
       "      <td>8802</td>\n",
       "      <td>8802</td>\n",
       "      <td>5.64</td>\n",
       "      <td>5.64</td>\n",
       "      <td>14.38</td>\n",
       "      <td>22448.58</td>\n",
       "      <td>126.610</td>\n",
       "    </tr>\n",
       "    <tr>\n",
       "      <th>6320</th>\n",
       "      <td>2011</td>\n",
       "      <td>嘉義市</td>\n",
       "      <td>香蕉</td>\n",
       "      <td>79710</td>\n",
       "      <td>79710</td>\n",
       "      <td>53.14</td>\n",
       "      <td>53.14</td>\n",
       "      <td>12.05</td>\n",
       "      <td>18081.60</td>\n",
       "      <td>960.856</td>\n",
       "    </tr>\n",
       "    <tr>\n",
       "      <th>6321</th>\n",
       "      <td>2011</td>\n",
       "      <td>金門縣</td>\n",
       "      <td>香蕉</td>\n",
       "      <td>0</td>\n",
       "      <td>0</td>\n",
       "      <td>0.00</td>\n",
       "      <td>0.00</td>\n",
       "      <td>0.00</td>\n",
       "      <td>0.00</td>\n",
       "      <td>0.000</td>\n",
       "    </tr>\n",
       "    <tr>\n",
       "      <th>6322</th>\n",
       "      <td>2011</td>\n",
       "      <td>連江縣</td>\n",
       "      <td>香蕉</td>\n",
       "      <td>0</td>\n",
       "      <td>0</td>\n",
       "      <td>0.00</td>\n",
       "      <td>0.00</td>\n",
       "      <td>0.00</td>\n",
       "      <td>0.00</td>\n",
       "      <td>0.000</td>\n",
       "    </tr>\n",
       "  </tbody>\n",
       "</table>\n",
       "<p>198 rows × 10 columns</p>\n",
       "</div>"
      ],
      "text/plain": [
       "        年度  地區別 果品類別     種植株數     收穫株數  種植面積_公頃  收穫面積_公頃  每株平均產量_公斤  \\\n",
       "0     2019  新北市   香蕉   108619   102262    74.99    71.01      13.74   \n",
       "1     2019  台北市   香蕉    12830    12830    10.36    10.36      12.55   \n",
       "2     2019  桃園市   香蕉    44420    43940    57.11    56.47      18.85   \n",
       "3     2019  台中市   香蕉   574129   560455   629.71   614.39      15.54   \n",
       "4     2019  台南市   香蕉  1481610  1476420  1062.65  1057.46      16.26   \n",
       "...    ...  ...  ...      ...      ...      ...      ...        ...   \n",
       "6318  2011  基隆市   香蕉     3786     3786     3.57     3.57       9.22   \n",
       "6319  2011  新竹市   香蕉     8802     8802     5.64     5.64      14.38   \n",
       "6320  2011  嘉義市   香蕉    79710    79710    53.14    53.14      12.05   \n",
       "6321  2011  金門縣   香蕉        0        0     0.00     0.00       0.00   \n",
       "6322  2011  連江縣   香蕉        0        0     0.00     0.00       0.00   \n",
       "\n",
       "      每公頃平均產量_公斤      產量_公噸  \n",
       "0       19793.48   1405.535  \n",
       "1       15543.15    161.027  \n",
       "2       14666.65    828.226  \n",
       "3       14178.52   8711.141  \n",
       "4       22703.58  24008.130  \n",
       "...          ...        ...  \n",
       "6318     9782.07     34.922  \n",
       "6319    22448.58    126.610  \n",
       "6320    18081.60    960.856  \n",
       "6321        0.00      0.000  \n",
       "6322        0.00      0.000  \n",
       "\n",
       "[198 rows x 10 columns]"
      ]
     },
     "execution_count": 30,
     "metadata": {},
     "output_type": "execute_result"
    }
   ],
   "source": [
    "target_cols= [ '種植株數', '收穫株數', '種植面積_公頃', '收穫面積_公頃', '每株平均產量_公斤', '每公頃平均產量_公斤', '產量_公噸']\n",
    "df_banana[target_cols] = df_banana[target_cols].apply(pd.to_numeric)\n",
    "df_banana"
   ]
  },
  {
   "cell_type": "code",
   "execution_count": 33,
   "metadata": {},
   "outputs": [],
   "source": [
    "df_banana[\"產量_公噸\"] = df_banana[\"產量_公噸\"].map(lambda x: round(x ,2))\n"
   ]
  },
  {
   "cell_type": "code",
   "execution_count": 34,
   "metadata": {},
   "outputs": [
    {
     "data": {
      "text/html": [
       "<div>\n",
       "<style scoped>\n",
       "    .dataframe tbody tr th:only-of-type {\n",
       "        vertical-align: middle;\n",
       "    }\n",
       "\n",
       "    .dataframe tbody tr th {\n",
       "        vertical-align: top;\n",
       "    }\n",
       "\n",
       "    .dataframe thead th {\n",
       "        text-align: right;\n",
       "    }\n",
       "</style>\n",
       "<table border=\"1\" class=\"dataframe\">\n",
       "  <thead>\n",
       "    <tr style=\"text-align: right;\">\n",
       "      <th></th>\n",
       "      <th>年度</th>\n",
       "      <th>地區別</th>\n",
       "      <th>果品類別</th>\n",
       "      <th>種植株數</th>\n",
       "      <th>收穫株數</th>\n",
       "      <th>種植面積_公頃</th>\n",
       "      <th>收穫面積_公頃</th>\n",
       "      <th>每株平均產量_公斤</th>\n",
       "      <th>每公頃平均產量_公斤</th>\n",
       "      <th>產量_公噸</th>\n",
       "    </tr>\n",
       "  </thead>\n",
       "  <tbody>\n",
       "    <tr>\n",
       "      <th>0</th>\n",
       "      <td>2019</td>\n",
       "      <td>新北市</td>\n",
       "      <td>香蕉</td>\n",
       "      <td>108619</td>\n",
       "      <td>102262</td>\n",
       "      <td>74.99</td>\n",
       "      <td>71.01</td>\n",
       "      <td>13.74</td>\n",
       "      <td>19793.48</td>\n",
       "      <td>1405.54</td>\n",
       "    </tr>\n",
       "    <tr>\n",
       "      <th>1</th>\n",
       "      <td>2019</td>\n",
       "      <td>台北市</td>\n",
       "      <td>香蕉</td>\n",
       "      <td>12830</td>\n",
       "      <td>12830</td>\n",
       "      <td>10.36</td>\n",
       "      <td>10.36</td>\n",
       "      <td>12.55</td>\n",
       "      <td>15543.15</td>\n",
       "      <td>161.03</td>\n",
       "    </tr>\n",
       "    <tr>\n",
       "      <th>2</th>\n",
       "      <td>2019</td>\n",
       "      <td>桃園市</td>\n",
       "      <td>香蕉</td>\n",
       "      <td>44420</td>\n",
       "      <td>43940</td>\n",
       "      <td>57.11</td>\n",
       "      <td>56.47</td>\n",
       "      <td>18.85</td>\n",
       "      <td>14666.65</td>\n",
       "      <td>828.23</td>\n",
       "    </tr>\n",
       "    <tr>\n",
       "      <th>3</th>\n",
       "      <td>2019</td>\n",
       "      <td>台中市</td>\n",
       "      <td>香蕉</td>\n",
       "      <td>574129</td>\n",
       "      <td>560455</td>\n",
       "      <td>629.71</td>\n",
       "      <td>614.39</td>\n",
       "      <td>15.54</td>\n",
       "      <td>14178.52</td>\n",
       "      <td>8711.14</td>\n",
       "    </tr>\n",
       "    <tr>\n",
       "      <th>4</th>\n",
       "      <td>2019</td>\n",
       "      <td>台南市</td>\n",
       "      <td>香蕉</td>\n",
       "      <td>1481610</td>\n",
       "      <td>1476420</td>\n",
       "      <td>1062.65</td>\n",
       "      <td>1057.46</td>\n",
       "      <td>16.26</td>\n",
       "      <td>22703.58</td>\n",
       "      <td>24008.13</td>\n",
       "    </tr>\n",
       "    <tr>\n",
       "      <th>...</th>\n",
       "      <td>...</td>\n",
       "      <td>...</td>\n",
       "      <td>...</td>\n",
       "      <td>...</td>\n",
       "      <td>...</td>\n",
       "      <td>...</td>\n",
       "      <td>...</td>\n",
       "      <td>...</td>\n",
       "      <td>...</td>\n",
       "      <td>...</td>\n",
       "    </tr>\n",
       "    <tr>\n",
       "      <th>6318</th>\n",
       "      <td>2011</td>\n",
       "      <td>基隆市</td>\n",
       "      <td>香蕉</td>\n",
       "      <td>3786</td>\n",
       "      <td>3786</td>\n",
       "      <td>3.57</td>\n",
       "      <td>3.57</td>\n",
       "      <td>9.22</td>\n",
       "      <td>9782.07</td>\n",
       "      <td>34.92</td>\n",
       "    </tr>\n",
       "    <tr>\n",
       "      <th>6319</th>\n",
       "      <td>2011</td>\n",
       "      <td>新竹市</td>\n",
       "      <td>香蕉</td>\n",
       "      <td>8802</td>\n",
       "      <td>8802</td>\n",
       "      <td>5.64</td>\n",
       "      <td>5.64</td>\n",
       "      <td>14.38</td>\n",
       "      <td>22448.58</td>\n",
       "      <td>126.61</td>\n",
       "    </tr>\n",
       "    <tr>\n",
       "      <th>6320</th>\n",
       "      <td>2011</td>\n",
       "      <td>嘉義市</td>\n",
       "      <td>香蕉</td>\n",
       "      <td>79710</td>\n",
       "      <td>79710</td>\n",
       "      <td>53.14</td>\n",
       "      <td>53.14</td>\n",
       "      <td>12.05</td>\n",
       "      <td>18081.60</td>\n",
       "      <td>960.86</td>\n",
       "    </tr>\n",
       "    <tr>\n",
       "      <th>6321</th>\n",
       "      <td>2011</td>\n",
       "      <td>金門縣</td>\n",
       "      <td>香蕉</td>\n",
       "      <td>0</td>\n",
       "      <td>0</td>\n",
       "      <td>0.00</td>\n",
       "      <td>0.00</td>\n",
       "      <td>0.00</td>\n",
       "      <td>0.00</td>\n",
       "      <td>0.00</td>\n",
       "    </tr>\n",
       "    <tr>\n",
       "      <th>6322</th>\n",
       "      <td>2011</td>\n",
       "      <td>連江縣</td>\n",
       "      <td>香蕉</td>\n",
       "      <td>0</td>\n",
       "      <td>0</td>\n",
       "      <td>0.00</td>\n",
       "      <td>0.00</td>\n",
       "      <td>0.00</td>\n",
       "      <td>0.00</td>\n",
       "      <td>0.00</td>\n",
       "    </tr>\n",
       "  </tbody>\n",
       "</table>\n",
       "<p>198 rows × 10 columns</p>\n",
       "</div>"
      ],
      "text/plain": [
       "        年度  地區別 果品類別     種植株數     收穫株數  種植面積_公頃  收穫面積_公頃  每株平均產量_公斤  \\\n",
       "0     2019  新北市   香蕉   108619   102262    74.99    71.01      13.74   \n",
       "1     2019  台北市   香蕉    12830    12830    10.36    10.36      12.55   \n",
       "2     2019  桃園市   香蕉    44420    43940    57.11    56.47      18.85   \n",
       "3     2019  台中市   香蕉   574129   560455   629.71   614.39      15.54   \n",
       "4     2019  台南市   香蕉  1481610  1476420  1062.65  1057.46      16.26   \n",
       "...    ...  ...  ...      ...      ...      ...      ...        ...   \n",
       "6318  2011  基隆市   香蕉     3786     3786     3.57     3.57       9.22   \n",
       "6319  2011  新竹市   香蕉     8802     8802     5.64     5.64      14.38   \n",
       "6320  2011  嘉義市   香蕉    79710    79710    53.14    53.14      12.05   \n",
       "6321  2011  金門縣   香蕉        0        0     0.00     0.00       0.00   \n",
       "6322  2011  連江縣   香蕉        0        0     0.00     0.00       0.00   \n",
       "\n",
       "      每公頃平均產量_公斤     產量_公噸  \n",
       "0       19793.48   1405.54  \n",
       "1       15543.15    161.03  \n",
       "2       14666.65    828.23  \n",
       "3       14178.52   8711.14  \n",
       "4       22703.58  24008.13  \n",
       "...          ...       ...  \n",
       "6318     9782.07     34.92  \n",
       "6319    22448.58    126.61  \n",
       "6320    18081.60    960.86  \n",
       "6321        0.00      0.00  \n",
       "6322        0.00      0.00  \n",
       "\n",
       "[198 rows x 10 columns]"
      ]
     },
     "execution_count": 34,
     "metadata": {},
     "output_type": "execute_result"
    }
   ],
   "source": [
    "df_banana"
   ]
  },
  {
   "cell_type": "code",
   "execution_count": 35,
   "metadata": {},
   "outputs": [],
   "source": [
    "# save as cleaned data\n",
    "df_banana.to_csv(\"cleaned data/產量_臺灣香蕉生產概況(2011~2019).csv\", index=False)"
   ]
  },
  {
   "cell_type": "code",
   "execution_count": null,
   "metadata": {},
   "outputs": [],
   "source": []
  },
  {
   "cell_type": "code",
   "execution_count": null,
   "metadata": {},
   "outputs": [],
   "source": []
  },
  {
   "cell_type": "code",
   "execution_count": null,
   "metadata": {},
   "outputs": [],
   "source": []
  },
  {
   "cell_type": "markdown",
   "metadata": {},
   "source": [
    "### 選取欲使用欄位"
   ]
  },
  {
   "cell_type": "code",
   "execution_count": null,
   "metadata": {
    "ExecuteTime": {
     "end_time": "2021-05-25T04:37:42.408720Z",
     "start_time": "2021-05-25T04:37:42.395756Z"
    }
   },
   "outputs": [],
   "source": [
    "wanted_col = ['年度', '地區別', '果品類別', '種植面積_公頃', '收穫面積_公頃', '產量_公噸']\n",
    "df = df[wanted_col]"
   ]
  },
  {
   "cell_type": "markdown",
   "metadata": {},
   "source": [
    "### 去除含有字串的資料，將其以0取代，完成後將target_col轉成numeric資料型態"
   ]
  },
  {
   "cell_type": "code",
   "execution_count": null,
   "metadata": {
    "ExecuteTime": {
     "end_time": "2021-05-25T04:37:42.486564Z",
     "start_time": "2021-05-25T04:37:42.442118Z"
    }
   },
   "outputs": [],
   "source": [
    "target_col = ['種植面積_公頃', '收穫面積_公頃', '產量_公噸']\n",
    "df.loc[(df[\"收穫面積_公頃\"].str.contains(r\"[A-Z-]\", na=False)), target_col] = 0\n",
    "df[target_col] = df[target_col].apply(pd.to_numeric)"
   ]
  },
  {
   "cell_type": "code",
   "execution_count": null,
   "metadata": {
    "ExecuteTime": {
     "end_time": "2021-05-25T04:37:42.502651Z",
     "start_time": "2021-05-25T04:37:42.488446Z"
    }
   },
   "outputs": [],
   "source": [
    "df.dtypes"
   ]
  },
  {
   "cell_type": "code",
   "execution_count": null,
   "metadata": {},
   "outputs": [],
   "source": []
  },
  {
   "cell_type": "code",
   "execution_count": null,
   "metadata": {},
   "outputs": [],
   "source": []
  },
  {
   "cell_type": "markdown",
   "metadata": {},
   "source": [
    "### 視覺化在地圖上(2011~2019變化)"
   ]
  },
  {
   "cell_type": "code",
   "execution_count": null,
   "metadata": {},
   "outputs": [],
   "source": [
    "df_banana.groupby(\"年度\").sum()"
   ]
  },
  {
   "cell_type": "markdown",
   "metadata": {},
   "source": [
    "#### 總產量趨勢圖"
   ]
  },
  {
   "cell_type": "code",
   "execution_count": null,
   "metadata": {},
   "outputs": [],
   "source": [
    "x = np.arange(2011, 2020)\n",
    "y = df_banana.groupby(\"年度\").sum()"
   ]
  },
  {
   "cell_type": "code",
   "execution_count": null,
   "metadata": {},
   "outputs": [],
   "source": [
    "fig, ax1 = plt.subplots(figsize=(8,6))\n",
    "\n",
    "width = 0.2\n",
    "ax1.set_xticks(x)\n",
    "ax1.plot(x, y[\"產量_公噸\"], \"--\", marker=\"o\", color=\"black\")\n",
    "ax1.set_xlabel(\"Year\")\n",
    "ax1.set_ylabel(\"Production(ton)\", color=\"black\")\n",
    "ax1.tick_params(axis=\"y\", labelcolor=\"black\")\n",
    "\n",
    "ax2 = ax1.twinx()\n",
    "ax2.bar(x-width, y[\"種植面積_公頃\"], width=0.4, alpha=0.4, label=\"planted area\")\n",
    "ax2.bar(x+width, y[\"收穫面積_公頃\"], width=0.4, alpha=0.4, label=\"harvested area\")\n",
    "ax2.set_ylabel(\"Area(hectare)\", color=\"blue\")\n",
    "ax2.tick_params(axis=\"y\", labelcolor=\"blue\")\n",
    "\n",
    "fig.tight_layout()\n",
    "plt.legend()\n",
    "plt.show()"
   ]
  },
  {
   "cell_type": "code",
   "execution_count": null,
   "metadata": {},
   "outputs": [],
   "source": []
  },
  {
   "cell_type": "code",
   "execution_count": null,
   "metadata": {},
   "outputs": [],
   "source": []
  },
  {
   "cell_type": "code",
   "execution_count": null,
   "metadata": {},
   "outputs": [],
   "source": []
  },
  {
   "cell_type": "markdown",
   "metadata": {},
   "source": [
    "## 依照年度、果品類別、地區別進行groupby"
   ]
  },
  {
   "cell_type": "code",
   "execution_count": null,
   "metadata": {
    "ExecuteTime": {
     "end_time": "2021-05-25T04:37:42.533620Z",
     "start_time": "2021-05-25T04:37:42.506639Z"
    }
   },
   "outputs": [],
   "source": [
    "grouped_df = df.groupby([\"年度\", \"果品類別\", \"地區別\"]).sum()[['種植面積_公頃', '收穫面積_公頃', '產量_公噸']]"
   ]
  },
  {
   "cell_type": "code",
   "execution_count": null,
   "metadata": {
    "ExecuteTime": {
     "end_time": "2021-05-25T04:37:42.564387Z",
     "start_time": "2021-05-25T04:37:42.536583Z"
    }
   },
   "outputs": [],
   "source": [
    "grouped_df"
   ]
  },
  {
   "cell_type": "code",
   "execution_count": null,
   "metadata": {},
   "outputs": [],
   "source": []
  },
  {
   "cell_type": "markdown",
   "metadata": {},
   "source": [
    "### 取得2019年度全國香蕉生產資料"
   ]
  },
  {
   "cell_type": "code",
   "execution_count": null,
   "metadata": {
    "ExecuteTime": {
     "end_time": "2021-05-25T05:22:13.745142Z",
     "start_time": "2021-05-25T05:22:13.678992Z"
    }
   },
   "outputs": [],
   "source": [
    "merger_data = df.loc[(df[\"年度\"] == \"2019\") & (df[\"果品類別\"] == \"香蕉\")]"
   ]
  },
  {
   "cell_type": "code",
   "execution_count": null,
   "metadata": {
    "ExecuteTime": {
     "end_time": "2021-05-25T05:22:55.733087Z",
     "start_time": "2021-05-25T05:22:55.710613Z"
    }
   },
   "outputs": [],
   "source": [
    "df_2019banana = merger_data[[\"地區別\", \"果品類別\", \"產量_公噸\"]].sort_values(by=\"產量_公噸\", ascending=False)"
   ]
  },
  {
   "cell_type": "code",
   "execution_count": null,
   "metadata": {
    "ExecuteTime": {
     "end_time": "2021-05-25T05:23:04.164843Z",
     "start_time": "2021-05-25T05:23:04.151691Z"
    }
   },
   "outputs": [],
   "source": [
    "df_2019banana[\"地區別\"] = df_2019banana[\"地區別\"].str.replace(\"台\", \"臺\")"
   ]
  },
  {
   "cell_type": "code",
   "execution_count": null,
   "metadata": {
    "ExecuteTime": {
     "end_time": "2021-05-25T05:23:34.884243Z",
     "start_time": "2021-05-25T05:23:34.861102Z"
    }
   },
   "outputs": [],
   "source": [
    "df_2019banana.columns = [\"COUNTYNAME\",\"fruits\", \"production\"]"
   ]
  },
  {
   "cell_type": "code",
   "execution_count": null,
   "metadata": {
    "ExecuteTime": {
     "end_time": "2021-05-25T05:23:43.299789Z",
     "start_time": "2021-05-25T05:23:43.285255Z"
    }
   },
   "outputs": [],
   "source": [
    "df_2019banana.reset_index(drop=True, inplace=True)"
   ]
  },
  {
   "cell_type": "code",
   "execution_count": null,
   "metadata": {
    "ExecuteTime": {
     "end_time": "2021-05-25T05:23:51.772853Z",
     "start_time": "2021-05-25T05:23:51.757621Z"
    }
   },
   "outputs": [],
   "source": [
    "df_2019banana"
   ]
  },
  {
   "cell_type": "markdown",
   "metadata": {},
   "source": [
    "## 透過GeoPandas將上面的結果顯示於地圖"
   ]
  },
  {
   "cell_type": "markdown",
   "metadata": {},
   "source": [
    "### 從政府資料開放平台取得台灣縣市行政圖的邊界&經緯度\n",
    "\n",
    "[台灣縣市地圖](https://data.gov.tw/dataset/7441)"
   ]
  },
  {
   "cell_type": "code",
   "execution_count": null,
   "metadata": {
    "ExecuteTime": {
     "end_time": "2021-05-25T04:37:42.877459Z",
     "start_time": "2021-05-25T04:37:42.667385Z"
    }
   },
   "outputs": [],
   "source": [
    "city_shp = gpd.read_file(\"./mapdata202008310842/COUNTY_MOI_1090820.shp\", encoding=\"utf-8\")"
   ]
  },
  {
   "cell_type": "code",
   "execution_count": null,
   "metadata": {
    "ExecuteTime": {
     "end_time": "2021-05-25T04:37:44.594141Z",
     "start_time": "2021-05-25T04:37:42.878457Z"
    }
   },
   "outputs": [],
   "source": [
    "city_shp"
   ]
  },
  {
   "cell_type": "markdown",
   "metadata": {},
   "source": [
    "### 台灣地圖"
   ]
  },
  {
   "cell_type": "code",
   "execution_count": null,
   "metadata": {
    "ExecuteTime": {
     "end_time": "2021-05-25T04:37:44.970370Z",
     "start_time": "2021-05-25T04:37:44.595138Z"
    }
   },
   "outputs": [],
   "source": [
    "fig,ax = plt.subplots(figsize = (10, 10))\n",
    "city_shp.plot(ax=ax, color=\"grey\") #cmap=\"RdBu\")\n",
    "\n",
    "ax.set_xlim(117,123)\n",
    "ax.set_ylim(21,26)"
   ]
  },
  {
   "cell_type": "code",
   "execution_count": null,
   "metadata": {},
   "outputs": [],
   "source": []
  },
  {
   "cell_type": "markdown",
   "metadata": {},
   "source": [
    "### 將df_2019banana資料與city_shp進行merge"
   ]
  },
  {
   "cell_type": "code",
   "execution_count": null,
   "metadata": {
    "ExecuteTime": {
     "end_time": "2021-05-25T04:37:45.001634Z",
     "start_time": "2021-05-25T04:37:44.971331Z"
    }
   },
   "outputs": [],
   "source": [
    "whole_data = pd.merge(city_shp, df_2019banana, on=\"COUNTYNAME\", how=\"left\")"
   ]
  },
  {
   "cell_type": "code",
   "execution_count": null,
   "metadata": {
    "ExecuteTime": {
     "end_time": "2021-05-25T04:37:46.687168Z",
     "start_time": "2021-05-25T04:37:45.003627Z"
    },
    "scrolled": true
   },
   "outputs": [],
   "source": [
    "whole_data"
   ]
  },
  {
   "cell_type": "markdown",
   "metadata": {},
   "source": [
    "### Visualize the result on map"
   ]
  },
  {
   "cell_type": "code",
   "execution_count": null,
   "metadata": {
    "ExecuteTime": {
     "end_time": "2021-05-25T04:42:51.992884Z",
     "start_time": "2021-05-25T04:42:51.608148Z"
    }
   },
   "outputs": [],
   "source": [
    "fig,ax = plt.subplots(figsize = (10, 10))\n",
    "whole_data.plot(ax=ax, column=\"production\", cmap=\"YlGn\")\n",
    "\n",
    "ax.set_xlim(118,123)\n",
    "ax.set_ylim(21,26)\n",
    "ax.set_title(\"2019 Taiwan banana production overview\", size = 20)\n",
    "ax.set_facecolor(\"skyblue\")"
   ]
  },
  {
   "cell_type": "markdown",
   "metadata": {},
   "source": [
    "### 後續問題\n",
    "- 如何加上顏色條?\n",
    "- 排行榜?"
   ]
  }
 ],
 "metadata": {
  "kernelspec": {
   "display_name": "Python 3",
   "language": "python",
   "name": "python3"
  },
  "language_info": {
   "codemirror_mode": {
    "name": "ipython",
    "version": 3
   },
   "file_extension": ".py",
   "mimetype": "text/x-python",
   "name": "python",
   "nbconvert_exporter": "python",
   "pygments_lexer": "ipython3",
   "version": "3.8.5"
  },
  "toc": {
   "base_numbering": 1,
   "nav_menu": {},
   "number_sections": true,
   "sideBar": true,
   "skip_h1_title": false,
   "title_cell": "Table of Contents",
   "title_sidebar": "Contents",
   "toc_cell": false,
   "toc_position": {},
   "toc_section_display": true,
   "toc_window_display": true
  },
  "varInspector": {
   "cols": {
    "lenName": 16,
    "lenType": 16,
    "lenVar": 40
   },
   "kernels_config": {
    "python": {
     "delete_cmd_postfix": "",
     "delete_cmd_prefix": "del ",
     "library": "var_list.py",
     "varRefreshCmd": "print(var_dic_list())"
    },
    "r": {
     "delete_cmd_postfix": ") ",
     "delete_cmd_prefix": "rm(",
     "library": "var_list.r",
     "varRefreshCmd": "cat(var_dic_list()) "
    }
   },
   "types_to_exclude": [
    "module",
    "function",
    "builtin_function_or_method",
    "instance",
    "_Feature"
   ],
   "window_display": false
  }
 },
 "nbformat": 4,
 "nbformat_minor": 5
}
