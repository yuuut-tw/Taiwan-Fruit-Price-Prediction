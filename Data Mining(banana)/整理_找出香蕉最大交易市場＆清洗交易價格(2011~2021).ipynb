{
 "cells": [
  {
   "cell_type": "markdown",
   "metadata": {},
   "source": [
    "# 香蕉交易價格\n",
    "- 了解香蕉主要交易市場為哪幾個地方"
   ]
  },
  {
   "cell_type": "code",
   "execution_count": 1,
   "metadata": {},
   "outputs": [],
   "source": [
    "import pandas as pd\n",
    "import re"
   ]
  },
  {
   "cell_type": "code",
   "execution_count": 2,
   "metadata": {},
   "outputs": [
    {
     "data": {
      "text/html": [
       "<div>\n",
       "<style scoped>\n",
       "    .dataframe tbody tr th:only-of-type {\n",
       "        vertical-align: middle;\n",
       "    }\n",
       "\n",
       "    .dataframe tbody tr th {\n",
       "        vertical-align: top;\n",
       "    }\n",
       "\n",
       "    .dataframe thead th {\n",
       "        text-align: right;\n",
       "    }\n",
       "</style>\n",
       "<table border=\"1\" class=\"dataframe\">\n",
       "  <thead>\n",
       "    <tr style=\"text-align: right;\">\n",
       "      <th></th>\n",
       "      <th>日期</th>\n",
       "      <th>市場</th>\n",
       "      <th>產品</th>\n",
       "      <th>上價</th>\n",
       "      <th>中價</th>\n",
       "      <th>下價</th>\n",
       "      <th>平均價(元/公斤)</th>\n",
       "      <th>交易量(公斤)</th>\n",
       "    </tr>\n",
       "  </thead>\n",
       "  <tbody>\n",
       "    <tr>\n",
       "      <th>0</th>\n",
       "      <td>100/01/01</td>\n",
       "      <td>104 台北二</td>\n",
       "      <td>A1 香蕉</td>\n",
       "      <td>35.0</td>\n",
       "      <td>32.1</td>\n",
       "      <td>25.6</td>\n",
       "      <td>31.4</td>\n",
       "      <td>9645</td>\n",
       "    </tr>\n",
       "    <tr>\n",
       "      <th>1</th>\n",
       "      <td>100/01/02</td>\n",
       "      <td>104 台北二</td>\n",
       "      <td>A1 香蕉</td>\n",
       "      <td>35.1</td>\n",
       "      <td>33.1</td>\n",
       "      <td>25.8</td>\n",
       "      <td>32</td>\n",
       "      <td>12230</td>\n",
       "    </tr>\n",
       "    <tr>\n",
       "      <th>2</th>\n",
       "      <td>100/01/04</td>\n",
       "      <td>104 台北二</td>\n",
       "      <td>A1 香蕉</td>\n",
       "      <td>35.8</td>\n",
       "      <td>33.1</td>\n",
       "      <td>27.0</td>\n",
       "      <td>32.4</td>\n",
       "      <td>11976</td>\n",
       "    </tr>\n",
       "    <tr>\n",
       "      <th>3</th>\n",
       "      <td>100/01/05</td>\n",
       "      <td>104 台北二</td>\n",
       "      <td>A1 香蕉</td>\n",
       "      <td>36.5</td>\n",
       "      <td>33.9</td>\n",
       "      <td>27.8</td>\n",
       "      <td>33.2</td>\n",
       "      <td>7520</td>\n",
       "    </tr>\n",
       "    <tr>\n",
       "      <th>4</th>\n",
       "      <td>100/01/06</td>\n",
       "      <td>104 台北二</td>\n",
       "      <td>A1 香蕉</td>\n",
       "      <td>38.2</td>\n",
       "      <td>35.5</td>\n",
       "      <td>28.9</td>\n",
       "      <td>34.7</td>\n",
       "      <td>8160</td>\n",
       "    </tr>\n",
       "  </tbody>\n",
       "</table>\n",
       "</div>"
      ],
      "text/plain": [
       "          日期         市場       產品    上價    中價    下價 平均價(元/公斤) 交易量(公斤)\n",
       "0  100/01/01  104 台北二    A1 香蕉    35.0  32.1  25.6      31.4    9645\n",
       "1  100/01/02  104 台北二    A1 香蕉    35.1  33.1  25.8        32   12230\n",
       "2  100/01/04  104 台北二    A1 香蕉    35.8  33.1  27.0      32.4   11976\n",
       "3  100/01/05  104 台北二    A1 香蕉    36.5  33.9  27.8      33.2    7520\n",
       "4  100/01/06  104 台北二    A1 香蕉    38.2  35.5  28.9      34.7    8160"
      ]
     },
     "execution_count": 2,
     "metadata": {},
     "output_type": "execute_result"
    }
   ],
   "source": [
    "df_price = pd.read_csv(\"../data/farmproduct_banana_crawler.csv\",  encoding=\"utf8\", usecols=[0,1,2,3,4,5,6,8])\n",
    "df_price.head()"
   ]
  },
  {
   "cell_type": "markdown",
   "metadata": {},
   "source": [
    "### 資料基本情報"
   ]
  },
  {
   "cell_type": "code",
   "execution_count": 3,
   "metadata": {},
   "outputs": [
    {
     "data": {
      "text/plain": [
       "array(['104 台北二  ', '109 台北一  ', '220 板橋區', '241 三重區', '260 宜蘭市',\n",
       "       '338 桃\\u3000農', '400 台中市  ', '420 豐原區', '423 東勢區', '600 嘉義市',\n",
       "       '800 高雄市', '830 鳳山區', '930 台東市', 'A1 香蕉  '], dtype=object)"
      ]
     },
     "execution_count": 3,
     "metadata": {},
     "output_type": "execute_result"
    }
   ],
   "source": [
    "df_price[\"市場\"].unique()"
   ]
  },
  {
   "cell_type": "code",
   "execution_count": 4,
   "metadata": {},
   "outputs": [
    {
     "data": {
      "text/plain": [
       "日期            object\n",
       "市場            object\n",
       "產品            object\n",
       "上價           float64\n",
       "中價           float64\n",
       "下價           float64\n",
       "平均價(元/公斤)     object\n",
       "交易量(公斤)       object\n",
       "dtype: object"
      ]
     },
     "execution_count": 4,
     "metadata": {},
     "output_type": "execute_result"
    }
   ],
   "source": [
    "df_price.dtypes"
   ]
  },
  {
   "cell_type": "code",
   "execution_count": 5,
   "metadata": {},
   "outputs": [
    {
     "data": {
      "text/plain": [
       "Index(['日期', '市場', '產品', '上價', '中價', '下價', '平均價(元/公斤)', '交易量(公斤)'], dtype='object')"
      ]
     },
     "execution_count": 5,
     "metadata": {},
     "output_type": "execute_result"
    }
   ],
   "source": [
    "df_price.columns"
   ]
  },
  {
   "cell_type": "markdown",
   "metadata": {},
   "source": [
    "### 修正＆刪去不必要資料"
   ]
  },
  {
   "cell_type": "code",
   "execution_count": 6,
   "metadata": {},
   "outputs": [],
   "source": [
    "#df_price.drop(columns=[\"Unnamed: 0\"], inplace=True)\n",
    "df_price = df_price.loc[~(df_price[\"市場\"] == \"A1 香蕉  \")] # 髒資料 => 排除市場為香蕉的異常row"
   ]
  },
  {
   "cell_type": "code",
   "execution_count": 7,
   "metadata": {},
   "outputs": [],
   "source": [
    "# 欄位去除空白值\n",
    "target_cols = ['市場', '產品', '平均價(元/公斤)', '交易量(公斤)']\n",
    "df_price[target_cols] = df_price[target_cols].apply(lambda x: x.str.strip(\" \"))"
   ]
  },
  {
   "cell_type": "code",
   "execution_count": 8,
   "metadata": {},
   "outputs": [],
   "source": [
    "df_price.loc[(df_price[\"市場\"] == \"338 桃\\u3000農\"), \"市場\"] = \"338 桃農\""
   ]
  },
  {
   "cell_type": "markdown",
   "metadata": {},
   "source": [
    "### 轉換資料型態"
   ]
  },
  {
   "cell_type": "code",
   "execution_count": 9,
   "metadata": {},
   "outputs": [
    {
     "data": {
      "text/html": [
       "<div>\n",
       "<style scoped>\n",
       "    .dataframe tbody tr th:only-of-type {\n",
       "        vertical-align: middle;\n",
       "    }\n",
       "\n",
       "    .dataframe tbody tr th {\n",
       "        vertical-align: top;\n",
       "    }\n",
       "\n",
       "    .dataframe thead th {\n",
       "        text-align: right;\n",
       "    }\n",
       "</style>\n",
       "<table border=\"1\" class=\"dataframe\">\n",
       "  <thead>\n",
       "    <tr style=\"text-align: right;\">\n",
       "      <th></th>\n",
       "      <th>日期</th>\n",
       "      <th>市場</th>\n",
       "      <th>產品</th>\n",
       "      <th>上價</th>\n",
       "      <th>中價</th>\n",
       "      <th>下價</th>\n",
       "      <th>平均價(元/公斤)</th>\n",
       "      <th>交易量(公斤)</th>\n",
       "    </tr>\n",
       "  </thead>\n",
       "  <tbody>\n",
       "    <tr>\n",
       "      <th>0</th>\n",
       "      <td>100/01/01</td>\n",
       "      <td>104 台北二</td>\n",
       "      <td>A1 香蕉</td>\n",
       "      <td>35.0</td>\n",
       "      <td>32.1</td>\n",
       "      <td>25.6</td>\n",
       "      <td>31.4</td>\n",
       "      <td>9645</td>\n",
       "    </tr>\n",
       "    <tr>\n",
       "      <th>1</th>\n",
       "      <td>100/01/02</td>\n",
       "      <td>104 台北二</td>\n",
       "      <td>A1 香蕉</td>\n",
       "      <td>35.1</td>\n",
       "      <td>33.1</td>\n",
       "      <td>25.8</td>\n",
       "      <td>32</td>\n",
       "      <td>12230</td>\n",
       "    </tr>\n",
       "    <tr>\n",
       "      <th>2</th>\n",
       "      <td>100/01/04</td>\n",
       "      <td>104 台北二</td>\n",
       "      <td>A1 香蕉</td>\n",
       "      <td>35.8</td>\n",
       "      <td>33.1</td>\n",
       "      <td>27.0</td>\n",
       "      <td>32.4</td>\n",
       "      <td>11976</td>\n",
       "    </tr>\n",
       "    <tr>\n",
       "      <th>3</th>\n",
       "      <td>100/01/05</td>\n",
       "      <td>104 台北二</td>\n",
       "      <td>A1 香蕉</td>\n",
       "      <td>36.5</td>\n",
       "      <td>33.9</td>\n",
       "      <td>27.8</td>\n",
       "      <td>33.2</td>\n",
       "      <td>7520</td>\n",
       "    </tr>\n",
       "    <tr>\n",
       "      <th>4</th>\n",
       "      <td>100/01/06</td>\n",
       "      <td>104 台北二</td>\n",
       "      <td>A1 香蕉</td>\n",
       "      <td>38.2</td>\n",
       "      <td>35.5</td>\n",
       "      <td>28.9</td>\n",
       "      <td>34.7</td>\n",
       "      <td>8160</td>\n",
       "    </tr>\n",
       "    <tr>\n",
       "      <th>...</th>\n",
       "      <td>...</td>\n",
       "      <td>...</td>\n",
       "      <td>...</td>\n",
       "      <td>...</td>\n",
       "      <td>...</td>\n",
       "      <td>...</td>\n",
       "      <td>...</td>\n",
       "      <td>...</td>\n",
       "    </tr>\n",
       "    <tr>\n",
       "      <th>31689</th>\n",
       "      <td>110/06/08</td>\n",
       "      <td>930 台東市</td>\n",
       "      <td>A1 香蕉</td>\n",
       "      <td>28.0</td>\n",
       "      <td>18.3</td>\n",
       "      <td>12.0</td>\n",
       "      <td>20.7</td>\n",
       "      <td>3115</td>\n",
       "    </tr>\n",
       "    <tr>\n",
       "      <th>31690</th>\n",
       "      <td>110/06/09</td>\n",
       "      <td>930 台東市</td>\n",
       "      <td>A1 香蕉</td>\n",
       "      <td>28.0</td>\n",
       "      <td>18.3</td>\n",
       "      <td>12.0</td>\n",
       "      <td>21.2</td>\n",
       "      <td>2885</td>\n",
       "    </tr>\n",
       "    <tr>\n",
       "      <th>31691</th>\n",
       "      <td>110/06/10</td>\n",
       "      <td>930 台東市</td>\n",
       "      <td>A1 香蕉</td>\n",
       "      <td>24.0</td>\n",
       "      <td>16.8</td>\n",
       "      <td>11.0</td>\n",
       "      <td>18.7</td>\n",
       "      <td>3885</td>\n",
       "    </tr>\n",
       "    <tr>\n",
       "      <th>31692</th>\n",
       "      <td>110/06/11</td>\n",
       "      <td>930 台東市</td>\n",
       "      <td>A1 香蕉</td>\n",
       "      <td>26.0</td>\n",
       "      <td>18.3</td>\n",
       "      <td>13.0</td>\n",
       "      <td>20.7</td>\n",
       "      <td>4522</td>\n",
       "    </tr>\n",
       "    <tr>\n",
       "      <th>31693</th>\n",
       "      <td>110/06/12</td>\n",
       "      <td>930 台東市</td>\n",
       "      <td>A1 香蕉</td>\n",
       "      <td>32.0</td>\n",
       "      <td>21.5</td>\n",
       "      <td>15.0</td>\n",
       "      <td>22.8</td>\n",
       "      <td>3007</td>\n",
       "    </tr>\n",
       "  </tbody>\n",
       "</table>\n",
       "<p>31694 rows × 8 columns</p>\n",
       "</div>"
      ],
      "text/plain": [
       "              日期       市場     產品    上價    中價    下價 平均價(元/公斤) 交易量(公斤)\n",
       "0      100/01/01  104 台北二  A1 香蕉  35.0  32.1  25.6      31.4    9645\n",
       "1      100/01/02  104 台北二  A1 香蕉  35.1  33.1  25.8        32   12230\n",
       "2      100/01/04  104 台北二  A1 香蕉  35.8  33.1  27.0      32.4   11976\n",
       "3      100/01/05  104 台北二  A1 香蕉  36.5  33.9  27.8      33.2    7520\n",
       "4      100/01/06  104 台北二  A1 香蕉  38.2  35.5  28.9      34.7    8160\n",
       "...          ...      ...    ...   ...   ...   ...       ...     ...\n",
       "31689  110/06/08  930 台東市  A1 香蕉  28.0  18.3  12.0      20.7    3115\n",
       "31690  110/06/09  930 台東市  A1 香蕉  28.0  18.3  12.0      21.2    2885\n",
       "31691  110/06/10  930 台東市  A1 香蕉  24.0  16.8  11.0      18.7    3885\n",
       "31692  110/06/11  930 台東市  A1 香蕉  26.0  18.3  13.0      20.7    4522\n",
       "31693  110/06/12  930 台東市  A1 香蕉  32.0  21.5  15.0      22.8    3007\n",
       "\n",
       "[31694 rows x 8 columns]"
      ]
     },
     "execution_count": 9,
     "metadata": {},
     "output_type": "execute_result"
    }
   ],
   "source": [
    "df_price"
   ]
  },
  {
   "cell_type": "code",
   "execution_count": 10,
   "metadata": {},
   "outputs": [
    {
     "data": {
      "text/plain": [
       "日期            object\n",
       "市場            object\n",
       "產品            object\n",
       "上價           float64\n",
       "中價           float64\n",
       "下價           float64\n",
       "平均價(元/公斤)     object\n",
       "交易量(公斤)       object\n",
       "dtype: object"
      ]
     },
     "execution_count": 10,
     "metadata": {},
     "output_type": "execute_result"
    }
   ],
   "source": [
    "df_price.dtypes"
   ]
  },
  {
   "cell_type": "code",
   "execution_count": 11,
   "metadata": {},
   "outputs": [],
   "source": [
    "# 民國轉成西元\n",
    "df_price[\"日期\"] = df_price[\"日期\"].apply(lambda x: re.sub(\"\\d{3}\", \"{}\".format((int(x.split(\"/\")[0]) + 1911)), x))"
   ]
  },
  {
   "cell_type": "code",
   "execution_count": 13,
   "metadata": {},
   "outputs": [],
   "source": [
    "# object -> numeric\n",
    "target_cols = ['平均價(元/公斤)', '交易量(公斤)']\n",
    "df_price[target_cols] = df_price[target_cols].apply(pd.to_numeric)"
   ]
  },
  {
   "cell_type": "code",
   "execution_count": 14,
   "metadata": {},
   "outputs": [],
   "source": [
    "# object -> datetime\n",
    "df_price[\"日期\"] = df_price[\"日期\"].astype(\"datetime64\")"
   ]
  },
  {
   "cell_type": "code",
   "execution_count": 15,
   "metadata": {},
   "outputs": [
    {
     "data": {
      "text/plain": [
       "日期           datetime64[ns]\n",
       "市場                   object\n",
       "產品                   object\n",
       "上價                  float64\n",
       "中價                  float64\n",
       "下價                  float64\n",
       "平均價(元/公斤)           float64\n",
       "交易量(公斤)               int64\n",
       "dtype: object"
      ]
     },
     "execution_count": 15,
     "metadata": {},
     "output_type": "execute_result"
    }
   ],
   "source": [
    "df_price.dtypes"
   ]
  },
  {
   "cell_type": "code",
   "execution_count": 16,
   "metadata": {},
   "outputs": [],
   "source": [
    "# 清理完後放入，cleaned data區\n",
    "df_price.to_csv(\"cleaned data/價格_全國香蕉交易資料(初步清洗).csv\", index=False)"
   ]
  },
  {
   "cell_type": "code",
   "execution_count": null,
   "metadata": {},
   "outputs": [],
   "source": []
  },
  {
   "cell_type": "markdown",
   "metadata": {},
   "source": [
    "### 觀察哪個市場交易量最大，最具參考性 => 台中"
   ]
  },
  {
   "cell_type": "code",
   "execution_count": 17,
   "metadata": {},
   "outputs": [
    {
     "data": {
      "text/html": [
       "<div>\n",
       "<style scoped>\n",
       "    .dataframe tbody tr th:only-of-type {\n",
       "        vertical-align: middle;\n",
       "    }\n",
       "\n",
       "    .dataframe tbody tr th {\n",
       "        vertical-align: top;\n",
       "    }\n",
       "\n",
       "    .dataframe thead th {\n",
       "        text-align: right;\n",
       "    }\n",
       "</style>\n",
       "<table border=\"1\" class=\"dataframe\">\n",
       "  <thead>\n",
       "    <tr style=\"text-align: right;\">\n",
       "      <th></th>\n",
       "      <th>交易量(公斤)</th>\n",
       "    </tr>\n",
       "    <tr>\n",
       "      <th>市場</th>\n",
       "      <th></th>\n",
       "    </tr>\n",
       "  </thead>\n",
       "  <tbody>\n",
       "    <tr>\n",
       "      <th>400 台中市</th>\n",
       "      <td>98946562</td>\n",
       "    </tr>\n",
       "    <tr>\n",
       "      <th>109 台北一</th>\n",
       "      <td>64851863</td>\n",
       "    </tr>\n",
       "    <tr>\n",
       "      <th>241 三重區</th>\n",
       "      <td>58371868</td>\n",
       "    </tr>\n",
       "    <tr>\n",
       "      <th>104 台北二</th>\n",
       "      <td>41543316</td>\n",
       "    </tr>\n",
       "    <tr>\n",
       "      <th>830 鳳山區</th>\n",
       "      <td>27701450</td>\n",
       "    </tr>\n",
       "    <tr>\n",
       "      <th>420 豐原區</th>\n",
       "      <td>15670654</td>\n",
       "    </tr>\n",
       "    <tr>\n",
       "      <th>800 高雄市</th>\n",
       "      <td>11969933</td>\n",
       "    </tr>\n",
       "    <tr>\n",
       "      <th>220 板橋區</th>\n",
       "      <td>10649034</td>\n",
       "    </tr>\n",
       "    <tr>\n",
       "      <th>600 嘉義市</th>\n",
       "      <td>6568129</td>\n",
       "    </tr>\n",
       "    <tr>\n",
       "      <th>260 宜蘭市</th>\n",
       "      <td>4708040</td>\n",
       "    </tr>\n",
       "    <tr>\n",
       "      <th>930 台東市</th>\n",
       "      <td>2437560</td>\n",
       "    </tr>\n",
       "    <tr>\n",
       "      <th>338 桃農</th>\n",
       "      <td>153565</td>\n",
       "    </tr>\n",
       "    <tr>\n",
       "      <th>423 東勢區</th>\n",
       "      <td>39878</td>\n",
       "    </tr>\n",
       "  </tbody>\n",
       "</table>\n",
       "</div>"
      ],
      "text/plain": [
       "          交易量(公斤)\n",
       "市場               \n",
       "400 台中市  98946562\n",
       "109 台北一  64851863\n",
       "241 三重區  58371868\n",
       "104 台北二  41543316\n",
       "830 鳳山區  27701450\n",
       "420 豐原區  15670654\n",
       "800 高雄市  11969933\n",
       "220 板橋區  10649034\n",
       "600 嘉義市   6568129\n",
       "260 宜蘭市   4708040\n",
       "930 台東市   2437560\n",
       "338 桃農     153565\n",
       "423 東勢區     39878"
      ]
     },
     "execution_count": 17,
     "metadata": {},
     "output_type": "execute_result"
    }
   ],
   "source": [
    "# 粗淺地groupy各市場歷年交易量總和 => 發現台中市獨佔鰲頭\n",
    "df_price.groupby(\"市場\").agg({\"交易量(公斤)\":\"sum\"}).sort_values(\"交易量(公斤)\", ascending=False)"
   ]
  },
  {
   "cell_type": "code",
   "execution_count": 18,
   "metadata": {},
   "outputs": [
    {
     "data": {
      "text/html": [
       "<div>\n",
       "<style scoped>\n",
       "    .dataframe tbody tr th:only-of-type {\n",
       "        vertical-align: middle;\n",
       "    }\n",
       "\n",
       "    .dataframe tbody tr th {\n",
       "        vertical-align: top;\n",
       "    }\n",
       "\n",
       "    .dataframe thead th {\n",
       "        text-align: right;\n",
       "    }\n",
       "</style>\n",
       "<table border=\"1\" class=\"dataframe\">\n",
       "  <thead>\n",
       "    <tr style=\"text-align: right;\">\n",
       "      <th></th>\n",
       "      <th></th>\n",
       "      <th>交易量(公斤)</th>\n",
       "    </tr>\n",
       "    <tr>\n",
       "      <th>Year</th>\n",
       "      <th>市場</th>\n",
       "      <th></th>\n",
       "    </tr>\n",
       "  </thead>\n",
       "  <tbody>\n",
       "    <tr>\n",
       "      <th rowspan=\"5\" valign=\"top\">2011</th>\n",
       "      <th>104 台北二</th>\n",
       "      <td>3579867</td>\n",
       "    </tr>\n",
       "    <tr>\n",
       "      <th>109 台北一</th>\n",
       "      <td>6342297</td>\n",
       "    </tr>\n",
       "    <tr>\n",
       "      <th>241 三重區</th>\n",
       "      <td>5499918</td>\n",
       "    </tr>\n",
       "    <tr>\n",
       "      <th>400 台中市</th>\n",
       "      <td>10111923</td>\n",
       "    </tr>\n",
       "    <tr>\n",
       "      <th>423 東勢區</th>\n",
       "      <td>634</td>\n",
       "    </tr>\n",
       "    <tr>\n",
       "      <th>...</th>\n",
       "      <th>...</th>\n",
       "      <td>...</td>\n",
       "    </tr>\n",
       "    <tr>\n",
       "      <th rowspan=\"5\" valign=\"top\">2021</th>\n",
       "      <th>423 東勢區</th>\n",
       "      <td>810</td>\n",
       "    </tr>\n",
       "    <tr>\n",
       "      <th>600 嘉義市</th>\n",
       "      <td>482200</td>\n",
       "    </tr>\n",
       "    <tr>\n",
       "      <th>800 高雄市</th>\n",
       "      <td>549969</td>\n",
       "    </tr>\n",
       "    <tr>\n",
       "      <th>830 鳳山區</th>\n",
       "      <td>1869650</td>\n",
       "    </tr>\n",
       "    <tr>\n",
       "      <th>930 台東市</th>\n",
       "      <td>371634</td>\n",
       "    </tr>\n",
       "  </tbody>\n",
       "</table>\n",
       "<p>128 rows × 1 columns</p>\n",
       "</div>"
      ],
      "text/plain": [
       "               交易量(公斤)\n",
       "Year 市場               \n",
       "2011 104 台北二   3579867\n",
       "     109 台北一   6342297\n",
       "     241 三重區   5499918\n",
       "     400 台中市  10111923\n",
       "     423 東勢區       634\n",
       "...                ...\n",
       "2021 423 東勢區       810\n",
       "     600 嘉義市    482200\n",
       "     800 高雄市    549969\n",
       "     830 鳳山區   1869650\n",
       "     930 台東市    371634\n",
       "\n",
       "[128 rows x 1 columns]"
      ]
     },
     "execution_count": 18,
     "metadata": {},
     "output_type": "execute_result"
    }
   ],
   "source": [
    "# 進一步分析每年每個市場總量，由此可知，台中都是交易量最大的市場\n",
    "df_price[\"Year\"] = df_price[\"日期\"].dt.year                   # 創建一個Year欄位來當groupby鍵值\n",
    "df_price.groupby([\"Year\", \"市場\"]).agg({\"交易量(公斤)\":\"sum\"}) # to_csv -> 可轉成csv檔進一步了解"
   ]
  },
  {
   "cell_type": "code",
   "execution_count": 19,
   "metadata": {},
   "outputs": [
    {
     "data": {
      "text/html": [
       "<div>\n",
       "<style scoped>\n",
       "    .dataframe tbody tr th:only-of-type {\n",
       "        vertical-align: middle;\n",
       "    }\n",
       "\n",
       "    .dataframe tbody tr th {\n",
       "        vertical-align: top;\n",
       "    }\n",
       "\n",
       "    .dataframe thead th {\n",
       "        text-align: right;\n",
       "    }\n",
       "</style>\n",
       "<table border=\"1\" class=\"dataframe\">\n",
       "  <thead>\n",
       "    <tr style=\"text-align: right;\">\n",
       "      <th></th>\n",
       "      <th>交易量(公斤)</th>\n",
       "    </tr>\n",
       "    <tr>\n",
       "      <th>市場</th>\n",
       "      <th></th>\n",
       "    </tr>\n",
       "  </thead>\n",
       "  <tbody>\n",
       "    <tr>\n",
       "      <th>400 台中市</th>\n",
       "      <td>9019166</td>\n",
       "    </tr>\n",
       "    <tr>\n",
       "      <th>109 台北一</th>\n",
       "      <td>5690500</td>\n",
       "    </tr>\n",
       "    <tr>\n",
       "      <th>241 三重區</th>\n",
       "      <td>5621448</td>\n",
       "    </tr>\n",
       "    <tr>\n",
       "      <th>104 台北二</th>\n",
       "      <td>3343499</td>\n",
       "    </tr>\n",
       "    <tr>\n",
       "      <th>220 板橋區</th>\n",
       "      <td>2613040</td>\n",
       "    </tr>\n",
       "    <tr>\n",
       "      <th>420 豐原區</th>\n",
       "      <td>2442040</td>\n",
       "    </tr>\n",
       "    <tr>\n",
       "      <th>830 鳳山區</th>\n",
       "      <td>1547130</td>\n",
       "    </tr>\n",
       "    <tr>\n",
       "      <th>800 高雄市</th>\n",
       "      <td>1291457</td>\n",
       "    </tr>\n",
       "    <tr>\n",
       "      <th>600 嘉義市</th>\n",
       "      <td>1058800</td>\n",
       "    </tr>\n",
       "    <tr>\n",
       "      <th>260 宜蘭市</th>\n",
       "      <td>701700</td>\n",
       "    </tr>\n",
       "    <tr>\n",
       "      <th>930 台東市</th>\n",
       "      <td>562821</td>\n",
       "    </tr>\n",
       "    <tr>\n",
       "      <th>338 桃農</th>\n",
       "      <td>9782</td>\n",
       "    </tr>\n",
       "    <tr>\n",
       "      <th>423 東勢區</th>\n",
       "      <td>2291</td>\n",
       "    </tr>\n",
       "  </tbody>\n",
       "</table>\n",
       "</div>"
      ],
      "text/plain": [
       "         交易量(公斤)\n",
       "市場              \n",
       "400 台中市  9019166\n",
       "109 台北一  5690500\n",
       "241 三重區  5621448\n",
       "104 台北二  3343499\n",
       "220 板橋區  2613040\n",
       "420 豐原區  2442040\n",
       "830 鳳山區  1547130\n",
       "800 高雄市  1291457\n",
       "600 嘉義市  1058800\n",
       "260 宜蘭市   701700\n",
       "930 台東市   562821\n",
       "338 桃農      9782\n",
       "423 東勢區     2291"
      ]
     },
     "execution_count": 19,
     "metadata": {},
     "output_type": "execute_result"
    }
   ],
   "source": [
    "# 2020年\n",
    "df_2020 = df_price.loc[df_price[\"Year\"] == 2020]\n",
    "df_2020.groupby(\"市場\").agg({\"交易量(公斤)\":sum}).sort_values(by=\"交易量(公斤)\", ascending=False)"
   ]
  },
  {
   "cell_type": "code",
   "execution_count": 20,
   "metadata": {},
   "outputs": [
    {
     "data": {
      "text/plain": [
       "33903674"
      ]
     },
     "execution_count": 20,
     "metadata": {},
     "output_type": "execute_result"
    }
   ],
   "source": [
    "df_2020.sum()[\"交易量(公斤)\"]"
   ]
  },
  {
   "cell_type": "code",
   "execution_count": null,
   "metadata": {},
   "outputs": [],
   "source": []
  }
 ],
 "metadata": {
  "kernelspec": {
   "display_name": "Python 3",
   "language": "python",
   "name": "python3"
  },
  "language_info": {
   "codemirror_mode": {
    "name": "ipython",
    "version": 3
   },
   "file_extension": ".py",
   "mimetype": "text/x-python",
   "name": "python",
   "nbconvert_exporter": "python",
   "pygments_lexer": "ipython3",
   "version": "3.8.5"
  }
 },
 "nbformat": 4,
 "nbformat_minor": 4
}
