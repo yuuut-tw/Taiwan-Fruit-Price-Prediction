{
 "cells": [
  {
   "cell_type": "code",
   "execution_count": 3,
   "metadata": {
    "ExecuteTime": {
     "end_time": "2021-07-08T02:49:02.110546Z",
     "start_time": "2021-07-08T02:49:02.101569Z"
    }
   },
   "outputs": [],
   "source": [
    "#import geopandas as gpd\n",
    "import matplotlib.pyplot as plt\n",
    "import requests\n",
    "import pandas as pd\n",
    "import numpy as np\n",
    "import json\n",
    "import re\n",
    "pd.options.mode.chained_assignment = None  # default='warn'"
   ]
  },
  {
   "cell_type": "code",
   "execution_count": null,
   "metadata": {},
   "outputs": [],
   "source": []
  },
  {
   "cell_type": "code",
   "execution_count": 4,
   "metadata": {
    "ExecuteTime": {
     "end_time": "2021-07-08T02:49:02.171517Z",
     "start_time": "2021-07-08T02:49:02.112543Z"
    }
   },
   "outputs": [
    {
     "data": {
      "text/html": [
       "<div>\n",
       "<style scoped>\n",
       "    .dataframe tbody tr th:only-of-type {\n",
       "        vertical-align: middle;\n",
       "    }\n",
       "\n",
       "    .dataframe tbody tr th {\n",
       "        vertical-align: top;\n",
       "    }\n",
       "\n",
       "    .dataframe thead th {\n",
       "        text-align: right;\n",
       "    }\n",
       "</style>\n",
       "<table border=\"1\" class=\"dataframe\">\n",
       "  <thead>\n",
       "    <tr style=\"text-align: right;\">\n",
       "      <th></th>\n",
       "      <th>年度</th>\n",
       "      <th>地區別</th>\n",
       "      <th>果品類別</th>\n",
       "      <th>種植株數</th>\n",
       "      <th>收穫株數</th>\n",
       "      <th>種植面積_公頃</th>\n",
       "      <th>收穫面積_公頃</th>\n",
       "      <th>每株平均產量_公斤</th>\n",
       "      <th>每公頃平均產量_公斤</th>\n",
       "      <th>產量_公噸</th>\n",
       "    </tr>\n",
       "  </thead>\n",
       "  <tbody>\n",
       "    <tr>\n",
       "      <th>0</th>\n",
       "      <td>2019</td>\n",
       "      <td>新北市</td>\n",
       "      <td>香蕉</td>\n",
       "      <td>108619</td>\n",
       "      <td>102262</td>\n",
       "      <td>74.99</td>\n",
       "      <td>71.01</td>\n",
       "      <td>13.74</td>\n",
       "      <td>19793.48</td>\n",
       "      <td>1405.54</td>\n",
       "    </tr>\n",
       "    <tr>\n",
       "      <th>1</th>\n",
       "      <td>2019</td>\n",
       "      <td>台北市</td>\n",
       "      <td>香蕉</td>\n",
       "      <td>12830</td>\n",
       "      <td>12830</td>\n",
       "      <td>10.36</td>\n",
       "      <td>10.36</td>\n",
       "      <td>12.55</td>\n",
       "      <td>15543.15</td>\n",
       "      <td>161.03</td>\n",
       "    </tr>\n",
       "    <tr>\n",
       "      <th>2</th>\n",
       "      <td>2019</td>\n",
       "      <td>桃園市</td>\n",
       "      <td>香蕉</td>\n",
       "      <td>44420</td>\n",
       "      <td>43940</td>\n",
       "      <td>57.11</td>\n",
       "      <td>56.47</td>\n",
       "      <td>18.85</td>\n",
       "      <td>14666.65</td>\n",
       "      <td>828.23</td>\n",
       "    </tr>\n",
       "    <tr>\n",
       "      <th>3</th>\n",
       "      <td>2019</td>\n",
       "      <td>台中市</td>\n",
       "      <td>香蕉</td>\n",
       "      <td>574129</td>\n",
       "      <td>560455</td>\n",
       "      <td>629.71</td>\n",
       "      <td>614.39</td>\n",
       "      <td>15.54</td>\n",
       "      <td>14178.52</td>\n",
       "      <td>8711.14</td>\n",
       "    </tr>\n",
       "    <tr>\n",
       "      <th>4</th>\n",
       "      <td>2019</td>\n",
       "      <td>台南市</td>\n",
       "      <td>香蕉</td>\n",
       "      <td>1481610</td>\n",
       "      <td>1476420</td>\n",
       "      <td>1062.65</td>\n",
       "      <td>1057.46</td>\n",
       "      <td>16.26</td>\n",
       "      <td>22703.58</td>\n",
       "      <td>24008.13</td>\n",
       "    </tr>\n",
       "    <tr>\n",
       "      <th>...</th>\n",
       "      <td>...</td>\n",
       "      <td>...</td>\n",
       "      <td>...</td>\n",
       "      <td>...</td>\n",
       "      <td>...</td>\n",
       "      <td>...</td>\n",
       "      <td>...</td>\n",
       "      <td>...</td>\n",
       "      <td>...</td>\n",
       "      <td>...</td>\n",
       "    </tr>\n",
       "    <tr>\n",
       "      <th>193</th>\n",
       "      <td>2011</td>\n",
       "      <td>基隆市</td>\n",
       "      <td>香蕉</td>\n",
       "      <td>3786</td>\n",
       "      <td>3786</td>\n",
       "      <td>3.57</td>\n",
       "      <td>3.57</td>\n",
       "      <td>9.22</td>\n",
       "      <td>9782.07</td>\n",
       "      <td>34.92</td>\n",
       "    </tr>\n",
       "    <tr>\n",
       "      <th>194</th>\n",
       "      <td>2011</td>\n",
       "      <td>新竹市</td>\n",
       "      <td>香蕉</td>\n",
       "      <td>8802</td>\n",
       "      <td>8802</td>\n",
       "      <td>5.64</td>\n",
       "      <td>5.64</td>\n",
       "      <td>14.38</td>\n",
       "      <td>22448.58</td>\n",
       "      <td>126.61</td>\n",
       "    </tr>\n",
       "    <tr>\n",
       "      <th>195</th>\n",
       "      <td>2011</td>\n",
       "      <td>嘉義市</td>\n",
       "      <td>香蕉</td>\n",
       "      <td>79710</td>\n",
       "      <td>79710</td>\n",
       "      <td>53.14</td>\n",
       "      <td>53.14</td>\n",
       "      <td>12.05</td>\n",
       "      <td>18081.60</td>\n",
       "      <td>960.86</td>\n",
       "    </tr>\n",
       "    <tr>\n",
       "      <th>196</th>\n",
       "      <td>2011</td>\n",
       "      <td>金門縣</td>\n",
       "      <td>香蕉</td>\n",
       "      <td>0</td>\n",
       "      <td>0</td>\n",
       "      <td>0.00</td>\n",
       "      <td>0.00</td>\n",
       "      <td>0.00</td>\n",
       "      <td>0.00</td>\n",
       "      <td>0.00</td>\n",
       "    </tr>\n",
       "    <tr>\n",
       "      <th>197</th>\n",
       "      <td>2011</td>\n",
       "      <td>連江縣</td>\n",
       "      <td>香蕉</td>\n",
       "      <td>0</td>\n",
       "      <td>0</td>\n",
       "      <td>0.00</td>\n",
       "      <td>0.00</td>\n",
       "      <td>0.00</td>\n",
       "      <td>0.00</td>\n",
       "      <td>0.00</td>\n",
       "    </tr>\n",
       "  </tbody>\n",
       "</table>\n",
       "<p>198 rows × 10 columns</p>\n",
       "</div>"
      ],
      "text/plain": [
       "       年度  地區別 果品類別     種植株數     收穫株數  種植面積_公頃  收穫面積_公頃  每株平均產量_公斤  \\\n",
       "0    2019  新北市   香蕉   108619   102262    74.99    71.01      13.74   \n",
       "1    2019  台北市   香蕉    12830    12830    10.36    10.36      12.55   \n",
       "2    2019  桃園市   香蕉    44420    43940    57.11    56.47      18.85   \n",
       "3    2019  台中市   香蕉   574129   560455   629.71   614.39      15.54   \n",
       "4    2019  台南市   香蕉  1481610  1476420  1062.65  1057.46      16.26   \n",
       "..    ...  ...  ...      ...      ...      ...      ...        ...   \n",
       "193  2011  基隆市   香蕉     3786     3786     3.57     3.57       9.22   \n",
       "194  2011  新竹市   香蕉     8802     8802     5.64     5.64      14.38   \n",
       "195  2011  嘉義市   香蕉    79710    79710    53.14    53.14      12.05   \n",
       "196  2011  金門縣   香蕉        0        0     0.00     0.00       0.00   \n",
       "197  2011  連江縣   香蕉        0        0     0.00     0.00       0.00   \n",
       "\n",
       "     每公頃平均產量_公斤     產量_公噸  \n",
       "0      19793.48   1405.54  \n",
       "1      15543.15    161.03  \n",
       "2      14666.65    828.23  \n",
       "3      14178.52   8711.14  \n",
       "4      22703.58  24008.13  \n",
       "..          ...       ...  \n",
       "193     9782.07     34.92  \n",
       "194    22448.58    126.61  \n",
       "195    18081.60    960.86  \n",
       "196        0.00      0.00  \n",
       "197        0.00      0.00  \n",
       "\n",
       "[198 rows x 10 columns]"
      ]
     },
     "execution_count": 4,
     "metadata": {},
     "output_type": "execute_result"
    }
   ],
   "source": [
    "df = pd.read_csv(\"cleaned data/產量_臺灣香蕉生產概況(2011~2019).csv\")\n",
    "df"
   ]
  },
  {
   "cell_type": "markdown",
   "metadata": {},
   "source": [
    "### 選取欲使用欄位"
   ]
  },
  {
   "cell_type": "code",
   "execution_count": 5,
   "metadata": {
    "ExecuteTime": {
     "end_time": "2021-07-08T02:49:02.187481Z",
     "start_time": "2021-07-08T02:49:02.173512Z"
    }
   },
   "outputs": [],
   "source": [
    "cols = ['年度', '地區別', '果品類別', '種植面積_公頃', '收穫面積_公頃', '產量_公噸']\n",
    "df_test = df[cols]"
   ]
  },
  {
   "cell_type": "code",
   "execution_count": 6,
   "metadata": {
    "ExecuteTime": {
     "end_time": "2021-07-08T02:49:02.203491Z",
     "start_time": "2021-07-08T02:49:02.189477Z"
    }
   },
   "outputs": [
    {
     "data": {
      "text/plain": [
       "年度           int64\n",
       "地區別         object\n",
       "果品類別        object\n",
       "種植面積_公頃    float64\n",
       "收穫面積_公頃    float64\n",
       "產量_公噸      float64\n",
       "dtype: object"
      ]
     },
     "execution_count": 6,
     "metadata": {},
     "output_type": "execute_result"
    }
   ],
   "source": [
    "df_test.dtypes"
   ]
  },
  {
   "cell_type": "code",
   "execution_count": null,
   "metadata": {},
   "outputs": [],
   "source": []
  },
  {
   "cell_type": "code",
   "execution_count": null,
   "metadata": {},
   "outputs": [],
   "source": []
  },
  {
   "cell_type": "markdown",
   "metadata": {},
   "source": [
    "### 輔助圖表(2011~2019變化)"
   ]
  },
  {
   "cell_type": "markdown",
   "metadata": {},
   "source": [
    "#### 總產量趨勢圖"
   ]
  },
  {
   "cell_type": "code",
   "execution_count": 7,
   "metadata": {
    "ExecuteTime": {
     "end_time": "2021-07-08T02:49:02.233933Z",
     "start_time": "2021-07-08T02:49:02.205513Z"
    }
   },
   "outputs": [
    {
     "data": {
      "text/html": [
       "<div>\n",
       "<style scoped>\n",
       "    .dataframe tbody tr th:only-of-type {\n",
       "        vertical-align: middle;\n",
       "    }\n",
       "\n",
       "    .dataframe tbody tr th {\n",
       "        vertical-align: top;\n",
       "    }\n",
       "\n",
       "    .dataframe thead th {\n",
       "        text-align: right;\n",
       "    }\n",
       "</style>\n",
       "<table border=\"1\" class=\"dataframe\">\n",
       "  <thead>\n",
       "    <tr style=\"text-align: right;\">\n",
       "      <th></th>\n",
       "      <th>種植株數</th>\n",
       "      <th>收穫株數</th>\n",
       "      <th>種植面積_公頃</th>\n",
       "      <th>收穫面積_公頃</th>\n",
       "      <th>每株平均產量_公斤</th>\n",
       "      <th>每公頃平均產量_公斤</th>\n",
       "      <th>產量_公噸</th>\n",
       "    </tr>\n",
       "    <tr>\n",
       "      <th>年度</th>\n",
       "      <th></th>\n",
       "      <th></th>\n",
       "      <th></th>\n",
       "      <th></th>\n",
       "      <th></th>\n",
       "      <th></th>\n",
       "      <th></th>\n",
       "    </tr>\n",
       "  </thead>\n",
       "  <tbody>\n",
       "    <tr>\n",
       "      <th>2011</th>\n",
       "      <td>20971974</td>\n",
       "      <td>20103612</td>\n",
       "      <td>13788.32</td>\n",
       "      <td>13257.18</td>\n",
       "      <td>293.62</td>\n",
       "      <td>400678.97</td>\n",
       "      <td>305739.59</td>\n",
       "    </tr>\n",
       "    <tr>\n",
       "      <th>2012</th>\n",
       "      <td>20039523</td>\n",
       "      <td>19547136</td>\n",
       "      <td>13248.75</td>\n",
       "      <td>12947.23</td>\n",
       "      <td>291.23</td>\n",
       "      <td>403129.56</td>\n",
       "      <td>295264.57</td>\n",
       "    </tr>\n",
       "    <tr>\n",
       "      <th>2013</th>\n",
       "      <td>20195626</td>\n",
       "      <td>19699616</td>\n",
       "      <td>13343.58</td>\n",
       "      <td>13042.40</td>\n",
       "      <td>288.76</td>\n",
       "      <td>394175.80</td>\n",
       "      <td>291292.49</td>\n",
       "    </tr>\n",
       "    <tr>\n",
       "      <th>2014</th>\n",
       "      <td>21344675</td>\n",
       "      <td>20135253</td>\n",
       "      <td>13997.00</td>\n",
       "      <td>13290.00</td>\n",
       "      <td>285.00</td>\n",
       "      <td>390040.00</td>\n",
       "      <td>299899.00</td>\n",
       "    </tr>\n",
       "    <tr>\n",
       "      <th>2015</th>\n",
       "      <td>22264196</td>\n",
       "      <td>21397948</td>\n",
       "      <td>14605.44</td>\n",
       "      <td>14093.10</td>\n",
       "      <td>253.56</td>\n",
       "      <td>346563.41</td>\n",
       "      <td>274066.17</td>\n",
       "    </tr>\n",
       "    <tr>\n",
       "      <th>2016</th>\n",
       "      <td>24459685</td>\n",
       "      <td>23919663</td>\n",
       "      <td>16016.25</td>\n",
       "      <td>15697.01</td>\n",
       "      <td>233.32</td>\n",
       "      <td>317470.19</td>\n",
       "      <td>257558.68</td>\n",
       "    </tr>\n",
       "    <tr>\n",
       "      <th>2017</th>\n",
       "      <td>25802954</td>\n",
       "      <td>24104244</td>\n",
       "      <td>16841.64</td>\n",
       "      <td>15803.75</td>\n",
       "      <td>289.83</td>\n",
       "      <td>404807.01</td>\n",
       "      <td>356016.97</td>\n",
       "    </tr>\n",
       "    <tr>\n",
       "      <th>2018</th>\n",
       "      <td>25649008</td>\n",
       "      <td>23597696</td>\n",
       "      <td>16640.00</td>\n",
       "      <td>15447.00</td>\n",
       "      <td>311.00</td>\n",
       "      <td>437199.00</td>\n",
       "      <td>356238.00</td>\n",
       "    </tr>\n",
       "    <tr>\n",
       "      <th>2019</th>\n",
       "      <td>24994633</td>\n",
       "      <td>22625433</td>\n",
       "      <td>16341.72</td>\n",
       "      <td>14913.99</td>\n",
       "      <td>308.59</td>\n",
       "      <td>434114.19</td>\n",
       "      <td>342628.59</td>\n",
       "    </tr>\n",
       "  </tbody>\n",
       "</table>\n",
       "</div>"
      ],
      "text/plain": [
       "          種植株數      收穫株數   種植面積_公頃   收穫面積_公頃  每株平均產量_公斤  每公頃平均產量_公斤      產量_公噸\n",
       "年度                                                                            \n",
       "2011  20971974  20103612  13788.32  13257.18     293.62   400678.97  305739.59\n",
       "2012  20039523  19547136  13248.75  12947.23     291.23   403129.56  295264.57\n",
       "2013  20195626  19699616  13343.58  13042.40     288.76   394175.80  291292.49\n",
       "2014  21344675  20135253  13997.00  13290.00     285.00   390040.00  299899.00\n",
       "2015  22264196  21397948  14605.44  14093.10     253.56   346563.41  274066.17\n",
       "2016  24459685  23919663  16016.25  15697.01     233.32   317470.19  257558.68\n",
       "2017  25802954  24104244  16841.64  15803.75     289.83   404807.01  356016.97\n",
       "2018  25649008  23597696  16640.00  15447.00     311.00   437199.00  356238.00\n",
       "2019  24994633  22625433  16341.72  14913.99     308.59   434114.19  342628.59"
      ]
     },
     "execution_count": 7,
     "metadata": {},
     "output_type": "execute_result"
    }
   ],
   "source": [
    "df.groupby(\"年度\").sum()"
   ]
  },
  {
   "cell_type": "code",
   "execution_count": 8,
   "metadata": {
    "ExecuteTime": {
     "end_time": "2021-07-08T02:49:02.249943Z",
     "start_time": "2021-07-08T02:49:02.235930Z"
    }
   },
   "outputs": [],
   "source": [
    "x = np.arange(2011, 2020)\n",
    "y = df.groupby(\"年度\").sum()"
   ]
  },
  {
   "cell_type": "code",
   "execution_count": 9,
   "metadata": {
    "ExecuteTime": {
     "end_time": "2021-07-08T02:49:02.597533Z",
     "start_time": "2021-07-08T02:49:02.251923Z"
    }
   },
   "outputs": [
    {
     "data": {
      "image/png": "[encoded data removed]",
      "text/plain": [
       "<Figure size 576x432 with 2 Axes>"
      ]
     },
     "metadata": {
      "needs_background": "light"
     },
     "output_type": "display_data"
    }
   ],
   "source": [
    "fig, ax1 = plt.subplots(figsize=(8,6))\n",
    "\n",
    "width = 0.2\n",
    "ax1.set_xticks(x)\n",
    "ax1.plot(x, y[\"產量_公噸\"], \"--\", marker=\"o\", color=\"black\")\n",
    "ax1.set_xlabel(\"Year\")\n",
    "ax1.set_ylabel(\"Production(ton)\", color=\"black\")\n",
    "ax1.tick_params(axis=\"y\", labelcolor=\"black\")\n",
    "\n",
    "ax2 = ax1.twinx()\n",
    "ax2.bar(x-width, y[\"種植面積_公頃\"], width=0.4, alpha=0.4, label=\"planted area\")\n",
    "ax2.bar(x+width, y[\"收穫面積_公頃\"], width=0.4, alpha=0.4, label=\"harvested area\")\n",
    "ax2.set_ylabel(\"Area(hectare)\", color=\"blue\")\n",
    "ax2.tick_params(axis=\"y\", labelcolor=\"blue\")\n",
    "\n",
    "fig.tight_layout()\n",
    "plt.title(\"Banana Area & Proudction\")\n",
    "plt.legend()\n",
    "# plt.savefig(\"banana area & production.jpg\", bbox_inches=\"tight\")\n",
    "plt.show()\n"
   ]
  },
  {
   "cell_type": "code",
   "execution_count": null,
   "metadata": {},
   "outputs": [],
   "source": []
  },
  {
   "cell_type": "code",
   "execution_count": null,
   "metadata": {},
   "outputs": [],
   "source": []
  },
  {
   "cell_type": "code",
   "execution_count": null,
   "metadata": {},
   "outputs": [],
   "source": []
  },
  {
   "cell_type": "code",
   "execution_count": 10,
   "metadata": {
    "ExecuteTime": {
     "end_time": "2021-07-08T02:49:02.613491Z",
     "start_time": "2021-07-08T02:49:02.600500Z"
    }
   },
   "outputs": [
    {
     "data": {
      "text/plain": [
       "年度              int64\n",
       "地區別            object\n",
       "果品類別           object\n",
       "種植株數            int64\n",
       "收穫株數            int64\n",
       "種植面積_公頃       float64\n",
       "收穫面積_公頃       float64\n",
       "每株平均產量_公斤     float64\n",
       "每公頃平均產量_公斤    float64\n",
       "產量_公噸         float64\n",
       "dtype: object"
      ]
     },
     "execution_count": 10,
     "metadata": {},
     "output_type": "execute_result"
    }
   ],
   "source": [
    "df.dtypes"
   ]
  },
  {
   "cell_type": "markdown",
   "metadata": {},
   "source": [
    "### 取得2019年度全國香蕉生產資料"
   ]
  },
  {
   "cell_type": "code",
   "execution_count": 11,
   "metadata": {
    "ExecuteTime": {
     "end_time": "2021-07-08T02:49:02.660493Z",
     "start_time": "2021-07-08T02:49:02.615453Z"
    }
   },
   "outputs": [
    {
     "data": {
      "text/html": [
       "<div>\n",
       "<style scoped>\n",
       "    .dataframe tbody tr th:only-of-type {\n",
       "        vertical-align: middle;\n",
       "    }\n",
       "\n",
       "    .dataframe tbody tr th {\n",
       "        vertical-align: top;\n",
       "    }\n",
       "\n",
       "    .dataframe thead th {\n",
       "        text-align: right;\n",
       "    }\n",
       "</style>\n",
       "<table border=\"1\" class=\"dataframe\">\n",
       "  <thead>\n",
       "    <tr style=\"text-align: right;\">\n",
       "      <th></th>\n",
       "      <th>年度</th>\n",
       "      <th>地區別</th>\n",
       "      <th>果品類別</th>\n",
       "      <th>種植株數</th>\n",
       "      <th>收穫株數</th>\n",
       "      <th>種植面積_公頃</th>\n",
       "      <th>收穫面積_公頃</th>\n",
       "      <th>每株平均產量_公斤</th>\n",
       "      <th>每公頃平均產量_公斤</th>\n",
       "      <th>產量_公噸</th>\n",
       "    </tr>\n",
       "  </thead>\n",
       "  <tbody>\n",
       "    <tr>\n",
       "      <th>0</th>\n",
       "      <td>2019</td>\n",
       "      <td>新北市</td>\n",
       "      <td>香蕉</td>\n",
       "      <td>108619</td>\n",
       "      <td>102262</td>\n",
       "      <td>74.99</td>\n",
       "      <td>71.01</td>\n",
       "      <td>13.74</td>\n",
       "      <td>19793.48</td>\n",
       "      <td>1405.54</td>\n",
       "    </tr>\n",
       "    <tr>\n",
       "      <th>1</th>\n",
       "      <td>2019</td>\n",
       "      <td>台北市</td>\n",
       "      <td>香蕉</td>\n",
       "      <td>12830</td>\n",
       "      <td>12830</td>\n",
       "      <td>10.36</td>\n",
       "      <td>10.36</td>\n",
       "      <td>12.55</td>\n",
       "      <td>15543.15</td>\n",
       "      <td>161.03</td>\n",
       "    </tr>\n",
       "    <tr>\n",
       "      <th>2</th>\n",
       "      <td>2019</td>\n",
       "      <td>桃園市</td>\n",
       "      <td>香蕉</td>\n",
       "      <td>44420</td>\n",
       "      <td>43940</td>\n",
       "      <td>57.11</td>\n",
       "      <td>56.47</td>\n",
       "      <td>18.85</td>\n",
       "      <td>14666.65</td>\n",
       "      <td>828.23</td>\n",
       "    </tr>\n",
       "    <tr>\n",
       "      <th>3</th>\n",
       "      <td>2019</td>\n",
       "      <td>台中市</td>\n",
       "      <td>香蕉</td>\n",
       "      <td>574129</td>\n",
       "      <td>560455</td>\n",
       "      <td>629.71</td>\n",
       "      <td>614.39</td>\n",
       "      <td>15.54</td>\n",
       "      <td>14178.52</td>\n",
       "      <td>8711.14</td>\n",
       "    </tr>\n",
       "    <tr>\n",
       "      <th>4</th>\n",
       "      <td>2019</td>\n",
       "      <td>台南市</td>\n",
       "      <td>香蕉</td>\n",
       "      <td>1481610</td>\n",
       "      <td>1476420</td>\n",
       "      <td>1062.65</td>\n",
       "      <td>1057.46</td>\n",
       "      <td>16.26</td>\n",
       "      <td>22703.58</td>\n",
       "      <td>24008.13</td>\n",
       "    </tr>\n",
       "    <tr>\n",
       "      <th>5</th>\n",
       "      <td>2019</td>\n",
       "      <td>高雄市</td>\n",
       "      <td>香蕉</td>\n",
       "      <td>3874181</td>\n",
       "      <td>3806097</td>\n",
       "      <td>2155.98</td>\n",
       "      <td>2117.37</td>\n",
       "      <td>13.76</td>\n",
       "      <td>24739.26</td>\n",
       "      <td>52382.17</td>\n",
       "    </tr>\n",
       "    <tr>\n",
       "      <th>6</th>\n",
       "      <td>2019</td>\n",
       "      <td>宜蘭縣</td>\n",
       "      <td>香蕉</td>\n",
       "      <td>170454</td>\n",
       "      <td>168384</td>\n",
       "      <td>114.10</td>\n",
       "      <td>112.72</td>\n",
       "      <td>18.05</td>\n",
       "      <td>26956.74</td>\n",
       "      <td>3038.56</td>\n",
       "    </tr>\n",
       "    <tr>\n",
       "      <th>7</th>\n",
       "      <td>2019</td>\n",
       "      <td>新竹縣</td>\n",
       "      <td>香蕉</td>\n",
       "      <td>154451</td>\n",
       "      <td>153659</td>\n",
       "      <td>107.42</td>\n",
       "      <td>106.89</td>\n",
       "      <td>12.28</td>\n",
       "      <td>17655.75</td>\n",
       "      <td>1887.22</td>\n",
       "    </tr>\n",
       "    <tr>\n",
       "      <th>8</th>\n",
       "      <td>2019</td>\n",
       "      <td>苗栗縣</td>\n",
       "      <td>香蕉</td>\n",
       "      <td>151576</td>\n",
       "      <td>151576</td>\n",
       "      <td>115.54</td>\n",
       "      <td>115.54</td>\n",
       "      <td>19.05</td>\n",
       "      <td>24988.74</td>\n",
       "      <td>2887.20</td>\n",
       "    </tr>\n",
       "    <tr>\n",
       "      <th>9</th>\n",
       "      <td>2019</td>\n",
       "      <td>彰化縣</td>\n",
       "      <td>香蕉</td>\n",
       "      <td>197594</td>\n",
       "      <td>194955</td>\n",
       "      <td>132.91</td>\n",
       "      <td>131.20</td>\n",
       "      <td>16.22</td>\n",
       "      <td>24100.68</td>\n",
       "      <td>3162.01</td>\n",
       "    </tr>\n",
       "    <tr>\n",
       "      <th>10</th>\n",
       "      <td>2019</td>\n",
       "      <td>南投縣</td>\n",
       "      <td>香蕉</td>\n",
       "      <td>3817700</td>\n",
       "      <td>3803870</td>\n",
       "      <td>3118.81</td>\n",
       "      <td>3108.11</td>\n",
       "      <td>15.67</td>\n",
       "      <td>19174.86</td>\n",
       "      <td>59597.58</td>\n",
       "    </tr>\n",
       "    <tr>\n",
       "      <th>11</th>\n",
       "      <td>2019</td>\n",
       "      <td>雲林縣</td>\n",
       "      <td>香蕉</td>\n",
       "      <td>1218031</td>\n",
       "      <td>1103495</td>\n",
       "      <td>674.57</td>\n",
       "      <td>613.61</td>\n",
       "      <td>16.51</td>\n",
       "      <td>29696.71</td>\n",
       "      <td>18222.20</td>\n",
       "    </tr>\n",
       "    <tr>\n",
       "      <th>12</th>\n",
       "      <td>2019</td>\n",
       "      <td>嘉義縣</td>\n",
       "      <td>香蕉</td>\n",
       "      <td>4160750</td>\n",
       "      <td>4082037</td>\n",
       "      <td>2658.58</td>\n",
       "      <td>2608.03</td>\n",
       "      <td>14.65</td>\n",
       "      <td>22923.44</td>\n",
       "      <td>59785.02</td>\n",
       "    </tr>\n",
       "    <tr>\n",
       "      <th>13</th>\n",
       "      <td>2019</td>\n",
       "      <td>屏東縣</td>\n",
       "      <td>香蕉</td>\n",
       "      <td>7059538</td>\n",
       "      <td>5510250</td>\n",
       "      <td>4124.81</td>\n",
       "      <td>3219.63</td>\n",
       "      <td>15.65</td>\n",
       "      <td>26783.11</td>\n",
       "      <td>86231.69</td>\n",
       "    </tr>\n",
       "    <tr>\n",
       "      <th>14</th>\n",
       "      <td>2019</td>\n",
       "      <td>台東縣</td>\n",
       "      <td>香蕉</td>\n",
       "      <td>826426</td>\n",
       "      <td>796771</td>\n",
       "      <td>559.82</td>\n",
       "      <td>539.79</td>\n",
       "      <td>14.45</td>\n",
       "      <td>21323.32</td>\n",
       "      <td>11510.12</td>\n",
       "    </tr>\n",
       "    <tr>\n",
       "      <th>15</th>\n",
       "      <td>2019</td>\n",
       "      <td>花蓮縣</td>\n",
       "      <td>香蕉</td>\n",
       "      <td>1049888</td>\n",
       "      <td>567244</td>\n",
       "      <td>681.87</td>\n",
       "      <td>369.72</td>\n",
       "      <td>13.20</td>\n",
       "      <td>20251.62</td>\n",
       "      <td>7487.43</td>\n",
       "    </tr>\n",
       "    <tr>\n",
       "      <th>16</th>\n",
       "      <td>2019</td>\n",
       "      <td>澎湖縣</td>\n",
       "      <td>香蕉</td>\n",
       "      <td>2571</td>\n",
       "      <td>2571</td>\n",
       "      <td>2.60</td>\n",
       "      <td>2.60</td>\n",
       "      <td>16.47</td>\n",
       "      <td>16286.92</td>\n",
       "      <td>42.35</td>\n",
       "    </tr>\n",
       "    <tr>\n",
       "      <th>17</th>\n",
       "      <td>2019</td>\n",
       "      <td>基隆市</td>\n",
       "      <td>香蕉</td>\n",
       "      <td>5228</td>\n",
       "      <td>5228</td>\n",
       "      <td>3.98</td>\n",
       "      <td>3.98</td>\n",
       "      <td>9.57</td>\n",
       "      <td>12575.63</td>\n",
       "      <td>50.05</td>\n",
       "    </tr>\n",
       "    <tr>\n",
       "      <th>18</th>\n",
       "      <td>2019</td>\n",
       "      <td>新竹市</td>\n",
       "      <td>香蕉</td>\n",
       "      <td>9597</td>\n",
       "      <td>8349</td>\n",
       "      <td>6.15</td>\n",
       "      <td>5.35</td>\n",
       "      <td>10.91</td>\n",
       "      <td>17021.50</td>\n",
       "      <td>91.06</td>\n",
       "    </tr>\n",
       "    <tr>\n",
       "      <th>19</th>\n",
       "      <td>2019</td>\n",
       "      <td>嘉義市</td>\n",
       "      <td>香蕉</td>\n",
       "      <td>73440</td>\n",
       "      <td>73440</td>\n",
       "      <td>48.96</td>\n",
       "      <td>48.96</td>\n",
       "      <td>15.31</td>\n",
       "      <td>22958.03</td>\n",
       "      <td>1124.03</td>\n",
       "    </tr>\n",
       "    <tr>\n",
       "      <th>20</th>\n",
       "      <td>2019</td>\n",
       "      <td>金門縣</td>\n",
       "      <td>香蕉</td>\n",
       "      <td>1600</td>\n",
       "      <td>1600</td>\n",
       "      <td>0.80</td>\n",
       "      <td>0.80</td>\n",
       "      <td>9.90</td>\n",
       "      <td>19792.50</td>\n",
       "      <td>15.83</td>\n",
       "    </tr>\n",
       "    <tr>\n",
       "      <th>21</th>\n",
       "      <td>2019</td>\n",
       "      <td>連江縣</td>\n",
       "      <td>香蕉</td>\n",
       "      <td>0</td>\n",
       "      <td>0</td>\n",
       "      <td>0.00</td>\n",
       "      <td>0.00</td>\n",
       "      <td>0.00</td>\n",
       "      <td>0.00</td>\n",
       "      <td>0.00</td>\n",
       "    </tr>\n",
       "  </tbody>\n",
       "</table>\n",
       "</div>"
      ],
      "text/plain": [
       "      年度  地區別 果品類別     種植株數     收穫株數  種植面積_公頃  收穫面積_公頃  每株平均產量_公斤  每公頃平均產量_公斤  \\\n",
       "0   2019  新北市   香蕉   108619   102262    74.99    71.01      13.74    19793.48   \n",
       "1   2019  台北市   香蕉    12830    12830    10.36    10.36      12.55    15543.15   \n",
       "2   2019  桃園市   香蕉    44420    43940    57.11    56.47      18.85    14666.65   \n",
       "3   2019  台中市   香蕉   574129   560455   629.71   614.39      15.54    14178.52   \n",
       "4   2019  台南市   香蕉  1481610  1476420  1062.65  1057.46      16.26    22703.58   \n",
       "5   2019  高雄市   香蕉  3874181  3806097  2155.98  2117.37      13.76    24739.26   \n",
       "6   2019  宜蘭縣   香蕉   170454   168384   114.10   112.72      18.05    26956.74   \n",
       "7   2019  新竹縣   香蕉   154451   153659   107.42   106.89      12.28    17655.75   \n",
       "8   2019  苗栗縣   香蕉   151576   151576   115.54   115.54      19.05    24988.74   \n",
       "9   2019  彰化縣   香蕉   197594   194955   132.91   131.20      16.22    24100.68   \n",
       "10  2019  南投縣   香蕉  3817700  3803870  3118.81  3108.11      15.67    19174.86   \n",
       "11  2019  雲林縣   香蕉  1218031  1103495   674.57   613.61      16.51    29696.71   \n",
       "12  2019  嘉義縣   香蕉  4160750  4082037  2658.58  2608.03      14.65    22923.44   \n",
       "13  2019  屏東縣   香蕉  7059538  5510250  4124.81  3219.63      15.65    26783.11   \n",
       "14  2019  台東縣   香蕉   826426   796771   559.82   539.79      14.45    21323.32   \n",
       "15  2019  花蓮縣   香蕉  1049888   567244   681.87   369.72      13.20    20251.62   \n",
       "16  2019  澎湖縣   香蕉     2571     2571     2.60     2.60      16.47    16286.92   \n",
       "17  2019  基隆市   香蕉     5228     5228     3.98     3.98       9.57    12575.63   \n",
       "18  2019  新竹市   香蕉     9597     8349     6.15     5.35      10.91    17021.50   \n",
       "19  2019  嘉義市   香蕉    73440    73440    48.96    48.96      15.31    22958.03   \n",
       "20  2019  金門縣   香蕉     1600     1600     0.80     0.80       9.90    19792.50   \n",
       "21  2019  連江縣   香蕉        0        0     0.00     0.00       0.00        0.00   \n",
       "\n",
       "       產量_公噸  \n",
       "0    1405.54  \n",
       "1     161.03  \n",
       "2     828.23  \n",
       "3    8711.14  \n",
       "4   24008.13  \n",
       "5   52382.17  \n",
       "6    3038.56  \n",
       "7    1887.22  \n",
       "8    2887.20  \n",
       "9    3162.01  \n",
       "10  59597.58  \n",
       "11  18222.20  \n",
       "12  59785.02  \n",
       "13  86231.69  \n",
       "14  11510.12  \n",
       "15   7487.43  \n",
       "16     42.35  \n",
       "17     50.05  \n",
       "18     91.06  \n",
       "19   1124.03  \n",
       "20     15.83  \n",
       "21      0.00  "
      ]
     },
     "execution_count": 11,
     "metadata": {},
     "output_type": "execute_result"
    }
   ],
   "source": [
    "data = df.loc[(df[\"年度\"] == 2019)]\n",
    "data"
   ]
  },
  {
   "cell_type": "code",
   "execution_count": 12,
   "metadata": {
    "ExecuteTime": {
     "end_time": "2021-07-08T02:49:02.675679Z",
     "start_time": "2021-07-08T02:49:02.662633Z"
    }
   },
   "outputs": [],
   "source": [
    "df_2019 = data[[\"地區別\", \"果品類別\", \"產量_公噸\"]].sort_values(by=\"產量_公噸\", ascending=False)"
   ]
  },
  {
   "cell_type": "code",
   "execution_count": 13,
   "metadata": {
    "ExecuteTime": {
     "end_time": "2021-07-08T02:49:02.691508Z",
     "start_time": "2021-07-08T02:49:02.678641Z"
    }
   },
   "outputs": [],
   "source": [
    "df_2019[\"地區別\"] = df_2019[\"地區別\"].str.replace(\"台\", \"臺\")"
   ]
  },
  {
   "cell_type": "code",
   "execution_count": 14,
   "metadata": {
    "ExecuteTime": {
     "end_time": "2021-07-08T02:49:02.707495Z",
     "start_time": "2021-07-08T02:49:02.693505Z"
    }
   },
   "outputs": [],
   "source": [
    "df_2019.columns = [\"COUNTYNAME\",\"fruits\", \"production\"]"
   ]
  },
  {
   "cell_type": "code",
   "execution_count": 15,
   "metadata": {
    "ExecuteTime": {
     "end_time": "2021-07-08T02:49:02.722668Z",
     "start_time": "2021-07-08T02:49:02.710458Z"
    }
   },
   "outputs": [],
   "source": [
    "df_2019.reset_index(drop=True, inplace=True)"
   ]
  },
  {
   "cell_type": "code",
   "execution_count": 33,
   "metadata": {
    "ExecuteTime": {
     "end_time": "2021-07-08T03:28:29.043325Z",
     "start_time": "2021-07-08T03:28:28.815311Z"
    }
   },
   "outputs": [
    {
     "data": {
      "text/plain": [
       "<AxesSubplot:xlabel='COUNTYNAME'>"
      ]
     },
     "execution_count": 33,
     "metadata": {},
     "output_type": "execute_result"
    },
    {
     "name": "stderr",
     "output_type": "stream",
     "text": [
      "c:\\users\\tibame\\pycharmprojects\\pythonetl\\venv\\lib\\site-packages\\matplotlib\\backends\\backend_agg.py:240: RuntimeWarning: Glyph 23631 missing from current font.\n",
      "  font.set_text(s, 0.0, flags=flags)\n",
      "c:\\users\\tibame\\pycharmprojects\\pythonetl\\venv\\lib\\site-packages\\matplotlib\\backends\\backend_agg.py:240: RuntimeWarning: Glyph 26481 missing from current font.\n",
      "  font.set_text(s, 0.0, flags=flags)\n",
      "c:\\users\\tibame\\pycharmprojects\\pythonetl\\venv\\lib\\site-packages\\matplotlib\\backends\\backend_agg.py:240: RuntimeWarning: Glyph 32291 missing from current font.\n",
      "  font.set_text(s, 0.0, flags=flags)\n",
      "c:\\users\\tibame\\pycharmprojects\\pythonetl\\venv\\lib\\site-packages\\matplotlib\\backends\\backend_agg.py:240: RuntimeWarning: Glyph 22025 missing from current font.\n",
      "  font.set_text(s, 0.0, flags=flags)\n",
      "c:\\users\\tibame\\pycharmprojects\\pythonetl\\venv\\lib\\site-packages\\matplotlib\\backends\\backend_agg.py:240: RuntimeWarning: Glyph 32681 missing from current font.\n",
      "  font.set_text(s, 0.0, flags=flags)\n",
      "c:\\users\\tibame\\pycharmprojects\\pythonetl\\venv\\lib\\site-packages\\matplotlib\\backends\\backend_agg.py:240: RuntimeWarning: Glyph 21335 missing from current font.\n",
      "  font.set_text(s, 0.0, flags=flags)\n",
      "c:\\users\\tibame\\pycharmprojects\\pythonetl\\venv\\lib\\site-packages\\matplotlib\\backends\\backend_agg.py:240: RuntimeWarning: Glyph 25237 missing from current font.\n",
      "  font.set_text(s, 0.0, flags=flags)\n",
      "c:\\users\\tibame\\pycharmprojects\\pythonetl\\venv\\lib\\site-packages\\matplotlib\\backends\\backend_agg.py:240: RuntimeWarning: Glyph 39640 missing from current font.\n",
      "  font.set_text(s, 0.0, flags=flags)\n",
      "c:\\users\\tibame\\pycharmprojects\\pythonetl\\venv\\lib\\site-packages\\matplotlib\\backends\\backend_agg.py:240: RuntimeWarning: Glyph 38596 missing from current font.\n",
      "  font.set_text(s, 0.0, flags=flags)\n",
      "c:\\users\\tibame\\pycharmprojects\\pythonetl\\venv\\lib\\site-packages\\matplotlib\\backends\\backend_agg.py:240: RuntimeWarning: Glyph 24066 missing from current font.\n",
      "  font.set_text(s, 0.0, flags=flags)\n",
      "c:\\users\\tibame\\pycharmprojects\\pythonetl\\venv\\lib\\site-packages\\matplotlib\\backends\\backend_agg.py:240: RuntimeWarning: Glyph 33274 missing from current font.\n",
      "  font.set_text(s, 0.0, flags=flags)\n",
      "c:\\users\\tibame\\pycharmprojects\\pythonetl\\venv\\lib\\site-packages\\matplotlib\\backends\\backend_agg.py:240: RuntimeWarning: Glyph 38642 missing from current font.\n",
      "  font.set_text(s, 0.0, flags=flags)\n",
      "c:\\users\\tibame\\pycharmprojects\\pythonetl\\venv\\lib\\site-packages\\matplotlib\\backends\\backend_agg.py:240: RuntimeWarning: Glyph 26519 missing from current font.\n",
      "  font.set_text(s, 0.0, flags=flags)\n",
      "c:\\users\\tibame\\pycharmprojects\\pythonetl\\venv\\lib\\site-packages\\matplotlib\\backends\\backend_agg.py:240: RuntimeWarning: Glyph 20013 missing from current font.\n",
      "  font.set_text(s, 0.0, flags=flags)\n",
      "c:\\users\\tibame\\pycharmprojects\\pythonetl\\venv\\lib\\site-packages\\matplotlib\\backends\\backend_agg.py:240: RuntimeWarning: Glyph 33457 missing from current font.\n",
      "  font.set_text(s, 0.0, flags=flags)\n",
      "c:\\users\\tibame\\pycharmprojects\\pythonetl\\venv\\lib\\site-packages\\matplotlib\\backends\\backend_agg.py:240: RuntimeWarning: Glyph 34030 missing from current font.\n",
      "  font.set_text(s, 0.0, flags=flags)\n",
      "c:\\users\\tibame\\pycharmprojects\\pythonetl\\venv\\lib\\site-packages\\matplotlib\\backends\\backend_agg.py:240: RuntimeWarning: Glyph 24432 missing from current font.\n",
      "  font.set_text(s, 0.0, flags=flags)\n",
      "c:\\users\\tibame\\pycharmprojects\\pythonetl\\venv\\lib\\site-packages\\matplotlib\\backends\\backend_agg.py:240: RuntimeWarning: Glyph 21270 missing from current font.\n",
      "  font.set_text(s, 0.0, flags=flags)\n",
      "c:\\users\\tibame\\pycharmprojects\\pythonetl\\venv\\lib\\site-packages\\matplotlib\\backends\\backend_agg.py:240: RuntimeWarning: Glyph 23452 missing from current font.\n",
      "  font.set_text(s, 0.0, flags=flags)\n",
      "c:\\users\\tibame\\pycharmprojects\\pythonetl\\venv\\lib\\site-packages\\matplotlib\\backends\\backend_agg.py:240: RuntimeWarning: Glyph 34349 missing from current font.\n",
      "  font.set_text(s, 0.0, flags=flags)\n",
      "c:\\users\\tibame\\pycharmprojects\\pythonetl\\venv\\lib\\site-packages\\matplotlib\\backends\\backend_agg.py:240: RuntimeWarning: Glyph 33495 missing from current font.\n",
      "  font.set_text(s, 0.0, flags=flags)\n",
      "c:\\users\\tibame\\pycharmprojects\\pythonetl\\venv\\lib\\site-packages\\matplotlib\\backends\\backend_agg.py:240: RuntimeWarning: Glyph 26647 missing from current font.\n",
      "  font.set_text(s, 0.0, flags=flags)\n",
      "c:\\users\\tibame\\pycharmprojects\\pythonetl\\venv\\lib\\site-packages\\matplotlib\\backends\\backend_agg.py:240: RuntimeWarning: Glyph 26032 missing from current font.\n",
      "  font.set_text(s, 0.0, flags=flags)\n",
      "c:\\users\\tibame\\pycharmprojects\\pythonetl\\venv\\lib\\site-packages\\matplotlib\\backends\\backend_agg.py:240: RuntimeWarning: Glyph 31481 missing from current font.\n",
      "  font.set_text(s, 0.0, flags=flags)\n",
      "c:\\users\\tibame\\pycharmprojects\\pythonetl\\venv\\lib\\site-packages\\matplotlib\\backends\\backend_agg.py:240: RuntimeWarning: Glyph 21271 missing from current font.\n",
      "  font.set_text(s, 0.0, flags=flags)\n",
      "c:\\users\\tibame\\pycharmprojects\\pythonetl\\venv\\lib\\site-packages\\matplotlib\\backends\\backend_agg.py:240: RuntimeWarning: Glyph 26691 missing from current font.\n",
      "  font.set_text(s, 0.0, flags=flags)\n",
      "c:\\users\\tibame\\pycharmprojects\\pythonetl\\venv\\lib\\site-packages\\matplotlib\\backends\\backend_agg.py:240: RuntimeWarning: Glyph 22290 missing from current font.\n",
      "  font.set_text(s, 0.0, flags=flags)\n",
      "c:\\users\\tibame\\pycharmprojects\\pythonetl\\venv\\lib\\site-packages\\matplotlib\\backends\\backend_agg.py:240: RuntimeWarning: Glyph 22522 missing from current font.\n",
      "  font.set_text(s, 0.0, flags=flags)\n",
      "c:\\users\\tibame\\pycharmprojects\\pythonetl\\venv\\lib\\site-packages\\matplotlib\\backends\\backend_agg.py:240: RuntimeWarning: Glyph 38534 missing from current font.\n",
      "  font.set_text(s, 0.0, flags=flags)\n",
      "c:\\users\\tibame\\pycharmprojects\\pythonetl\\venv\\lib\\site-packages\\matplotlib\\backends\\backend_agg.py:240: RuntimeWarning: Glyph 28558 missing from current font.\n",
      "  font.set_text(s, 0.0, flags=flags)\n",
      "c:\\users\\tibame\\pycharmprojects\\pythonetl\\venv\\lib\\site-packages\\matplotlib\\backends\\backend_agg.py:240: RuntimeWarning: Glyph 28246 missing from current font.\n",
      "  font.set_text(s, 0.0, flags=flags)\n",
      "c:\\users\\tibame\\pycharmprojects\\pythonetl\\venv\\lib\\site-packages\\matplotlib\\backends\\backend_agg.py:240: RuntimeWarning: Glyph 37329 missing from current font.\n",
      "  font.set_text(s, 0.0, flags=flags)\n",
      "c:\\users\\tibame\\pycharmprojects\\pythonetl\\venv\\lib\\site-packages\\matplotlib\\backends\\backend_agg.py:240: RuntimeWarning: Glyph 38272 missing from current font.\n",
      "  font.set_text(s, 0.0, flags=flags)\n",
      "c:\\users\\tibame\\pycharmprojects\\pythonetl\\venv\\lib\\site-packages\\matplotlib\\backends\\backend_agg.py:240: RuntimeWarning: Glyph 36899 missing from current font.\n",
      "  font.set_text(s, 0.0, flags=flags)\n",
      "c:\\users\\tibame\\pycharmprojects\\pythonetl\\venv\\lib\\site-packages\\matplotlib\\backends\\backend_agg.py:240: RuntimeWarning: Glyph 27743 missing from current font.\n",
      "  font.set_text(s, 0.0, flags=flags)\n",
      "c:\\users\\tibame\\pycharmprojects\\pythonetl\\venv\\lib\\site-packages\\matplotlib\\backends\\backend_agg.py:203: RuntimeWarning: Glyph 23631 missing from current font.\n",
      "  font.set_text(s, 0, flags=flags)\n",
      "c:\\users\\tibame\\pycharmprojects\\pythonetl\\venv\\lib\\site-packages\\matplotlib\\backends\\backend_agg.py:203: RuntimeWarning: Glyph 26481 missing from current font.\n",
      "  font.set_text(s, 0, flags=flags)\n",
      "c:\\users\\tibame\\pycharmprojects\\pythonetl\\venv\\lib\\site-packages\\matplotlib\\backends\\backend_agg.py:203: RuntimeWarning: Glyph 32291 missing from current font.\n",
      "  font.set_text(s, 0, flags=flags)\n",
      "c:\\users\\tibame\\pycharmprojects\\pythonetl\\venv\\lib\\site-packages\\matplotlib\\backends\\backend_agg.py:203: RuntimeWarning: Glyph 22025 missing from current font.\n",
      "  font.set_text(s, 0, flags=flags)\n",
      "c:\\users\\tibame\\pycharmprojects\\pythonetl\\venv\\lib\\site-packages\\matplotlib\\backends\\backend_agg.py:203: RuntimeWarning: Glyph 32681 missing from current font.\n",
      "  font.set_text(s, 0, flags=flags)\n",
      "c:\\users\\tibame\\pycharmprojects\\pythonetl\\venv\\lib\\site-packages\\matplotlib\\backends\\backend_agg.py:203: RuntimeWarning: Glyph 21335 missing from current font.\n",
      "  font.set_text(s, 0, flags=flags)\n",
      "c:\\users\\tibame\\pycharmprojects\\pythonetl\\venv\\lib\\site-packages\\matplotlib\\backends\\backend_agg.py:203: RuntimeWarning: Glyph 25237 missing from current font.\n",
      "  font.set_text(s, 0, flags=flags)\n",
      "c:\\users\\tibame\\pycharmprojects\\pythonetl\\venv\\lib\\site-packages\\matplotlib\\backends\\backend_agg.py:203: RuntimeWarning: Glyph 39640 missing from current font.\n",
      "  font.set_text(s, 0, flags=flags)\n",
      "c:\\users\\tibame\\pycharmprojects\\pythonetl\\venv\\lib\\site-packages\\matplotlib\\backends\\backend_agg.py:203: RuntimeWarning: Glyph 38596 missing from current font.\n",
      "  font.set_text(s, 0, flags=flags)\n",
      "c:\\users\\tibame\\pycharmprojects\\pythonetl\\venv\\lib\\site-packages\\matplotlib\\backends\\backend_agg.py:203: RuntimeWarning: Glyph 24066 missing from current font.\n",
      "  font.set_text(s, 0, flags=flags)\n",
      "c:\\users\\tibame\\pycharmprojects\\pythonetl\\venv\\lib\\site-packages\\matplotlib\\backends\\backend_agg.py:203: RuntimeWarning: Glyph 33274 missing from current font.\n",
      "  font.set_text(s, 0, flags=flags)\n",
      "c:\\users\\tibame\\pycharmprojects\\pythonetl\\venv\\lib\\site-packages\\matplotlib\\backends\\backend_agg.py:203: RuntimeWarning: Glyph 38642 missing from current font.\n",
      "  font.set_text(s, 0, flags=flags)\n",
      "c:\\users\\tibame\\pycharmprojects\\pythonetl\\venv\\lib\\site-packages\\matplotlib\\backends\\backend_agg.py:203: RuntimeWarning: Glyph 26519 missing from current font.\n",
      "  font.set_text(s, 0, flags=flags)\n",
      "c:\\users\\tibame\\pycharmprojects\\pythonetl\\venv\\lib\\site-packages\\matplotlib\\backends\\backend_agg.py:203: RuntimeWarning: Glyph 20013 missing from current font.\n",
      "  font.set_text(s, 0, flags=flags)\n",
      "c:\\users\\tibame\\pycharmprojects\\pythonetl\\venv\\lib\\site-packages\\matplotlib\\backends\\backend_agg.py:203: RuntimeWarning: Glyph 33457 missing from current font.\n",
      "  font.set_text(s, 0, flags=flags)\n",
      "c:\\users\\tibame\\pycharmprojects\\pythonetl\\venv\\lib\\site-packages\\matplotlib\\backends\\backend_agg.py:203: RuntimeWarning: Glyph 34030 missing from current font.\n",
      "  font.set_text(s, 0, flags=flags)\n",
      "c:\\users\\tibame\\pycharmprojects\\pythonetl\\venv\\lib\\site-packages\\matplotlib\\backends\\backend_agg.py:203: RuntimeWarning: Glyph 24432 missing from current font.\n",
      "  font.set_text(s, 0, flags=flags)\n",
      "c:\\users\\tibame\\pycharmprojects\\pythonetl\\venv\\lib\\site-packages\\matplotlib\\backends\\backend_agg.py:203: RuntimeWarning: Glyph 21270 missing from current font.\n",
      "  font.set_text(s, 0, flags=flags)\n",
      "c:\\users\\tibame\\pycharmprojects\\pythonetl\\venv\\lib\\site-packages\\matplotlib\\backends\\backend_agg.py:203: RuntimeWarning: Glyph 23452 missing from current font.\n",
      "  font.set_text(s, 0, flags=flags)\n",
      "c:\\users\\tibame\\pycharmprojects\\pythonetl\\venv\\lib\\site-packages\\matplotlib\\backends\\backend_agg.py:203: RuntimeWarning: Glyph 34349 missing from current font.\n",
      "  font.set_text(s, 0, flags=flags)\n",
      "c:\\users\\tibame\\pycharmprojects\\pythonetl\\venv\\lib\\site-packages\\matplotlib\\backends\\backend_agg.py:203: RuntimeWarning: Glyph 33495 missing from current font.\n",
      "  font.set_text(s, 0, flags=flags)\n",
      "c:\\users\\tibame\\pycharmprojects\\pythonetl\\venv\\lib\\site-packages\\matplotlib\\backends\\backend_agg.py:203: RuntimeWarning: Glyph 26647 missing from current font.\n",
      "  font.set_text(s, 0, flags=flags)\n",
      "c:\\users\\tibame\\pycharmprojects\\pythonetl\\venv\\lib\\site-packages\\matplotlib\\backends\\backend_agg.py:203: RuntimeWarning: Glyph 26032 missing from current font.\n",
      "  font.set_text(s, 0, flags=flags)\n",
      "c:\\users\\tibame\\pycharmprojects\\pythonetl\\venv\\lib\\site-packages\\matplotlib\\backends\\backend_agg.py:203: RuntimeWarning: Glyph 31481 missing from current font.\n",
      "  font.set_text(s, 0, flags=flags)\n",
      "c:\\users\\tibame\\pycharmprojects\\pythonetl\\venv\\lib\\site-packages\\matplotlib\\backends\\backend_agg.py:203: RuntimeWarning: Glyph 21271 missing from current font.\n",
      "  font.set_text(s, 0, flags=flags)\n",
      "c:\\users\\tibame\\pycharmprojects\\pythonetl\\venv\\lib\\site-packages\\matplotlib\\backends\\backend_agg.py:203: RuntimeWarning: Glyph 26691 missing from current font.\n",
      "  font.set_text(s, 0, flags=flags)\n",
      "c:\\users\\tibame\\pycharmprojects\\pythonetl\\venv\\lib\\site-packages\\matplotlib\\backends\\backend_agg.py:203: RuntimeWarning: Glyph 22290 missing from current font.\n",
      "  font.set_text(s, 0, flags=flags)\n",
      "c:\\users\\tibame\\pycharmprojects\\pythonetl\\venv\\lib\\site-packages\\matplotlib\\backends\\backend_agg.py:203: RuntimeWarning: Glyph 22522 missing from current font.\n",
      "  font.set_text(s, 0, flags=flags)\n",
      "c:\\users\\tibame\\pycharmprojects\\pythonetl\\venv\\lib\\site-packages\\matplotlib\\backends\\backend_agg.py:203: RuntimeWarning: Glyph 38534 missing from current font.\n",
      "  font.set_text(s, 0, flags=flags)\n",
      "c:\\users\\tibame\\pycharmprojects\\pythonetl\\venv\\lib\\site-packages\\matplotlib\\backends\\backend_agg.py:203: RuntimeWarning: Glyph 28558 missing from current font.\n",
      "  font.set_text(s, 0, flags=flags)\n",
      "c:\\users\\tibame\\pycharmprojects\\pythonetl\\venv\\lib\\site-packages\\matplotlib\\backends\\backend_agg.py:203: RuntimeWarning: Glyph 28246 missing from current font.\n",
      "  font.set_text(s, 0, flags=flags)\n",
      "c:\\users\\tibame\\pycharmprojects\\pythonetl\\venv\\lib\\site-packages\\matplotlib\\backends\\backend_agg.py:203: RuntimeWarning: Glyph 37329 missing from current font.\n",
      "  font.set_text(s, 0, flags=flags)\n",
      "c:\\users\\tibame\\pycharmprojects\\pythonetl\\venv\\lib\\site-packages\\matplotlib\\backends\\backend_agg.py:203: RuntimeWarning: Glyph 38272 missing from current font.\n",
      "  font.set_text(s, 0, flags=flags)\n",
      "c:\\users\\tibame\\pycharmprojects\\pythonetl\\venv\\lib\\site-packages\\matplotlib\\backends\\backend_agg.py:203: RuntimeWarning: Glyph 36899 missing from current font.\n",
      "  font.set_text(s, 0, flags=flags)\n",
      "c:\\users\\tibame\\pycharmprojects\\pythonetl\\venv\\lib\\site-packages\\matplotlib\\backends\\backend_agg.py:203: RuntimeWarning: Glyph 27743 missing from current font.\n",
      "  font.set_text(s, 0, flags=flags)\n"
     ]
    },
    {
     "data": {
      "image/png": "[encoded data removed]",
      "text/plain": [
       "<Figure size 432x288 with 1 Axes>"
      ]
     },
     "metadata": {
      "needs_background": "light"
     },
     "output_type": "display_data"
    }
   ],
   "source": [
    "df_2019"
   ]
  },
  {
   "cell_type": "code",
   "execution_count": null,
   "metadata": {},
   "outputs": [],
   "source": []
  },
  {
   "cell_type": "markdown",
   "metadata": {},
   "source": [
    "### 比較產量與市場成交量之關係"
   ]
  },
  {
   "cell_type": "code",
   "execution_count": 20,
   "metadata": {
    "ExecuteTime": {
     "end_time": "2021-07-08T02:52:21.748899Z",
     "start_time": "2021-07-08T02:52:21.649482Z"
    }
   },
   "outputs": [
    {
     "data": {
      "text/html": [
       "<div>\n",
       "<style scoped>\n",
       "    .dataframe tbody tr th:only-of-type {\n",
       "        vertical-align: middle;\n",
       "    }\n",
       "\n",
       "    .dataframe tbody tr th {\n",
       "        vertical-align: top;\n",
       "    }\n",
       "\n",
       "    .dataframe thead th {\n",
       "        text-align: right;\n",
       "    }\n",
       "</style>\n",
       "<table border=\"1\" class=\"dataframe\">\n",
       "  <thead>\n",
       "    <tr style=\"text-align: right;\">\n",
       "      <th></th>\n",
       "      <th>日期</th>\n",
       "      <th>市場</th>\n",
       "      <th>產品</th>\n",
       "      <th>上價</th>\n",
       "      <th>中價</th>\n",
       "      <th>下價</th>\n",
       "      <th>平均價(元/公斤)</th>\n",
       "      <th>平均價_跟前一交易日比較%</th>\n",
       "      <th>交易量(公斤)</th>\n",
       "      <th>交易量_跟前一交易日比較%</th>\n",
       "      <th>Year</th>\n",
       "    </tr>\n",
       "  </thead>\n",
       "  <tbody>\n",
       "    <tr>\n",
       "      <th>0</th>\n",
       "      <td>2011-01-01</td>\n",
       "      <td>104 台北二</td>\n",
       "      <td>A1 香蕉</td>\n",
       "      <td>35.0</td>\n",
       "      <td>32.1</td>\n",
       "      <td>25.6</td>\n",
       "      <td>31.4</td>\n",
       "      <td>2</td>\n",
       "      <td>9645</td>\n",
       "      <td>-1</td>\n",
       "      <td>2011</td>\n",
       "    </tr>\n",
       "    <tr>\n",
       "      <th>1</th>\n",
       "      <td>2011-01-02</td>\n",
       "      <td>104 台北二</td>\n",
       "      <td>A1 香蕉</td>\n",
       "      <td>35.1</td>\n",
       "      <td>33.1</td>\n",
       "      <td>25.8</td>\n",
       "      <td>32.0</td>\n",
       "      <td>2</td>\n",
       "      <td>12230</td>\n",
       "      <td>27</td>\n",
       "      <td>2011</td>\n",
       "    </tr>\n",
       "    <tr>\n",
       "      <th>2</th>\n",
       "      <td>2011-01-04</td>\n",
       "      <td>104 台北二</td>\n",
       "      <td>A1 香蕉</td>\n",
       "      <td>35.8</td>\n",
       "      <td>33.1</td>\n",
       "      <td>27.0</td>\n",
       "      <td>32.4</td>\n",
       "      <td>0</td>\n",
       "      <td>11976</td>\n",
       "      <td>0</td>\n",
       "      <td>2011</td>\n",
       "    </tr>\n",
       "    <tr>\n",
       "      <th>3</th>\n",
       "      <td>2011-01-05</td>\n",
       "      <td>104 台北二</td>\n",
       "      <td>A1 香蕉</td>\n",
       "      <td>36.5</td>\n",
       "      <td>33.9</td>\n",
       "      <td>27.8</td>\n",
       "      <td>33.2</td>\n",
       "      <td>2</td>\n",
       "      <td>7520</td>\n",
       "      <td>-37</td>\n",
       "      <td>2011</td>\n",
       "    </tr>\n",
       "    <tr>\n",
       "      <th>4</th>\n",
       "      <td>2011-01-06</td>\n",
       "      <td>104 台北二</td>\n",
       "      <td>A1 香蕉</td>\n",
       "      <td>38.2</td>\n",
       "      <td>35.5</td>\n",
       "      <td>28.9</td>\n",
       "      <td>34.7</td>\n",
       "      <td>7</td>\n",
       "      <td>8160</td>\n",
       "      <td>-32</td>\n",
       "      <td>2011</td>\n",
       "    </tr>\n",
       "    <tr>\n",
       "      <th>...</th>\n",
       "      <td>...</td>\n",
       "      <td>...</td>\n",
       "      <td>...</td>\n",
       "      <td>...</td>\n",
       "      <td>...</td>\n",
       "      <td>...</td>\n",
       "      <td>...</td>\n",
       "      <td>...</td>\n",
       "      <td>...</td>\n",
       "      <td>...</td>\n",
       "      <td>...</td>\n",
       "    </tr>\n",
       "    <tr>\n",
       "      <th>31689</th>\n",
       "      <td>2021-06-08</td>\n",
       "      <td>930 台東市</td>\n",
       "      <td>A1 香蕉</td>\n",
       "      <td>28.0</td>\n",
       "      <td>18.3</td>\n",
       "      <td>12.0</td>\n",
       "      <td>20.7</td>\n",
       "      <td>-12</td>\n",
       "      <td>3115</td>\n",
       "      <td>1</td>\n",
       "      <td>2021</td>\n",
       "    </tr>\n",
       "    <tr>\n",
       "      <th>31690</th>\n",
       "      <td>2021-06-09</td>\n",
       "      <td>930 台東市</td>\n",
       "      <td>A1 香蕉</td>\n",
       "      <td>28.0</td>\n",
       "      <td>18.3</td>\n",
       "      <td>12.0</td>\n",
       "      <td>21.2</td>\n",
       "      <td>2</td>\n",
       "      <td>2885</td>\n",
       "      <td>-7</td>\n",
       "      <td>2021</td>\n",
       "    </tr>\n",
       "    <tr>\n",
       "      <th>31691</th>\n",
       "      <td>2021-06-10</td>\n",
       "      <td>930 台東市</td>\n",
       "      <td>A1 香蕉</td>\n",
       "      <td>24.0</td>\n",
       "      <td>16.8</td>\n",
       "      <td>11.0</td>\n",
       "      <td>18.7</td>\n",
       "      <td>-12</td>\n",
       "      <td>3885</td>\n",
       "      <td>35</td>\n",
       "      <td>2021</td>\n",
       "    </tr>\n",
       "    <tr>\n",
       "      <th>31692</th>\n",
       "      <td>2021-06-11</td>\n",
       "      <td>930 台東市</td>\n",
       "      <td>A1 香蕉</td>\n",
       "      <td>26.0</td>\n",
       "      <td>18.3</td>\n",
       "      <td>13.0</td>\n",
       "      <td>20.7</td>\n",
       "      <td>11</td>\n",
       "      <td>4522</td>\n",
       "      <td>16</td>\n",
       "      <td>2021</td>\n",
       "    </tr>\n",
       "    <tr>\n",
       "      <th>31693</th>\n",
       "      <td>2021-06-12</td>\n",
       "      <td>930 台東市</td>\n",
       "      <td>A1 香蕉</td>\n",
       "      <td>32.0</td>\n",
       "      <td>21.5</td>\n",
       "      <td>15.0</td>\n",
       "      <td>22.8</td>\n",
       "      <td>10</td>\n",
       "      <td>3007</td>\n",
       "      <td>-34</td>\n",
       "      <td>2021</td>\n",
       "    </tr>\n",
       "  </tbody>\n",
       "</table>\n",
       "<p>31694 rows × 11 columns</p>\n",
       "</div>"
      ],
      "text/plain": [
       "               日期       市場     產品    上價    中價    下價  平均價(元/公斤)  平均價_跟前一交易日比較%  \\\n",
       "0      2011-01-01  104 台北二  A1 香蕉  35.0  32.1  25.6       31.4              2   \n",
       "1      2011-01-02  104 台北二  A1 香蕉  35.1  33.1  25.8       32.0              2   \n",
       "2      2011-01-04  104 台北二  A1 香蕉  35.8  33.1  27.0       32.4              0   \n",
       "3      2011-01-05  104 台北二  A1 香蕉  36.5  33.9  27.8       33.2              2   \n",
       "4      2011-01-06  104 台北二  A1 香蕉  38.2  35.5  28.9       34.7              7   \n",
       "...           ...      ...    ...   ...   ...   ...        ...            ...   \n",
       "31689  2021-06-08  930 台東市  A1 香蕉  28.0  18.3  12.0       20.7            -12   \n",
       "31690  2021-06-09  930 台東市  A1 香蕉  28.0  18.3  12.0       21.2              2   \n",
       "31691  2021-06-10  930 台東市  A1 香蕉  24.0  16.8  11.0       18.7            -12   \n",
       "31692  2021-06-11  930 台東市  A1 香蕉  26.0  18.3  13.0       20.7             11   \n",
       "31693  2021-06-12  930 台東市  A1 香蕉  32.0  21.5  15.0       22.8             10   \n",
       "\n",
       "       交易量(公斤)  交易量_跟前一交易日比較%  Year  \n",
       "0         9645             -1  2011  \n",
       "1        12230             27  2011  \n",
       "2        11976              0  2011  \n",
       "3         7520            -37  2011  \n",
       "4         8160            -32  2011  \n",
       "...        ...            ...   ...  \n",
       "31689     3115              1  2021  \n",
       "31690     2885             -7  2021  \n",
       "31691     3885             35  2021  \n",
       "31692     4522             16  2021  \n",
       "31693     3007            -34  2021  \n",
       "\n",
       "[31694 rows x 11 columns]"
      ]
     },
     "execution_count": 20,
     "metadata": {},
     "output_type": "execute_result"
    }
   ],
   "source": [
    "df_price = pd.read_csv(\"cleaned data/價格_全國香蕉交易資料(初步清洗).csv\")\n",
    "df_price"
   ]
  },
  {
   "cell_type": "code",
   "execution_count": 21,
   "metadata": {
    "ExecuteTime": {
     "end_time": "2021-07-08T02:52:24.813793Z",
     "start_time": "2021-07-08T02:52:24.779039Z"
    }
   },
   "outputs": [
    {
     "data": {
      "text/html": [
       "<div>\n",
       "<style scoped>\n",
       "    .dataframe tbody tr th:only-of-type {\n",
       "        vertical-align: middle;\n",
       "    }\n",
       "\n",
       "    .dataframe tbody tr th {\n",
       "        vertical-align: top;\n",
       "    }\n",
       "\n",
       "    .dataframe thead th {\n",
       "        text-align: right;\n",
       "    }\n",
       "</style>\n",
       "<table border=\"1\" class=\"dataframe\">\n",
       "  <thead>\n",
       "    <tr style=\"text-align: right;\">\n",
       "      <th></th>\n",
       "      <th>交易量(公斤)</th>\n",
       "    </tr>\n",
       "    <tr>\n",
       "      <th>Year</th>\n",
       "      <th></th>\n",
       "    </tr>\n",
       "  </thead>\n",
       "  <tbody>\n",
       "    <tr>\n",
       "      <th>2011</th>\n",
       "      <td>32571.832</td>\n",
       "    </tr>\n",
       "    <tr>\n",
       "      <th>2012</th>\n",
       "      <td>30939.624</td>\n",
       "    </tr>\n",
       "    <tr>\n",
       "      <th>2013</th>\n",
       "      <td>27613.824</td>\n",
       "    </tr>\n",
       "    <tr>\n",
       "      <th>2014</th>\n",
       "      <td>28624.061</td>\n",
       "    </tr>\n",
       "    <tr>\n",
       "      <th>2015</th>\n",
       "      <td>30526.863</td>\n",
       "    </tr>\n",
       "    <tr>\n",
       "      <th>2016</th>\n",
       "      <td>31352.153</td>\n",
       "    </tr>\n",
       "    <tr>\n",
       "      <th>2017</th>\n",
       "      <td>38688.968</td>\n",
       "    </tr>\n",
       "    <tr>\n",
       "      <th>2018</th>\n",
       "      <td>38207.192</td>\n",
       "    </tr>\n",
       "    <tr>\n",
       "      <th>2019</th>\n",
       "      <td>35034.649</td>\n",
       "    </tr>\n",
       "    <tr>\n",
       "      <th>2020</th>\n",
       "      <td>33903.674</td>\n",
       "    </tr>\n",
       "    <tr>\n",
       "      <th>2021</th>\n",
       "      <td>16149.012</td>\n",
       "    </tr>\n",
       "  </tbody>\n",
       "</table>\n",
       "</div>"
      ],
      "text/plain": [
       "        交易量(公斤)\n",
       "Year           \n",
       "2011  32571.832\n",
       "2012  30939.624\n",
       "2013  27613.824\n",
       "2014  28624.061\n",
       "2015  30526.863\n",
       "2016  31352.153\n",
       "2017  38688.968\n",
       "2018  38207.192\n",
       "2019  35034.649\n",
       "2020  33903.674\n",
       "2021  16149.012"
      ]
     },
     "execution_count": 21,
     "metadata": {},
     "output_type": "execute_result"
    }
   ],
   "source": [
    "right = (df_price.groupby([\"Year\"]).sum()[\"交易量(公斤)\"]/1000).to_frame()\n",
    "right"
   ]
  },
  {
   "cell_type": "code",
   "execution_count": 22,
   "metadata": {
    "ExecuteTime": {
     "end_time": "2021-07-08T02:52:31.404126Z",
     "start_time": "2021-07-08T02:52:31.360640Z"
    }
   },
   "outputs": [
    {
     "data": {
      "text/html": [
       "<div>\n",
       "<style scoped>\n",
       "    .dataframe tbody tr th:only-of-type {\n",
       "        vertical-align: middle;\n",
       "    }\n",
       "\n",
       "    .dataframe tbody tr th {\n",
       "        vertical-align: top;\n",
       "    }\n",
       "\n",
       "    .dataframe thead th {\n",
       "        text-align: right;\n",
       "    }\n",
       "</style>\n",
       "<table border=\"1\" class=\"dataframe\">\n",
       "  <thead>\n",
       "    <tr style=\"text-align: right;\">\n",
       "      <th></th>\n",
       "      <th>產量_公噸</th>\n",
       "    </tr>\n",
       "    <tr>\n",
       "      <th>年度</th>\n",
       "      <th></th>\n",
       "    </tr>\n",
       "  </thead>\n",
       "  <tbody>\n",
       "    <tr>\n",
       "      <th>2011</th>\n",
       "      <td>305739.59</td>\n",
       "    </tr>\n",
       "    <tr>\n",
       "      <th>2012</th>\n",
       "      <td>295264.57</td>\n",
       "    </tr>\n",
       "    <tr>\n",
       "      <th>2013</th>\n",
       "      <td>291292.49</td>\n",
       "    </tr>\n",
       "    <tr>\n",
       "      <th>2014</th>\n",
       "      <td>299899.00</td>\n",
       "    </tr>\n",
       "    <tr>\n",
       "      <th>2015</th>\n",
       "      <td>274066.17</td>\n",
       "    </tr>\n",
       "    <tr>\n",
       "      <th>2016</th>\n",
       "      <td>257558.68</td>\n",
       "    </tr>\n",
       "    <tr>\n",
       "      <th>2017</th>\n",
       "      <td>356016.97</td>\n",
       "    </tr>\n",
       "    <tr>\n",
       "      <th>2018</th>\n",
       "      <td>356238.00</td>\n",
       "    </tr>\n",
       "    <tr>\n",
       "      <th>2019</th>\n",
       "      <td>342628.59</td>\n",
       "    </tr>\n",
       "  </tbody>\n",
       "</table>\n",
       "</div>"
      ],
      "text/plain": [
       "          產量_公噸\n",
       "年度             \n",
       "2011  305739.59\n",
       "2012  295264.57\n",
       "2013  291292.49\n",
       "2014  299899.00\n",
       "2015  274066.17\n",
       "2016  257558.68\n",
       "2017  356016.97\n",
       "2018  356238.00\n",
       "2019  342628.59"
      ]
     },
     "execution_count": 22,
     "metadata": {},
     "output_type": "execute_result"
    }
   ],
   "source": [
    "left = df.groupby(\"年度\").sum()[\"產量_公噸\"].to_frame()\n",
    "left"
   ]
  },
  {
   "cell_type": "code",
   "execution_count": 24,
   "metadata": {
    "ExecuteTime": {
     "end_time": "2021-07-08T02:53:02.033466Z",
     "start_time": "2021-07-08T02:53:01.969817Z"
    }
   },
   "outputs": [
    {
     "data": {
      "text/html": [
       "<div>\n",
       "<style scoped>\n",
       "    .dataframe tbody tr th:only-of-type {\n",
       "        vertical-align: middle;\n",
       "    }\n",
       "\n",
       "    .dataframe tbody tr th {\n",
       "        vertical-align: top;\n",
       "    }\n",
       "\n",
       "    .dataframe thead th {\n",
       "        text-align: right;\n",
       "    }\n",
       "</style>\n",
       "<table border=\"1\" class=\"dataframe\">\n",
       "  <thead>\n",
       "    <tr style=\"text-align: right;\">\n",
       "      <th></th>\n",
       "      <th>產量(公噸)</th>\n",
       "      <th>交易量(公噸)</th>\n",
       "      <th>rate</th>\n",
       "    </tr>\n",
       "  </thead>\n",
       "  <tbody>\n",
       "    <tr>\n",
       "      <th>2011</th>\n",
       "      <td>305739.59</td>\n",
       "      <td>32571.832</td>\n",
       "      <td>0.11</td>\n",
       "    </tr>\n",
       "    <tr>\n",
       "      <th>2012</th>\n",
       "      <td>295264.57</td>\n",
       "      <td>30939.624</td>\n",
       "      <td>0.10</td>\n",
       "    </tr>\n",
       "    <tr>\n",
       "      <th>2013</th>\n",
       "      <td>291292.49</td>\n",
       "      <td>27613.824</td>\n",
       "      <td>0.09</td>\n",
       "    </tr>\n",
       "    <tr>\n",
       "      <th>2014</th>\n",
       "      <td>299899.00</td>\n",
       "      <td>28624.061</td>\n",
       "      <td>0.10</td>\n",
       "    </tr>\n",
       "    <tr>\n",
       "      <th>2015</th>\n",
       "      <td>274066.17</td>\n",
       "      <td>30526.863</td>\n",
       "      <td>0.11</td>\n",
       "    </tr>\n",
       "    <tr>\n",
       "      <th>2016</th>\n",
       "      <td>257558.68</td>\n",
       "      <td>31352.153</td>\n",
       "      <td>0.12</td>\n",
       "    </tr>\n",
       "    <tr>\n",
       "      <th>2017</th>\n",
       "      <td>356016.97</td>\n",
       "      <td>38688.968</td>\n",
       "      <td>0.11</td>\n",
       "    </tr>\n",
       "    <tr>\n",
       "      <th>2018</th>\n",
       "      <td>356238.00</td>\n",
       "      <td>38207.192</td>\n",
       "      <td>0.11</td>\n",
       "    </tr>\n",
       "    <tr>\n",
       "      <th>2019</th>\n",
       "      <td>342628.59</td>\n",
       "      <td>35034.649</td>\n",
       "      <td>0.10</td>\n",
       "    </tr>\n",
       "  </tbody>\n",
       "</table>\n",
       "</div>"
      ],
      "text/plain": [
       "         產量(公噸)    交易量(公噸)  rate\n",
       "2011  305739.59  32571.832  0.11\n",
       "2012  295264.57  30939.624  0.10\n",
       "2013  291292.49  27613.824  0.09\n",
       "2014  299899.00  28624.061  0.10\n",
       "2015  274066.17  30526.863  0.11\n",
       "2016  257558.68  31352.153  0.12\n",
       "2017  356016.97  38688.968  0.11\n",
       "2018  356238.00  38207.192  0.11\n",
       "2019  342628.59  35034.649  0.10"
      ]
     },
     "execution_count": 24,
     "metadata": {},
     "output_type": "execute_result"
    }
   ],
   "source": [
    "result = pd.merge(left, right, left_index=True, right_index=True, how=\"inner\")\n",
    "result.columns = [\"產量(公噸)\", \"交易量(公噸)\"]\n",
    "result[\"rate\"] = round(result[\"交易量(公噸)\"] / result[\"產量(公噸)\"], 2)\n",
    "result"
   ]
  },
  {
   "cell_type": "code",
   "execution_count": 25,
   "metadata": {
    "ExecuteTime": {
     "end_time": "2021-07-08T02:53:04.887919Z",
     "start_time": "2021-07-08T02:53:04.870923Z"
    }
   },
   "outputs": [],
   "source": [
    "x = np.arange(2011, 2020)\n",
    "y = df.groupby(\"年度\").sum()"
   ]
  },
  {
   "cell_type": "code",
   "execution_count": 29,
   "metadata": {
    "ExecuteTime": {
     "end_time": "2021-07-08T02:57:47.061753Z",
     "start_time": "2021-07-08T02:57:46.823693Z"
    }
   },
   "outputs": [
    {
     "data": {
      "image/png": "[encoded data removed]",
      "text/plain": [
       "<Figure size 720x576 with 1 Axes>"
      ]
     },
     "metadata": {
      "needs_background": "light"
     },
     "output_type": "display_data"
    }
   ],
   "source": [
    "fig, ax = plt.subplots(figsize=(10,8))\n",
    "\n",
    "width = 0.2\n",
    "ax.bar(x-width, result[\"產量(公噸)\"], width=0.4, alpha=0.4, label=\"Year Production(ton)\")\n",
    "ax.bar(x+width, result[\"交易量(公噸)\"], width=0.4, alpha=0.4, label=\"Transaction Volume(ton)\")\n",
    "\n",
    "ax.set_xticks(x)\n",
    "ax.set_xlabel(\"Year\")\n",
    "ax.set_ylabel(\"Production(ton)\")\n",
    "\n",
    "ax.tick_params(axis=\"y\", labelcolor=\"blue\")\n",
    "\n",
    "plt.title(\"Banana yearly comparison(Production vs Volume)\")\n",
    "plt.legend()\n",
    "# plt.savefig(\"banana area & production.jpg\", bbox_inches=\"tight\")\n",
    "plt.show()"
   ]
  },
  {
   "cell_type": "code",
   "execution_count": null,
   "metadata": {},
   "outputs": [],
   "source": []
  },
  {
   "cell_type": "code",
   "execution_count": null,
   "metadata": {},
   "outputs": [],
   "source": []
  },
  {
   "cell_type": "markdown",
   "metadata": {},
   "source": [
    "## 透過GeoPandas將上面的結果顯示於地圖"
   ]
  },
  {
   "cell_type": "markdown",
   "metadata": {},
   "source": [
    "### 從政府資料開放平台取得台灣縣市行政圖的邊界&經緯度\n",
    "\n",
    "[台灣縣市地圖](https://data.gov.tw/dataset/7441)"
   ]
  },
  {
   "cell_type": "code",
   "execution_count": 31,
   "metadata": {
    "ExecuteTime": {
     "end_time": "2021-05-25T04:37:42.877459Z",
     "start_time": "2021-05-25T04:37:42.667385Z"
    }
   },
   "outputs": [
    {
     "ename": "NameError",
     "evalue": "name 'gpd' is not defined",
     "output_type": "error",
     "traceback": [
      "\u001b[0;31m---------------------------------------------------------------------------\u001b[0m",
      "\u001b[0;31mNameError\u001b[0m                                 Traceback (most recent call last)",
      "\u001b[0;32m<ipython-input-31-77992746edd3>\u001b[0m in \u001b[0;36m<module>\u001b[0;34m\u001b[0m\n\u001b[0;32m----> 1\u001b[0;31m \u001b[0mcity_shp\u001b[0m \u001b[0;34m=\u001b[0m \u001b[0mgpd\u001b[0m\u001b[0;34m.\u001b[0m\u001b[0mread_file\u001b[0m\u001b[0;34m(\u001b[0m\u001b[0;34m\"./mapdata202008310842/COUNTY_MOI_1090820.shp\"\u001b[0m\u001b[0;34m,\u001b[0m \u001b[0mencoding\u001b[0m\u001b[0;34m=\u001b[0m\u001b[0;34m\"utf-8\"\u001b[0m\u001b[0;34m)\u001b[0m\u001b[0;34m\u001b[0m\u001b[0;34m\u001b[0m\u001b[0m\n\u001b[0m",
      "\u001b[0;31mNameError\u001b[0m: name 'gpd' is not defined"
     ]
    }
   ],
   "source": [
    "city_shp = gpd.read_file(\"./mapdata202008310842/COUNTY_MOI_1090820.shp\", encoding=\"utf-8\")"
   ]
  },
  {
   "cell_type": "code",
   "execution_count": null,
   "metadata": {
    "ExecuteTime": {
     "end_time": "2021-05-25T04:37:44.594141Z",
     "start_time": "2021-05-25T04:37:42.878457Z"
    }
   },
   "outputs": [],
   "source": [
    "city_shp"
   ]
  },
  {
   "cell_type": "markdown",
   "metadata": {},
   "source": [
    "### 台灣地圖"
   ]
  },
  {
   "cell_type": "code",
   "execution_count": null,
   "metadata": {
    "ExecuteTime": {
     "end_time": "2021-05-25T04:37:44.970370Z",
     "start_time": "2021-05-25T04:37:44.595138Z"
    }
   },
   "outputs": [],
   "source": [
    "fig,ax = plt.subplots(figsize = (10, 10))\n",
    "city_shp.plot(ax=ax, color=\"grey\") #cmap=\"RdBu\")\n",
    "\n",
    "ax.set_xlim(117,123)\n",
    "ax.set_ylim(21,26)"
   ]
  },
  {
   "cell_type": "code",
   "execution_count": null,
   "metadata": {},
   "outputs": [],
   "source": []
  },
  {
   "cell_type": "markdown",
   "metadata": {},
   "source": [
    "### 將df_2019banana資料與city_shp進行merge"
   ]
  },
  {
   "cell_type": "code",
   "execution_count": null,
   "metadata": {
    "ExecuteTime": {
     "end_time": "2021-05-25T04:37:45.001634Z",
     "start_time": "2021-05-25T04:37:44.971331Z"
    }
   },
   "outputs": [],
   "source": [
    "whole_data = pd.merge(city_shp, df_2019banana, on=\"COUNTYNAME\", how=\"left\")"
   ]
  },
  {
   "cell_type": "code",
   "execution_count": null,
   "metadata": {
    "ExecuteTime": {
     "end_time": "2021-05-25T04:37:46.687168Z",
     "start_time": "2021-05-25T04:37:45.003627Z"
    },
    "scrolled": true
   },
   "outputs": [],
   "source": [
    "whole_data"
   ]
  },
  {
   "cell_type": "markdown",
   "metadata": {},
   "source": [
    "### Visualize the result on map"
   ]
  },
  {
   "cell_type": "code",
   "execution_count": null,
   "metadata": {
    "ExecuteTime": {
     "end_time": "2021-05-25T04:42:51.992884Z",
     "start_time": "2021-05-25T04:42:51.608148Z"
    }
   },
   "outputs": [],
   "source": [
    "fig,ax = plt.subplots(figsize = (10, 10))\n",
    "whole_data.plot(ax=ax, column=\"production\", cmap=\"YlGn\")\n",
    "\n",
    "ax.set_xlim(118,123)\n",
    "ax.set_ylim(21,26)\n",
    "ax.set_title(\"2019 Taiwan banana production overview\", size = 20)\n",
    "ax.set_facecolor(\"skyblue\")"
   ]
  },
  {
   "cell_type": "markdown",
   "metadata": {},
   "source": [
    "### 後續問題\n",
    "- 如何加上顏色條?\n",
    "- 排行榜?"
   ]
  }
 ],
 "metadata": {
  "kernelspec": {
   "display_name": "Python 3",
   "language": "python",
   "name": "python3"
  },
  "language_info": {
   "codemirror_mode": {
    "name": "ipython",
    "version": 3
   },
   "file_extension": ".py",
   "mimetype": "text/x-python",
   "name": "python",
   "nbconvert_exporter": "python",
   "pygments_lexer": "ipython3",
   "version": "3.8.5"
  },
  "toc": {
   "base_numbering": 1,
   "nav_menu": {},
   "number_sections": true,
   "sideBar": true,
   "skip_h1_title": false,
   "title_cell": "Table of Contents",
   "title_sidebar": "Contents",
   "toc_cell": false,
   "toc_position": {},
   "toc_section_display": true,
   "toc_window_display": false
  },
  "varInspector": {
   "cols": {
    "lenName": 16,
    "lenType": 16,
    "lenVar": 40
   },
   "kernels_config": {
    "python": {
     "delete_cmd_postfix": "",
     "delete_cmd_prefix": "del ",
     "library": "var_list.py",
     "varRefreshCmd": "print(var_dic_list())"
    },
    "r": {
     "delete_cmd_postfix": ") ",
     "delete_cmd_prefix": "rm(",
     "library": "var_list.r",
     "varRefreshCmd": "cat(var_dic_list()) "
    }
   },
   "types_to_exclude": [
    "module",
    "function",
    "builtin_function_or_method",
    "instance",
    "_Feature"
   ],
   "window_display": false
  }
 },
 "nbformat": 4,
 "nbformat_minor": 4
}
