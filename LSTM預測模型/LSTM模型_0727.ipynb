{
 "cells": [
  {
   "cell_type": "code",
   "execution_count": 1,
   "metadata": {},
   "outputs": [],
   "source": [
    "import math\n",
    "import matplotlib.pyplot as plt\n",
    "import keras\n",
    "import pandas as pd\n",
    "import numpy as np\n",
    "import datetime as dt\n",
    "from keras.models import Sequential\n",
    "from keras.layers import LSTM, Dense, Dropout\n",
    "from keras.layers import *\n",
    "from sklearn.preprocessing import MinMaxScaler, StandardScaler\n",
    "from sklearn.metrics import mean_squared_error, mean_absolute_error\n",
    "from tensorflow.keras.optimizers import Adam\n",
    "from sklearn.model_selection import train_test_split\n",
    "from keras.callbacks import EarlyStopping, ReduceLROnPlateau, ModelCheckpoint, TensorBoard\n",
    "import seaborn as sns"
   ]
  },
  {
   "cell_type": "markdown",
   "metadata": {},
   "source": [
    "### step 1 讀取資料"
   ]
  },
  {
   "cell_type": "code",
   "execution_count": 29,
   "metadata": {},
   "outputs": [
    {
     "name": "stdout",
     "output_type": "stream",
     "text": [
      "Number of rows and columns: (3818, 7)\n"
     ]
    },
    {
     "data": {
      "text/html": [
       "<div>\n",
       "<style scoped>\n",
       "    .dataframe tbody tr th:only-of-type {\n",
       "        vertical-align: middle;\n",
       "    }\n",
       "\n",
       "    .dataframe tbody tr th {\n",
       "        vertical-align: top;\n",
       "    }\n",
       "\n",
       "    .dataframe thead th {\n",
       "        text-align: right;\n",
       "    }\n",
       "</style>\n",
       "<table border=\"1\" class=\"dataframe\">\n",
       "  <thead>\n",
       "    <tr style=\"text-align: right;\">\n",
       "      <th></th>\n",
       "      <th>日期</th>\n",
       "      <th>banana_平均價</th>\n",
       "      <th>banana_交易量</th>\n",
       "      <th>scarletbanana_平均價</th>\n",
       "      <th>guava_平均價</th>\n",
       "      <th>banana_前日平均價</th>\n",
       "      <th>banana_5日平均價</th>\n",
       "    </tr>\n",
       "  </thead>\n",
       "  <tbody>\n",
       "    <tr>\n",
       "      <th>3813</th>\n",
       "      <td>2021-06-10</td>\n",
       "      <td>25.8</td>\n",
       "      <td>18943.0</td>\n",
       "      <td>33.6</td>\n",
       "      <td>25.9</td>\n",
       "      <td>23.5</td>\n",
       "      <td>24.2</td>\n",
       "    </tr>\n",
       "    <tr>\n",
       "      <th>3814</th>\n",
       "      <td>2021-06-11</td>\n",
       "      <td>25.1</td>\n",
       "      <td>18309.0</td>\n",
       "      <td>31.6</td>\n",
       "      <td>23.0</td>\n",
       "      <td>25.8</td>\n",
       "      <td>24.5</td>\n",
       "    </tr>\n",
       "    <tr>\n",
       "      <th>3815</th>\n",
       "      <td>2021-06-12</td>\n",
       "      <td>25.3</td>\n",
       "      <td>15720.0</td>\n",
       "      <td>35.6</td>\n",
       "      <td>23.1</td>\n",
       "      <td>25.1</td>\n",
       "      <td>24.8</td>\n",
       "    </tr>\n",
       "    <tr>\n",
       "      <th>3816</th>\n",
       "      <td>2021-06-13</td>\n",
       "      <td>26.1</td>\n",
       "      <td>15004.0</td>\n",
       "      <td>28.0</td>\n",
       "      <td>22.0</td>\n",
       "      <td>25.3</td>\n",
       "      <td>25.2</td>\n",
       "    </tr>\n",
       "    <tr>\n",
       "      <th>3817</th>\n",
       "      <td>2021-06-14</td>\n",
       "      <td>26.6</td>\n",
       "      <td>15039.0</td>\n",
       "      <td>39.3</td>\n",
       "      <td>23.2</td>\n",
       "      <td>26.1</td>\n",
       "      <td>25.8</td>\n",
       "    </tr>\n",
       "  </tbody>\n",
       "</table>\n",
       "</div>"
      ],
      "text/plain": [
       "              日期  banana_平均價  banana_交易量  scarletbanana_平均價  guava_平均價  \\\n",
       "3813  2021-06-10        25.8     18943.0               33.6       25.9   \n",
       "3814  2021-06-11        25.1     18309.0               31.6       23.0   \n",
       "3815  2021-06-12        25.3     15720.0               35.6       23.1   \n",
       "3816  2021-06-13        26.1     15004.0               28.0       22.0   \n",
       "3817  2021-06-14        26.6     15039.0               39.3       23.2   \n",
       "\n",
       "      banana_前日平均價  banana_5日平均價  \n",
       "3813          23.5          24.2  \n",
       "3814          25.8          24.5  \n",
       "3815          25.1          24.8  \n",
       "3816          25.3          25.2  \n",
       "3817          26.1          25.8  "
      ]
     },
     "execution_count": 29,
     "metadata": {},
     "output_type": "execute_result"
    }
   ],
   "source": [
    "df = pd.read_csv(\"data/台北一分析資料.csv\")\n",
    "print(\"Number of rows and columns:\", df.shape)\n",
    "df.tail(5)"
   ]
  },
  {
   "cell_type": "markdown",
   "metadata": {},
   "source": [
    "##### 將日期另外保存起來"
   ]
  },
  {
   "cell_type": "code",
   "execution_count": 3,
   "metadata": {},
   "outputs": [],
   "source": [
    "train_dates = pd.to_datetime(df[\"日期\"])"
   ]
  },
  {
   "cell_type": "markdown",
   "metadata": {},
   "source": [
    "##### 選取必要欄位，再轉換成float資料型態"
   ]
  },
  {
   "cell_type": "code",
   "execution_count": 4,
   "metadata": {},
   "outputs": [],
   "source": [
    "cols = list(df)[3:]\n",
    "df_for_training = df[cols].astype(\"float\")"
   ]
  },
  {
   "cell_type": "markdown",
   "metadata": {},
   "source": [
    "##### 資料標準化(平均值和標準差)"
   ]
  },
  {
   "cell_type": "code",
   "execution_count": 5,
   "metadata": {},
   "outputs": [],
   "source": [
    "scaler = StandardScaler()\n",
    "scaler = scaler.fit(df_for_training)\n",
    "df_for_training_scaled = scaler.transform(df_for_training)"
   ]
  },
  {
   "cell_type": "code",
   "execution_count": 6,
   "metadata": {},
   "outputs": [
    {
     "data": {
      "text/plain": [
       "3818"
      ]
     },
     "execution_count": 6,
     "metadata": {},
     "output_type": "execute_result"
    }
   ],
   "source": [
    "len(df_for_training_scaled)"
   ]
  },
  {
   "cell_type": "markdown",
   "metadata": {},
   "source": [
    "### step 2 分割資料"
   ]
  },
  {
   "cell_type": "code",
   "execution_count": 7,
   "metadata": {},
   "outputs": [
    {
     "name": "stdout",
     "output_type": "stream",
     "text": [
      "trainX's shape: (3745, 60, 4)\n",
      "trainY's shape: (3745, 1)\n"
     ]
    }
   ],
   "source": [
    "trainX = []\n",
    "trainY = []\n",
    "\n",
    "n_future = 14  # 預測天數\n",
    "n_past = 60    # 用以預測的過去資料筆數\n",
    "\n",
    "# 將資料從第 n_past 天開始到 總筆數-預測天數\n",
    "for i in range(n_past, len(df_for_training_scaled) - n_future + 1):\n",
    "    trainX.append(df_for_training_scaled[i - n_past:i, 0:df_for_training_scaled.shape[1]]) # n_past天資料\n",
    "    trainY.append(df_for_training_scaled[i+n_future-1:i+n_future, 0])                      # \n",
    "\n",
    "    \n",
    "# 轉變為矩陣    \n",
    "trainX, trainY = np.array(trainX), np.array(trainY)\n",
    "\n",
    "print(\"trainX's shape: {}\".format(trainX.shape))\n",
    "print(\"trainY's shape: {}\".format(trainY.shape))"
   ]
  },
  {
   "cell_type": "markdown",
   "metadata": {},
   "source": [
    "### step 3 建立模型\n",
    "\n",
    "參數說明:\n",
    "- return_sequnce => 這層layer產生的結果提供給下層使用\n",
    "\n",
    "\n",
    "[return_sequences和return_state的用途](https://zhuanlan.zhihu.com/p/85910281)"
   ]
  },
  {
   "cell_type": "code",
   "execution_count": 8,
   "metadata": {},
   "outputs": [
    {
     "name": "stdout",
     "output_type": "stream",
     "text": [
      "Model: \"sequential\"\n",
      "_________________________________________________________________\n",
      "Layer (type)                 Output Shape              Param #   \n",
      "=================================================================\n",
      "lstm (LSTM)                  (None, 60, 128)           68096     \n",
      "_________________________________________________________________\n",
      "lstm_1 (LSTM)                (None, 60, 64)            49408     \n",
      "_________________________________________________________________\n",
      "lstm_2 (LSTM)                (None, 32)                12416     \n",
      "_________________________________________________________________\n",
      "dropout (Dropout)            (None, 32)                0         \n",
      "_________________________________________________________________\n",
      "dense (Dense)                (None, 1)                 33        \n",
      "=================================================================\n",
      "Total params: 129,953\n",
      "Trainable params: 129,953\n",
      "Non-trainable params: 0\n",
      "_________________________________________________________________\n"
     ]
    }
   ],
   "source": [
    "model = Sequential()\n",
    "\n",
    "# 1st layer\n",
    "model.add(LSTM(units=128, activation=\"relu\", return_sequences=True, input_shape=(trainX.shape[1], trainX.shape[2]))) \n",
    "\n",
    "# 2nd layer\n",
    "model.add(LSTM(units=64, activation=\"relu\", return_sequences=True))          \n",
    "\n",
    "# 3st layer\n",
    "model.add(LSTM(units=32, activation=\"relu\", return_sequences=False))          \n",
    "\n",
    "model.add(Dropout(0.3))\n",
    "model.add(Dense(trainY.shape[1]))          \n",
    "\n",
    "model.compile(optimizer=\"adam\", loss=\"mean_squared_error\")\n",
    "model.summary()          "
   ]
  },
  {
   "cell_type": "code",
   "execution_count": 9,
   "metadata": {},
   "outputs": [
    {
     "name": "stdout",
     "output_type": "stream",
     "text": [
      "Wall time: 2.99 ms\n"
     ]
    }
   ],
   "source": [
    "%%time\n",
    "es = EarlyStopping(monitor='val_loss', min_delta=1e-10, patience=10, verbose=1)\n",
    "rlr = ReduceLROnPlateau(monitor='val_loss', factor=0.5, patience=10, verbose=1)\n",
    "mcp = ModelCheckpoint(filepath='weights.h5', monitor='val_loss', verbose=1, save_best_only=True, save_weights_only=True)\n",
    "\n",
    "tb = TensorBoard('logs')"
   ]
  },
  {
   "cell_type": "code",
   "execution_count": 10,
   "metadata": {},
   "outputs": [
    {
     "name": "stdout",
     "output_type": "stream",
     "text": [
      "Epoch 1/12\n",
      "24/24 [==============================] - 87s 714ms/step - loss: 1.9306 - val_loss: 0.1661\n",
      "\n",
      "Epoch 00001: val_loss improved from inf to 0.16609, saving model to weights.h5\n",
      "Epoch 2/12\n",
      "24/24 [==============================] - 10s 424ms/step - loss: 0.5479 - val_loss: 0.1511\n",
      "\n",
      "Epoch 00002: val_loss improved from 0.16609 to 0.15109, saving model to weights.h5\n",
      "Epoch 3/12\n",
      "24/24 [==============================] - 10s 425ms/step - loss: 0.2646 - val_loss: 0.1425\n",
      "\n",
      "Epoch 00003: val_loss improved from 0.15109 to 0.14246, saving model to weights.h5\n",
      "Epoch 4/12\n",
      "24/24 [==============================] - 9s 381ms/step - loss: 0.2345 - val_loss: 0.1402\n",
      "\n",
      "Epoch 00004: val_loss improved from 0.14246 to 0.14024, saving model to weights.h5\n",
      "Epoch 5/12\n",
      "24/24 [==============================] - 11s 459ms/step - loss: 0.2335 - val_loss: 0.1433\n",
      "\n",
      "Epoch 00005: val_loss did not improve from 0.14024\n",
      "Epoch 6/12\n",
      "24/24 [==============================] - 10s 419ms/step - loss: 0.2171 - val_loss: 0.1356\n",
      "\n",
      "Epoch 00006: val_loss improved from 0.14024 to 0.13562, saving model to weights.h5\n",
      "Epoch 7/12\n",
      "24/24 [==============================] - 10s 421ms/step - loss: 0.2360 - val_loss: 0.1521\n",
      "\n",
      "Epoch 00007: val_loss did not improve from 0.13562\n",
      "Epoch 8/12\n",
      "24/24 [==============================] - 7s 270ms/step - loss: 0.2246 - val_loss: 0.1419\n",
      "\n",
      "Epoch 00008: val_loss did not improve from 0.13562\n",
      "Epoch 9/12\n",
      "24/24 [==============================] - 8s 341ms/step - loss: 0.2217 - val_loss: 0.1479\n",
      "\n",
      "Epoch 00009: val_loss did not improve from 0.13562\n",
      "Epoch 10/12\n",
      "24/24 [==============================] - 11s 457ms/step - loss: 0.1999 - val_loss: 0.1426\n",
      "\n",
      "Epoch 00010: val_loss did not improve from 0.13562\n",
      "Epoch 11/12\n",
      "24/24 [==============================] - 10s 405ms/step - loss: 0.1884 - val_loss: 0.1438\n",
      "\n",
      "Epoch 00011: val_loss did not improve from 0.13562\n",
      "Epoch 12/12\n",
      "24/24 [==============================] - 10s 424ms/step - loss: 0.1888 - val_loss: 0.1421\n",
      "\n",
      "Epoch 00012: val_loss did not improve from 0.13562\n"
     ]
    }
   ],
   "source": [
    "# fit model\n",
    "# history = model.fit(trainX, trainY, epochs=10, batch_size=16, validation_split=0.1, verbose=1)\n",
    "history = model.fit(trainX, trainY, epochs=12, \n",
    "                    batch_size=128, \n",
    "                    callbacks=[es, rlr, mcp, tb], \n",
    "                    validation_split=0.2, \n",
    "                    verbose=1)"
   ]
  },
  {
   "cell_type": "code",
   "execution_count": 11,
   "metadata": {},
   "outputs": [
    {
     "data": {
      "text/plain": [
       "<matplotlib.legend.Legend at 0x1f01a842c10>"
      ]
     },
     "execution_count": 11,
     "metadata": {},
     "output_type": "execute_result"
    },
    {
     "data": {
      "image/png": "[encoded data removed]",
      "text/plain": [
       "<Figure size 432x288 with 1 Axes>"
      ]
     },
     "metadata": {
      "needs_background": "light"
     },
     "output_type": "display_data"
    }
   ],
   "source": [
    "# plotting loss and validation loss\n",
    "plt.plot(history.history['loss'], label='Training loss')\n",
    "plt.plot(history.history['val_loss'], label='Validation loss')\n",
    "plt.legend()"
   ]
  },
  {
   "cell_type": "markdown",
   "metadata": {},
   "source": [
    "### step 4 進行預測 "
   ]
  },
  {
   "cell_type": "code",
   "execution_count": 26,
   "metadata": {},
   "outputs": [],
   "source": [
    "# 預測接下來30天，利用之前的日期資料，產生相對應的日期\n",
    "n_future = 46\n",
    "forecast_period_dates = pd.date_range(list(train_dates)[-1], periods=n_future, freq=\"1d\").tolist()\n",
    "\n",
    "forecast = model.predict(trainX[-n_future:])"
   ]
  },
  {
   "cell_type": "code",
   "execution_count": 28,
   "metadata": {},
   "outputs": [
    {
     "data": {
      "text/plain": [
       "3685"
      ]
     },
     "execution_count": 28,
     "metadata": {},
     "output_type": "execute_result"
    }
   ],
   "source": [
    "len(train_predict)"
   ]
  },
  {
   "cell_type": "code",
   "execution_count": 13,
   "metadata": {},
   "outputs": [
    {
     "data": {
      "text/plain": [
       "array([[-0.39279246, -0.39279246, -0.39279246, -0.39279246],\n",
       "       [-0.37554756, -0.37554756, -0.37554756, -0.37554756],\n",
       "       [-0.36432537, -0.36432537, -0.36432537, -0.36432537],\n",
       "       [-0.3573303 , -0.3573303 , -0.3573303 , -0.3573303 ],\n",
       "       [-0.35310164, -0.35310164, -0.35310164, -0.35310164],\n",
       "       [-0.35202846, -0.35202846, -0.35202846, -0.35202846],\n",
       "       [-0.35019392, -0.35019392, -0.35019392, -0.35019392],\n",
       "       [-0.34902084, -0.34902084, -0.34902084, -0.34902084],\n",
       "       [-0.3461627 , -0.3461627 , -0.3461627 , -0.3461627 ],\n",
       "       [-0.3407941 , -0.3407941 , -0.3407941 , -0.3407941 ],\n",
       "       [-0.3338442 , -0.3338442 , -0.3338442 , -0.3338442 ],\n",
       "       [-0.3273274 , -0.3273274 , -0.3273274 , -0.3273274 ],\n",
       "       [-0.32151565, -0.32151565, -0.32151565, -0.32151565],\n",
       "       [-0.31522933, -0.31522933, -0.31522933, -0.31522933],\n",
       "       [-0.31018463, -0.31018463, -0.31018463, -0.31018463],\n",
       "       [-0.3080505 , -0.3080505 , -0.3080505 , -0.3080505 ],\n",
       "       [-0.3093341 , -0.3093341 , -0.3093341 , -0.3093341 ],\n",
       "       [-0.31155974, -0.31155974, -0.31155974, -0.31155974],\n",
       "       [-0.3132721 , -0.3132721 , -0.3132721 , -0.3132721 ],\n",
       "       [-0.3129308 , -0.3129308 , -0.3129308 , -0.3129308 ],\n",
       "       [-0.3077422 , -0.3077422 , -0.3077422 , -0.3077422 ],\n",
       "       [-0.30010685, -0.30010685, -0.30010685, -0.30010685],\n",
       "       [-0.29388204, -0.29388204, -0.29388204, -0.29388204],\n",
       "       [-0.28659067, -0.28659067, -0.28659067, -0.28659067],\n",
       "       [-0.27739042, -0.27739042, -0.27739042, -0.27739042],\n",
       "       [-0.2653224 , -0.2653224 , -0.2653224 , -0.2653224 ],\n",
       "       [-0.25468403, -0.25468403, -0.25468403, -0.25468403],\n",
       "       [-0.23997085, -0.23997085, -0.23997085, -0.23997085],\n",
       "       [-0.21564077, -0.21564077, -0.21564077, -0.21564077],\n",
       "       [-0.19833891, -0.19833891, -0.19833891, -0.19833891],\n",
       "       [-0.184527  , -0.184527  , -0.184527  , -0.184527  ],\n",
       "       [-0.17517221, -0.17517221, -0.17517221, -0.17517221],\n",
       "       [-0.17561643, -0.17561643, -0.17561643, -0.17561643],\n",
       "       [-0.18949357, -0.18949357, -0.18949357, -0.18949357],\n",
       "       [-0.21491764, -0.21491764, -0.21491764, -0.21491764],\n",
       "       [-0.2646176 , -0.2646176 , -0.2646176 , -0.2646176 ],\n",
       "       [-0.3223072 , -0.3223072 , -0.3223072 , -0.3223072 ],\n",
       "       [-0.37635112, -0.37635112, -0.37635112, -0.37635112],\n",
       "       [-0.42287257, -0.42287257, -0.42287257, -0.42287257],\n",
       "       [-0.46001008, -0.46001008, -0.46001008, -0.46001008],\n",
       "       [-0.4884316 , -0.4884316 , -0.4884316 , -0.4884316 ],\n",
       "       [-0.50941163, -0.50941163, -0.50941163, -0.50941163],\n",
       "       [-0.5255419 , -0.5255419 , -0.5255419 , -0.5255419 ],\n",
       "       [-0.53443813, -0.53443813, -0.53443813, -0.53443813],\n",
       "       [-0.53535414, -0.53535414, -0.53535414, -0.53535414],\n",
       "       [-0.5277041 , -0.5277041 , -0.5277041 , -0.5277041 ]],\n",
       "      dtype=float32)"
      ]
     },
     "execution_count": 13,
     "metadata": {},
     "output_type": "execute_result"
    }
   ],
   "source": [
    "np.repeat(forecast, df_for_training.shape[1], axis=1)\n"
   ]
  },
  {
   "cell_type": "markdown",
   "metadata": {},
   "source": [
    "#### 將之前標準化的資料轉換回來 => 由於最初有5個dimensions，因此需要將forecast資料增加維度以符合轉換要求"
   ]
  },
  {
   "cell_type": "code",
   "execution_count": 14,
   "metadata": {},
   "outputs": [],
   "source": [
    "forecast_copies = np.repeat(forecast, df_for_training.shape[1], axis=1)\n",
    "y_pred_future = scaler.inverse_transform(forecast_copies)[:,0]"
   ]
  },
  {
   "cell_type": "code",
   "execution_count": 15,
   "metadata": {},
   "outputs": [
    {
     "data": {
      "text/plain": [
       "array([27.366518, 27.581367, 27.721182, 27.808332, 27.861015, 27.874386,\n",
       "       27.897242, 27.911858, 27.947466, 28.014353, 28.100939, 28.182129,\n",
       "       28.254538, 28.332857, 28.395708, 28.422295, 28.406303, 28.378574,\n",
       "       28.35724 , 28.361494, 28.426136, 28.521263, 28.598816, 28.689657,\n",
       "       28.804281, 28.954634, 29.087173, 29.270481, 29.573605, 29.789164,\n",
       "       29.961243, 30.077791, 30.072256, 29.899364, 29.582613, 28.963415,\n",
       "       28.244675, 27.571356, 26.991758, 26.529072, 26.174976, 25.913591,\n",
       "       25.712627, 25.601793, 25.59038 , 25.68569 ], dtype=float32)"
      ]
     },
     "execution_count": 15,
     "metadata": {},
     "output_type": "execute_result"
    }
   ],
   "source": [
    "y_pred_future"
   ]
  },
  {
   "cell_type": "markdown",
   "metadata": {},
   "source": [
    "### step 5 比較準確率"
   ]
  },
  {
   "cell_type": "markdown",
   "metadata": {},
   "source": [
    "#### 預測資料\n",
    "- 轉換 timestamp 為 date "
   ]
  },
  {
   "cell_type": "code",
   "execution_count": 16,
   "metadata": {},
   "outputs": [],
   "source": [
    "forecast_dates = []\n",
    "for time_i in forecast_period_dates:\n",
    "    forecast_dates.append(time_i.date())\n",
    "\n",
    "# 創造預測結果的dataframe\n",
    "df_forecast = pd.DataFrame({\"日期\":np.array(forecast_dates), \"banana_平均價\":y_pred_future})\n",
    "df_forecast[\"日期\"] = pd.to_datetime(df_forecast[\"日期\"])\n",
    "df_forecast.set_index(\"日期\", inplace=True)"
   ]
  },
  {
   "cell_type": "code",
   "execution_count": 17,
   "metadata": {},
   "outputs": [
    {
     "data": {
      "text/plain": [
       "banana_平均價    float32\n",
       "dtype: object"
      ]
     },
     "execution_count": 17,
     "metadata": {},
     "output_type": "execute_result"
    }
   ],
   "source": [
    "df_forecast.dtypes"
   ]
  },
  {
   "cell_type": "markdown",
   "metadata": {},
   "source": [
    "#### 原始資料"
   ]
  },
  {
   "cell_type": "code",
   "execution_count": 18,
   "metadata": {},
   "outputs": [
    {
     "name": "stderr",
     "output_type": "stream",
     "text": [
      "<ipython-input-18-6bd4ed3a02ac>:4: SettingWithCopyWarning: \n",
      "A value is trying to be set on a copy of a slice from a DataFrame.\n",
      "Try using .loc[row_indexer,col_indexer] = value instead\n",
      "\n",
      "See the caveats in the documentation: https://pandas.pydata.org/pandas-docs/stable/user_guide/indexing.html#returning-a-view-versus-a-copy\n",
      "  df_original[\"日期\"] = pd.to_datetime(df_original[\"日期\"])\n"
     ]
    }
   ],
   "source": [
    "#start_plot_date = '2021-05-01'\n",
    "\n",
    "df_original = df[[\"日期\", \"banana_平均價\"]]\n",
    "df_original[\"日期\"] = pd.to_datetime(df_original[\"日期\"])\n",
    "df_original.set_index(\"日期\", inplace=True)"
   ]
  },
  {
   "cell_type": "code",
   "execution_count": 19,
   "metadata": {},
   "outputs": [
    {
     "data": {
      "text/plain": [
       "banana_平均價    float64\n",
       "dtype: object"
      ]
     },
     "execution_count": 19,
     "metadata": {},
     "output_type": "execute_result"
    }
   ],
   "source": [
    "df_original.dtypes"
   ]
  },
  {
   "cell_type": "markdown",
   "metadata": {},
   "source": [
    "#### 真實資料"
   ]
  },
  {
   "cell_type": "code",
   "execution_count": 20,
   "metadata": {},
   "outputs": [],
   "source": [
    "df_actual = pd.read_csv(\"data/farmproduct_banana_crawler(0729).csv\")\n",
    "df_actual = df_actual[df_actual[\"市場\"] == \"台北一\"]\n",
    "df_actual = df_actual[[\"日期\", \"平均價(元/公斤)\"]]\n",
    "df_actual[\"日期\"] = pd.to_datetime(df_actual[\"日期\"])\n",
    "\n",
    "df_actual.set_index(\"日期\", inplace=True)\n",
    "df_actual.columns= [\"banana_平均價\"]\n",
    "df_actual = df_actual.resample(\"D\").interpolate().fillna(method=\"ffill\").fillna(method=\"bfill\").applymap(lambda x: round(x,1))"
   ]
  },
  {
   "cell_type": "code",
   "execution_count": 21,
   "metadata": {},
   "outputs": [],
   "source": [
    "df_actual = df_actual.loc['2021-06-14':]"
   ]
  },
  {
   "cell_type": "code",
   "execution_count": 22,
   "metadata": {},
   "outputs": [
    {
     "data": {
      "text/html": [
       "<div>\n",
       "<style scoped>\n",
       "    .dataframe tbody tr th:only-of-type {\n",
       "        vertical-align: middle;\n",
       "    }\n",
       "\n",
       "    .dataframe tbody tr th {\n",
       "        vertical-align: top;\n",
       "    }\n",
       "\n",
       "    .dataframe thead th {\n",
       "        text-align: right;\n",
       "    }\n",
       "</style>\n",
       "<table border=\"1\" class=\"dataframe\">\n",
       "  <thead>\n",
       "    <tr style=\"text-align: right;\">\n",
       "      <th></th>\n",
       "      <th>banana_平均價</th>\n",
       "    </tr>\n",
       "    <tr>\n",
       "      <th>日期</th>\n",
       "      <th></th>\n",
       "    </tr>\n",
       "  </thead>\n",
       "  <tbody>\n",
       "    <tr>\n",
       "      <th>2021-06-14</th>\n",
       "      <td>26.6</td>\n",
       "    </tr>\n",
       "    <tr>\n",
       "      <th>2021-06-15</th>\n",
       "      <td>25.5</td>\n",
       "    </tr>\n",
       "    <tr>\n",
       "      <th>2021-06-16</th>\n",
       "      <td>24.3</td>\n",
       "    </tr>\n",
       "    <tr>\n",
       "      <th>2021-06-17</th>\n",
       "      <td>23.2</td>\n",
       "    </tr>\n",
       "    <tr>\n",
       "      <th>2021-06-18</th>\n",
       "      <td>20.9</td>\n",
       "    </tr>\n",
       "  </tbody>\n",
       "</table>\n",
       "</div>"
      ],
      "text/plain": [
       "            banana_平均價\n",
       "日期                    \n",
       "2021-06-14        26.6\n",
       "2021-06-15        25.5\n",
       "2021-06-16        24.3\n",
       "2021-06-17        23.2\n",
       "2021-06-18        20.9"
      ]
     },
     "execution_count": 22,
     "metadata": {},
     "output_type": "execute_result"
    }
   ],
   "source": [
    "df_actual.head() #.shape#dtypes"
   ]
  },
  {
   "cell_type": "markdown",
   "metadata": {},
   "source": [
    "### 可視化"
   ]
  },
  {
   "cell_type": "code",
   "execution_count": 23,
   "metadata": {},
   "outputs": [
    {
     "data": {
      "image/png": "[encoded data removed]",
      "text/plain": [
       "<Figure size 1008x360 with 1 Axes>"
      ]
     },
     "metadata": {
      "needs_background": "light"
     },
     "output_type": "display_data"
    }
   ],
   "source": [
    "# Set plot size \n",
    "from pylab import rcParams\n",
    "rcParams['figure.figsize'] = 14, 5\n",
    "\n",
    "# Plot parameters\n",
    "START_DATE = '2021-01-01'\n",
    "\n",
    "# 預測\n",
    "plt.plot(df_forecast.index, df_forecast[\"banana_平均價\"], color='r', label='Predicted banana Price')\n",
    "\n",
    "# 原始\n",
    "plt.plot(df_original.loc[START_DATE:].index, df_original.loc[START_DATE:][\"banana_平均價\"], color='orange', label='Training predictions')\n",
    "\n",
    "# 驗證資料真實\n",
    "plt.plot(df_actual.loc[START_DATE:].index, df_actual[\"banana_平均價\"], color='g', label='Actual banana Price')\n",
    "\n",
    "\n",
    "plt.axvline(x = min(df_forecast.index), color='lightblue', linewidth=2, linestyle='--')\n",
    "plt.grid(which='major', color='#cccccc', alpha=0.5)\n",
    "\n",
    "plt.legend(shadow=True)\n",
    "plt.title('Predcitions and Acutal banana Prices', family='Arial', fontsize=12)\n",
    "plt.xlabel('Timeline', family='Arial', fontsize=10)\n",
    "plt.ylabel('Stock Price Value', family='Arial', fontsize=10)\n",
    "plt.xticks(rotation=45, fontsize=8)\n",
    "plt.show()"
   ]
  },
  {
   "cell_type": "code",
   "execution_count": 24,
   "metadata": {},
   "outputs": [
    {
     "data": {
      "text/plain": [
       "46"
      ]
     },
     "execution_count": 24,
     "metadata": {},
     "output_type": "execute_result"
    }
   ],
   "source": [
    "len(pd.date_range(start=\"2021-06-14\", end=\"2021-07-29\"))"
   ]
  },
  {
   "cell_type": "code",
   "execution_count": null,
   "metadata": {},
   "outputs": [],
   "source": []
  }
 ],
 "metadata": {
  "kernelspec": {
   "display_name": "Python 3",
   "language": "python",
   "name": "python3"
  },
  "language_info": {
   "codemirror_mode": {
    "name": "ipython",
    "version": 3
   },
   "file_extension": ".py",
   "mimetype": "text/x-python",
   "name": "python",
   "nbconvert_exporter": "python",
   "pygments_lexer": "ipython3",
   "version": "3.8.5"
  }
 },
 "nbformat": 4,
 "nbformat_minor": 4
}
