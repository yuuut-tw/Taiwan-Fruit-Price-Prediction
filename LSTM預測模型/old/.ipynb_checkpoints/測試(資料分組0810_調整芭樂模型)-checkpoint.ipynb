{
 "cells": [
  {
   "cell_type": "code",
   "execution_count": 1,
   "metadata": {},
   "outputs": [],
   "source": [
    "import pandas as pd\n",
    "import numpy as np\n",
    "import pymysql\n",
    "from sqlalchemy import create_engine\n",
    "import re\n",
    "import os\n",
    "from functools import reduce\n",
    "pd.options.mode.chained_assignment = None  # default='warn'"
   ]
  },
  {
   "cell_type": "code",
   "execution_count": 2,
   "metadata": {},
   "outputs": [],
   "source": [
    "import math\n",
    "import matplotlib.pyplot as plt\n",
    "import datetime as dt\n",
    "from tensorflow.keras.models import Sequential, load_model\n",
    "from tensorflow.keras.layers import LSTM, Dense, Dropout, TimeDistributed\n",
    "from sklearn.preprocessing import MinMaxScaler, StandardScaler\n",
    "from sklearn.metrics import mean_squared_error, mean_absolute_error\n",
    "from tensorflow.keras.optimizers import Adam\n",
    "from sklearn.model_selection import train_test_split\n",
    "from tensorflow.keras.callbacks import EarlyStopping, ReduceLROnPlateau, ModelCheckpoint, TensorBoard\n",
    "\n",
    "from tensorflow import keras"
   ]
  },
  {
   "cell_type": "markdown",
   "metadata": {},
   "source": [
    "### 讀取資料"
   ]
  },
  {
   "cell_type": "markdown",
   "metadata": {},
   "source": [
    "### Loading Data From Database(MySQL)"
   ]
  },
  {
   "cell_type": "code",
   "execution_count": 3,
   "metadata": {},
   "outputs": [],
   "source": [
    "username = 'yuting'\n",
    "password = pwd\n",
    "host_port = host_port \n",
    "database = 'twfruits'\n",
    "\n",
    "engine = create_engine(\"mysql+pymysql://{}:{}@{}/{}\".format(username, password, host_port, database))\n",
    "con = engine.connect()"
   ]
  },
  {
   "cell_type": "code",
   "execution_count": 4,
   "metadata": {},
   "outputs": [
    {
     "data": {
      "text/html": [
       "<div>\n",
       "<style scoped>\n",
       "    .dataframe tbody tr th:only-of-type {\n",
       "        vertical-align: middle;\n",
       "    }\n",
       "\n",
       "    .dataframe tbody tr th {\n",
       "        vertical-align: top;\n",
       "    }\n",
       "\n",
       "    .dataframe thead th {\n",
       "        text-align: right;\n",
       "    }\n",
       "</style>\n",
       "<table border=\"1\" class=\"dataframe\">\n",
       "  <thead>\n",
       "    <tr style=\"text-align: right;\">\n",
       "      <th></th>\n",
       "      <th>日期</th>\n",
       "      <th>banana_平均價</th>\n",
       "      <th>banana_交易量</th>\n",
       "      <th>scarletbanana_平均價</th>\n",
       "      <th>guava_平均價</th>\n",
       "      <th>banana_前日平均價</th>\n",
       "      <th>banana_5日平均價</th>\n",
       "    </tr>\n",
       "  </thead>\n",
       "  <tbody>\n",
       "    <tr>\n",
       "      <th>0</th>\n",
       "      <td>2011-01-01</td>\n",
       "      <td>31.4</td>\n",
       "      <td>9645.0</td>\n",
       "      <td>36.5</td>\n",
       "      <td>45.0</td>\n",
       "      <td>31.4</td>\n",
       "      <td>32.2</td>\n",
       "    </tr>\n",
       "    <tr>\n",
       "      <th>1</th>\n",
       "      <td>2011-01-02</td>\n",
       "      <td>32.0</td>\n",
       "      <td>12230.0</td>\n",
       "      <td>50.0</td>\n",
       "      <td>47.5</td>\n",
       "      <td>31.4</td>\n",
       "      <td>32.2</td>\n",
       "    </tr>\n",
       "    <tr>\n",
       "      <th>2</th>\n",
       "      <td>2011-01-03</td>\n",
       "      <td>32.2</td>\n",
       "      <td>12103.0</td>\n",
       "      <td>46.2</td>\n",
       "      <td>47.5</td>\n",
       "      <td>32.0</td>\n",
       "      <td>32.2</td>\n",
       "    </tr>\n",
       "    <tr>\n",
       "      <th>3</th>\n",
       "      <td>2011-01-04</td>\n",
       "      <td>32.4</td>\n",
       "      <td>11976.0</td>\n",
       "      <td>42.5</td>\n",
       "      <td>47.5</td>\n",
       "      <td>32.2</td>\n",
       "      <td>32.2</td>\n",
       "    </tr>\n",
       "    <tr>\n",
       "      <th>4</th>\n",
       "      <td>2011-01-05</td>\n",
       "      <td>33.2</td>\n",
       "      <td>7520.0</td>\n",
       "      <td>34.8</td>\n",
       "      <td>45.8</td>\n",
       "      <td>32.4</td>\n",
       "      <td>32.2</td>\n",
       "    </tr>\n",
       "    <tr>\n",
       "      <th>...</th>\n",
       "      <td>...</td>\n",
       "      <td>...</td>\n",
       "      <td>...</td>\n",
       "      <td>...</td>\n",
       "      <td>...</td>\n",
       "      <td>...</td>\n",
       "      <td>...</td>\n",
       "    </tr>\n",
       "    <tr>\n",
       "      <th>3868</th>\n",
       "      <td>2021-08-04</td>\n",
       "      <td>37.9</td>\n",
       "      <td>5550.0</td>\n",
       "      <td>35.2</td>\n",
       "      <td>31.4</td>\n",
       "      <td>35.2</td>\n",
       "      <td>37.7</td>\n",
       "    </tr>\n",
       "    <tr>\n",
       "      <th>3869</th>\n",
       "      <td>2021-08-05</td>\n",
       "      <td>40.7</td>\n",
       "      <td>5530.0</td>\n",
       "      <td>38.0</td>\n",
       "      <td>29.3</td>\n",
       "      <td>37.9</td>\n",
       "      <td>38.3</td>\n",
       "    </tr>\n",
       "    <tr>\n",
       "      <th>3870</th>\n",
       "      <td>2021-08-06</td>\n",
       "      <td>38.3</td>\n",
       "      <td>5891.0</td>\n",
       "      <td>38.6</td>\n",
       "      <td>32.9</td>\n",
       "      <td>40.7</td>\n",
       "      <td>38.0</td>\n",
       "    </tr>\n",
       "    <tr>\n",
       "      <th>3871</th>\n",
       "      <td>2021-08-07</td>\n",
       "      <td>46.1</td>\n",
       "      <td>4681.0</td>\n",
       "      <td>42.3</td>\n",
       "      <td>29.9</td>\n",
       "      <td>38.3</td>\n",
       "      <td>39.6</td>\n",
       "    </tr>\n",
       "    <tr>\n",
       "      <th>3872</th>\n",
       "      <td>2021-08-08</td>\n",
       "      <td>47.5</td>\n",
       "      <td>4485.0</td>\n",
       "      <td>40.4</td>\n",
       "      <td>48.4</td>\n",
       "      <td>46.1</td>\n",
       "      <td>42.1</td>\n",
       "    </tr>\n",
       "  </tbody>\n",
       "</table>\n",
       "<p>3873 rows × 7 columns</p>\n",
       "</div>"
      ],
      "text/plain": [
       "             日期  banana_平均價  banana_交易量  scarletbanana_平均價  guava_平均價  \\\n",
       "0    2011-01-01        31.4      9645.0               36.5       45.0   \n",
       "1    2011-01-02        32.0     12230.0               50.0       47.5   \n",
       "2    2011-01-03        32.2     12103.0               46.2       47.5   \n",
       "3    2011-01-04        32.4     11976.0               42.5       47.5   \n",
       "4    2011-01-05        33.2      7520.0               34.8       45.8   \n",
       "...         ...         ...         ...                ...        ...   \n",
       "3868 2021-08-04        37.9      5550.0               35.2       31.4   \n",
       "3869 2021-08-05        40.7      5530.0               38.0       29.3   \n",
       "3870 2021-08-06        38.3      5891.0               38.6       32.9   \n",
       "3871 2021-08-07        46.1      4681.0               42.3       29.9   \n",
       "3872 2021-08-08        47.5      4485.0               40.4       48.4   \n",
       "\n",
       "      banana_前日平均價  banana_5日平均價  \n",
       "0             31.4          32.2  \n",
       "1             31.4          32.2  \n",
       "2             32.0          32.2  \n",
       "3             32.2          32.2  \n",
       "4             32.4          32.2  \n",
       "...            ...           ...  \n",
       "3868          35.2          37.7  \n",
       "3869          37.9          38.3  \n",
       "3870          40.7          38.0  \n",
       "3871          38.3          39.6  \n",
       "3872          46.1          42.1  \n",
       "\n",
       "[3873 rows x 7 columns]"
      ]
     },
     "execution_count": 4,
     "metadata": {},
     "output_type": "execute_result"
    }
   ],
   "source": [
    "fruit = \"banana\"\n",
    "market = \"台北二\"\n",
    "df= pd.read_sql(f\"{fruit}_{market}\", engine)\n",
    "df"
   ]
  },
  {
   "cell_type": "markdown",
   "metadata": {},
   "source": [
    "### 嘗試變因&結果\n",
    "1. 改變測試集數量 => 0.2 to 0.1 (結果: 相同)"
   ]
  },
  {
   "cell_type": "markdown",
   "metadata": {},
   "source": [
    "## 訓練set & 測試set"
   ]
  },
  {
   "cell_type": "markdown",
   "metadata": {},
   "source": [
    "#### test data"
   ]
  },
  {
   "cell_type": "code",
   "execution_count": 5,
   "metadata": {},
   "outputs": [],
   "source": [
    "test_samples = int(df.shape[0]*0.2)"
   ]
  },
  {
   "cell_type": "code",
   "execution_count": 6,
   "metadata": {},
   "outputs": [],
   "source": [
    "#test_data = df[df[\"日期\"] > '2019-12-31']\n",
    "test_data = df.iloc[-test_samples: , 1:]\n",
    "\n",
    "# 測試資料日期\n",
    "#test_datelist = test_data[\"日期\"]\n",
    "#test_data.drop(columns=\"日期\", inplace=True)\n",
    "\n",
    "# 取得test_set(array)\n",
    "test_set = test_data.values"
   ]
  },
  {
   "cell_type": "markdown",
   "metadata": {},
   "source": [
    "#### train data"
   ]
  },
  {
   "cell_type": "code",
   "execution_count": 7,
   "metadata": {},
   "outputs": [],
   "source": [
    "train_data = df.iloc[:-test_samples, 1:]\n",
    "\n",
    "# 訓練資料日期\n",
    "# train_datelist = train_data[\"日期\"]\n",
    "# train_data.drop(columns=\"日期\", inplace=True)\n",
    "\n",
    "# 取得train_set(array)\n",
    "train_set = train_data.values"
   ]
  },
  {
   "cell_type": "markdown",
   "metadata": {},
   "source": [
    "### 資料標準化"
   ]
  },
  {
   "cell_type": "code",
   "execution_count": 8,
   "metadata": {},
   "outputs": [],
   "source": [
    "from sklearn.preprocessing import MinMaxScaler, StandardScaler"
   ]
  },
  {
   "cell_type": "markdown",
   "metadata": {},
   "source": [
    "#### test"
   ]
  },
  {
   "cell_type": "code",
   "execution_count": null,
   "metadata": {},
   "outputs": [],
   "source": [
    "sc_test = StandardScaler()\n",
    "test_set_sc = sc_test.fit_transform(test_set[:, :])\n",
    "\n",
    "sc_test_target = StandardScaler()\n",
    "sc_test_target.fit_transform(test_set[:, 0:1])"
   ]
  },
  {
   "cell_type": "code",
   "execution_count": null,
   "metadata": {},
   "outputs": [],
   "source": [
    "test_set_sc.shape"
   ]
  },
  {
   "cell_type": "markdown",
   "metadata": {},
   "source": [
    "#### train"
   ]
  },
  {
   "cell_type": "code",
   "execution_count": null,
   "metadata": {},
   "outputs": [],
   "source": [
    "#sc = MinMaxScaler(feature_range=(0,1))\n",
    "sc_train = StandardScaler()\n",
    "train_set_sc = sc_train.fit_transform(train_set[:, :])\n",
    "\n",
    "sc_train_target = StandardScaler()\n",
    "sc_train_target.fit_transform(train_set[:, 0:1])"
   ]
  },
  {
   "cell_type": "code",
   "execution_count": null,
   "metadata": {},
   "outputs": [],
   "source": [
    "train_set_sc.shape"
   ]
  },
  {
   "cell_type": "markdown",
   "metadata": {},
   "source": [
    "### 創造X、Y資料"
   ]
  },
  {
   "cell_type": "markdown",
   "metadata": {},
   "source": [
    "#### test data"
   ]
  },
  {
   "cell_type": "code",
   "execution_count": null,
   "metadata": {},
   "outputs": [],
   "source": [
    "X_test = []\n",
    "y_test = []\n",
    "\n",
    "n_future = 7\n",
    "n_past = 30\n",
    "\n",
    "# revised (0804)\n",
    "for i in range(n_past, len(test_set_sc)-n_future+1): # 扣掉最後預測天數已符合y_test的length \n",
    "    X_test.append(test_set_sc[i-n_past:i, 1:])       # 利用前30天資料來預測後7天價格，特徵值排除banana價格本身\n",
    "    y_test.append(test_set_sc[i:i+n_future, 0])      # 後7天價格\n",
    "    \n",
    "X_test, y_test = np.array(X_test), np.array(y_test) \n",
    "#y_test = y_test.reshape(X_test.shape[0], n_future, 1)\n",
    "\n",
    "print(\"X_test's shape: {}\".format(X_test.shape))\n",
    "print(\"y_test's shape: {}\".format(y_test.shape))"
   ]
  },
  {
   "cell_type": "markdown",
   "metadata": {},
   "source": [
    "#### train data"
   ]
  },
  {
   "cell_type": "code",
   "execution_count": null,
   "metadata": {},
   "outputs": [],
   "source": [
    "X_train = []\n",
    "y_train = []\n",
    "\n",
    "n_future = 7\n",
    "n_past = 30\n",
    "\n",
    "for i in range(n_past, len(train_set_sc)-n_future+1):\n",
    "    X_train.append(train_set_sc[i-n_past:i, 1:]) # :\n",
    "    y_train.append(train_set_sc[i:i+n_future, 0]) \n",
    "    \n",
    "X_train, y_train = np.array(X_train), np.array(y_train)\n",
    "#y_train = y_train.reshape(X_train.shape[0], n_future, 1)\n",
    "\n",
    "print(\"X_train's shape: {}\".format(X_train.shape))\n",
    "print(\"y_train's shape: {}\".format(y_train.shape))"
   ]
  },
  {
   "cell_type": "code",
   "execution_count": null,
   "metadata": {},
   "outputs": [],
   "source": [
    "y_train[-1]"
   ]
  },
  {
   "cell_type": "markdown",
   "metadata": {},
   "source": [
    "#### 建立模型"
   ]
  },
  {
   "cell_type": "code",
   "execution_count": null,
   "metadata": {},
   "outputs": [],
   "source": [
    "model = Sequential()\n",
    "\n",
    "n_steps = X_train.shape[1]\n",
    "n_features = X_train.shape[2]\n",
    "#n_outputs = n_future\n",
    "\n",
    "# 1st layer \n",
    "# input_shape => n_step, n_feature \n",
    "\n",
    "\n",
    "model.add(LSTM(units=64, activation=\"relu\", input_shape=(n_steps, n_features), return_sequences=True)) \n",
    "\n",
    "#model.add(RepeatVector(n_outputs))  # new\n",
    "\n",
    "model.add(LSTM(units=32, activation=\"relu\", return_sequences=False))          \n",
    "\n",
    "model.add(Dropout(0.2))\n",
    "\n",
    "#model.add(TimeDistributed(Dense(10, activation=\"relu\")))\n",
    "\n",
    "#model.add(TimeDistributed(Dense(7)))\n",
    "\n",
    "model.add(Dense(y_train.shape[1], activation=\"linear\"))          \n",
    "\n",
    "#model.compile(optimizer=\"adam\", loss=\"mean_squared_error\")\n",
    "\n",
    "model.summary() "
   ]
  },
  {
   "cell_type": "code",
   "execution_count": null,
   "metadata": {},
   "outputs": [],
   "source": [
    "model.compile(optimizer=\"adam\", \n",
    "              loss=\"mean_squared_error\")"
   ]
  },
  {
   "cell_type": "code",
   "execution_count": null,
   "metadata": {},
   "outputs": [],
   "source": [
    "%%time\n",
    "es = EarlyStopping(monitor='val_loss', min_delta=1e-10, patience=10, verbose=1)\n",
    "rlr = ReduceLROnPlateau(monitor='val_loss', factor=0.5, patience=10, verbose=1)\n",
    "mcp = ModelCheckpoint(filepath='weights.h5', monitor='val_loss', verbose=1, save_best_only=True, save_weights_only=True)\n",
    "\n",
    "tb = TensorBoard('logs')"
   ]
  },
  {
   "cell_type": "code",
   "execution_count": null,
   "metadata": {},
   "outputs": [],
   "source": [
    "# fit model\n",
    "history = model.fit(X_train, y_train, epochs=100, \n",
    "                    batch_size=32,\n",
    "                    callbacks=[es, rlr, mcp, tb], \n",
    "                    validation_split=0.1, \n",
    "                    verbose=1)"
   ]
  },
  {
   "cell_type": "code",
   "execution_count": null,
   "metadata": {},
   "outputs": [],
   "source": [
    "# plotting loss and validation loss\n",
    "plt.plot(history.history['loss'], label='Training loss')\n",
    "plt.plot(history.history['val_loss'], label='Validation loss')\n",
    "plt.legend()"
   ]
  },
  {
   "cell_type": "code",
   "execution_count": null,
   "metadata": {},
   "outputs": [],
   "source": []
  },
  {
   "cell_type": "markdown",
   "metadata": {},
   "source": [
    "### predict train data"
   ]
  },
  {
   "cell_type": "code",
   "execution_count": null,
   "metadata": {},
   "outputs": [],
   "source": [
    "# 預測未來&訓練集\n",
    "#prediction_future = model.predict(trainX[-n_future:])\n",
    "\n",
    "X = X_train\n",
    "Y = y_train\n",
    "prediction_train = model.predict(X)"
   ]
  },
  {
   "cell_type": "code",
   "execution_count": null,
   "metadata": {},
   "outputs": [],
   "source": [
    "prediction_train = sc_train_target.inverse_transform(prediction_train)\n",
    "Y = sc_train_target.inverse_transform(Y)"
   ]
  },
  {
   "cell_type": "code",
   "execution_count": null,
   "metadata": {},
   "outputs": [],
   "source": [
    "prediction_train[0]"
   ]
  },
  {
   "cell_type": "code",
   "execution_count": null,
   "metadata": {},
   "outputs": [],
   "source": [
    "A = prediction_train.reshape(len(X), -1).tolist()"
   ]
  },
  {
   "cell_type": "code",
   "execution_count": null,
   "metadata": {},
   "outputs": [],
   "source": [
    "B = Y.reshape(len(Y), n_future).tolist()"
   ]
  },
  {
   "cell_type": "code",
   "execution_count": null,
   "metadata": {},
   "outputs": [],
   "source": [
    "Y[0]#.shape"
   ]
  },
  {
   "cell_type": "code",
   "execution_count": null,
   "metadata": {},
   "outputs": [],
   "source": [
    "prediction_train[0]#.shape"
   ]
  },
  {
   "cell_type": "code",
   "execution_count": null,
   "metadata": {},
   "outputs": [],
   "source": []
  },
  {
   "cell_type": "code",
   "execution_count": null,
   "metadata": {},
   "outputs": [],
   "source": [
    "A[-1]"
   ]
  },
  {
   "cell_type": "code",
   "execution_count": null,
   "metadata": {},
   "outputs": [],
   "source": [
    "B[-1]"
   ]
  },
  {
   "cell_type": "code",
   "execution_count": null,
   "metadata": {},
   "outputs": [],
   "source": [
    "rmse_output = []\n",
    "for i in range(len(A)):\n",
    "    rmse = mean_squared_error(A[i], B[i], squared=False)\n",
    "    rmse_output.append(rmse)"
   ]
  },
  {
   "cell_type": "code",
   "execution_count": null,
   "metadata": {},
   "outputs": [],
   "source": [
    "df_plot = pd.DataFrame({\"rmse\":rmse_output})\n",
    "df_plot.plot()"
   ]
  },
  {
   "cell_type": "code",
   "execution_count": null,
   "metadata": {},
   "outputs": [],
   "source": [
    "t = -150"
   ]
  },
  {
   "cell_type": "code",
   "execution_count": null,
   "metadata": {},
   "outputs": [],
   "source": [
    "df_price_train = pd.DataFrame({\"predicted price\": A[t],\n",
    "                              \"Actual price\": B[t]})"
   ]
  },
  {
   "cell_type": "code",
   "execution_count": null,
   "metadata": {},
   "outputs": [],
   "source": [
    "df_price_train.plot()"
   ]
  },
  {
   "cell_type": "code",
   "execution_count": null,
   "metadata": {},
   "outputs": [],
   "source": []
  },
  {
   "cell_type": "markdown",
   "metadata": {},
   "source": [
    "### predict test data "
   ]
  },
  {
   "cell_type": "code",
   "execution_count": null,
   "metadata": {},
   "outputs": [],
   "source": [
    "#n_future = 1\n",
    "X = X_test\n",
    "y = y_test"
   ]
  },
  {
   "cell_type": "code",
   "execution_count": null,
   "metadata": {},
   "outputs": [],
   "source": [
    "prediction_test = model.predict(X)"
   ]
  },
  {
   "cell_type": "code",
   "execution_count": null,
   "metadata": {},
   "outputs": [],
   "source": []
  },
  {
   "cell_type": "code",
   "execution_count": null,
   "metadata": {},
   "outputs": [],
   "source": [
    "prediction_test"
   ]
  },
  {
   "cell_type": "code",
   "execution_count": null,
   "metadata": {},
   "outputs": [],
   "source": [
    "prediction_test = sc_test_target.inverse_transform(prediction_test)\n",
    "y = sc_test_target.inverse_transform(y)"
   ]
  },
  {
   "cell_type": "code",
   "execution_count": null,
   "metadata": {},
   "outputs": [],
   "source": [
    "rmse_test = []\n",
    "for i in range(len(prediction_test)):\n",
    "    rmse = mean_squared_error(prediction_test[i], y[i], squared=False)\n",
    "    rmse_test.append(rmse)"
   ]
  },
  {
   "cell_type": "code",
   "execution_count": null,
   "metadata": {},
   "outputs": [],
   "source": [
    "df_plot_test = pd.DataFrame({\"rmse\":rmse_test})\n",
    "df_plot_test.plot()"
   ]
  },
  {
   "cell_type": "code",
   "execution_count": null,
   "metadata": {},
   "outputs": [],
   "source": [
    "n = -1"
   ]
  },
  {
   "cell_type": "code",
   "execution_count": null,
   "metadata": {},
   "outputs": [],
   "source": [
    "prediction_test01 = prediction_test[n].reshape(-1).tolist()"
   ]
  },
  {
   "cell_type": "code",
   "execution_count": null,
   "metadata": {},
   "outputs": [],
   "source": [
    "y01 = y[n].reshape(-1).tolist()"
   ]
  },
  {
   "cell_type": "code",
   "execution_count": null,
   "metadata": {},
   "outputs": [],
   "source": [
    "df_price_test = pd.DataFrame({\"predicted price\": prediction_test01,\n",
    "                              \"Actual price\": y01})"
   ]
  },
  {
   "cell_type": "code",
   "execution_count": null,
   "metadata": {},
   "outputs": [],
   "source": [
    "df_price_test.plot()"
   ]
  },
  {
   "cell_type": "code",
   "execution_count": null,
   "metadata": {},
   "outputs": [],
   "source": []
  },
  {
   "cell_type": "markdown",
   "metadata": {},
   "source": [
    "### save model"
   ]
  },
  {
   "cell_type": "code",
   "execution_count": null,
   "metadata": {},
   "outputs": [],
   "source": [
    "#model.save(\"C:/Users/Tibame/PycharmProjects/PythonETL/Fruit Price Prediction/models/Banana_Price/Taipei1.h5\")"
   ]
  },
  {
   "cell_type": "code",
   "execution_count": null,
   "metadata": {},
   "outputs": [],
   "source": []
  }
 ],
 "metadata": {
  "kernelspec": {
   "display_name": "Python 3",
   "language": "python",
   "name": "python3"
  },
  "language_info": {
   "codemirror_mode": {
    "name": "ipython",
    "version": 3
   },
   "file_extension": ".py",
   "mimetype": "text/x-python",
   "name": "python",
   "nbconvert_exporter": "python",
   "pygments_lexer": "ipython3",
   "version": "3.8.5"
  }
 },
 "nbformat": 4,
 "nbformat_minor": 4
}
