{
 "cells": [
  {
   "cell_type": "code",
   "execution_count": 1,
   "metadata": {},
   "outputs": [],
   "source": [
    "import pandas as pd\n",
    "import numpy as np\n",
    "import pymysql\n",
    "from sqlalchemy import create_engine\n",
    "import re\n",
    "import os\n",
    "from functools import reduce\n",
    "pd.options.mode.chained_assignment = None  # default='warn'"
   ]
  },
  {
   "cell_type": "code",
   "execution_count": 2,
   "metadata": {},
   "outputs": [],
   "source": [
    "import math\n",
    "import matplotlib.pyplot as plt\n",
    "import datetime as dt\n",
    "from tensorflow.keras.models import Sequential\n",
    "from tensorflow.keras.layers import LSTM, Dense, Dropout, TimeDistributed\n",
    "from sklearn.preprocessing import MinMaxScaler, StandardScaler\n",
    "from sklearn.metrics import mean_squared_error, mean_absolute_error\n",
    "from tensorflow.keras.optimizers import Adam\n",
    "from sklearn.model_selection import train_test_split\n",
    "from tensorflow.keras.callbacks import EarlyStopping, ReduceLROnPlateau, ModelCheckpoint, TensorBoard"
   ]
  },
  {
   "cell_type": "markdown",
   "metadata": {},
   "source": [
    "### Loading Data From Database(MySQL)"
   ]
  },
  {
   "cell_type": "code",
   "execution_count": 3,
   "metadata": {},
   "outputs": [],
   "source": [
    "username = 'yuting'\n",
    "password = pwd\n",
    "host_port = host_port\n",
    "database = 'twfruits'\n",
    "\n",
    "engine = create_engine(\"mysql+pymysql://{}:{}@{}/{}\".format(username, password, host_port, database))\n",
    "con = engine.connect()"
   ]
  },
  {
   "cell_type": "code",
   "execution_count": 4,
   "metadata": {},
   "outputs": [
    {
     "data": {
      "text/html": [
       "<div>\n",
       "<style scoped>\n",
       "    .dataframe tbody tr th:only-of-type {\n",
       "        vertical-align: middle;\n",
       "    }\n",
       "\n",
       "    .dataframe tbody tr th {\n",
       "        vertical-align: top;\n",
       "    }\n",
       "\n",
       "    .dataframe thead th {\n",
       "        text-align: right;\n",
       "    }\n",
       "</style>\n",
       "<table border=\"1\" class=\"dataframe\">\n",
       "  <thead>\n",
       "    <tr style=\"text-align: right;\">\n",
       "      <th></th>\n",
       "      <th>日期</th>\n",
       "      <th>市場</th>\n",
       "      <th>產品</th>\n",
       "      <th>上價</th>\n",
       "      <th>中價</th>\n",
       "      <th>下價</th>\n",
       "      <th>平均價(元/公斤)</th>\n",
       "      <th>交易量(公斤)</th>\n",
       "    </tr>\n",
       "  </thead>\n",
       "  <tbody>\n",
       "    <tr>\n",
       "      <th>0</th>\n",
       "      <td>100/01/07</td>\n",
       "      <td>104 台北二</td>\n",
       "      <td>P3 番石榴 帝王芭</td>\n",
       "      <td>28.0</td>\n",
       "      <td>26.1</td>\n",
       "      <td>20.0</td>\n",
       "      <td>25.3</td>\n",
       "      <td>48</td>\n",
       "    </tr>\n",
       "    <tr>\n",
       "      <th>1</th>\n",
       "      <td>100/01/08</td>\n",
       "      <td>104 台北二</td>\n",
       "      <td>P3 番石榴 帝王芭</td>\n",
       "      <td>41.0</td>\n",
       "      <td>30.9</td>\n",
       "      <td>18.0</td>\n",
       "      <td>30.4</td>\n",
       "      <td>56</td>\n",
       "    </tr>\n",
       "    <tr>\n",
       "      <th>2</th>\n",
       "      <td>100/01/14</td>\n",
       "      <td>104 台北二</td>\n",
       "      <td>P3 番石榴 帝王芭</td>\n",
       "      <td>20.0</td>\n",
       "      <td>20.0</td>\n",
       "      <td>20.0</td>\n",
       "      <td>20.0</td>\n",
       "      <td>33</td>\n",
       "    </tr>\n",
       "    <tr>\n",
       "      <th>3</th>\n",
       "      <td>100/01/15</td>\n",
       "      <td>104 台北二</td>\n",
       "      <td>P3 番石榴 帝王芭</td>\n",
       "      <td>25.0</td>\n",
       "      <td>25.0</td>\n",
       "      <td>25.0</td>\n",
       "      <td>25.0</td>\n",
       "      <td>40</td>\n",
       "    </tr>\n",
       "    <tr>\n",
       "      <th>4</th>\n",
       "      <td>100/01/18</td>\n",
       "      <td>104 台北二</td>\n",
       "      <td>P3 番石榴 帝王芭</td>\n",
       "      <td>31.4</td>\n",
       "      <td>21.3</td>\n",
       "      <td>12.0</td>\n",
       "      <td>21.4</td>\n",
       "      <td>66</td>\n",
       "    </tr>\n",
       "  </tbody>\n",
       "</table>\n",
       "</div>"
      ],
      "text/plain": [
       "          日期       市場           產品    上價    中價    下價  平均價(元/公斤)  交易量(公斤)\n",
       "0  100/01/07  104 台北二  P3 番石榴 帝王芭   28.0  26.1  20.0       25.3       48\n",
       "1  100/01/08  104 台北二  P3 番石榴 帝王芭   41.0  30.9  18.0       30.4       56\n",
       "2  100/01/14  104 台北二  P3 番石榴 帝王芭   20.0  20.0  20.0       20.0       33\n",
       "3  100/01/15  104 台北二  P3 番石榴 帝王芭   25.0  25.0  25.0       25.0       40\n",
       "4  100/01/18  104 台北二  P3 番石榴 帝王芭   31.4  21.3  12.0       21.4       66"
      ]
     },
     "execution_count": 4,
     "metadata": {},
     "output_type": "execute_result"
    }
   ],
   "source": [
    "df = pd.read_sql('marketing_price_emperorguava', engine)\n",
    "df.head()"
   ]
  },
  {
   "cell_type": "markdown",
   "metadata": {},
   "source": [
    "#### Data Cleaning"
   ]
  },
  {
   "cell_type": "code",
   "execution_count": 7,
   "metadata": {},
   "outputs": [],
   "source": [
    "from my_libs.data_cleaner import df_cleaner, df_merger"
   ]
  },
  {
   "cell_type": "code",
   "execution_count": 5,
   "metadata": {},
   "outputs": [],
   "source": [
    "fruits = {\"banana\": [\"banana\", \"scarletbanana\", \"guava\"],\n",
    "          \"guava\":  [\"guava\", 'emperorguava', 'banana']}\n",
    "n = \"guava\"\n",
    "markets = ['台北二', '台北一', '三重區', '台中市']\n",
    "\n",
    "df = df_cleaner(pd.read_sql(f'marketing_price_{fruits[n][0]}', engine))\n",
    "df_same = df_cleaner(pd.read_sql(f'marketing_price_{fruits[n][1]}', engine))\n",
    "df_sub = df_cleaner(pd.read_sql(f'marketing_price_{fruits[n][2]}', engine))\n"
   ]
  },
  {
   "cell_type": "code",
   "execution_count": 6,
   "metadata": {},
   "outputs": [
    {
     "data": {
      "text/html": [
       "<div>\n",
       "<style scoped>\n",
       "    .dataframe tbody tr th:only-of-type {\n",
       "        vertical-align: middle;\n",
       "    }\n",
       "\n",
       "    .dataframe tbody tr th {\n",
       "        vertical-align: top;\n",
       "    }\n",
       "\n",
       "    .dataframe thead th {\n",
       "        text-align: right;\n",
       "    }\n",
       "</style>\n",
       "<table border=\"1\" class=\"dataframe\">\n",
       "  <thead>\n",
       "    <tr style=\"text-align: right;\">\n",
       "      <th></th>\n",
       "      <th>日期</th>\n",
       "      <th>banana_平均價</th>\n",
       "      <th>banana_交易量</th>\n",
       "      <th>scarletbanana_平均價</th>\n",
       "      <th>guava_平均價</th>\n",
       "      <th>banana_前日平均價</th>\n",
       "      <th>banana_5日平均價</th>\n",
       "    </tr>\n",
       "  </thead>\n",
       "  <tbody>\n",
       "    <tr>\n",
       "      <th>0</th>\n",
       "      <td>2011-01-01</td>\n",
       "      <td>33.7</td>\n",
       "      <td>18212.0</td>\n",
       "      <td>47.7</td>\n",
       "      <td>22.1</td>\n",
       "      <td>33.7</td>\n",
       "      <td>35.5</td>\n",
       "    </tr>\n",
       "    <tr>\n",
       "      <th>1</th>\n",
       "      <td>2011-01-02</td>\n",
       "      <td>36.1</td>\n",
       "      <td>22148.0</td>\n",
       "      <td>44.2</td>\n",
       "      <td>21.7</td>\n",
       "      <td>33.7</td>\n",
       "      <td>35.5</td>\n",
       "    </tr>\n",
       "    <tr>\n",
       "      <th>2</th>\n",
       "      <td>2011-01-03</td>\n",
       "      <td>36.1</td>\n",
       "      <td>22307.5</td>\n",
       "      <td>59.6</td>\n",
       "      <td>23.3</td>\n",
       "      <td>36.1</td>\n",
       "      <td>35.5</td>\n",
       "    </tr>\n",
       "    <tr>\n",
       "      <th>3</th>\n",
       "      <td>2011-01-04</td>\n",
       "      <td>36.1</td>\n",
       "      <td>22467.0</td>\n",
       "      <td>75.0</td>\n",
       "      <td>24.9</td>\n",
       "      <td>36.1</td>\n",
       "      <td>35.5</td>\n",
       "    </tr>\n",
       "    <tr>\n",
       "      <th>4</th>\n",
       "      <td>2011-01-05</td>\n",
       "      <td>35.6</td>\n",
       "      <td>17132.0</td>\n",
       "      <td>54.5</td>\n",
       "      <td>23.6</td>\n",
       "      <td>36.1</td>\n",
       "      <td>35.5</td>\n",
       "    </tr>\n",
       "    <tr>\n",
       "      <th>...</th>\n",
       "      <td>...</td>\n",
       "      <td>...</td>\n",
       "      <td>...</td>\n",
       "      <td>...</td>\n",
       "      <td>...</td>\n",
       "      <td>...</td>\n",
       "      <td>...</td>\n",
       "    </tr>\n",
       "    <tr>\n",
       "      <th>3866</th>\n",
       "      <td>2021-08-02</td>\n",
       "      <td>17.8</td>\n",
       "      <td>23704.0</td>\n",
       "      <td>30.9</td>\n",
       "      <td>30.5</td>\n",
       "      <td>17.7</td>\n",
       "      <td>18.8</td>\n",
       "    </tr>\n",
       "    <tr>\n",
       "      <th>3867</th>\n",
       "      <td>2021-08-03</td>\n",
       "      <td>17.8</td>\n",
       "      <td>32079.0</td>\n",
       "      <td>33.9</td>\n",
       "      <td>30.3</td>\n",
       "      <td>17.8</td>\n",
       "      <td>18.4</td>\n",
       "    </tr>\n",
       "    <tr>\n",
       "      <th>3868</th>\n",
       "      <td>2021-08-04</td>\n",
       "      <td>19.7</td>\n",
       "      <td>24201.0</td>\n",
       "      <td>32.1</td>\n",
       "      <td>30.9</td>\n",
       "      <td>17.8</td>\n",
       "      <td>18.1</td>\n",
       "    </tr>\n",
       "    <tr>\n",
       "      <th>3869</th>\n",
       "      <td>2021-08-05</td>\n",
       "      <td>18.1</td>\n",
       "      <td>42196.0</td>\n",
       "      <td>36.2</td>\n",
       "      <td>31.8</td>\n",
       "      <td>19.7</td>\n",
       "      <td>18.2</td>\n",
       "    </tr>\n",
       "    <tr>\n",
       "      <th>3870</th>\n",
       "      <td>2021-08-06</td>\n",
       "      <td>19.4</td>\n",
       "      <td>38295.0</td>\n",
       "      <td>33.3</td>\n",
       "      <td>30.4</td>\n",
       "      <td>18.1</td>\n",
       "      <td>18.6</td>\n",
       "    </tr>\n",
       "  </tbody>\n",
       "</table>\n",
       "<p>3871 rows × 7 columns</p>\n",
       "</div>"
      ],
      "text/plain": [
       "             日期  banana_平均價  banana_交易量  scarletbanana_平均價  guava_平均價  \\\n",
       "0    2011-01-01        33.7     18212.0               47.7       22.1   \n",
       "1    2011-01-02        36.1     22148.0               44.2       21.7   \n",
       "2    2011-01-03        36.1     22307.5               59.6       23.3   \n",
       "3    2011-01-04        36.1     22467.0               75.0       24.9   \n",
       "4    2011-01-05        35.6     17132.0               54.5       23.6   \n",
       "...         ...         ...         ...                ...        ...   \n",
       "3866 2021-08-02        17.8     23704.0               30.9       30.5   \n",
       "3867 2021-08-03        17.8     32079.0               33.9       30.3   \n",
       "3868 2021-08-04        19.7     24201.0               32.1       30.9   \n",
       "3869 2021-08-05        18.1     42196.0               36.2       31.8   \n",
       "3870 2021-08-06        19.4     38295.0               33.3       30.4   \n",
       "\n",
       "      banana_前日平均價  banana_5日平均價  \n",
       "0             33.7          35.5  \n",
       "1             33.7          35.5  \n",
       "2             36.1          35.5  \n",
       "3             36.1          35.5  \n",
       "4             36.1          35.5  \n",
       "...            ...           ...  \n",
       "3866          17.7          18.8  \n",
       "3867          17.8          18.4  \n",
       "3868          17.8          18.1  \n",
       "3869          19.7          18.2  \n",
       "3870          18.1          18.6  \n",
       "\n",
       "[3871 rows x 7 columns]"
      ]
     },
     "execution_count": 6,
     "metadata": {},
     "output_type": "execute_result"
    }
   ],
   "source": [
    "df_merger(df, df_same, df_sub, fruits[\"banana\"], market='台中市')"
   ]
  },
  {
   "cell_type": "code",
   "execution_count": null,
   "metadata": {},
   "outputs": [],
   "source": []
  },
  {
   "cell_type": "code",
   "execution_count": null,
   "metadata": {},
   "outputs": [],
   "source": []
  },
  {
   "cell_type": "markdown",
   "metadata": {},
   "source": [
    "### 訓練集&測試集"
   ]
  },
  {
   "cell_type": "code",
   "execution_count": 5,
   "metadata": {},
   "outputs": [],
   "source": [
    "def train_test_split(df):\n",
    "    test_samples = int(df.shape[0]*0.2)\n",
    "    \n",
    "    # 訓練集\n",
    "    train_data = df.iloc[:-test_samples, :]\n",
    "    train_set = train_data.iloc[:, 1:].values           # 取得train_set(array)\n",
    " \n",
    "    \n",
    "    # 測試集\n",
    "    test_data = df.iloc[-test_samples:, :]\n",
    "    test_set = test_data.iloc[:, 1:].values             # 取得test_set(array)\n",
    "       \n",
    "    return train_set, test_set"
   ]
  },
  {
   "cell_type": "code",
   "execution_count": null,
   "metadata": {},
   "outputs": [],
   "source": []
  },
  {
   "cell_type": "markdown",
   "metadata": {},
   "source": [
    "### data normalization"
   ]
  },
  {
   "cell_type": "code",
   "execution_count": 7,
   "metadata": {},
   "outputs": [],
   "source": [
    "def data_normalization(input_set):\n",
    "    \n",
    "    # 訓練集(scaler)\n",
    "    sc = StandardScaler()\n",
    "    input_set_sc = sc.fit_transform(input_set[:, :])\n",
    "\n",
    "    sc_target = StandardScaler()\n",
    "    sc_target.fit_transform(input_set[:, 0:1])\n",
    "    \n",
    "    return input_set_sc, sc_target"
   ]
  },
  {
   "cell_type": "code",
   "execution_count": null,
   "metadata": {},
   "outputs": [],
   "source": []
  },
  {
   "cell_type": "markdown",
   "metadata": {},
   "source": [
    "#### 創造X、Y資料"
   ]
  },
  {
   "cell_type": "code",
   "execution_count": 8,
   "metadata": {},
   "outputs": [],
   "source": [
    "def split_Xy(input_set_sc, n_future, n_past):\n",
    "    X = []\n",
    "    y = []\n",
    "\n",
    "    for i in range(n_past, len(input_set_sc)-n_future+1): # 扣掉最後預測天數已符合y_test的length \n",
    "        X.append(input_set_sc[i-n_past:i, 1:])       # 利用前30天資料來預測後7天價格，            ###特徵值排除banana價格本身\n",
    "        y.append(input_set_sc[i:i+n_future, 0])      # 後7天價格\n",
    "\n",
    "    X, y = np.array(X), np.array(y) \n",
    "    \n",
    "    print(\"X's shape: {}\".format(X.shape))\n",
    "    print(\"y's shape: {}\".format(y.shape))\n",
    "    \n",
    "    return X, y"
   ]
  },
  {
   "cell_type": "code",
   "execution_count": null,
   "metadata": {},
   "outputs": [],
   "source": []
  },
  {
   "cell_type": "code",
   "execution_count": null,
   "metadata": {},
   "outputs": [],
   "source": []
  },
  {
   "cell_type": "markdown",
   "metadata": {},
   "source": [
    "### model biluder"
   ]
  },
  {
   "cell_type": "code",
   "execution_count": 20,
   "metadata": {},
   "outputs": [],
   "source": [
    "def model_creator(n_steps, n_features, output):\n",
    "    model = Sequential()\n",
    "    \n",
    "    # 1st layer \n",
    "    # input_shape => n_step, n_feature \n",
    "\n",
    "\n",
    "    model.add(LSTM(units=64, activation=\"relu\", input_shape=(n_steps, n_features)))#, return_sequences=True)) \n",
    "\n",
    "    #model.add(LSTM(units=32, activation=\"relu\", return_sequences=False))          \n",
    "\n",
    "    #model.add(Dropout(0.2))\n",
    "\n",
    "    model.add(Dense(output))          \n",
    "\n",
    "    model.summary() \n",
    "     \n",
    "    return model"
   ]
  },
  {
   "cell_type": "code",
   "execution_count": null,
   "metadata": {},
   "outputs": [],
   "source": []
  },
  {
   "cell_type": "markdown",
   "metadata": {},
   "source": [
    "### model trainer"
   ]
  },
  {
   "cell_type": "code",
   "execution_count": 10,
   "metadata": {},
   "outputs": [],
   "source": [
    "def model_trainer(model, X_train, y_train, epoch, batch_size):\n",
    "    \n",
    "    model.compile(optimizer=\"adam\", loss=\"mean_squared_error\")\n",
    "    \n",
    "    # 提升訓練效率\n",
    "    es = EarlyStopping(monitor='val_loss', min_delta=1e-10, patience=10, verbose=1)\n",
    "    rlr = ReduceLROnPlateau(monitor='val_loss', factor=0.5, patience=10, verbose=1)\n",
    "    mcp = ModelCheckpoint(filepath='weights.h5', monitor='val_loss', verbose=1, save_best_only=True, save_weights_only=True)\n",
    "    \n",
    "    history = model.fit(X_train, y_train, epochs=epoch, \n",
    "                        batch_size=batch_size,\n",
    "                        callbacks=[es, rlr, mcp], \n",
    "                        validation_split=0.1,\n",
    "                        shuffle=False,\n",
    "                        verbose=1)\n",
    "    # 視覺化\n",
    "    plt.plot(history.history['loss'], label='Training loss')\n",
    "    plt.plot(history.history['val_loss'], label='Validation loss')\n",
    "    plt.legend()\n",
    "    \n",
    "    return model"
   ]
  },
  {
   "cell_type": "code",
   "execution_count": null,
   "metadata": {},
   "outputs": [],
   "source": []
  },
  {
   "cell_type": "markdown",
   "metadata": {},
   "source": [
    "### 驗證model準確率"
   ]
  },
  {
   "cell_type": "code",
   "execution_count": 11,
   "metadata": {},
   "outputs": [],
   "source": [
    "def model_validation(model, X, y, sc_target):\n",
    "    \n",
    "    # 預測\n",
    "    prediction = model.predict(X)\n",
    "    prediction = sc_target.inverse_transform(prediction)\n",
    "    actual = sc_target.inverse_transform(y)\n",
    "    \n",
    "    rmse_result = []\n",
    "    for i in range(len(prediction)):\n",
    "        rmse = mean_squared_error(prediction[i], actual[i], squared=False)\n",
    "        rmse_result.append(rmse)\n",
    "\n",
    "    pd.DataFrame({\"rmse\":rmse_result}).plot()\n",
    "    \n",
    "    return prediction, actual"
   ]
  },
  {
   "cell_type": "code",
   "execution_count": null,
   "metadata": {},
   "outputs": [],
   "source": []
  },
  {
   "cell_type": "code",
   "execution_count": 21,
   "metadata": {},
   "outputs": [
    {
     "name": "stdout",
     "output_type": "stream",
     "text": [
      "X's shape: (3080, 3, 5)\n",
      "y's shape: (3080, 15)\n",
      "Model: \"sequential_3\"\n",
      "_________________________________________________________________\n",
      "Layer (type)                 Output Shape              Param #   \n",
      "=================================================================\n",
      "lstm_6 (LSTM)                (None, 64)                17920     \n",
      "_________________________________________________________________\n",
      "dense_3 (Dense)              (None, 15)                975       \n",
      "=================================================================\n",
      "Total params: 18,895\n",
      "Trainable params: 18,895\n",
      "Non-trainable params: 0\n",
      "_________________________________________________________________\n",
      "Epoch 1/12\n",
      "22/22 [==============================] - 2s 14ms/step - loss: 0.9956 - val_loss: 0.1593\n",
      "\n",
      "Epoch 00001: val_loss improved from inf to 0.15935, saving model to weights.h5\n",
      "Epoch 2/12\n",
      "22/22 [==============================] - 0s 5ms/step - loss: 0.8373 - val_loss: 0.1230\n",
      "\n",
      "Epoch 00002: val_loss improved from 0.15935 to 0.12303, saving model to weights.h5\n",
      "Epoch 3/12\n",
      "22/22 [==============================] - 0s 5ms/step - loss: 0.6035 - val_loss: 0.0770\n",
      "\n",
      "Epoch 00003: val_loss improved from 0.12303 to 0.07697, saving model to weights.h5\n",
      "Epoch 4/12\n",
      "22/22 [==============================] - 0s 4ms/step - loss: 0.3480 - val_loss: 0.0687\n",
      "\n",
      "Epoch 00004: val_loss improved from 0.07697 to 0.06868, saving model to weights.h5\n",
      "Epoch 5/12\n",
      "22/22 [==============================] - 0s 4ms/step - loss: 0.2161 - val_loss: 0.0729\n",
      "\n",
      "Epoch 00005: val_loss did not improve from 0.06868\n",
      "Epoch 6/12\n",
      "22/22 [==============================] - 0s 4ms/step - loss: 0.1662 - val_loss: 0.0684\n",
      "\n",
      "Epoch 00006: val_loss improved from 0.06868 to 0.06836, saving model to weights.h5\n",
      "Epoch 7/12\n",
      "22/22 [==============================] - 0s 7ms/step - loss: 0.1446 - val_loss: 0.0692\n",
      "\n",
      "Epoch 00007: val_loss did not improve from 0.06836\n",
      "Epoch 8/12\n",
      "22/22 [==============================] - 0s 4ms/step - loss: 0.1354 - val_loss: 0.0664\n",
      "\n",
      "Epoch 00008: val_loss improved from 0.06836 to 0.06642, saving model to weights.h5\n",
      "Epoch 9/12\n",
      "22/22 [==============================] - 0s 6ms/step - loss: 0.1260 - val_loss: 0.0657\n",
      "\n",
      "Epoch 00009: val_loss improved from 0.06642 to 0.06571, saving model to weights.h5\n",
      "Epoch 10/12\n",
      "22/22 [==============================] - 0s 6ms/step - loss: 0.1222 - val_loss: 0.0641\n",
      "\n",
      "Epoch 00010: val_loss improved from 0.06571 to 0.06412, saving model to weights.h5\n",
      "Epoch 11/12\n",
      "22/22 [==============================] - 0s 5ms/step - loss: 0.1156 - val_loss: 0.0630\n",
      "\n",
      "Epoch 00011: val_loss improved from 0.06412 to 0.06298, saving model to weights.h5\n",
      "Epoch 12/12\n",
      "22/22 [==============================] - 0s 5ms/step - loss: 0.1133 - val_loss: 0.0619\n",
      "\n",
      "Epoch 00012: val_loss improved from 0.06298 to 0.06189, saving model to weights.h5\n",
      "X's shape: (757, 3, 5)\n",
      "y's shape: (757, 15)\n"
     ]
    },
    {
     "data": {
      "image/png": "[encoded data removed]",
      "text/plain": [
       "<Figure size 432x288 with 1 Axes>"
      ]
     },
     "metadata": {
      "needs_background": "light"
     },
     "output_type": "display_data"
    },
    {
     "data": {
      "image/png": "[encoded data removed]",
      "text/plain": [
       "<Figure size 432x288 with 1 Axes>"
      ]
     },
     "metadata": {
      "needs_background": "light"
     },
     "output_type": "display_data"
    },
    {
     "data": {
      "image/png": "[encoded data removed]",
      "text/plain": [
       "<Figure size 432x288 with 1 Axes>"
      ]
     },
     "metadata": {
      "needs_background": "light"
     },
     "output_type": "display_data"
    }
   ],
   "source": [
    "Type = \"banana\"\n",
    "market = \"台北二\"\n",
    "\n",
    "n_future = \n",
    "n_past = \n",
    "\n",
    "\n",
    "# 讀取分析資料\n",
    "df = pd.read_sql(f\"{Type}_{market}\", engine)\n",
    "\n",
    "# 訓練集、測試集\n",
    "train_set, test_set = train_test_split(df)\n",
    "\n",
    "### 訓練集part\n",
    "# 訓練集(sc)、訓練集預測(scaler)\n",
    "train_set_sc, sc_train_target = data_normalization(train_set)\n",
    "\n",
    "# 訓練集\n",
    "X_train, y_train = split_Xy(train_set_sc, n_future=15, n_past=3)\n",
    "\n",
    "# 創造momdel\n",
    "model = model_creator(n_past=X_train.shape[1], n_features=X_train.shape[2], output=y_train.shape[1])\n",
    "\n",
    "# 訓練model\n",
    "trained_model = model_trainer(model, X_train, y_train, epoch=12, batch_size=128)\n",
    "\n",
    "# 訓練集驗證\n",
    "prediction_train, actual_train = model_validation(trained_model, X_train, y_train, sc_train_target)\n",
    "\n",
    "### 測試集part\n",
    "# 測試集(sc)、測試集預測(scaler)\n",
    "test_set_sc, sc_test_target = data_normalization(test_set)\n",
    "\n",
    "# 測試集、test_scaler\n",
    "X_test, y_test = split_Xy(test_set_sc, n_future=15, n_past=3)\n",
    "\n",
    "# 測試集驗證\n",
    "prediction_test, actual_test = model_validation(trained_model, X_test, y_test, sc_test_target)\n"
   ]
  },
  {
   "cell_type": "code",
   "execution_count": 22,
   "metadata": {},
   "outputs": [
    {
     "name": "stdout",
     "output_type": "stream",
     "text": [
      "[31.178009 30.748245 30.379797 31.049479 31.248592 30.127357 30.043394\n",
      " 30.870543 31.007965 31.158302 29.734823 29.706379 29.63619  30.553246\n",
      " 30.350584]\n",
      "[31.8 29.5 34.4 33.6 32.8 34.3 41.2 37.3 37.6 40.2 37.7 35.2 37.9 40.7\n",
      " 38.3]\n"
     ]
    }
   ],
   "source": [
    "print(prediction_test[-1])\n",
    "print(actual_test[-1])"
   ]
  },
  {
   "cell_type": "markdown",
   "metadata": {},
   "source": [
    "### 從SQL取資料進行模型訓練 => 完成後存成h5檔(共8個)\n",
    "- 儲存訓練完成的model"
   ]
  },
  {
   "cell_type": "code",
   "execution_count": null,
   "metadata": {},
   "outputs": [],
   "source": [
    "fruits = {\"banana\": [\"banana\", \"scarletbanana\", \"guava\"],\n",
    "          \"guava\":  [\"guava\", 'emperorguava', 'banana']}\n",
    "\n",
    "markets = ['台北二', '台北一', '三重區', '台中市']\n",
    "\n",
    "\n",
    "for Type, fruit in fruits.items():\n",
    "    for market in markets:\n",
    "    \n",
    "        # 讀取分析資料\n",
    "        df = pd.read_sql(f\"{Type}_{market}\", engine)\n",
    "    \n",
    "        # 訓練集、測試集\n",
    "        train_set, test_set = train_test_split(df)\n",
    "\n",
    "        ### 訓練集part\n",
    "        # 訓練集(sc)、訓練集預測(scaler)\n",
    "        train_set_sc, sc_train_target = data_normalization(train_set)\n",
    "\n",
    "        # 訓練集\n",
    "        X_train, y_train = split_Xy(train_set_sc, n_future=5, n_past=30)\n",
    "\n",
    "        # 創造momdel\n",
    "        model = model_creator(n_steps=X_train.shape[1], n_features=X_train.shape[2])\n",
    "\n",
    "        # 訓練model\n",
    "        trained_model = model_trainer(model, X_train, y_train, epoch=12, batch_size=128)\n",
    "\n",
    "        # 訓練集驗證\n",
    "        prediction_train, actual_train = model_validation(trained_model, X_train, y_train, sc_train_target)\n",
    "\n",
    "        ### 測試集part\n",
    "        # 測試集(sc)、測試集預測(scaler)\n",
    "        test_set_sc, sc_test_target = data_normalization(test_set)\n",
    "\n",
    "        # 測試集、test_scaler\n",
    "        X_test, y_test = split_Xy(test_set_sc, n_future=5, n_past=30)\n",
    "\n",
    "        # 測試集驗證\n",
    "        prediction_test, actual_test = model_validation(trained_model, X_test, y_test, sc_test_target)\n",
    "        \n",
    "        # 儲存模型\n",
    "        # model.save(f\"C:/Users/Tibame/PycharmProjects/PythonETL/Fruit Price Prediction/models/{Type}_Price/{market}.h5\")\n",
    "        \n",
    "        "
   ]
  },
  {
   "cell_type": "code",
   "execution_count": null,
   "metadata": {},
   "outputs": [],
   "source": []
  },
  {
   "cell_type": "markdown",
   "metadata": {},
   "source": [
    "### 從SQL取資料進行價格預測\n",
    "- 稍待DB那邊資料清洗合併後存入，直接SQL語句取值進行分析\n",
    "- 預測結果存入DB"
   ]
  },
  {
   "cell_type": "code",
   "execution_count": null,
   "metadata": {},
   "outputs": [],
   "source": [
    "fruits = {\"banana\": [\"banana\", \"scarletbanana\", \"guava\"],\n",
    "          \"guava\":  [\"guava\", 'emperorguava', 'banana']}\n",
    "\n",
    "markets = ['台北二', '台北一', '三重區', '台中市']\n",
    "\n",
    "\n",
    "for Fruit, Type in fruits.items():\n",
    "    for market in markets:\n",
    "        \n",
    "        product = Type[0]\n",
    "        same = Type[1]\n",
    "        sub = Type[2]\n",
    "        \n",
    "        # 從SQL讀取分析資料，轉換成矩陣\n",
    "        df_set = pd.read_sql_query(f\"\"\"select `{product}_平均價`, `{product}_交易量`, `{same}_平均價`, \n",
    "                                       `{sub}_平均價`, `{product}_前日平均價`, `{product}_5日平均價` \n",
    "                                       from {product}_{market}\n",
    "                                       order by `日期` desc\n",
    "                                       limit 30\"\"\", con).values \n",
    "        \n",
    "        # 標準化\n",
    "        df_set_sc, sc_target = data_normalization(df_set)\n",
    "        \n",
    "        # reshape => 需符合input的shape\n",
    "        df_set_sc = df_set_sc.reshape(-1, 30, 6)\n",
    "        \n",
    "        # 載入model\n",
    "        model_loaded = keras.models.load_model(f\"models/{product}_Price/{market}.h5\")\n",
    "        \n",
    "        # 進行預測\n",
    "        pred_result = model_loaded(df_set_sc) # 使用model_loaded.predict(df_set_sc)會跳出tensorflow wwarning\n",
    "        \n",
    "        # 透過inverse_transform還原為原本數值\n",
    "        output = sc_target.inverse_transform(pred_result)\n",
    "        \n",
    "        print(f\"{Fruit}_{market}市場未來7日預測價: \", output.reshape(-1).round(1))\n"
   ]
  },
  {
   "cell_type": "code",
   "execution_count": null,
   "metadata": {},
   "outputs": [],
   "source": []
  },
  {
   "cell_type": "code",
   "execution_count": null,
   "metadata": {},
   "outputs": [],
   "source": []
  },
  {
   "cell_type": "code",
   "execution_count": null,
   "metadata": {},
   "outputs": [],
   "source": []
  },
  {
   "cell_type": "code",
   "execution_count": null,
   "metadata": {},
   "outputs": [],
   "source": []
  }
 ],
 "metadata": {
  "kernelspec": {
   "display_name": "Python 3",
   "language": "python",
   "name": "python3"
  },
  "language_info": {
   "codemirror_mode": {
    "name": "ipython",
    "version": 3
   },
   "file_extension": ".py",
   "mimetype": "text/x-python",
   "name": "python",
   "nbconvert_exporter": "python",
   "pygments_lexer": "ipython3",
   "version": "3.8.5"
  }
 },
 "nbformat": 4,
 "nbformat_minor": 4
}
