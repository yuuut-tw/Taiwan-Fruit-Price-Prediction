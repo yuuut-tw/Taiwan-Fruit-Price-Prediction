{
 "cells": [
  {
   "cell_type": "code",
   "execution_count": 1,
   "metadata": {},
   "outputs": [],
   "source": [
    "import pandas as pd\n",
    "import numpy as np\n",
    "import pymysql\n",
    "from sqlalchemy import create_engine\n",
    "import re\n",
    "import os\n",
    "from functools import reduce\n",
    "pd.options.mode.chained_assignment = None  # default='warn'"
   ]
  },
  {
   "cell_type": "code",
   "execution_count": 2,
   "metadata": {},
   "outputs": [],
   "source": [
    "import math\n",
    "import matplotlib.pyplot as plt\n",
    "import datetime as dt\n",
    "from tensorflow.keras.models import Sequential, load_model\n",
    "from tensorflow.keras.layers import LSTM, Dense, Dropout, TimeDistributed, RepeatVector\n",
    "from sklearn.preprocessing import MinMaxScaler, StandardScaler, RobustScaler\n",
    "from sklearn.metrics import mean_squared_error, mean_absolute_error\n",
    "from tensorflow.keras.optimizers import Adam\n",
    "from sklearn.model_selection import train_test_split\n",
    "from tensorflow.keras.callbacks import EarlyStopping, ReduceLROnPlateau, ModelCheckpoint, TensorBoard\n",
    "from tensorflow import keras"
   ]
  },
  {
   "cell_type": "code",
   "execution_count": null,
   "metadata": {},
   "outputs": [],
   "source": []
  },
  {
   "cell_type": "markdown",
   "metadata": {},
   "source": [
    "## 讀取檔案"
   ]
  },
  {
   "cell_type": "code",
   "execution_count": 3,
   "metadata": {},
   "outputs": [],
   "source": [
    "username = 'root'\n",
    "password = 'yuting1101'\n",
    "host_port = 'localhost:3306' \n",
    "database = 'twfruits'\n",
    "\n",
    "engine = create_engine(\"mysql+pymysql://{}:{}@{}/{}\".format(username, password, host_port, database))\n",
    "con = engine.connect()"
   ]
  },
  {
   "cell_type": "code",
   "execution_count": 4,
   "metadata": {},
   "outputs": [
    {
     "data": {
      "text/html": [
       "<div>\n",
       "<style scoped>\n",
       "    .dataframe tbody tr th:only-of-type {\n",
       "        vertical-align: middle;\n",
       "    }\n",
       "\n",
       "    .dataframe tbody tr th {\n",
       "        vertical-align: top;\n",
       "    }\n",
       "\n",
       "    .dataframe thead th {\n",
       "        text-align: right;\n",
       "    }\n",
       "</style>\n",
       "<table border=\"1\" class=\"dataframe\">\n",
       "  <thead>\n",
       "    <tr style=\"text-align: right;\">\n",
       "      <th></th>\n",
       "      <th>日期</th>\n",
       "      <th>banana_平均價</th>\n",
       "      <th>banana_交易量</th>\n",
       "      <th>scarletbanana_平均價</th>\n",
       "      <th>guava_平均價</th>\n",
       "      <th>banana_前日平均價</th>\n",
       "      <th>banana_5日平均價</th>\n",
       "    </tr>\n",
       "  </thead>\n",
       "  <tbody>\n",
       "    <tr>\n",
       "      <th>0</th>\n",
       "      <td>2011-01-01</td>\n",
       "      <td>31.4</td>\n",
       "      <td>9645.0</td>\n",
       "      <td>36.5</td>\n",
       "      <td>45.0</td>\n",
       "      <td>31.4</td>\n",
       "      <td>32.2</td>\n",
       "    </tr>\n",
       "    <tr>\n",
       "      <th>1</th>\n",
       "      <td>2011-01-02</td>\n",
       "      <td>32.0</td>\n",
       "      <td>12230.0</td>\n",
       "      <td>50.0</td>\n",
       "      <td>47.5</td>\n",
       "      <td>31.4</td>\n",
       "      <td>32.2</td>\n",
       "    </tr>\n",
       "    <tr>\n",
       "      <th>2</th>\n",
       "      <td>2011-01-03</td>\n",
       "      <td>32.2</td>\n",
       "      <td>12103.0</td>\n",
       "      <td>46.2</td>\n",
       "      <td>47.5</td>\n",
       "      <td>32.0</td>\n",
       "      <td>32.2</td>\n",
       "    </tr>\n",
       "    <tr>\n",
       "      <th>3</th>\n",
       "      <td>2011-01-04</td>\n",
       "      <td>32.4</td>\n",
       "      <td>11976.0</td>\n",
       "      <td>42.5</td>\n",
       "      <td>47.5</td>\n",
       "      <td>32.2</td>\n",
       "      <td>32.2</td>\n",
       "    </tr>\n",
       "    <tr>\n",
       "      <th>4</th>\n",
       "      <td>2011-01-05</td>\n",
       "      <td>33.2</td>\n",
       "      <td>7520.0</td>\n",
       "      <td>34.8</td>\n",
       "      <td>45.8</td>\n",
       "      <td>32.4</td>\n",
       "      <td>32.2</td>\n",
       "    </tr>\n",
       "    <tr>\n",
       "      <th>...</th>\n",
       "      <td>...</td>\n",
       "      <td>...</td>\n",
       "      <td>...</td>\n",
       "      <td>...</td>\n",
       "      <td>...</td>\n",
       "      <td>...</td>\n",
       "      <td>...</td>\n",
       "    </tr>\n",
       "    <tr>\n",
       "      <th>3868</th>\n",
       "      <td>2021-08-04</td>\n",
       "      <td>37.9</td>\n",
       "      <td>5550.0</td>\n",
       "      <td>35.2</td>\n",
       "      <td>31.4</td>\n",
       "      <td>35.2</td>\n",
       "      <td>37.7</td>\n",
       "    </tr>\n",
       "    <tr>\n",
       "      <th>3869</th>\n",
       "      <td>2021-08-05</td>\n",
       "      <td>40.7</td>\n",
       "      <td>5530.0</td>\n",
       "      <td>38.0</td>\n",
       "      <td>29.3</td>\n",
       "      <td>37.9</td>\n",
       "      <td>38.3</td>\n",
       "    </tr>\n",
       "    <tr>\n",
       "      <th>3870</th>\n",
       "      <td>2021-08-06</td>\n",
       "      <td>38.3</td>\n",
       "      <td>5891.0</td>\n",
       "      <td>38.6</td>\n",
       "      <td>32.9</td>\n",
       "      <td>40.7</td>\n",
       "      <td>38.0</td>\n",
       "    </tr>\n",
       "    <tr>\n",
       "      <th>3871</th>\n",
       "      <td>2021-08-07</td>\n",
       "      <td>46.1</td>\n",
       "      <td>4681.0</td>\n",
       "      <td>42.3</td>\n",
       "      <td>29.9</td>\n",
       "      <td>38.3</td>\n",
       "      <td>39.6</td>\n",
       "    </tr>\n",
       "    <tr>\n",
       "      <th>3872</th>\n",
       "      <td>2021-08-08</td>\n",
       "      <td>47.5</td>\n",
       "      <td>4485.0</td>\n",
       "      <td>40.4</td>\n",
       "      <td>48.4</td>\n",
       "      <td>46.1</td>\n",
       "      <td>42.1</td>\n",
       "    </tr>\n",
       "  </tbody>\n",
       "</table>\n",
       "<p>3873 rows × 7 columns</p>\n",
       "</div>"
      ],
      "text/plain": [
       "             日期  banana_平均價  banana_交易量  scarletbanana_平均價  guava_平均價  \\\n",
       "0    2011-01-01        31.4      9645.0               36.5       45.0   \n",
       "1    2011-01-02        32.0     12230.0               50.0       47.5   \n",
       "2    2011-01-03        32.2     12103.0               46.2       47.5   \n",
       "3    2011-01-04        32.4     11976.0               42.5       47.5   \n",
       "4    2011-01-05        33.2      7520.0               34.8       45.8   \n",
       "...         ...         ...         ...                ...        ...   \n",
       "3868 2021-08-04        37.9      5550.0               35.2       31.4   \n",
       "3869 2021-08-05        40.7      5530.0               38.0       29.3   \n",
       "3870 2021-08-06        38.3      5891.0               38.6       32.9   \n",
       "3871 2021-08-07        46.1      4681.0               42.3       29.9   \n",
       "3872 2021-08-08        47.5      4485.0               40.4       48.4   \n",
       "\n",
       "      banana_前日平均價  banana_5日平均價  \n",
       "0             31.4          32.2  \n",
       "1             31.4          32.2  \n",
       "2             32.0          32.2  \n",
       "3             32.2          32.2  \n",
       "4             32.4          32.2  \n",
       "...            ...           ...  \n",
       "3868          35.2          37.7  \n",
       "3869          37.9          38.3  \n",
       "3870          40.7          38.0  \n",
       "3871          38.3          39.6  \n",
       "3872          46.1          42.1  \n",
       "\n",
       "[3873 rows x 7 columns]"
      ]
     },
     "execution_count": 4,
     "metadata": {},
     "output_type": "execute_result"
    }
   ],
   "source": [
    "fruit = \"banana\"\n",
    "market = \"台北二\"\n",
    "df= pd.read_sql(f\"{fruit}_{market}\", engine)\n",
    "df"
   ]
  },
  {
   "cell_type": "code",
   "execution_count": null,
   "metadata": {},
   "outputs": [],
   "source": []
  },
  {
   "cell_type": "markdown",
   "metadata": {},
   "source": [
    "## 模型測試"
   ]
  },
  {
   "cell_type": "code",
   "execution_count": 5,
   "metadata": {},
   "outputs": [],
   "source": [
    "# 測試\n",
    "from my_libs.my_model_trainer_test import *"
   ]
  },
  {
   "cell_type": "code",
   "execution_count": 6,
   "metadata": {},
   "outputs": [
    {
     "name": "stdout",
     "output_type": "stream",
     "text": [
      "Ongoing: guava_台北一==========================================================================================\n",
      "X's shape: (3063, 30, 6)\n",
      "y's shape: (3063, 7)\n",
      "Model: \"sequential\"\n",
      "_________________________________________________________________\n",
      "Layer (type)                 Output Shape              Param #   \n",
      "=================================================================\n",
      "lstm (LSTM)                  (None, 30, 64)            18176     \n",
      "_________________________________________________________________\n",
      "lstm_1 (LSTM)                (None, 32)                12416     \n",
      "_________________________________________________________________\n",
      "dropout (Dropout)            (None, 32)                0         \n",
      "_________________________________________________________________\n",
      "dense (Dense)                (None, 7)                 231       \n",
      "=================================================================\n",
      "Total params: 30,823\n",
      "Trainable params: 30,823\n",
      "Non-trainable params: 0\n",
      "_________________________________________________________________\n",
      "Epoch 1/30\n",
      "20/20 [==============================] - 5s 77ms/step - loss: 0.8309 - val_loss: 0.3125\n",
      "Epoch 2/30\n",
      "20/20 [==============================] - 1s 47ms/step - loss: 0.4792 - val_loss: 0.2000\n",
      "Epoch 3/30\n",
      "20/20 [==============================] - 2s 78ms/step - loss: 0.3512 - val_loss: 0.1675\n",
      "Epoch 4/30\n",
      "20/20 [==============================] - 1s 63ms/step - loss: 0.3068 - val_loss: 0.1562\n",
      "Epoch 5/30\n",
      "20/20 [==============================] - 1s 49ms/step - loss: 0.2891 - val_loss: 0.1454\n",
      "Epoch 6/30\n",
      "20/20 [==============================] - 1s 51ms/step - loss: 0.2470 - val_loss: 0.1375\n",
      "Epoch 7/30\n",
      "20/20 [==============================] - 1s 54ms/step - loss: 0.2436 - val_loss: 0.1414\n",
      "Epoch 8/30\n",
      "20/20 [==============================] - 2s 96ms/step - loss: 0.2378 - val_loss: 0.1458\n",
      "Epoch 9/30\n",
      "20/20 [==============================] - 1s 52ms/step - loss: 0.2697 - val_loss: 0.1335\n",
      "Epoch 10/30\n",
      "20/20 [==============================] - 2s 114ms/step - loss: 0.2268 - val_loss: 0.1314\n",
      "Epoch 11/30\n",
      "20/20 [==============================] - 1s 48ms/step - loss: 0.2089 - val_loss: 0.1497\n",
      "Epoch 12/30\n",
      "20/20 [==============================] - 1s 50ms/step - loss: 0.2014 - val_loss: 0.1191\n",
      "Epoch 13/30\n",
      "20/20 [==============================] - 1s 49ms/step - loss: 0.1951 - val_loss: 0.1228\n",
      "Epoch 14/30\n",
      "20/20 [==============================] - 1s 52ms/step - loss: 0.1805 - val_loss: 0.1184\n",
      "Epoch 15/30\n",
      "20/20 [==============================] - 2s 90ms/step - loss: 0.1746 - val_loss: 0.1166\n",
      "Epoch 16/30\n",
      "20/20 [==============================] - 1s 49ms/step - loss: 0.1693 - val_loss: 0.1148\n",
      "Epoch 17/30\n",
      "20/20 [==============================] - 1s 51ms/step - loss: 0.1708 - val_loss: 0.1153\n",
      "Epoch 18/30\n",
      "20/20 [==============================] - 2s 121ms/step - loss: 0.1718 - val_loss: 0.1340\n",
      "Epoch 19/30\n",
      "20/20 [==============================] - 1s 49ms/step - loss: 0.1599 - val_loss: 0.1149\n",
      "Epoch 20/30\n",
      "20/20 [==============================] - 1s 55ms/step - loss: 0.1627 - val_loss: 0.1208\n",
      "Epoch 21/30\n",
      "20/20 [==============================] - 2s 77ms/step - loss: 0.1567 - val_loss: 0.1119\n",
      "Epoch 22/30\n",
      "20/20 [==============================] - 1s 65ms/step - loss: 0.1892 - val_loss: 0.1196\n",
      "Epoch 23/30\n",
      "20/20 [==============================] - 1s 74ms/step - loss: 0.1578 - val_loss: 0.1226\n",
      "Epoch 24/30\n",
      "20/20 [==============================] - 1s 63ms/step - loss: 0.1604 - val_loss: 0.1316\n",
      "Epoch 25/30\n",
      "20/20 [==============================] - 1s 54ms/step - loss: 0.1528 - val_loss: 0.1130\n",
      "Epoch 26/30\n",
      "20/20 [==============================] - 1s 50ms/step - loss: 0.1544 - val_loss: 0.1291\n",
      "Epoch 27/30\n",
      "20/20 [==============================] - 1s 65ms/step - loss: 0.1441 - val_loss: 0.1149\n",
      "Epoch 28/30\n",
      "20/20 [==============================] - 1s 53ms/step - loss: 0.1506 - val_loss: 0.1318\n",
      "Epoch 29/30\n",
      "20/20 [==============================] - 1s 50ms/step - loss: 0.1401 - val_loss: 0.1193\n",
      "Epoch 30/30\n",
      "20/20 [==============================] - 1s 47ms/step - loss: 0.1659 - val_loss: 0.1227\n",
      "X's shape: (738, 30, 6)\n",
      "y's shape: (738, 7)\n"
     ]
    },
    {
     "data": {
      "image/png": "[encoded data removed]",
      "text/plain": [
       "<Figure size 432x288 with 1 Axes>"
      ]
     },
     "metadata": {
      "needs_background": "light"
     },
     "output_type": "display_data"
    },
    {
     "data": {
      "image/png": "[encoded data removed]",
      "text/plain": [
       "<Figure size 432x288 with 1 Axes>"
      ]
     },
     "metadata": {
      "needs_background": "light"
     },
     "output_type": "display_data"
    },
    {
     "data": {
      "image/png": "[encoded data removed]",
      "text/plain": [
       "<Figure size 432x288 with 1 Axes>"
      ]
     },
     "metadata": {
      "needs_background": "light"
     },
     "output_type": "display_data"
    }
   ],
   "source": [
    "fruits = {\"banana\": [\"banana\", \"scarletbanana\", \"guava\"],\n",
    "          \"guava\":  [\"guava\", 'emperorguava', 'banana']}\n",
    "\n",
    "markets = ['台北二', '台北一', '三重區', '台中市']\n",
    "\n",
    "pred_list = []\n",
    "actual_list = []\n",
    "\n",
    "n_future = 7\n",
    "n_past = 30\n",
    "\n",
    "Fruit = 'guava'\n",
    "market = '台北一'\n",
    "\n",
    "# for Fruit, Type in fruits.items():\n",
    "#     for market in markets:\n",
    "print(f\"Ongoing: {Fruit}_{market}\" + \"===\"*30)\n",
    "# 讀取分析資料\n",
    "df_merged = pd.read_sql(f\"{Fruit}_{market}\", engine)\n",
    "\n",
    "\n",
    "# 訓練集、測試集\n",
    "train_set, test_set = train_test_split(df_merged)\n",
    "\n",
    "        ### 訓練集part\n",
    "# 訓練集(sc)、訓練集預測(scaler)\n",
    "train_set_sc, sc_train_target = data_normalization(train_set)\n",
    "\n",
    "        # 訓練集\n",
    "X_train, y_train = split_Xy(train_set_sc, n_future=n_future, n_past=n_past)\n",
    "\n",
    "        # 創造momdel\n",
    "model = model_creator(n_past=X_train.shape[1], n_features=X_train.shape[2], output=y_train.shape[1])\n",
    "\n",
    "        # 訓練model\n",
    "trained_model = model_trainer(model, X_train, y_train, epoch=30, batch_size=128, loss_visualize=True)\n",
    "\n",
    "        # 訓練集驗證\n",
    "prediction_train, actual_train = model_validation(trained_model, X_train, y_train, sc_train_target)\n",
    "\n",
    "        ### 測試集part\n",
    "        # 測試集(sc)、測試集預測(scaler)\n",
    "test_set_sc, sc_test_target = data_normalization(test_set)\n",
    "\n",
    "        # 測試集、test_scaler\n",
    "X_test, y_test = split_Xy(test_set_sc, n_future=n_future, n_past=n_past)\n",
    "\n",
    "        # 測試集驗證\n",
    "prediction_test, actual_test = model_validation(trained_model, X_test, y_test, sc_test_target)\n",
    "\n",
    "pred_list.append(prediction_test)\n",
    "actual_list.append(actual_test)\n",
    "\n",
    "#         # 儲存模型\n",
    "#         #trained_model.save(f\"C:/Users/Tibame/PycharmProjects/PythonETL/Fruit Price Prediction/models/{Fruit}_Price/{market}.h5\")\n",
    "\n"
   ]
  },
  {
   "cell_type": "code",
   "execution_count": 7,
   "metadata": {},
   "outputs": [
    {
     "data": {
      "text/plain": [
       "<AxesSubplot:>"
      ]
     },
     "execution_count": 7,
     "metadata": {},
     "output_type": "execute_result"
    },
    {
     "data": {
      "image/png": "[encoded data removed]",
      "text/plain": [
       "<Figure size 432x288 with 1 Axes>"
      ]
     },
     "metadata": {
      "needs_background": "light"
     },
     "output_type": "display_data"
    }
   ],
   "source": [
    "index = 100\n",
    "pred = pred_list[0][index].reshape(-1).tolist()\n",
    "acutal = actual_list[0][index].tolist()\n",
    "\n",
    "df_visual = pd.DataFrame({\"pred\":pred, \"acutal\":acutal})\n",
    "df_visual.plot()"
   ]
  },
  {
   "cell_type": "code",
   "execution_count": null,
   "metadata": {},
   "outputs": [],
   "source": []
  },
  {
   "cell_type": "code",
   "execution_count": null,
   "metadata": {},
   "outputs": [],
   "source": []
  },
  {
   "cell_type": "code",
   "execution_count": null,
   "metadata": {},
   "outputs": [],
   "source": []
  },
  {
   "cell_type": "code",
   "execution_count": null,
   "metadata": {},
   "outputs": [],
   "source": []
  },
  {
   "cell_type": "code",
   "execution_count": null,
   "metadata": {},
   "outputs": [],
   "source": []
  },
  {
   "cell_type": "code",
   "execution_count": null,
   "metadata": {},
   "outputs": [],
   "source": []
  },
  {
   "cell_type": "code",
   "execution_count": null,
   "metadata": {},
   "outputs": [],
   "source": []
  },
  {
   "cell_type": "code",
   "execution_count": null,
   "metadata": {},
   "outputs": [],
   "source": []
  },
  {
   "cell_type": "code",
   "execution_count": null,
   "metadata": {},
   "outputs": [],
   "source": [
    "fruits = {\"banana\": [\"banana\", \"scarletbanana\", \"guava\"],\n",
    "          \"guava\":  [\"guava\", 'emperorguava', 'banana']}\n",
    "\n",
    "markets = ['台北二', '台北一', '三重區', '台中市']\n",
    "\n",
    "pred_list = []\n",
    "actual_list = []\n",
    "\n",
    "for Fruit, Type in fruits.items():\n",
    "    for market in markets:\n",
    "        print(f\"Ongoing: {Fruit}_{market}\" + \"===\"*30)\n",
    "        \n",
    "        # 讀取分析資料\n",
    "        df_merged = pd.read_sql(f\"{Fruit}_{market}\", engine)\n",
    "    \n",
    "        # 訓練集、測試集\n",
    "        train_set, test_set = train_test_split(df_merged)\n",
    "\n",
    "        ### 訓練集part\n",
    "        # 訓練集(sc)、訓練集預測(scaler)\n",
    "        train_set_sc, sc_train_target = data_normalization(train_set)\n",
    "\n",
    "        # 訓練集\n",
    "        X_train, y_train = split_Xy(train_set_sc, n_future=7, n_past=30)\n",
    "\n",
    "        # 創造momdel\n",
    "        model = model_creator(n_past=X_train.shape[1], n_features=X_train.shape[2], output=y_train.shape[1])\n",
    "\n",
    "        # 訓練model\n",
    "        trained_model = model_trainer(model, X_train, y_train, epoch=12, batch_size=128)\n",
    "\n",
    "        # 訓練集驗證\n",
    "        # prediction_train, actual_train = model_validation(trained_model, X_train, y_train, sc_train_target)\n",
    "\n",
    "        ### 測試集part\n",
    "        # 測試集(sc)、測試集預測(scaler)\n",
    "        test_set_sc, sc_test_target = data_normalization(test_set)\n",
    "\n",
    "        # 測試集、test_scaler\n",
    "        X_test, y_test = split_Xy(test_set_sc, n_future=7, n_past=30)\n",
    "\n",
    "        # 測試集驗證\n",
    "        prediction_test, actual_test = model_validation(trained_model, X_test, y_test, sc_test_target)\n",
    "        \n",
    "        pred_list.append(prediction_test)\n",
    "        actual_list.append(actual_test)\n",
    "        \n",
    "        # 儲存模型\n",
    "        #trained_model.save(f\"C:/Users/Tibame/PycharmProjects/PythonETL/Fruit Price Prediction/models/{Fruit}_Price/{market}.h5\")\n",
    "     "
   ]
  },
  {
   "cell_type": "markdown",
   "metadata": {},
   "source": [
    "### Visualization"
   ]
  },
  {
   "cell_type": "code",
   "execution_count": null,
   "metadata": {},
   "outputs": [],
   "source": [
    "pred_list#[i][-1]"
   ]
  },
  {
   "cell_type": "code",
   "execution_count": null,
   "metadata": {},
   "outputs": [],
   "source": [
    "actual_list[i][-1]"
   ]
  },
  {
   "cell_type": "code",
   "execution_count": null,
   "metadata": {},
   "outputs": [],
   "source": [
    "fig, axes = plt.subplots(2, 4, figsize=(30,10), sharex=True, sharey=True) #, squeeze=True)\n",
    "\n",
    "#     ax.xaxis.set_major_locator(plt.NullLocator())\n",
    "#     ax.yaxis.set_major_locator(plt.NullLocator())\n",
    "\n",
    "markets = [\"Taipei1\", \"Taipei2\", \"Sanchong\", \"Taichung\"]\n",
    "fruits = [\"Banana\", \"Guava\"]\n",
    "\n",
    "for i in list(range(8)):\n",
    "    ax = fig.add_subplot(2, 4, i+1)\n",
    "    ax.plot(np.arange(7), pred_list[i][-1], label=\"Predicted Price\", color=\"orange\")\n",
    "    ax.plot(np.arange(7), actual_list[i][-1], label=\"Actual Price\")\n",
    "    #ax.set_xticks(np.arange(0, 31, 5))\n",
    "    if i <= 4:\n",
    "        fruit = fruits[0]\n",
    "    else:\n",
    "        fruit = fruits[1]\n",
    "        \n",
    "    ax.set_title(f\"7 days price {fruit} forecasts for {markets[i%4]} Market\")\n",
    "    #ax.set_yticks(np.arange(0, 50, 10))\n",
    "    \n",
    "    ax.legend(loc=\"upper right\")\n",
    "    \n",
    "    "
   ]
  },
  {
   "cell_type": "code",
   "execution_count": null,
   "metadata": {},
   "outputs": [],
   "source": []
  },
  {
   "cell_type": "markdown",
   "metadata": {},
   "source": [
    "### 預測結果評估(rmse, mape, mad)\n",
    "- mape : 平均絕對百分比誤差(Mean absolute percentage error)\n",
    "- rmse : 均方根差(root-mean-square error)\n",
    "- mad : 平均絕對偏差（Mean Absolute Deviation)"
   ]
  },
  {
   "cell_type": "code",
   "execution_count": null,
   "metadata": {},
   "outputs": [],
   "source": [
    "# mean_absolute_percentage_error => sklearn版本問題無法import\n",
    "from sklearn.metrics import mean_squared_error"
   ]
  },
  {
   "cell_type": "code",
   "execution_count": null,
   "metadata": {},
   "outputs": [],
   "source": [
    "def mape(y_true, y_pred):\n",
    "    return np.mean(np.abs((y_true - y_pred) / y_true)) * 100"
   ]
  },
  {
   "cell_type": "code",
   "execution_count": null,
   "metadata": {},
   "outputs": [],
   "source": [
    "def mad(y_true, y_pred):\n",
    "    return sum(np.abs((y_true - y_pred) / len(y_true)))"
   ]
  },
  {
   "cell_type": "code",
   "execution_count": null,
   "metadata": {},
   "outputs": [],
   "source": [
    "markets = [\"Taipei1\", \"Taipei2\", \"Sanchong\", \"Taichung\"]\n",
    "fruits = [\"Banana\", \"Guava\"]\n",
    "\n",
    "indexs = []\n",
    "for f in fruits:\n",
    "    for m in markets:\n",
    "        indexs.append(f\"{f}_{m}\")\n"
   ]
  },
  {
   "cell_type": "code",
   "execution_count": null,
   "metadata": {},
   "outputs": [],
   "source": [
    "rmse_output = []\n",
    "mape_output = []\n",
    "mad_output = []\n",
    "\n",
    "for i in list(range(8)):\n",
    "    rmse_output.append(mean_squared_error(pred_list[i][-1], actual_list[i][-1], squared=False))\n",
    "    mape_output.append(mape(actual_list[i][-1], pred_list[i][-1]))\n",
    "    mad_output.append(mad(pred_list[i][-1], actual_list[i][-1]))\n",
    "\n",
    "indexs = ['Banana_Taipei1', 'Banana_Taipei2', 'Banana_Sanchong', 'Banana_Taichung',\n",
    "        'Guava_Taipei1', 'Guava_Taipei2', 'Guava_Sanchong','Guava_Taichung']\n",
    "\n",
    "df_result_evaluation = pd.DataFrame({\"RMSE\" : rmse_output,\n",
    "                                     \"MAPE\" : mape_output,\n",
    "                                     \"MAD\" : mad_output}, index= indexs)\n",
    "\n",
    "df_result_evaluation"
   ]
  },
  {
   "cell_type": "code",
   "execution_count": null,
   "metadata": {},
   "outputs": [],
   "source": []
  }
 ],
 "metadata": {
  "kernelspec": {
   "display_name": "Python 3",
   "language": "python",
   "name": "python3"
  },
  "language_info": {
   "codemirror_mode": {
    "name": "ipython",
    "version": 3
   },
   "file_extension": ".py",
   "mimetype": "text/x-python",
   "name": "python",
   "nbconvert_exporter": "python",
   "pygments_lexer": "ipython3",
   "version": "3.8.5"
  }
 },
 "nbformat": 4,
 "nbformat_minor": 4
}
