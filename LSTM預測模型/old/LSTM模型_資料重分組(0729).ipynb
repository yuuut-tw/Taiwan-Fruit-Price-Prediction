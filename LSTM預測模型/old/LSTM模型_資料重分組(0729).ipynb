{
 "cells": [
  {
   "cell_type": "code",
   "execution_count": 1,
   "metadata": {},
   "outputs": [],
   "source": [
    "import math\n",
    "import matplotlib.pyplot as plt\n",
    "import keras\n",
    "import pandas as pd\n",
    "import numpy as np\n",
    "import datetime as dt\n",
    "from keras.models import Sequential\n",
    "from keras.layers import LSTM, Dense, Dropout\n",
    "from keras.layers import *\n",
    "from sklearn.preprocessing import MinMaxScaler, StandardScaler\n",
    "from sklearn.metrics import mean_squared_error, mean_absolute_error\n",
    "from tensorflow.keras.optimizers import Adam\n",
    "from sklearn.model_selection import train_test_split\n",
    "from keras.callbacks import EarlyStopping, ReduceLROnPlateau, ModelCheckpoint, TensorBoard\n",
    "import seaborn as sns"
   ]
  },
  {
   "cell_type": "markdown",
   "metadata": {},
   "source": [
    "### step 1 讀取資料"
   ]
  },
  {
   "cell_type": "code",
   "execution_count": 2,
   "metadata": {},
   "outputs": [
    {
     "name": "stdout",
     "output_type": "stream",
     "text": [
      "Number of rows and columns: (3818, 7)\n"
     ]
    },
    {
     "data": {
      "text/html": [
       "<div>\n",
       "<style scoped>\n",
       "    .dataframe tbody tr th:only-of-type {\n",
       "        vertical-align: middle;\n",
       "    }\n",
       "\n",
       "    .dataframe tbody tr th {\n",
       "        vertical-align: top;\n",
       "    }\n",
       "\n",
       "    .dataframe thead th {\n",
       "        text-align: right;\n",
       "    }\n",
       "</style>\n",
       "<table border=\"1\" class=\"dataframe\">\n",
       "  <thead>\n",
       "    <tr style=\"text-align: right;\">\n",
       "      <th></th>\n",
       "      <th>日期</th>\n",
       "      <th>banana_平均價</th>\n",
       "      <th>banana_交易量</th>\n",
       "      <th>scarletbanana_平均價</th>\n",
       "      <th>guava_平均價</th>\n",
       "      <th>banana_前日平均價</th>\n",
       "      <th>banana_5日平均價</th>\n",
       "    </tr>\n",
       "  </thead>\n",
       "  <tbody>\n",
       "    <tr>\n",
       "      <th>0</th>\n",
       "      <td>2011-01-01</td>\n",
       "      <td>26.9</td>\n",
       "      <td>15779.0</td>\n",
       "      <td>39.0</td>\n",
       "      <td>43.4</td>\n",
       "      <td>26.9</td>\n",
       "      <td>29.5</td>\n",
       "    </tr>\n",
       "    <tr>\n",
       "      <th>1</th>\n",
       "      <td>2011-01-02</td>\n",
       "      <td>28.9</td>\n",
       "      <td>17462.0</td>\n",
       "      <td>47.0</td>\n",
       "      <td>48.2</td>\n",
       "      <td>26.9</td>\n",
       "      <td>29.5</td>\n",
       "    </tr>\n",
       "    <tr>\n",
       "      <th>2</th>\n",
       "      <td>2011-01-03</td>\n",
       "      <td>29.8</td>\n",
       "      <td>18433.5</td>\n",
       "      <td>43.5</td>\n",
       "      <td>45.9</td>\n",
       "      <td>28.9</td>\n",
       "      <td>29.5</td>\n",
       "    </tr>\n",
       "    <tr>\n",
       "      <th>3</th>\n",
       "      <td>2011-01-04</td>\n",
       "      <td>30.7</td>\n",
       "      <td>19405.0</td>\n",
       "      <td>40.1</td>\n",
       "      <td>43.6</td>\n",
       "      <td>29.8</td>\n",
       "      <td>29.5</td>\n",
       "    </tr>\n",
       "    <tr>\n",
       "      <th>4</th>\n",
       "      <td>2011-01-05</td>\n",
       "      <td>31.0</td>\n",
       "      <td>22050.0</td>\n",
       "      <td>40.0</td>\n",
       "      <td>44.4</td>\n",
       "      <td>30.7</td>\n",
       "      <td>29.5</td>\n",
       "    </tr>\n",
       "  </tbody>\n",
       "</table>\n",
       "</div>"
      ],
      "text/plain": [
       "           日期  banana_平均價  banana_交易量  scarletbanana_平均價  guava_平均價  \\\n",
       "0  2011-01-01        26.9     15779.0               39.0       43.4   \n",
       "1  2011-01-02        28.9     17462.0               47.0       48.2   \n",
       "2  2011-01-03        29.8     18433.5               43.5       45.9   \n",
       "3  2011-01-04        30.7     19405.0               40.1       43.6   \n",
       "4  2011-01-05        31.0     22050.0               40.0       44.4   \n",
       "\n",
       "   banana_前日平均價  banana_5日平均價  \n",
       "0          26.9          29.5  \n",
       "1          26.9          29.5  \n",
       "2          28.9          29.5  \n",
       "3          29.8          29.5  \n",
       "4          30.7          29.5  "
      ]
     },
     "execution_count": 2,
     "metadata": {},
     "output_type": "execute_result"
    }
   ],
   "source": [
    "df = pd.read_csv(\"data/台北一分析資料.csv\")\n",
    "print(\"Number of rows and columns:\", df.shape)\n",
    "df.head(5)"
   ]
  },
  {
   "cell_type": "code",
   "execution_count": 3,
   "metadata": {},
   "outputs": [
    {
     "data": {
      "text/html": [
       "<div>\n",
       "<style scoped>\n",
       "    .dataframe tbody tr th:only-of-type {\n",
       "        vertical-align: middle;\n",
       "    }\n",
       "\n",
       "    .dataframe tbody tr th {\n",
       "        vertical-align: top;\n",
       "    }\n",
       "\n",
       "    .dataframe thead th {\n",
       "        text-align: right;\n",
       "    }\n",
       "</style>\n",
       "<table border=\"1\" class=\"dataframe\">\n",
       "  <thead>\n",
       "    <tr style=\"text-align: right;\">\n",
       "      <th></th>\n",
       "      <th>日期</th>\n",
       "      <th>banana_平均價</th>\n",
       "    </tr>\n",
       "  </thead>\n",
       "  <tbody>\n",
       "    <tr>\n",
       "      <th>3787</th>\n",
       "      <td>2021-05-15</td>\n",
       "      <td>27.8</td>\n",
       "    </tr>\n",
       "    <tr>\n",
       "      <th>3788</th>\n",
       "      <td>2021-05-16</td>\n",
       "      <td>28.9</td>\n",
       "    </tr>\n",
       "    <tr>\n",
       "      <th>3789</th>\n",
       "      <td>2021-05-17</td>\n",
       "      <td>27.4</td>\n",
       "    </tr>\n",
       "    <tr>\n",
       "      <th>3790</th>\n",
       "      <td>2021-05-18</td>\n",
       "      <td>26.0</td>\n",
       "    </tr>\n",
       "    <tr>\n",
       "      <th>3791</th>\n",
       "      <td>2021-05-19</td>\n",
       "      <td>24.3</td>\n",
       "    </tr>\n",
       "  </tbody>\n",
       "</table>\n",
       "</div>"
      ],
      "text/plain": [
       "              日期  banana_平均價\n",
       "3787  2021-05-15        27.8\n",
       "3788  2021-05-16        28.9\n",
       "3789  2021-05-17        27.4\n",
       "3790  2021-05-18        26.0\n",
       "3791  2021-05-19        24.3"
      ]
     },
     "execution_count": 3,
     "metadata": {},
     "output_type": "execute_result"
    }
   ],
   "source": [
    "# 預測30天，先將實際資料(df_answer)取出 => 後續做為驗證預測結果使用\n",
    "df_answer = df.iloc[-31:, 0:2]\n",
    "df = df.iloc[:-30, :]\n",
    "df_answer.head()"
   ]
  },
  {
   "cell_type": "code",
   "execution_count": 4,
   "metadata": {},
   "outputs": [],
   "source": [
    "# 將日期保存起來\n",
    "train_dates = pd.to_datetime(df[\"日期\"])"
   ]
  },
  {
   "cell_type": "code",
   "execution_count": 5,
   "metadata": {},
   "outputs": [],
   "source": [
    "# 選取必要欄位，再轉換成float資料型態\n",
    "cols = list(df)[1:]\n",
    "df_for_training = df[cols].astype(\"float\")"
   ]
  },
  {
   "cell_type": "markdown",
   "metadata": {},
   "source": [
    "##### 資料標準化(Using 平均值和標準差)"
   ]
  },
  {
   "cell_type": "code",
   "execution_count": 6,
   "metadata": {},
   "outputs": [
    {
     "data": {
      "text/plain": [
       "array([[-0.31571997],\n",
       "       [-0.18344833],\n",
       "       [-0.1239261 ],\n",
       "       ...,\n",
       "       [ 0.29934315],\n",
       "       [-0.07763102],\n",
       "       [-0.25619773]])"
      ]
     },
     "execution_count": 6,
     "metadata": {},
     "output_type": "execute_result"
    }
   ],
   "source": [
    "# 資料整體標準化\n",
    "sc = StandardScaler()\n",
    "df_for_training_scaled = sc.fit_transform(df_for_training)\n",
    "\n",
    "# 預測價格的標準化\n",
    "sc_predict = StandardScaler()\n",
    "sc_predict.fit_transform(df_for_training.iloc[:, 0:1])"
   ]
  },
  {
   "cell_type": "markdown",
   "metadata": {},
   "source": [
    "### step 2 分割資料"
   ]
  },
  {
   "cell_type": "code",
   "execution_count": 7,
   "metadata": {},
   "outputs": [
    {
     "name": "stdout",
     "output_type": "stream",
     "text": [
      "trainX's shape: (3699, 60, 6)\n",
      "trainY's shape: (3699, 1)\n"
     ]
    }
   ],
   "source": [
    "trainX = []\n",
    "trainY = []\n",
    "\n",
    "n_future = 30   # 預測天數\n",
    "n_past = 60    # 用以預測的過去資料筆數\n",
    "\n",
    "# 將資料從第 n_past 天開始到 總筆數-預測天數\n",
    "for i in range(n_past, len(df_for_training_scaled) - n_future + 1):\n",
    "    trainX.append(df_for_training_scaled[i-n_past : i, 0 : df_for_training_scaled.shape[1]]) # n_past筆資料\n",
    "    trainY.append(df_for_training_scaled[i+n_future-1 : i+n_future, 0])                      # \n",
    "    \n",
    "# 轉變為矩陣    \n",
    "trainX, trainY = np.array(trainX), np.array(trainY)\n",
    "\n",
    "print(\"trainX's shape: {}\".format(trainX.shape))\n",
    "print(\"trainY's shape: {}\".format(trainY.shape))"
   ]
  },
  {
   "cell_type": "markdown",
   "metadata": {},
   "source": [
    "### step 3 建立模型\n",
    "\n",
    "參數說明:\n",
    "- return_sequnce => 這層layer產生的結果提供給下層使用\n",
    "\n",
    "\n",
    "[return_sequences和return_state的用途](https://zhuanlan.zhihu.com/p/85910281)"
   ]
  },
  {
   "cell_type": "code",
   "execution_count": 8,
   "metadata": {},
   "outputs": [
    {
     "name": "stdout",
     "output_type": "stream",
     "text": [
      "Model: \"sequential\"\n",
      "_________________________________________________________________\n",
      "Layer (type)                 Output Shape              Param #   \n",
      "=================================================================\n",
      "lstm (LSTM)                  (None, 60, 64)            18176     \n",
      "_________________________________________________________________\n",
      "lstm_1 (LSTM)                (None, 60, 64)            33024     \n",
      "_________________________________________________________________\n",
      "lstm_2 (LSTM)                (None, 32)                12416     \n",
      "_________________________________________________________________\n",
      "dropout (Dropout)            (None, 32)                0         \n",
      "_________________________________________________________________\n",
      "dense (Dense)                (None, 1)                 33        \n",
      "=================================================================\n",
      "Total params: 63,649\n",
      "Trainable params: 63,649\n",
      "Non-trainable params: 0\n",
      "_________________________________________________________________\n"
     ]
    }
   ],
   "source": [
    "model = Sequential()\n",
    "\n",
    "# 1st layer\n",
    "model.add(LSTM(units=64, activation=\"relu\", return_sequences=True, input_shape=(trainX.shape[1], trainX.shape[2]))) \n",
    "\n",
    "# 2nd layer\n",
    "model.add(LSTM(units=64, activation=\"relu\", return_sequences=True))\n",
    "               \n",
    "# 3rd layer              \n",
    "model.add(LSTM(units=32, activation=\"relu\", return_sequences=False))          \n",
    "\n",
    "model.add(Dropout(0.2))\n",
    "model.add(Dense(trainY.shape[1]))          \n",
    "\n",
    "model.compile(optimizer=\"adam\", loss=\"mean_squared_error\")\n",
    "model.summary()          "
   ]
  },
  {
   "cell_type": "code",
   "execution_count": 9,
   "metadata": {},
   "outputs": [
    {
     "name": "stdout",
     "output_type": "stream",
     "text": [
      "Wall time: 1.97 ms\n"
     ]
    }
   ],
   "source": [
    "%%time\n",
    "es = EarlyStopping(monitor='val_loss', min_delta=1e-10, patience=10, verbose=1)\n",
    "rlr = ReduceLROnPlateau(monitor='val_loss', factor=0.5, patience=10, verbose=1)\n",
    "mcp = ModelCheckpoint(filepath='weights.h5', monitor='val_loss', verbose=1, save_best_only=True, save_weights_only=True)\n",
    "\n",
    "tb = TensorBoard('logs')"
   ]
  },
  {
   "cell_type": "code",
   "execution_count": 10,
   "metadata": {},
   "outputs": [
    {
     "name": "stdout",
     "output_type": "stream",
     "text": [
      "Epoch 1/12\n",
      "24/24 [==============================] - 33s 261ms/step - loss: 1.2433 - val_loss: 0.3129\n",
      "\n",
      "Epoch 00001: val_loss improved from inf to 0.31295, saving model to weights.h5\n",
      "Epoch 2/12\n",
      "24/24 [==============================] - 3s 131ms/step - loss: 1.0883 - val_loss: 0.3170\n",
      "\n",
      "Epoch 00002: val_loss did not improve from 0.31295\n",
      "Epoch 3/12\n",
      "24/24 [==============================] - 4s 153ms/step - loss: 0.5784 - val_loss: 0.3111\n",
      "\n",
      "Epoch 00003: val_loss improved from 0.31295 to 0.31114, saving model to weights.h5\n",
      "Epoch 4/12\n",
      "24/24 [==============================] - 4s 155ms/step - loss: 0.3231 - val_loss: 0.2599\n",
      "\n",
      "Epoch 00004: val_loss improved from 0.31114 to 0.25987, saving model to weights.h5\n",
      "Epoch 5/12\n",
      "24/24 [==============================] - 4s 157ms/step - loss: 0.2733 - val_loss: 0.2598\n",
      "\n",
      "Epoch 00005: val_loss improved from 0.25987 to 0.25982, saving model to weights.h5\n",
      "Epoch 6/12\n",
      "24/24 [==============================] - 4s 154ms/step - loss: 0.2687 - val_loss: 0.2522\n",
      "\n",
      "Epoch 00006: val_loss improved from 0.25982 to 0.25217, saving model to weights.h5\n",
      "Epoch 7/12\n",
      "24/24 [==============================] - 5s 196ms/step - loss: 0.2378 - val_loss: 0.2506\n",
      "\n",
      "Epoch 00007: val_loss improved from 0.25217 to 0.25059, saving model to weights.h5\n",
      "Epoch 8/12\n",
      "24/24 [==============================] - 4s 164ms/step - loss: 0.2078 - val_loss: 0.2333\n",
      "\n",
      "Epoch 00008: val_loss improved from 0.25059 to 0.23326, saving model to weights.h5\n",
      "Epoch 9/12\n",
      "24/24 [==============================] - 4s 159ms/step - loss: 0.1807 - val_loss: 0.2163\n",
      "\n",
      "Epoch 00009: val_loss improved from 0.23326 to 0.21627, saving model to weights.h5\n",
      "Epoch 10/12\n",
      "24/24 [==============================] - 4s 158ms/step - loss: 0.1694 - val_loss: 0.2061\n",
      "\n",
      "Epoch 00010: val_loss improved from 0.21627 to 0.20608, saving model to weights.h5\n",
      "Epoch 11/12\n",
      "24/24 [==============================] - 4s 149ms/step - loss: 0.1631 - val_loss: 0.1862\n",
      "\n",
      "Epoch 00011: val_loss improved from 0.20608 to 0.18621, saving model to weights.h5\n",
      "Epoch 12/12\n",
      "24/24 [==============================] - 3s 146ms/step - loss: 0.1522 - val_loss: 0.2162\n",
      "\n",
      "Epoch 00012: val_loss did not improve from 0.18621\n"
     ]
    }
   ],
   "source": [
    "# fit model\n",
    "history = model.fit(trainX, trainY, epochs=12, \n",
    "                    batch_size=128, \n",
    "                    callbacks=[es, rlr, mcp, tb], \n",
    "                    validation_split=0.2, \n",
    "                    verbose=1)"
   ]
  },
  {
   "cell_type": "code",
   "execution_count": 11,
   "metadata": {},
   "outputs": [
    {
     "data": {
      "text/plain": [
       "<matplotlib.legend.Legend at 0x2233bf59e80>"
      ]
     },
     "execution_count": 11,
     "metadata": {},
     "output_type": "execute_result"
    },
    {
     "data": {
      "image/png": "[encoded data removed]",
      "text/plain": [
       "<Figure size 432x288 with 1 Axes>"
      ]
     },
     "metadata": {
      "needs_background": "light"
     },
     "output_type": "display_data"
    }
   ],
   "source": [
    "# plotting loss and validation loss\n",
    "plt.plot(history.history['loss'], label='Training loss')\n",
    "plt.plot(history.history['val_loss'], label='Validation loss')\n",
    "plt.legend()"
   ]
  },
  {
   "cell_type": "markdown",
   "metadata": {},
   "source": [
    "### step 4 進行預測 "
   ]
  },
  {
   "cell_type": "code",
   "execution_count": 12,
   "metadata": {},
   "outputs": [],
   "source": [
    "# 預測接下來60天，利用之前的日期資料，產生相對應的日期\n",
    "n_future = 30\n",
    "forecast_period_dates = pd.date_range(list(train_dates)[-1], periods=n_future, freq=\"1d\").tolist()\n",
    "\n",
    "# 預測未來&訓練集\n",
    "prediction_future = model.predict(trainX[-n_future:])\n",
    "prediction_train = model.predict(trainX[n_past:])"
   ]
  },
  {
   "cell_type": "markdown",
   "metadata": {},
   "source": [
    "### step 5 將之前標準化的資料轉換回來"
   ]
  },
  {
   "cell_type": "markdown",
   "metadata": {},
   "source": [
    "#### 預測未來 & 訓練集預測結果(稍後與原始資料驗證model準確率)"
   ]
  },
  {
   "cell_type": "code",
   "execution_count": 14,
   "metadata": {},
   "outputs": [],
   "source": [
    "y_pred_future = sc_predict.inverse_transform(prediction_future)\n",
    "y_pred_train = sc_predict.inverse_transform(prediction_train)\n",
    "\n",
    "df_forecast = pd.DataFrame(y_pred_future, columns=['banana_平均價']).set_index(pd.Series(forecast_period_dates))\n",
    "df_train_forecast = pd.DataFrame(y_pred_train, columns=['banana_平均價']).set_index(train_dates[2*n_past+n_future-1:]) # 2*n_past + n_future -1"
   ]
  },
  {
   "cell_type": "code",
   "execution_count": 15,
   "metadata": {},
   "outputs": [
    {
     "data": {
      "text/html": [
       "<div>\n",
       "<style scoped>\n",
       "    .dataframe tbody tr th:only-of-type {\n",
       "        vertical-align: middle;\n",
       "    }\n",
       "\n",
       "    .dataframe tbody tr th {\n",
       "        vertical-align: top;\n",
       "    }\n",
       "\n",
       "    .dataframe thead th {\n",
       "        text-align: right;\n",
       "    }\n",
       "</style>\n",
       "<table border=\"1\" class=\"dataframe\">\n",
       "  <thead>\n",
       "    <tr style=\"text-align: right;\">\n",
       "      <th></th>\n",
       "      <th>banana_平均價</th>\n",
       "    </tr>\n",
       "    <tr>\n",
       "      <th>日期</th>\n",
       "      <th></th>\n",
       "    </tr>\n",
       "  </thead>\n",
       "  <tbody>\n",
       "    <tr>\n",
       "      <th>2011-05-30</th>\n",
       "      <td>31.790857</td>\n",
       "    </tr>\n",
       "    <tr>\n",
       "      <th>2011-05-31</th>\n",
       "      <td>31.626141</td>\n",
       "    </tr>\n",
       "    <tr>\n",
       "      <th>2011-06-01</th>\n",
       "      <td>31.410223</td>\n",
       "    </tr>\n",
       "    <tr>\n",
       "      <th>2011-06-02</th>\n",
       "      <td>31.295248</td>\n",
       "    </tr>\n",
       "    <tr>\n",
       "      <th>2011-06-03</th>\n",
       "      <td>31.165516</td>\n",
       "    </tr>\n",
       "    <tr>\n",
       "      <th>...</th>\n",
       "      <td>...</td>\n",
       "    </tr>\n",
       "    <tr>\n",
       "      <th>2021-05-11</th>\n",
       "      <td>20.837318</td>\n",
       "    </tr>\n",
       "    <tr>\n",
       "      <th>2021-05-12</th>\n",
       "      <td>20.580456</td>\n",
       "    </tr>\n",
       "    <tr>\n",
       "      <th>2021-05-13</th>\n",
       "      <td>20.307230</td>\n",
       "    </tr>\n",
       "    <tr>\n",
       "      <th>2021-05-14</th>\n",
       "      <td>20.019039</td>\n",
       "    </tr>\n",
       "    <tr>\n",
       "      <th>2021-05-15</th>\n",
       "      <td>19.750891</td>\n",
       "    </tr>\n",
       "  </tbody>\n",
       "</table>\n",
       "<p>3639 rows × 1 columns</p>\n",
       "</div>"
      ],
      "text/plain": [
       "            banana_平均價\n",
       "日期                    \n",
       "2011-05-30   31.790857\n",
       "2011-05-31   31.626141\n",
       "2011-06-01   31.410223\n",
       "2011-06-02   31.295248\n",
       "2011-06-03   31.165516\n",
       "...                ...\n",
       "2021-05-11   20.837318\n",
       "2021-05-12   20.580456\n",
       "2021-05-13   20.307230\n",
       "2021-05-14   20.019039\n",
       "2021-05-15   19.750891\n",
       "\n",
       "[3639 rows x 1 columns]"
      ]
     },
     "execution_count": 15,
     "metadata": {},
     "output_type": "execute_result"
    }
   ],
   "source": [
    "df_train_forecast"
   ]
  },
  {
   "cell_type": "code",
   "execution_count": 16,
   "metadata": {},
   "outputs": [
    {
     "data": {
      "text/html": [
       "<div>\n",
       "<style scoped>\n",
       "    .dataframe tbody tr th:only-of-type {\n",
       "        vertical-align: middle;\n",
       "    }\n",
       "\n",
       "    .dataframe tbody tr th {\n",
       "        vertical-align: top;\n",
       "    }\n",
       "\n",
       "    .dataframe thead th {\n",
       "        text-align: right;\n",
       "    }\n",
       "</style>\n",
       "<table border=\"1\" class=\"dataframe\">\n",
       "  <thead>\n",
       "    <tr style=\"text-align: right;\">\n",
       "      <th></th>\n",
       "      <th>banana_平均價</th>\n",
       "    </tr>\n",
       "  </thead>\n",
       "  <tbody>\n",
       "    <tr>\n",
       "      <th>2021-05-15</th>\n",
       "      <td>26.576962</td>\n",
       "    </tr>\n",
       "    <tr>\n",
       "      <th>2021-05-16</th>\n",
       "      <td>26.545372</td>\n",
       "    </tr>\n",
       "    <tr>\n",
       "      <th>2021-05-17</th>\n",
       "      <td>26.524124</td>\n",
       "    </tr>\n",
       "    <tr>\n",
       "      <th>2021-05-18</th>\n",
       "      <td>26.485332</td>\n",
       "    </tr>\n",
       "    <tr>\n",
       "      <th>2021-05-19</th>\n",
       "      <td>26.429224</td>\n",
       "    </tr>\n",
       "  </tbody>\n",
       "</table>\n",
       "</div>"
      ],
      "text/plain": [
       "            banana_平均價\n",
       "2021-05-15   26.576962\n",
       "2021-05-16   26.545372\n",
       "2021-05-17   26.524124\n",
       "2021-05-18   26.485332\n",
       "2021-05-19   26.429224"
      ]
     },
     "execution_count": 16,
     "metadata": {},
     "output_type": "execute_result"
    }
   ],
   "source": [
    "df_forecast.head()"
   ]
  },
  {
   "cell_type": "markdown",
   "metadata": {},
   "source": [
    "#### 實際資料(未來)"
   ]
  },
  {
   "cell_type": "code",
   "execution_count": 17,
   "metadata": {},
   "outputs": [
    {
     "data": {
      "text/html": [
       "<div>\n",
       "<style scoped>\n",
       "    .dataframe tbody tr th:only-of-type {\n",
       "        vertical-align: middle;\n",
       "    }\n",
       "\n",
       "    .dataframe tbody tr th {\n",
       "        vertical-align: top;\n",
       "    }\n",
       "\n",
       "    .dataframe thead th {\n",
       "        text-align: right;\n",
       "    }\n",
       "</style>\n",
       "<table border=\"1\" class=\"dataframe\">\n",
       "  <thead>\n",
       "    <tr style=\"text-align: right;\">\n",
       "      <th></th>\n",
       "      <th>banana_平均價</th>\n",
       "    </tr>\n",
       "    <tr>\n",
       "      <th>日期</th>\n",
       "      <th></th>\n",
       "    </tr>\n",
       "  </thead>\n",
       "  <tbody>\n",
       "    <tr>\n",
       "      <th>2021-05-15</th>\n",
       "      <td>27.8</td>\n",
       "    </tr>\n",
       "    <tr>\n",
       "      <th>2021-05-16</th>\n",
       "      <td>28.9</td>\n",
       "    </tr>\n",
       "    <tr>\n",
       "      <th>2021-05-17</th>\n",
       "      <td>27.4</td>\n",
       "    </tr>\n",
       "    <tr>\n",
       "      <th>2021-05-18</th>\n",
       "      <td>26.0</td>\n",
       "    </tr>\n",
       "    <tr>\n",
       "      <th>2021-05-19</th>\n",
       "      <td>24.3</td>\n",
       "    </tr>\n",
       "  </tbody>\n",
       "</table>\n",
       "</div>"
      ],
      "text/plain": [
       "            banana_平均價\n",
       "日期                    \n",
       "2021-05-15        27.8\n",
       "2021-05-16        28.9\n",
       "2021-05-17        27.4\n",
       "2021-05-18        26.0\n",
       "2021-05-19        24.3"
      ]
     },
     "execution_count": 17,
     "metadata": {},
     "output_type": "execute_result"
    }
   ],
   "source": [
    "df_answer[\"日期\"] = pd.to_datetime(df_answer[\"日期\"])\n",
    "df_answer.set_index(\"日期\", inplace=True)\n",
    "df_answer.head()"
   ]
  },
  {
   "cell_type": "markdown",
   "metadata": {},
   "source": [
    "#### 原始資料"
   ]
  },
  {
   "cell_type": "code",
   "execution_count": 18,
   "metadata": {},
   "outputs": [
    {
     "name": "stderr",
     "output_type": "stream",
     "text": [
      "<ipython-input-18-faa74b438c53>:2: SettingWithCopyWarning: \n",
      "A value is trying to be set on a copy of a slice from a DataFrame.\n",
      "Try using .loc[row_indexer,col_indexer] = value instead\n",
      "\n",
      "See the caveats in the documentation: https://pandas.pydata.org/pandas-docs/stable/user_guide/indexing.html#returning-a-view-versus-a-copy\n",
      "  df_original[\"日期\"] = pd.to_datetime(df_original[\"日期\"])\n"
     ]
    }
   ],
   "source": [
    "df_original = df[[\"日期\", \"banana_平均價\"]]\n",
    "df_original[\"日期\"] = pd.to_datetime(df_original[\"日期\"])\n",
    "df_original.set_index(\"日期\", inplace=True)"
   ]
  },
  {
   "cell_type": "markdown",
   "metadata": {},
   "source": [
    "### step 6 預測結果圖表化"
   ]
  },
  {
   "cell_type": "code",
   "execution_count": 19,
   "metadata": {},
   "outputs": [
    {
     "data": {
      "image/png": "[encoded data removed]",
      "text/plain": [
       "<Figure size 1008x360 with 1 Axes>"
      ]
     },
     "metadata": {
      "needs_background": "light"
     },
     "output_type": "display_data"
    }
   ],
   "source": [
    "# Set plot size \n",
    "from pylab import rcParams\n",
    "rcParams['figure.figsize'] = 14, 5\n",
    "\n",
    "# Plot parameters\n",
    "START_DATE = '2021-05-01'\n",
    "\n",
    "# 測試資料跑model得出預測結果\n",
    "plt.plot(df_train_forecast.loc[START_DATE:].index, df_train_forecast.loc[START_DATE:][\"banana_平均價\"], color=\"orange\", label='Train data predictions')\n",
    "\n",
    "# 原始資料\n",
    "plt.plot(df_original.loc[START_DATE:].index, df_original.loc[START_DATE:][\"banana_平均價\"], color='green', label='Original data')\n",
    "\n",
    "# 預測價格(未來60天) => 若是預測30天，價格走勢跟前面幾乎一樣，還在想辦法解決問題中\n",
    "plt.plot(df_forecast.index, df_forecast[\"banana_平均價\"], color='red', label='Predicted banana Price')\n",
    "\n",
    "# 未來30天實際價格\n",
    "plt.plot(df_answer.index, df_answer[\"banana_平均價\"], color='blue', label='Actual banana Price')\n",
    "\n",
    "plt.axvline(x = min(df_forecast.index), color='lightblue', linewidth=2, linestyle='--')\n",
    "plt.grid(which='major', color='#cccccc', alpha=0.5)\n",
    "\n",
    "plt.legend(shadow=True)\n",
    "plt.title('Predictions and Acutal banana Prices', family='Arial', fontsize=12)\n",
    "plt.xlabel('Timeline', family='Arial', fontsize=10)\n",
    "plt.ylabel('Banana Price', family='Arial', fontsize=10)\n",
    "plt.xticks(rotation=45, fontsize=8)\n",
    "plt.show()"
   ]
  },
  {
   "cell_type": "code",
   "execution_count": 41,
   "metadata": {},
   "outputs": [],
   "source": [
    "from sklearn.metrics import mean_squared_error\n",
    "\n",
    "y_true = df_answer.iloc[:-1, 0].tolist()\n",
    "y_pred = df_forecast[\"banana_平均價\"].tolist()\n",
    "\n",
    "rmse = mean_squared_error(y_true, y_pred, squared=False)"
   ]
  },
  {
   "cell_type": "code",
   "execution_count": 40,
   "metadata": {},
   "outputs": [
    {
     "data": {
      "text/plain": [
       "9.0"
      ]
     },
     "execution_count": 40,
     "metadata": {},
     "output_type": "execute_result"
    }
   ],
   "source": [
    "x = [1,2,3]\n",
    "y = [4,5,6]\n",
    "mean_squared_error(x,y)"
   ]
  },
  {
   "cell_type": "code",
   "execution_count": null,
   "metadata": {},
   "outputs": [],
   "source": []
  }
 ],
 "metadata": {
  "kernelspec": {
   "display_name": "Python 3",
   "language": "python",
   "name": "python3"
  },
  "language_info": {
   "codemirror_mode": {
    "name": "ipython",
    "version": 3
   },
   "file_extension": ".py",
   "mimetype": "text/x-python",
   "name": "python",
   "nbconvert_exporter": "python",
   "pygments_lexer": "ipython3",
   "version": "3.8.5"
  }
 },
 "nbformat": 4,
 "nbformat_minor": 4
}
