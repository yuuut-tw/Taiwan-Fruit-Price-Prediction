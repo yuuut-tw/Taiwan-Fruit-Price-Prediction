{
 "cells": [
  {
   "cell_type": "code",
   "execution_count": 37,
   "metadata": {},
   "outputs": [],
   "source": [
    "import math\n",
    "import matplotlib.pyplot as plt\n",
    "import pandas as pd\n",
    "import numpy as np\n",
    "import datetime as dt\n",
    "from tensorflow.keras.models import Sequential\n",
    "from tensorflow.keras.layers import LSTM, Dense, Dropout, TimeDistributed\n",
    "from sklearn.preprocessing import MinMaxScaler, StandardScaler\n",
    "from sklearn.metrics import mean_squared_error, mean_absolute_error\n",
    "from tensorflow.keras.optimizers import Adam\n",
    "from sklearn.model_selection import train_test_split\n",
    "from tensorflow.keras.callbacks import EarlyStopping, ReduceLROnPlateau, ModelCheckpoint, TensorBoard"
   ]
  },
  {
   "cell_type": "markdown",
   "metadata": {},
   "source": [
    "#### 讀取資料，並分離出訓練資料、日期、實際資料\n",
    "- df_for_training \n",
    "- train_dates \n",
    "- df_answer"
   ]
  },
  {
   "cell_type": "code",
   "execution_count": 2,
   "metadata": {},
   "outputs": [],
   "source": [
    "def load_data(file_path, n_future):\n",
    "    \n",
    "    df_original = pd.read_csv(file_path)\n",
    "    \n",
    "    # 分離出實際資料(df_answer)\n",
    "    df_answer = df_original.iloc[-n_future-1:-1, 0:2] \n",
    "    df_original = df_original.iloc[:-n_future, :]\n",
    "    \n",
    "    # 將日期保存起來\n",
    "    train_dates = pd.to_datetime(df_original[\"日期\"])\n",
    "    \n",
    "    # 選取必要欄位，再轉換成float資料型態\n",
    "    cols = list(df_original)[1:]\n",
    "    df_for_training = df_original[cols].astype(\"float\")\n",
    "    \n",
    "    return df_for_training, train_dates, df_original, df_answer"
   ]
  },
  {
   "cell_type": "code",
   "execution_count": null,
   "metadata": {},
   "outputs": [],
   "source": []
  },
  {
   "cell_type": "markdown",
   "metadata": {},
   "source": [
    "#### 資料標準化\n",
    "- df_for_training_scaled"
   ]
  },
  {
   "cell_type": "code",
   "execution_count": 3,
   "metadata": {},
   "outputs": [],
   "source": [
    "def data_normalization(df_for_training):\n",
    "    \n",
    "    # 資料整體標準化\n",
    "    global sc_predict\n",
    "    sc = StandardScaler()\n",
    "    df_for_training_scaled = sc.fit_transform(df_for_training)\n",
    "\n",
    "    # 預測價格的標準化\n",
    "    sc_predict = StandardScaler()\n",
    "    sc_predict.fit_transform(df_for_training.iloc[:, 0:1])\n",
    "    \n",
    "    return df_for_training_scaled"
   ]
  },
  {
   "cell_type": "code",
   "execution_count": null,
   "metadata": {},
   "outputs": [],
   "source": []
  },
  {
   "cell_type": "markdown",
   "metadata": {},
   "source": [
    "#### 分割資料\n",
    "- trainX\n",
    "- trainY"
   ]
  },
  {
   "cell_type": "code",
   "execution_count": 4,
   "metadata": {},
   "outputs": [],
   "source": [
    "def split_training_data(df_for_training_scaled, n_future, n_past):\n",
    "    '''\n",
    "     n_future   # 預測天數\n",
    "     n_past     # 用以預測的過去資料筆數\n",
    "    '''\n",
    "    trainX = []\n",
    "    trainY = []\n",
    "\n",
    "    # 將資料從第 n_past 天開始到 總筆數-預測天數\n",
    "    for i in range(n_past, len(df_for_training_scaled) - n_future + 1):\n",
    "        trainX.append(df_for_training_scaled[i-n_past : i, 0 : df_for_training_scaled.shape[1]]) # n_past筆資料\n",
    "        trainY.append(df_for_training_scaled[i+n_future-1 : i+n_future, 0])                      # \n",
    "    \n",
    "    # 轉變為矩陣 \n",
    "    trainX = np.array(trainX)\n",
    "    trainY = np.array(trainY)\n",
    "    \n",
    "    print(\"trainX's shape: {}\".format(trainX.shape))\n",
    "    print(\"trainY's shape: {}\".format(trainY.shape))    \n",
    "       \n",
    "    return trainX, trainY"
   ]
  },
  {
   "cell_type": "code",
   "execution_count": null,
   "metadata": {},
   "outputs": [],
   "source": []
  },
  {
   "cell_type": "markdown",
   "metadata": {},
   "source": [
    "#### 建立模型"
   ]
  },
  {
   "cell_type": "code",
   "execution_count": 64,
   "metadata": {},
   "outputs": [],
   "source": [
    "def establish_model(trainX, trainY):\n",
    "    \n",
    "    ## 搭建模型架構\n",
    "    model = Sequential()\n",
    "    # 1st layer\n",
    "    model.add(LSTM(units=128, activation=\"relu\", return_sequences=True, input_shape=(trainX.shape[1], trainX.shape[2]))) \n",
    "    # 2nd layer\n",
    "    model.add(LSTM(units=64, activation=\"relu\", return_sequences=True))\n",
    "    # 3rd layer              \n",
    "    model.add(LSTM(units=32, activation=\"relu\", return_sequences=False))          \n",
    "\n",
    "    model.add(Dropout(0.2))\n",
    "    model.add(Dense(trainY.shape[1]))          \n",
    "    \n",
    "    model.compile(optimizer=\"adam\", loss=\"mean_squared_error\", metrics=[\"mae\"])\n",
    "    model.summary()          \n",
    "    \n",
    "    ## 設定提升訓練效率參數\n",
    "    es = EarlyStopping(monitor='val_loss', min_delta=1e-10, patience=10, verbose=1)\n",
    "    rlr = ReduceLROnPlateau(monitor='val_loss', factor=0.5, patience=10, verbose=1)\n",
    "    mcp = ModelCheckpoint(filepath='weights.h5', monitor='val_loss', verbose=1, save_best_only=True, save_weights_only=True)\n",
    "    tb = TensorBoard('logs')\n",
    "    \n",
    "    ## fit model\n",
    "    history = model.fit(trainX, trainY, epochs=12, \n",
    "                        batch_size=128, \n",
    "                        callbacks=[es, rlr, mcp, tb], \n",
    "                        validation_split=0.2, \n",
    "                        verbose=1)\n",
    "    \n",
    "    ## plotting loss and validation loss\n",
    "    plt.plot(history.history['loss'], label='Training loss')\n",
    "    plt.plot(history.history['val_loss'], label='Validation loss')\n",
    "    plt.legend()\n",
    "    \n",
    "    return model"
   ]
  },
  {
   "cell_type": "code",
   "execution_count": null,
   "metadata": {},
   "outputs": [],
   "source": []
  },
  {
   "cell_type": "markdown",
   "metadata": {},
   "source": [
    "#### 預測"
   ]
  },
  {
   "cell_type": "code",
   "execution_count": 6,
   "metadata": {},
   "outputs": [],
   "source": [
    "def prediction_to_dataframe(trainX, train_dates, n_future, n_past, n_future_training):\n",
    "\n",
    "    # 預測未來&訓練集\n",
    "    prediction_future = model.predict(trainX[-n_future:])\n",
    "    prediction_train = model.predict(trainX[n_past:])\n",
    "        \n",
    "    # 逆轉換預測結果\n",
    "    y_pred_future = sc_predict.inverse_transform(prediction_future)\n",
    "    y_pred_train = sc_predict.inverse_transform(prediction_train)\n",
    "\n",
    "    # 建立dataframe，利用之前的日期資料，產生相對應的日期\n",
    "    pred_future_dates = pd.date_range(list(train_dates)[-1], periods=n_future, freq=\"1d\").tolist()\n",
    "\n",
    "    df_forecast = pd.DataFrame(y_pred_future, columns=['banana_平均價']).set_index(pd.Series(pred_future_dates))\n",
    "    df_train_forecast = pd.DataFrame(y_pred_train, columns=['banana_平均價']).set_index(train_dates[2*n_past + n_future_training -1:])\n",
    "    \n",
    "    return df_forecast, df_train_forecast"
   ]
  },
  {
   "cell_type": "code",
   "execution_count": null,
   "metadata": {},
   "outputs": [],
   "source": []
  },
  {
   "cell_type": "markdown",
   "metadata": {},
   "source": [
    "#### 準備驗證資料"
   ]
  },
  {
   "cell_type": "code",
   "execution_count": 7,
   "metadata": {},
   "outputs": [],
   "source": [
    "def validation_data(df_original, df_answer):\n",
    "    \n",
    "    # 原始資料\n",
    "    df_original = df_original[[\"日期\", \"banana_平均價\"]]\n",
    "    df_original[\"日期\"] = pd.to_datetime(df_original[\"日期\"])\n",
    "    df_original.set_index(\"日期\", inplace=True)\n",
    "    \n",
    "    # 預測未來實際資料\n",
    "    df_answer[\"日期\"] = pd.to_datetime(df_answer[\"日期\"])\n",
    "    df_answer.set_index(\"日期\", inplace=True)\n",
    "    \n",
    "    return df_original, df_answer"
   ]
  },
  {
   "cell_type": "code",
   "execution_count": null,
   "metadata": {},
   "outputs": [],
   "source": []
  },
  {
   "cell_type": "markdown",
   "metadata": {},
   "source": [
    "#### Visualization"
   ]
  },
  {
   "cell_type": "code",
   "execution_count": 8,
   "metadata": {},
   "outputs": [],
   "source": [
    "def result_visualization(df_train_forecast, df_original, df_forecast, df_anwser, START_DATE):\n",
    "    '''\n",
    "    START_DATE => start plotting date\n",
    "    '''\n",
    "    \n",
    "    # Set plot size \n",
    "    from pylab import rcParams\n",
    "    rcParams['figure.figsize'] = 14, 5\n",
    "\n",
    "    # 測試資料跑model得出預測結果\n",
    "    plt.plot(df_train_forecast.loc[START_DATE:].index, df_train_forecast.loc[START_DATE:][\"banana_平均價\"], color=\"orange\", label='Train data predictions')\n",
    "\n",
    "    # 原始資料\n",
    "    plt.plot(df_original.loc[START_DATE:].index, df_original.loc[START_DATE:][\"banana_平均價\"], color='green', label='Original data')\n",
    "\n",
    "    # 預測價格(未來60天) => 若是預測30天，價格走勢跟前面幾乎一樣，還在想辦法解決問題中\n",
    "    plt.plot(df_forecast.index, df_forecast[\"banana_平均價\"], color='red', label='Predicted banana Price')\n",
    "\n",
    "    # 未來30天實際價格\n",
    "    plt.plot(df_answer.index, df_answer[\"banana_平均價\"], color='blue', label='Actual banana Price')\n",
    "\n",
    "    plt.axvline(x = min(df_forecast.index), color='lightblue', linewidth=2, linestyle='--')\n",
    "    plt.grid(which='major', color='#cccccc', alpha=0.5)\n",
    "\n",
    "    plt.legend(shadow=True)\n",
    "    plt.title('Predictions and Acutal banana Prices', family='Arial', fontsize=12)\n",
    "    plt.xlabel('Timeline', family='Arial', fontsize=10)\n",
    "    plt.ylabel('Banana Price', family='Arial', fontsize=10)\n",
    "    plt.xticks(rotation=45, fontsize=8)\n",
    "    plt.show()"
   ]
  },
  {
   "cell_type": "code",
   "execution_count": null,
   "metadata": {},
   "outputs": [],
   "source": []
  },
  {
   "cell_type": "markdown",
   "metadata": {},
   "source": [
    "### "
   ]
  },
  {
   "cell_type": "code",
   "execution_count": 50,
   "metadata": {},
   "outputs": [],
   "source": [
    "n_future = 60\n",
    "n_future_training = 15\n",
    "n_past = 30"
   ]
  },
  {
   "cell_type": "code",
   "execution_count": 51,
   "metadata": {},
   "outputs": [],
   "source": [
    "df_for_training, train_dates, df_original, df_answer = load_data(\"data/台北一分析資料.csv\", n_future=n_future)"
   ]
  },
  {
   "cell_type": "code",
   "execution_count": 52,
   "metadata": {},
   "outputs": [],
   "source": [
    "df_for_training_scaled = data_normalization(df_for_training)"
   ]
  },
  {
   "cell_type": "code",
   "execution_count": 53,
   "metadata": {},
   "outputs": [
    {
     "name": "stdout",
     "output_type": "stream",
     "text": [
      "trainX's shape: (3714, 30, 6)\n",
      "trainY's shape: (3714, 1)\n"
     ]
    }
   ],
   "source": [
    "trainX, trainY = split_training_data(df_for_training_scaled, n_future=n_future_training, n_past=n_past)"
   ]
  },
  {
   "cell_type": "code",
   "execution_count": 65,
   "metadata": {},
   "outputs": [
    {
     "name": "stdout",
     "output_type": "stream",
     "text": [
      "Model: \"sequential_10\"\n",
      "_________________________________________________________________\n",
      "Layer (type)                 Output Shape              Param #   \n",
      "=================================================================\n",
      "lstm_21 (LSTM)               (None, 30, 128)           69120     \n",
      "_________________________________________________________________\n",
      "lstm_22 (LSTM)               (None, 30, 64)            49408     \n",
      "_________________________________________________________________\n",
      "lstm_23 (LSTM)               (None, 32)                12416     \n",
      "_________________________________________________________________\n",
      "dropout_9 (Dropout)          (None, 32)                0         \n",
      "_________________________________________________________________\n",
      "dense_11 (Dense)             (None, 1)                 33        \n",
      "=================================================================\n",
      "Total params: 130,977\n",
      "Trainable params: 130,977\n",
      "Non-trainable params: 0\n",
      "_________________________________________________________________\n",
      "Epoch 1/12\n",
      "24/24 [==============================] - 12s 370ms/step - loss: 0.6024 - mae: 0.5720 - val_loss: 0.1813 - val_mae: 0.3423\n",
      "\n",
      "Epoch 00001: val_loss improved from inf to 0.18134, saving model to weights.h5\n",
      "Epoch 2/12\n",
      "24/24 [==============================] - 2s 91ms/step - loss: 0.3139 - mae: 0.4314 - val_loss: 0.1872 - val_mae: 0.3496\n",
      "\n",
      "Epoch 00002: val_loss did not improve from 0.18134\n",
      "Epoch 3/12\n",
      "24/24 [==============================] - 2s 101ms/step - loss: 0.2732 - mae: 0.4073 - val_loss: 0.1660 - val_mae: 0.3177\n",
      "\n",
      "Epoch 00003: val_loss improved from 0.18134 to 0.16605, saving model to weights.h5\n",
      "Epoch 4/12\n",
      "24/24 [==============================] - 3s 113ms/step - loss: 0.2347 - mae: 0.3809 - val_loss: 0.1504 - val_mae: 0.2974\n",
      "\n",
      "Epoch 00004: val_loss improved from 0.16605 to 0.15044, saving model to weights.h5\n",
      "Epoch 5/12\n",
      "24/24 [==============================] - 3s 114ms/step - loss: 0.2259 - mae: 0.3693 - val_loss: 0.1613 - val_mae: 0.3038\n",
      "\n",
      "Epoch 00005: val_loss did not improve from 0.15044\n",
      "Epoch 6/12\n",
      "24/24 [==============================] - 2s 98ms/step - loss: 0.2018 - mae: 0.3473 - val_loss: 0.1723 - val_mae: 0.2996\n",
      "\n",
      "Epoch 00006: val_loss did not improve from 0.15044\n",
      "Epoch 7/12\n",
      "24/24 [==============================] - 3s 114ms/step - loss: 0.1839 - mae: 0.3310 - val_loss: 0.1906 - val_mae: 0.3122\n",
      "\n",
      "Epoch 00007: val_loss did not improve from 0.15044\n",
      "Epoch 8/12\n",
      "24/24 [==============================] - 4s 156ms/step - loss: 0.1644 - mae: 0.3105 - val_loss: 0.2047 - val_mae: 0.3263\n",
      "\n",
      "Epoch 00008: val_loss did not improve from 0.15044\n",
      "Epoch 9/12\n",
      "24/24 [==============================] - 3s 144ms/step - loss: 0.1552 - mae: 0.3047 - val_loss: 0.2109 - val_mae: 0.3254\n",
      "\n",
      "Epoch 00009: val_loss did not improve from 0.15044\n",
      "Epoch 10/12\n",
      "24/24 [==============================] - 3s 129ms/step - loss: 0.1433 - mae: 0.2940 - val_loss: 0.3308 - val_mae: 0.4229\n",
      "\n",
      "Epoch 00010: val_loss did not improve from 0.15044\n",
      "Epoch 11/12\n",
      "24/24 [==============================] - 3s 128ms/step - loss: 0.1253 - mae: 0.2723 - val_loss: 0.2998 - val_mae: 0.3966\n",
      "\n",
      "Epoch 00011: val_loss did not improve from 0.15044\n",
      "Epoch 12/12\n",
      "24/24 [==============================] - 3s 134ms/step - loss: 0.1259 - mae: 0.2673 - val_loss: 0.2741 - val_mae: 0.3747\n",
      "\n",
      "Epoch 00012: val_loss did not improve from 0.15044\n"
     ]
    },
    {
     "data": {
      "image/png": "[encoded data removed]",
      "text/plain": [
       "<Figure size 1008x360 with 1 Axes>"
      ]
     },
     "metadata": {
      "needs_background": "light"
     },
     "output_type": "display_data"
    }
   ],
   "source": [
    "model = establish_model(trainX, trainY)"
   ]
  },
  {
   "cell_type": "code",
   "execution_count": 66,
   "metadata": {},
   "outputs": [],
   "source": [
    "df_forecast, df_train_forecast = prediction_to_dataframe(trainX, train_dates, \n",
    "                                                         n_future=n_future, \n",
    "                                                         n_past=n_past, \n",
    "                                                         n_future_training=n_future_training)"
   ]
  },
  {
   "cell_type": "code",
   "execution_count": 67,
   "metadata": {},
   "outputs": [
    {
     "name": "stderr",
     "output_type": "stream",
     "text": [
      "<ipython-input-7-782ef5a9f7a6>:5: SettingWithCopyWarning: \n",
      "A value is trying to be set on a copy of a slice from a DataFrame.\n",
      "Try using .loc[row_indexer,col_indexer] = value instead\n",
      "\n",
      "See the caveats in the documentation: https://pandas.pydata.org/pandas-docs/stable/user_guide/indexing.html#returning-a-view-versus-a-copy\n",
      "  df_original[\"日期\"] = pd.to_datetime(df_original[\"日期\"])\n"
     ]
    }
   ],
   "source": [
    "df_original, df_answer = validation_data(df_original, df_answer)"
   ]
  },
  {
   "cell_type": "code",
   "execution_count": 69,
   "metadata": {},
   "outputs": [
    {
     "data": {
      "image/png": "[encoded data removed]",
      "text/plain": [
       "<Figure size 1008x360 with 1 Axes>"
      ]
     },
     "metadata": {
      "needs_background": "light"
     },
     "output_type": "display_data"
    }
   ],
   "source": [
    "result_visualization(df_train_forecast, df_original, df_forecast, df_answer, START_DATE=\"2021-03-01\")"
   ]
  },
  {
   "cell_type": "code",
   "execution_count": null,
   "metadata": {},
   "outputs": [],
   "source": []
  },
  {
   "cell_type": "code",
   "execution_count": null,
   "metadata": {},
   "outputs": [],
   "source": []
  },
  {
   "cell_type": "code",
   "execution_count": null,
   "metadata": {},
   "outputs": [],
   "source": [
    "'''\n",
    "模型部分\n",
    "1. 加入 metrics=[\"mae\"]\n",
    "2. 加入 timedistributed\n",
    "\n",
    "'''"
   ]
  },
  {
   "cell_type": "code",
   "execution_count": null,
   "metadata": {},
   "outputs": [],
   "source": []
  },
  {
   "cell_type": "code",
   "execution_count": 17,
   "metadata": {},
   "outputs": [],
   "source": [
    "markets = [\"台北一\", \"台北二\", \"三重區\", \"台中市\"]\n",
    "fruits = [\"banana\", \"guava\", \"pineapple\"]\n",
    "\n",
    "file_path = \"data/{}分析資料.csv\""
   ]
  },
  {
   "cell_type": "code",
   "execution_count": null,
   "metadata": {},
   "outputs": [],
   "source": []
  },
  {
   "cell_type": "code",
   "execution_count": null,
   "metadata": {},
   "outputs": [],
   "source": []
  }
 ],
 "metadata": {
  "kernelspec": {
   "display_name": "Python 3",
   "language": "python",
   "name": "python3"
  },
  "language_info": {
   "codemirror_mode": {
    "name": "ipython",
    "version": 3
   },
   "file_extension": ".py",
   "mimetype": "text/x-python",
   "name": "python",
   "nbconvert_exporter": "python",
   "pygments_lexer": "ipython3",
   "version": "3.8.5"
  }
 },
 "nbformat": 4,
 "nbformat_minor": 4
}
