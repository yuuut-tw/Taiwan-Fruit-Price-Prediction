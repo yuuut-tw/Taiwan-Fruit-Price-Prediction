{
 "cells": [
  {
   "cell_type": "code",
   "execution_count": 1,
   "metadata": {},
   "outputs": [],
   "source": [
    "import pandas as pd\n",
    "import numpy as np\n",
    "import pymysql\n",
    "from sqlalchemy import create_engine\n",
    "import re\n",
    "import os\n",
    "from functools import reduce\n",
    "pd.options.mode.chained_assignment = None  # default='warn'"
   ]
  },
  {
   "cell_type": "code",
   "execution_count": 2,
   "metadata": {},
   "outputs": [],
   "source": [
    "import math\n",
    "import matplotlib.pyplot as plt\n",
    "import datetime as dt\n",
    "from tensorflow.keras.models import Sequential, load_model\n",
    "from tensorflow.keras.layers import LSTM, Dense, Dropout, TimeDistributed, RepeatVector\n",
    "from sklearn.preprocessing import MinMaxScaler, StandardScaler, RobustScaler\n",
    "from sklearn.metrics import mean_squared_error, mean_absolute_error\n",
    "from tensorflow.keras.optimizers import Adam\n",
    "from sklearn.model_selection import train_test_split\n",
    "from tensorflow.keras.callbacks import EarlyStopping, ReduceLROnPlateau, ModelCheckpoint, TensorBoard\n",
    "from tensorflow import keras"
   ]
  },
  {
   "cell_type": "code",
   "execution_count": null,
   "metadata": {},
   "outputs": [],
   "source": []
  },
  {
   "cell_type": "markdown",
   "metadata": {},
   "source": [
    "## 讀取檔案"
   ]
  },
  {
   "cell_type": "code",
   "execution_count": 4,
   "metadata": {},
   "outputs": [],
   "source": [
    "username = 'cfb101spade'\n",
    "password = pwd\n",
    "host_port = host_port\n",
    "database = 'twfruits'\n",
    "\n",
    "engine = create_engine(\"mysql+pymysql://{}:{}@{}/{}\".format(username, password, host_port, database))\n",
    "con = engine.connect()"
   ]
  },
  {
   "cell_type": "code",
   "execution_count": null,
   "metadata": {},
   "outputs": [],
   "source": [
    "# username = 'root'\n",
    "# password = 'yuting1101'\n",
    "# host_port = 'localhost:3306' \n",
    "# database = 'twfruits'\n",
    "\n",
    "# engine = create_engine(\"mysql+pymysql://{}:{}@{}/{}\".format(username, password, host_port, database))\n",
    "# con = engine.connect()"
   ]
  },
  {
   "cell_type": "code",
   "execution_count": null,
   "metadata": {},
   "outputs": [],
   "source": [
    "fruit = \"banana\"\n",
    "market = \"台北二\"\n",
    "df= pd.read_sql(f\"{fruit}_{market}\", engine)\n",
    "df"
   ]
  },
  {
   "cell_type": "code",
   "execution_count": null,
   "metadata": {},
   "outputs": [],
   "source": []
  },
  {
   "cell_type": "code",
   "execution_count": null,
   "metadata": {},
   "outputs": [],
   "source": []
  },
  {
   "cell_type": "markdown",
   "metadata": {},
   "source": [
    "### 四大市場共同測試"
   ]
  },
  {
   "cell_type": "code",
   "execution_count": null,
   "metadata": {},
   "outputs": [],
   "source": [
    "# 測試\n",
    "from my_libs.my_model_trainer_banana import *"
   ]
  },
  {
   "cell_type": "code",
   "execution_count": null,
   "metadata": {},
   "outputs": [],
   "source": [
    "fruits = {\"banana\": [\"banana\", \"scarletbanana\", \"guava\"]}\n",
    "          #\"guava\":  [\"guava\", 'emperorguava', 'banana']}\n",
    "\n",
    "markets = ['台北二', '台北一', '三重區', '台中市']\n",
    "\n",
    "pred_list = []\n",
    "actual_list = []\n",
    "\n",
    "# 參數設定\n",
    "n_future = 7\n",
    "n_past = 60\n",
    "epochs = 30\n",
    "batch_size = 128\n",
    "\n",
    "\n",
    "for Fruit, Type in fruits.items():\n",
    "    for market in markets:\n",
    "        print(f\"Ongoing: {Fruit}_{market}\" + \"===\"*30)\n",
    "        \n",
    "        # 讀取分析資料\n",
    "        df_merged = pd.read_sql(f\"{Fruit}_{market}\", engine)\n",
    "    \n",
    "        # 訓練集、測試集\n",
    "        train_set, test_set = train_test_split(df_merged)\n",
    "\n",
    "        ### 訓練集part\n",
    "        # 訓練集(sc)、訓練集預測(scaler)\n",
    "        train_set_sc, sc_train_target = data_normalization(train_set)\n",
    "\n",
    "        # 訓練集\n",
    "        X_train, y_train = split_Xy(train_set_sc, n_future=n_future, n_past=n_past)\n",
    "\n",
    "        # 創造momdel\n",
    "        model = model_creator(n_past=X_train.shape[1], n_features=X_train.shape[2], output=y_train.shape[1])\n",
    "\n",
    "        # 訓練model\n",
    "        trained_model = model_trainer(model, X_train, y_train, epoch=epochs, batch_size=batch_size)\n",
    "\n",
    "        # 訓練集驗證\n",
    "        prediction_train, actual_train = model_validation(trained_model, X_train, y_train, sc_train_target)\n",
    "\n",
    "        ### 測試集part\n",
    "        # 測試集(sc)、測試集預測(scaler)\n",
    "        test_set_sc, sc_test_target = data_normalization(test_set)\n",
    "\n",
    "        # 測試集、test_scaler\n",
    "        X_test, y_test = split_Xy(test_set_sc, n_future=n_future, n_past=n_past)\n",
    "\n",
    "        # 測試集驗證\n",
    "        prediction_test, actual_test = model_validation(trained_model, X_test, y_test, sc_test_target)\n",
    "        \n",
    "        pred_list.append(prediction_test)\n",
    "        actual_list.append(actual_test)\n",
    "        \n",
    "        # 儲存模型\n",
    "        trained_model.save(f\"C:/Users/Tibame/PycharmProjects/PythonETL/Fruit Price Prediction/models/{Fruit}_Price/{market}.h5\")\n",
    "        "
   ]
  },
  {
   "cell_type": "markdown",
   "metadata": {},
   "source": [
    "### Visualization"
   ]
  },
  {
   "cell_type": "code",
   "execution_count": null,
   "metadata": {},
   "outputs": [],
   "source": [
    "fig, axes = plt.subplots(2, 4, figsize=(30,10), sharex=True, sharey=True) #, squeeze=True)\n",
    "\n",
    "#     ax.xaxis.set_major_locator(plt.NullLocator())\n",
    "#     ax.yaxis.set_major_locator(plt.NullLocator())\n",
    "\n",
    "markets = [\"Taipei1\", \"Taipei2\", \"Sanchong\", \"Taichung\"]\n",
    "fruits = [\"Banana\", \"Guava\"]\n",
    "\n",
    "n = 7\n",
    "index = 70 #430 #-40 # 200\n",
    "\n",
    "for i in list(range(4)):\n",
    "    ax = fig.add_subplot(2, 4, i+1)\n",
    "    ax.plot(np.arange(n), pred_list[i][index][:n], label=\"Predicted Price\", color=\"orange\", marker=\"o\")\n",
    "    ax.plot(np.arange(n), actual_list[i][index][:n], label=\"Actual Price\", marker=\"o\")\n",
    "    #ax.set_xticks(np.arange(0, 31, 5))\n",
    "    if i <= 4:\n",
    "        fruit = fruits[0]\n",
    "    else:\n",
    "        fruit = fruits[1]\n",
    "        \n",
    "    ax.set_title(f\"{markets[i%4]} - {fruit} price forecast (7 days)\")\n",
    "    #ax.set_yticks(np.arange(0, 50, 10))\n",
    "    \n",
    "    ax.legend(loc=\"upper right\")\n",
    "    \n",
    "    "
   ]
  },
  {
   "cell_type": "code",
   "execution_count": null,
   "metadata": {},
   "outputs": [],
   "source": [
    "pred_list[i][index][:n]"
   ]
  },
  {
   "cell_type": "code",
   "execution_count": null,
   "metadata": {},
   "outputs": [],
   "source": []
  },
  {
   "cell_type": "code",
   "execution_count": null,
   "metadata": {},
   "outputs": [],
   "source": []
  },
  {
   "cell_type": "markdown",
   "metadata": {},
   "source": [
    "### 預測結果評估(rmse, mape, mad)\n",
    "- mape : 平均絕對百分比誤差(Mean absolute percentage error)\n",
    "- rmse : 均方根差(root-mean-square error)\n",
    "- mad : 平均絕對偏差（Mean Absolute Deviation)"
   ]
  },
  {
   "cell_type": "code",
   "execution_count": null,
   "metadata": {},
   "outputs": [],
   "source": [
    "# mean_absolute_percentage_error => sklearn版本問題無法import\n",
    "from sklearn.metrics import mean_squared_error"
   ]
  },
  {
   "cell_type": "code",
   "execution_count": null,
   "metadata": {},
   "outputs": [],
   "source": [
    "def mape(y_true, y_pred):\n",
    "    return np.mean(np.abs((y_true - y_pred) / y_true)) * 100"
   ]
  },
  {
   "cell_type": "code",
   "execution_count": null,
   "metadata": {},
   "outputs": [],
   "source": [
    "def mad(y_true, y_pred):\n",
    "    return sum(np.abs((y_true - y_pred) / len(y_true)))"
   ]
  },
  {
   "cell_type": "code",
   "execution_count": null,
   "metadata": {},
   "outputs": [],
   "source": [
    "rmse_output = []\n",
    "mape_output = []\n",
    "mad_output = []\n",
    "\n",
    "n = 35\n",
    "\n",
    "for i in list(range(4)):\n",
    "    rmse_output.append(round(mean_squared_error(pred_list[i][n], actual_list[i][n], squared=False),2))\n",
    "    mape_output.append(round(mape(actual_list[i][n], pred_list[i][n]), 2))\n",
    "    mad_output.append(round(mad(pred_list[i][n], actual_list[i][n]), 2))\n",
    "\n",
    "indexs = ['Banana_Taipei1', 'Banana_Taipei2', 'Banana_Sanchong', 'Banana_Taichung']#,\n",
    "        #'Guava_Taipei1', 'Guava_Taipei2', 'Guava_Sanchong','Guava_Taichung']\n",
    "\n",
    "df_result_evaluation = pd.DataFrame({\"RMSE\" : rmse_output,\n",
    "                                     \"MAPE\" : mape_output,\n",
    "                                     \"MAD\" : mad_output}, index= indexs)\n",
    "\n",
    "df_result_evaluation"
   ]
  },
  {
   "cell_type": "code",
   "execution_count": null,
   "metadata": {},
   "outputs": [],
   "source": []
  },
  {
   "cell_type": "code",
   "execution_count": null,
   "metadata": {},
   "outputs": [],
   "source": []
  },
  {
   "cell_type": "markdown",
   "metadata": {},
   "source": [
    "### 從SQL取分析資料進行價格預測\n",
    "- 直接透過query取得資料進行分析\n",
    "- 預測結果存入DB"
   ]
  },
  {
   "cell_type": "code",
   "execution_count": 5,
   "metadata": {},
   "outputs": [
    {
     "ename": "NameError",
     "evalue": "name 'datetime' is not defined",
     "output_type": "error",
     "traceback": [
      "\u001b[1;31m---------------------------------------------------------------------------\u001b[0m",
      "\u001b[1;31mNameError\u001b[0m                                 Traceback (most recent call last)",
      "\u001b[1;32m<ipython-input-5-86e2daf7f7e5>\u001b[0m in \u001b[0;36m<module>\u001b[1;34m\u001b[0m\n\u001b[0;32m      8\u001b[0m \u001b[1;33m\u001b[0m\u001b[0m\n\u001b[0;32m      9\u001b[0m \u001b[1;31m# date\u001b[0m\u001b[1;33m\u001b[0m\u001b[1;33m\u001b[0m\u001b[1;33m\u001b[0m\u001b[0m\n\u001b[1;32m---> 10\u001b[1;33m \u001b[0mtoday\u001b[0m \u001b[1;33m=\u001b[0m \u001b[0mdatetime\u001b[0m\u001b[1;33m.\u001b[0m\u001b[0mnow\u001b[0m\u001b[1;33m(\u001b[0m\u001b[1;33m)\u001b[0m\u001b[1;33m.\u001b[0m\u001b[0mstrftime\u001b[0m\u001b[1;33m(\u001b[0m\u001b[1;34m'%Y-%m-%d'\u001b[0m\u001b[1;33m)\u001b[0m\u001b[1;33m\u001b[0m\u001b[1;33m\u001b[0m\u001b[0m\n\u001b[0m\u001b[0;32m     11\u001b[0m \u001b[0mfuture_dates\u001b[0m \u001b[1;33m=\u001b[0m \u001b[0mlist\u001b[0m\u001b[1;33m(\u001b[0m\u001b[0mpd\u001b[0m\u001b[1;33m.\u001b[0m\u001b[0mdate_range\u001b[0m\u001b[1;33m(\u001b[0m\u001b[0mstart\u001b[0m\u001b[1;33m=\u001b[0m\u001b[0mtoday\u001b[0m\u001b[1;33m,\u001b[0m \u001b[0mfreq\u001b[0m\u001b[1;33m=\u001b[0m\u001b[1;34m\"d\"\u001b[0m\u001b[1;33m,\u001b[0m \u001b[0mperiods\u001b[0m\u001b[1;33m=\u001b[0m\u001b[1;36m7\u001b[0m\u001b[1;33m)\u001b[0m\u001b[1;33m)\u001b[0m\u001b[1;33m\u001b[0m\u001b[1;33m\u001b[0m\u001b[0m\n\u001b[0;32m     12\u001b[0m \u001b[1;33m\u001b[0m\u001b[0m\n",
      "\u001b[1;31mNameError\u001b[0m: name 'datetime' is not defined"
     ]
    }
   ],
   "source": [
    "fruits = {\"banana\": [\"banana\", \"scarletbanana\", \"guava\"]}\n",
    "          #\"guava\":  [\"guava\", 'emperorguava', 'banana']}\n",
    "\n",
    "markets = ['台北二', '台北一', '三重區', '台中市']\n",
    "\n",
    "pred_output = []\n",
    "actual_output = []\n",
    "\n",
    "# date\n",
    "today = datetime.now().strftime('%Y-%m-%d')\n",
    "future_dates = list(pd.date_range(start=today, freq=\"d\", periods=7))\n",
    "\n",
    "# sql schema\n",
    "df_for_sql = pd.DataFrame(columns=[\"水果\",\"市場\", \"日期\", \"價格\"])\n",
    "\n",
    "# prediction\n",
    "for Fruit, Type in fruits.items():\n",
    "    for market in markets:\n",
    "        \n",
    "        product = Type[0]\n",
    "        same = Type[1]\n",
    "        sub = Type[2]\n",
    "        \n",
    "        # 從SQL讀取分析資料，轉換成矩陣\n",
    "        df_set = pd.read_sql_query(f\"\"\"select `{product}_平均價`, `{product}_交易量`, `{same}_平均價`, \n",
    "                                       `{sub}_平均價`, `{product}_前日平均價`, `{product}_5日平均價` \n",
    "                                       from {product}_{market}\n",
    "                                       order by `日期` desc\n",
    "                                       limit 30\"\"\", con).values \n",
    "        \n",
    "        # 標準化\n",
    "        df_set_sc, sc_target = data_normalization(df_set)\n",
    "        \n",
    "        # reshape => 需符合input的shape\n",
    "        df_set_sc = df_set_sc.reshape(-1, 30, 6)\n",
    "        \n",
    "        # 載入model\n",
    "        file_name = f\"C:/Users/Tibame/PycharmProjects/PythonETL/Fruit Price Prediction/models/{Fruit}_Price/{market}.h5\"\n",
    "        model_loaded = keras.models.load_model(file_name)\n",
    "        \n",
    "        # 進行預測\n",
    "        pred_result = model_loaded(df_set_sc)                                                                          # 使用model_loaded.predict(df_set_sc)會跳出tensorflow warning\n",
    "        \n",
    "        # 透過inverse_transform還原為原本數值\n",
    "        output = sc_target.inverse_transform(pred_result).reshape(-1).round(2)\n",
    "        \n",
    "        for date, price in zip(future_dates, output):\n",
    "            df_for_sql = df_for_sql.append({\"水果\":Fruit, \"市場\":market, \"日期\":date, \"價格\":price}, ignore_index=True)\n",
    "                                           \n",
    "        print(f\"{Fruit}_{market}市場未來7日預測價: \", output)\n"
   ]
  },
  {
   "cell_type": "code",
   "execution_count": null,
   "metadata": {},
   "outputs": [],
   "source": [
    "df_for_sql[\"價格\"] = df_for_sql[\"價格\"].apply(lambda x:round(x,2))"
   ]
  },
  {
   "cell_type": "code",
   "execution_count": null,
   "metadata": {},
   "outputs": [],
   "source": [
    "# 預測結果寫入MySQL中\n",
    "df_for_sql.to_sql(name='predicted price', \n",
    "                  con=con, if_exists='append', index=False)"
   ]
  },
  {
   "cell_type": "code",
   "execution_count": null,
   "metadata": {},
   "outputs": [],
   "source": []
  },
  {
   "cell_type": "code",
   "execution_count": null,
   "metadata": {},
   "outputs": [],
   "source": []
  }
 ],
 "metadata": {
  "kernelspec": {
   "display_name": "Python 3",
   "language": "python",
   "name": "python3"
  },
  "language_info": {
   "codemirror_mode": {
    "name": "ipython",
    "version": 3
   },
   "file_extension": ".py",
   "mimetype": "text/x-python",
   "name": "python",
   "nbconvert_exporter": "python",
   "pygments_lexer": "ipython3",
   "version": "3.8.5"
  }
 },
 "nbformat": 4,
 "nbformat_minor": 4
}
