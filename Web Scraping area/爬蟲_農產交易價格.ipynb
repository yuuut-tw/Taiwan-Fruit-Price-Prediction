{
 "cells": [
  {
   "cell_type": "code",
   "execution_count": null,
   "metadata": {
    "ExecuteTime": {
     "end_time": "2021-06-13T12:55:48.277194Z",
     "start_time": "2021-06-13T12:55:46.248415Z"
    }
   },
   "outputs": [],
   "source": [
    "!pip list | findstr selenium"
   ]
  },
  {
   "cell_type": "code",
   "execution_count": null,
   "metadata": {
    "ExecuteTime": {
     "end_time": "2021-06-13T12:55:48.307541Z",
     "start_time": "2021-06-13T12:55:48.283231Z"
    }
   },
   "outputs": [],
   "source": [
    "import sys\n",
    "sys.executable"
   ]
  },
  {
   "cell_type": "code",
   "execution_count": null,
   "metadata": {
    "ExecuteTime": {
     "end_time": "2021-06-13T12:55:50.211051Z",
     "start_time": "2021-06-13T12:55:48.314606Z"
    }
   },
   "outputs": [],
   "source": [
    "import re\n",
    "import requests\n",
    "import pandas as pd\n",
    "import numpy as np\n",
    "from bs4 import BeautifulSoup\n",
    "from selenium.webdriver import Chrome\n",
    "from selenium.webdriver.support.ui import Select\n",
    "import time"
   ]
  },
  {
   "cell_type": "code",
   "execution_count": null,
   "metadata": {},
   "outputs": [],
   "source": []
  },
  {
   "cell_type": "markdown",
   "metadata": {},
   "source": [
    "### Create function to run selenium and retrieve soup from HTML\n",
    "\n",
    "\n",
    "<font size=3 color=Blue>**參數說明**</font>\n",
    "> special_day: 查詢日期（單日 or 開始日期）<br>\n",
    "> period_mode: 查詢特定日期到今日為止的期間模式，預設為False<br>\n",
    "> fruit_number: 水果編號"
   ]
  },
  {
   "cell_type": "code",
   "execution_count": null,
   "metadata": {
    "ExecuteTime": {
     "end_time": "2021-06-13T12:55:50.226313Z",
     "start_time": "2021-06-13T12:55:50.215801Z"
    }
   },
   "outputs": [],
   "source": [
    "# 鳳梨以金鑽為大宗\n",
    "fruit_dict = {\"香蕉\":\"A1\", \"鳳梨\":\"B2\"}"
   ]
  },
  {
   "cell_type": "code",
   "execution_count": null,
   "metadata": {
    "ExecuteTime": {
     "end_time": "2021-06-13T12:55:50.257891Z",
     "start_time": "2021-06-13T12:55:50.232125Z"
    }
   },
   "outputs": [],
   "source": [
    "def All_Market_Prices(specific_day, fruit_name, period_mode=False):\n",
    "    \n",
    "    url = \"https://amis.afa.gov.tw/fruit/FruitProdDayTransInfo.aspx\"\n",
    "    driver = Chrome(\"../../chromedriver\")\n",
    "    driver.get(url)\n",
    "    \n",
    "    ## 輸入日期 => 除去日期input只能read限制，然後清空既有input並放入keys\n",
    "    driver.execute_script(\"$('input[id=ctl00_contentPlaceHolder_txtSTransDate]').removeAttr('readonly')\")\n",
    "    driver.find_element_by_id('ctl00_contentPlaceHolder_txtSTransDate').clear()         \n",
    "    driver.find_element_by_id('ctl00_contentPlaceHolder_txtSTransDate').send_keys(specific_day)\n",
    "    \n",
    "    ## 期間模式 => 範圍別點選為期間\n",
    "    if period_mode == True: \n",
    "        driver.find_element_by_xpath(\"//*[@id='ctl00_contentPlaceHolder_ucDateScope_rblDateScope_1']\").click()\n",
    "    \n",
    "    ## 選取市場\n",
    "    driver.find_element_by_xpath(\"//*[@id='ctl00_contentPlaceHolder_txtMarket']\").click() \n",
    "    iframe = driver.find_elements_by_tag_name(\"iframe\")[0]\n",
    "    driver.switch_to.frame(iframe)\n",
    "    radio_target = driver.find_element_by_xpath(\"//*[@id='radlMarketRange_0']\")\n",
    "    radio_target.click()\n",
    "\n",
    "    ## 選取水果種類\n",
    "    driver.find_element_by_xpath(\"//*[@id='ctl00_contentPlaceHolder_txtProduct']\").click()\n",
    "    iframe = driver.find_elements_by_tag_name(\"iframe\")[0]\n",
    "    driver.switch_to.frame(iframe)\n",
    "    select = Select(driver.find_element_by_name('lstProduct'))\n",
    "    select.select_by_value(fruit_dict[fruit_name])\n",
    "    driver.find_element_by_xpath(\"//*[@id='btnConfirm']\").click()\n",
    "\n",
    "    ## 點選查詢button\n",
    "    driver.find_element_by_xpath(\"//*[@id='ctl00_contentPlaceHolder_btnQuery']\").click()\n",
    "    time.sleep(2)\n",
    "    \n",
    "    ## 取得soup\n",
    "    soup = BeautifulSoup(driver.page_source, \"html.parser\")\n",
    "    \n",
    "    ## 關閉視窗\n",
    "    driver.close()\n",
    "    \n",
    "    return soup"
   ]
  },
  {
   "cell_type": "code",
   "execution_count": null,
   "metadata": {},
   "outputs": [],
   "source": []
  },
  {
   "cell_type": "code",
   "execution_count": null,
   "metadata": {
    "ExecuteTime": {
     "end_time": "2021-06-13T12:55:58.517319Z",
     "start_time": "2021-06-13T12:55:50.264869Z"
    }
   },
   "outputs": [],
   "source": [
    "soup = All_Market_Prices(\"110/06/04\", \"鳳梨\", period_mode=True)\n",
    "soup"
   ]
  },
  {
   "cell_type": "code",
   "execution_count": null,
   "metadata": {},
   "outputs": [],
   "source": []
  },
  {
   "cell_type": "markdown",
   "metadata": {},
   "source": [
    "### raw data processing"
   ]
  },
  {
   "cell_type": "code",
   "execution_count": null,
   "metadata": {
    "ExecuteTime": {
     "end_time": "2021-06-13T12:55:58.595155Z",
     "start_time": "2021-06-13T12:55:58.519901Z"
    }
   },
   "outputs": [],
   "source": [
    "raw_data = re.sub(\" \", \"\", soup.select(\"table[border='1']\")[0].text).split(\"\\n\")\n",
    "data = list(filter(lambda x: len(x)>0, raw_data))\n",
    "data"
   ]
  },
  {
   "cell_type": "code",
   "execution_count": null,
   "metadata": {
    "ExecuteTime": {
     "end_time": "2021-06-13T12:55:58.625998Z",
     "start_time": "2021-06-13T12:55:58.602193Z"
    }
   },
   "outputs": [],
   "source": [
    "# columns\n",
    "cols = data[:10]\n",
    "cols"
   ]
  },
  {
   "cell_type": "code",
   "execution_count": null,
   "metadata": {
    "ExecuteTime": {
     "end_time": "2021-06-13T12:55:58.673981Z",
     "start_time": "2021-06-13T12:55:58.630145Z"
    }
   },
   "outputs": [],
   "source": [
    "# table data\n",
    "table = data[18:]\n",
    "table"
   ]
  },
  {
   "cell_type": "code",
   "execution_count": null,
   "metadata": {
    "ExecuteTime": {
     "end_time": "2021-06-13T12:55:58.736168Z",
     "start_time": "2021-06-13T12:55:58.677895Z"
    }
   },
   "outputs": [],
   "source": [
    "# 將data分割，每天資料存成一個小list放在大list裡面\n",
    "output = []\n",
    "end = 10\n",
    "for start in range(0, len(table), 10):\n",
    "    output.append(table[start: end])\n",
    "    end += 10\n",
    "output"
   ]
  },
  {
   "cell_type": "markdown",
   "metadata": {},
   "source": [
    "### 轉換成dataframe & data cleaning"
   ]
  },
  {
   "cell_type": "code",
   "execution_count": null,
   "metadata": {
    "ExecuteTime": {
     "end_time": "2021-06-13T12:55:59.733303Z",
     "start_time": "2021-06-13T12:55:58.739336Z"
    }
   },
   "outputs": [],
   "source": [
    "# create an empty dataframe\n",
    "df = pd.DataFrame(columns=cols)\n",
    "\n",
    "# 將資料逐筆放入\n",
    "for i in range(len(output)):\n",
    "    df.loc[i] = output[i]\n",
    "    \n",
    "df"
   ]
  },
  {
   "cell_type": "code",
   "execution_count": null,
   "metadata": {
    "ExecuteTime": {
     "end_time": "2021-06-13T12:55:59.780139Z",
     "start_time": "2021-06-13T12:55:59.740550Z"
    }
   },
   "outputs": [],
   "source": [
    "df[\"交易量(公斤)\"] = df[\"交易量(公斤)\"].str.replace(\",\",\"\").apply(pd.to_numeric)"
   ]
  },
  {
   "cell_type": "code",
   "execution_count": null,
   "metadata": {
    "ExecuteTime": {
     "end_time": "2021-06-13T12:55:59.856547Z",
     "start_time": "2021-06-13T12:55:59.788117Z"
    }
   },
   "outputs": [],
   "source": [
    "target_cols = [\"上價\", \"中價\", \"下價\", \"平均價(元/公斤)\"]\n",
    "df[target_cols] = df[target_cols].apply(pd.to_numeric)"
   ]
  },
  {
   "cell_type": "code",
   "execution_count": null,
   "metadata": {
    "ExecuteTime": {
     "end_time": "2021-06-13T12:56:37.018746Z",
     "start_time": "2021-06-13T12:56:36.935017Z"
    }
   },
   "outputs": [],
   "source": [
    "df"
   ]
  },
  {
   "cell_type": "code",
   "execution_count": null,
   "metadata": {
    "ExecuteTime": {
     "end_time": "2021-06-13T12:57:01.362491Z",
     "start_time": "2021-06-13T12:57:01.341765Z"
    }
   },
   "outputs": [],
   "source": [
    "df.dtypes"
   ]
  },
  {
   "cell_type": "code",
   "execution_count": null,
   "metadata": {
    "ExecuteTime": {
     "end_time": "2021-06-13T12:56:00.012255Z",
     "start_time": "2021-06-13T12:55:59.989880Z"
    }
   },
   "outputs": [],
   "source": [
    "df.columns"
   ]
  },
  {
   "cell_type": "code",
   "execution_count": null,
   "metadata": {
    "ExecuteTime": {
     "end_time": "2021-06-13T12:56:00.058897Z",
     "start_time": "2021-06-13T12:56:00.020451Z"
    }
   },
   "outputs": [],
   "source": [
    "fun_dicts = {\n",
    "    '上價':np.mean, \n",
    "    '中價':np.mean, \n",
    "    '下價':np.mean, \n",
    "    '平均價(元/公斤)':np.mean, \n",
    "    '交易量(公斤)':np.sum\n",
    "}"
   ]
  },
  {
   "cell_type": "code",
   "execution_count": null,
   "metadata": {
    "ExecuteTime": {
     "end_time": "2021-06-13T12:56:01.104419Z",
     "start_time": "2021-06-13T12:56:00.065886Z"
    }
   },
   "outputs": [],
   "source": [
    "df_agg = df.groupby(\"市場\").agg(fun_dicts)\n",
    "df_agg.sort_values()"
   ]
  },
  {
   "cell_type": "code",
   "execution_count": null,
   "metadata": {},
   "outputs": [],
   "source": []
  }
 ],
 "metadata": {
  "kernelspec": {
   "display_name": "Python 3",
   "language": "python",
   "name": "python3"
  },
  "language_info": {
   "codemirror_mode": {
    "name": "ipython",
    "version": 3
   },
   "file_extension": ".py",
   "mimetype": "text/x-python",
   "name": "python",
   "nbconvert_exporter": "python",
   "pygments_lexer": "ipython3",
   "version": "3.8.5"
  },
  "toc": {
   "base_numbering": 1,
   "nav_menu": {},
   "number_sections": true,
   "sideBar": true,
   "skip_h1_title": false,
   "title_cell": "Table of Contents",
   "title_sidebar": "Contents",
   "toc_cell": false,
   "toc_position": {},
   "toc_section_display": true,
   "toc_window_display": false
  },
  "varInspector": {
   "cols": {
    "lenName": 16,
    "lenType": 16,
    "lenVar": 40
   },
   "kernels_config": {
    "python": {
     "delete_cmd_postfix": "",
     "delete_cmd_prefix": "del ",
     "library": "var_list.py",
     "varRefreshCmd": "print(var_dic_list())"
    },
    "r": {
     "delete_cmd_postfix": ") ",
     "delete_cmd_prefix": "rm(",
     "library": "var_list.r",
     "varRefreshCmd": "cat(var_dic_list()) "
    }
   },
   "types_to_exclude": [
    "module",
    "function",
    "builtin_function_or_method",
    "instance",
    "_Feature"
   ],
   "window_display": false
  }
 },
 "nbformat": 4,
 "nbformat_minor": 4
}
