{
 "cells": [
  {
   "cell_type": "code",
   "execution_count": 1,
   "metadata": {
    "ExecuteTime": {
     "end_time": "2021-06-13T09:07:58.347023Z",
     "start_time": "2021-06-13T09:07:54.565148Z"
    }
   },
   "outputs": [],
   "source": [
    "import requests\n",
    "import pandas as pd\n",
    "from bs4 import BeautifulSoup\n",
    "import json"
   ]
  },
  {
   "cell_type": "code",
   "execution_count": null,
   "metadata": {},
   "outputs": [],
   "source": []
  },
  {
   "cell_type": "markdown",
   "metadata": {},
   "source": [
    "## 颱風歷史資料"
   ]
  },
  {
   "cell_type": "code",
   "execution_count": 2,
   "metadata": {
    "ExecuteTime": {
     "end_time": "2021-06-13T09:31:42.148202Z",
     "start_time": "2021-06-13T09:31:42.135722Z"
    }
   },
   "outputs": [],
   "source": [
    "headers = {\n",
    "    \"User-Agent\": \"Mozilla/5.0 (Windows NT 10.0; Win64; x64) AppleWebKit/537.36 (KHTML, like Gecko) Chrome/90.0.4430.212 Safari/537.36\",\n",
    "    \"Cookie\": \"PHPSESSID=ck51k725hgodfmfd7cbi4b0ks4; _gid=GA1.3.1183769150.1622787669; _ga=GA1.3.25450972.1620709885; _ga_K6HENP0XVS=GS1.1.1622787669.3.1.1622787695.0; TS01b0fe7f=0107dddfefcf72bbe6298d9f6067078ff9f4c14164221cb96410f497cf4481230f20f5073ca7ae71a4a5fe265de60a5c20c91db504\",\n",
    "    \"X-Requested-With\": \"XMLHttpRequest\"}"
   ]
  },
  {
   "cell_type": "markdown",
   "metadata": {},
   "source": [
    "### 善用XHR來獲取資料\n",
    "<img src='./image/XHR requests.jpg' width=800 height=600>"
   ]
  },
  {
   "cell_type": "code",
   "execution_count": 3,
   "metadata": {
    "ExecuteTime": {
     "end_time": "2021-06-13T09:31:45.462491Z",
     "start_time": "2021-06-13T09:31:44.318269Z"
    }
   },
   "outputs": [],
   "source": [
    "url = \"https://rdc28.cwb.gov.tw/TDB/public/warning_typhoon_list/get_warning_typhoon\"\n",
    "ss = requests.session()\n",
    "res = ss.post(url, headers=headers)"
   ]
  },
  {
   "cell_type": "code",
   "execution_count": 4,
   "metadata": {
    "ExecuteTime": {
     "end_time": "2021-06-13T09:37:52.959810Z",
     "start_time": "2021-06-13T09:37:52.939176Z"
    },
    "scrolled": true
   },
   "outputs": [],
   "source": [
    "# 除去導致無法轉換成json的東西\n",
    "data = res.text[1:]"
   ]
  },
  {
   "cell_type": "markdown",
   "metadata": {},
   "source": [
    "<img src='./image/index0.jpg' width=400 height=100>"
   ]
  },
  {
   "cell_type": "code",
   "execution_count": 5,
   "metadata": {
    "ExecuteTime": {
     "end_time": "2021-06-13T09:31:51.932051Z",
     "start_time": "2021-06-13T09:31:51.917798Z"
    }
   },
   "outputs": [],
   "source": [
    "json_data = json.loads(data)"
   ]
  },
  {
   "cell_type": "markdown",
   "metadata": {},
   "source": [
    "### 將json格式轉成dataframe => pd.json_normalize()"
   ]
  },
  {
   "cell_type": "code",
   "execution_count": 6,
   "metadata": {
    "ExecuteTime": {
     "end_time": "2021-06-13T09:32:08.968860Z",
     "start_time": "2021-06-13T09:32:08.909961Z"
    }
   },
   "outputs": [],
   "source": [
    "df = pd.json_normalize(json_data)"
   ]
  },
  {
   "cell_type": "code",
   "execution_count": 7,
   "metadata": {
    "ExecuteTime": {
     "end_time": "2021-06-13T09:32:10.242952Z",
     "start_time": "2021-06-13T09:32:10.165653Z"
    }
   },
   "outputs": [
    {
     "data": {
      "text/html": [
       "<div>\n",
       "<style scoped>\n",
       "    .dataframe tbody tr th:only-of-type {\n",
       "        vertical-align: middle;\n",
       "    }\n",
       "\n",
       "    .dataframe tbody tr th {\n",
       "        vertical-align: top;\n",
       "    }\n",
       "\n",
       "    .dataframe thead th {\n",
       "        text-align: right;\n",
       "    }\n",
       "</style>\n",
       "<table border=\"1\" class=\"dataframe\">\n",
       "  <thead>\n",
       "    <tr style=\"text-align: right;\">\n",
       "      <th></th>\n",
       "      <th>id</th>\n",
       "      <th>cht_name</th>\n",
       "      <th>eng_name</th>\n",
       "      <th>official_path_category</th>\n",
       "      <th>sea_start_datetime</th>\n",
       "      <th>max_intensity</th>\n",
       "      <th>min_pressure</th>\n",
       "      <th>max_wind_speed</th>\n",
       "      <th>max_range7</th>\n",
       "      <th>max_range10</th>\n",
       "      <th>sea_end_datetime</th>\n",
       "      <th>warning_count</th>\n",
       "    </tr>\n",
       "  </thead>\n",
       "  <tbody>\n",
       "    <tr>\n",
       "      <th>0</th>\n",
       "      <td>202103</td>\n",
       "      <td>彩雲</td>\n",
       "      <td>CHOI-WAN</td>\n",
       "      <td></td>\n",
       "      <td>2021-06-03 16:00:00</td>\n",
       "      <td>w</td>\n",
       "      <td>995</td>\n",
       "      <td>20</td>\n",
       "      <td>100</td>\n",
       "      <td></td>\n",
       "      <td>2021-06-04 20:30:00</td>\n",
       "      <td>11</td>\n",
       "    </tr>\n",
       "    <tr>\n",
       "      <th>1</th>\n",
       "      <td>202020</td>\n",
       "      <td>閃電</td>\n",
       "      <td>ATSANI</td>\n",
       "      <td>5</td>\n",
       "      <td>2020-11-05 08:30:00</td>\n",
       "      <td>w</td>\n",
       "      <td>982</td>\n",
       "      <td>28</td>\n",
       "      <td>120</td>\n",
       "      <td></td>\n",
       "      <td>2020-11-07 14:30:00</td>\n",
       "      <td>19</td>\n",
       "    </tr>\n",
       "    <tr>\n",
       "      <th>2</th>\n",
       "      <td>202008</td>\n",
       "      <td>巴威</td>\n",
       "      <td>BAVI</td>\n",
       "      <td></td>\n",
       "      <td>2020-08-22 10:30:00</td>\n",
       "      <td>w</td>\n",
       "      <td>945</td>\n",
       "      <td>43</td>\n",
       "      <td>220</td>\n",
       "      <td>80</td>\n",
       "      <td>2020-08-22 23:30:00</td>\n",
       "      <td>6</td>\n",
       "    </tr>\n",
       "    <tr>\n",
       "      <th>3</th>\n",
       "      <td>202006</td>\n",
       "      <td>米克拉</td>\n",
       "      <td>MEKKHALA</td>\n",
       "      <td></td>\n",
       "      <td>2020-08-10 10:30:00</td>\n",
       "      <td>w</td>\n",
       "      <td>992</td>\n",
       "      <td>23</td>\n",
       "      <td>120</td>\n",
       "      <td></td>\n",
       "      <td>2020-08-11 14:30:00</td>\n",
       "      <td>11</td>\n",
       "    </tr>\n",
       "    <tr>\n",
       "      <th>4</th>\n",
       "      <td>202004</td>\n",
       "      <td>哈格比</td>\n",
       "      <td>HAGUPIT</td>\n",
       "      <td></td>\n",
       "      <td>2020-08-02 05:30:00</td>\n",
       "      <td>m</td>\n",
       "      <td>978</td>\n",
       "      <td>33</td>\n",
       "      <td>100</td>\n",
       "      <td>40</td>\n",
       "      <td>2020-08-03 23:30:00</td>\n",
       "      <td>15</td>\n",
       "    </tr>\n",
       "    <tr>\n",
       "      <th>...</th>\n",
       "      <td>...</td>\n",
       "      <td>...</td>\n",
       "      <td>...</td>\n",
       "      <td>...</td>\n",
       "      <td>...</td>\n",
       "      <td>...</td>\n",
       "      <td>...</td>\n",
       "      <td>...</td>\n",
       "      <td>...</td>\n",
       "      <td>...</td>\n",
       "      <td>...</td>\n",
       "      <td>...</td>\n",
       "    </tr>\n",
       "    <tr>\n",
       "      <th>429</th>\n",
       "      <td>195814</td>\n",
       "      <td>海倫</td>\n",
       "      <td>HELEN</td>\n",
       "      <td></td>\n",
       "      <td>1958-09-12 00:00:00</td>\n",
       "      <td>s</td>\n",
       "      <td>920</td>\n",
       "      <td>55</td>\n",
       "      <td>300</td>\n",
       "      <td></td>\n",
       "      <td>1958-09-15 12:00:00</td>\n",
       "      <td>8</td>\n",
       "    </tr>\n",
       "    <tr>\n",
       "      <th>430</th>\n",
       "      <td>195813</td>\n",
       "      <td>葛瑞絲</td>\n",
       "      <td>GRACE</td>\n",
       "      <td>1</td>\n",
       "      <td>1958-09-01 12:00:00</td>\n",
       "      <td>s</td>\n",
       "      <td>910</td>\n",
       "      <td>75</td>\n",
       "      <td>350</td>\n",
       "      <td></td>\n",
       "      <td>1958-09-04 23:00:00</td>\n",
       "      <td>13</td>\n",
       "    </tr>\n",
       "    <tr>\n",
       "      <th>431</th>\n",
       "      <td>195807</td>\n",
       "      <td>溫妮</td>\n",
       "      <td>WINNIE</td>\n",
       "      <td>3</td>\n",
       "      <td>1958-07-13 12:00:00</td>\n",
       "      <td>s</td>\n",
       "      <td>925</td>\n",
       "      <td>50</td>\n",
       "      <td>350</td>\n",
       "      <td></td>\n",
       "      <td>1958-07-17 00:00:00</td>\n",
       "      <td>12</td>\n",
       "    </tr>\n",
       "    <tr>\n",
       "      <th>432</th>\n",
       "      <td>195805</td>\n",
       "      <td>蒂絲</td>\n",
       "      <td>TESS</td>\n",
       "      <td></td>\n",
       "      <td>1958-07-05 00:00:00</td>\n",
       "      <td>m</td>\n",
       "      <td>995</td>\n",
       "      <td>30</td>\n",
       "      <td>150</td>\n",
       "      <td></td>\n",
       "      <td>1958-07-06 00:00:00</td>\n",
       "      <td>3</td>\n",
       "    </tr>\n",
       "    <tr>\n",
       "      <th>433</th>\n",
       "      <td>194901</td>\n",
       "      <td>卡門</td>\n",
       "      <td>CARMEN</td>\n",
       "      <td></td>\n",
       "      <td>1949-01-11 05:00:00</td>\n",
       "      <td></td>\n",
       "      <td></td>\n",
       "      <td></td>\n",
       "      <td></td>\n",
       "      <td></td>\n",
       "      <td>1949-01-15 06:00:00</td>\n",
       "      <td></td>\n",
       "    </tr>\n",
       "  </tbody>\n",
       "</table>\n",
       "<p>434 rows × 12 columns</p>\n",
       "</div>"
      ],
      "text/plain": [
       "         id cht_name  eng_name official_path_category   sea_start_datetime  \\\n",
       "0    202103       彩雲  CHOI-WAN                         2021-06-03 16:00:00   \n",
       "1    202020       閃電    ATSANI                      5  2020-11-05 08:30:00   \n",
       "2    202008       巴威      BAVI                         2020-08-22 10:30:00   \n",
       "3    202006      米克拉  MEKKHALA                         2020-08-10 10:30:00   \n",
       "4    202004      哈格比   HAGUPIT                         2020-08-02 05:30:00   \n",
       "..      ...      ...       ...                    ...                  ...   \n",
       "429  195814       海倫     HELEN                         1958-09-12 00:00:00   \n",
       "430  195813      葛瑞絲     GRACE                      1  1958-09-01 12:00:00   \n",
       "431  195807       溫妮    WINNIE                      3  1958-07-13 12:00:00   \n",
       "432  195805       蒂絲      TESS                         1958-07-05 00:00:00   \n",
       "433  194901       卡門    CARMEN                         1949-01-11 05:00:00   \n",
       "\n",
       "    max_intensity min_pressure max_wind_speed max_range7 max_range10  \\\n",
       "0               w          995             20        100               \n",
       "1               w          982             28        120               \n",
       "2               w          945             43        220          80   \n",
       "3               w          992             23        120               \n",
       "4               m          978             33        100          40   \n",
       "..            ...          ...            ...        ...         ...   \n",
       "429             s          920             55        300               \n",
       "430             s          910             75        350               \n",
       "431             s          925             50        350               \n",
       "432             m          995             30        150               \n",
       "433                                                                    \n",
       "\n",
       "        sea_end_datetime warning_count  \n",
       "0    2021-06-04 20:30:00            11  \n",
       "1    2020-11-07 14:30:00            19  \n",
       "2    2020-08-22 23:30:00             6  \n",
       "3    2020-08-11 14:30:00            11  \n",
       "4    2020-08-03 23:30:00            15  \n",
       "..                   ...           ...  \n",
       "429  1958-09-15 12:00:00             8  \n",
       "430  1958-09-04 23:00:00            13  \n",
       "431  1958-07-17 00:00:00            12  \n",
       "432  1958-07-06 00:00:00             3  \n",
       "433  1949-01-15 06:00:00                \n",
       "\n",
       "[434 rows x 12 columns]"
      ]
     },
     "execution_count": 7,
     "metadata": {},
     "output_type": "execute_result"
    }
   ],
   "source": [
    "df"
   ]
  },
  {
   "cell_type": "markdown",
   "metadata": {},
   "source": [
    "### 重設欄位名稱"
   ]
  },
  {
   "cell_type": "markdown",
   "metadata": {},
   "source": [
    "<img src=\"./image/columns.jpg\">"
   ]
  },
  {
   "cell_type": "code",
   "execution_count": null,
   "metadata": {},
   "outputs": [],
   "source": [
    "col_text = \"年份\t颱風編號\t颱風名稱\t侵臺路徑分類\t警報期間\t近臺強度\t近臺最低氣壓(hPa)\t近臺最大風速(m/s)\t近臺7級風暴風半徑(km)\t近臺10級風暴風半徑(km)\t警報發布報數\""
   ]
  },
  {
   "cell_type": "code",
   "execution_count": null,
   "metadata": {},
   "outputs": [],
   "source": [
    "cols = col_text.split(\"\\t\")\n",
    "cols"
   ]
  },
  {
   "cell_type": "code",
   "execution_count": null,
   "metadata": {},
   "outputs": [],
   "source": [
    "cols = ['颱風編號',\n",
    " '中文名稱',\n",
    " '英文名稱',\n",
    " '侵臺路徑分類',\n",
    " '海上警報開始時間',\n",
    " '近臺強度',\n",
    " '近臺最低氣壓(hPa)',\n",
    " '近臺最大風速(m/s)',\n",
    " '近臺7級風暴風半徑(km)',\n",
    " '近臺10級風暴風半徑(km)',\n",
    " '海上警報結束時間',       \n",
    " '警報發布報數']\n",
    "\n",
    "df.columns = cols\n",
    "df"
   ]
  },
  {
   "cell_type": "code",
   "execution_count": null,
   "metadata": {},
   "outputs": [],
   "source": []
  },
  {
   "cell_type": "markdown",
   "metadata": {},
   "source": [
    "### 轉成csv檔"
   ]
  },
  {
   "cell_type": "code",
   "execution_count": null,
   "metadata": {},
   "outputs": [],
   "source": [
    "df.to_csv(\"颱風歷史資料(only發布警報).csv\", index=False)"
   ]
  },
  {
   "cell_type": "code",
   "execution_count": null,
   "metadata": {},
   "outputs": [],
   "source": [
    "cols"
   ]
  },
  {
   "cell_type": "code",
   "execution_count": null,
   "metadata": {},
   "outputs": [],
   "source": [
    "\"%s, \"*12"
   ]
  },
  {
   "cell_type": "code",
   "execution_count": null,
   "metadata": {},
   "outputs": [],
   "source": [
    "\"\n",
    "\""
   ]
  }
 ],
 "metadata": {
  "kernelspec": {
   "display_name": "Python 3",
   "language": "python",
   "name": "python3"
  },
  "language_info": {
   "codemirror_mode": {
    "name": "ipython",
    "version": 3
   },
   "file_extension": ".py",
   "mimetype": "text/x-python",
   "name": "python",
   "nbconvert_exporter": "python",
   "pygments_lexer": "ipython3",
   "version": "3.8.5"
  },
  "toc": {
   "base_numbering": 1,
   "nav_menu": {},
   "number_sections": true,
   "sideBar": true,
   "skip_h1_title": false,
   "title_cell": "Table of Contents",
   "title_sidebar": "Contents",
   "toc_cell": false,
   "toc_position": {},
   "toc_section_display": true,
   "toc_window_display": true
  },
  "varInspector": {
   "cols": {
    "lenName": 16,
    "lenType": 16,
    "lenVar": 40
   },
   "kernels_config": {
    "python": {
     "delete_cmd_postfix": "",
     "delete_cmd_prefix": "del ",
     "library": "var_list.py",
     "varRefreshCmd": "print(var_dic_list())"
    },
    "r": {
     "delete_cmd_postfix": ") ",
     "delete_cmd_prefix": "rm(",
     "library": "var_list.r",
     "varRefreshCmd": "cat(var_dic_list()) "
    }
   },
   "types_to_exclude": [
    "module",
    "function",
    "builtin_function_or_method",
    "instance",
    "_Feature"
   ],
   "window_display": false
  }
 },
 "nbformat": 4,
 "nbformat_minor": 4
}
