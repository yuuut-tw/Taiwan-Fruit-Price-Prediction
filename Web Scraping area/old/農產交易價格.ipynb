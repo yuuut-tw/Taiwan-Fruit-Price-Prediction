{
 "cells": [
  {
   "cell_type": "code",
   "execution_count": 1,
   "metadata": {
    "ExecuteTime": {
     "end_time": "2021-06-09T02:48:27.360689Z",
     "start_time": "2021-06-09T02:48:26.065293Z"
    }
   },
   "outputs": [
    {
     "name": "stdout",
     "output_type": "stream",
     "text": [
      "selenium            3.141.0\n",
      "Note: you may need to restart the kernel to use updated packages.\n"
     ]
    },
    {
     "name": "stderr",
     "output_type": "stream",
     "text": [
      "WARNING: You are using pip version 21.1.1; however, version 21.1.2 is available.\n",
      "You should consider upgrading via the 'c:\\users\\tibame\\pycharmprojects\\pythonetl\\venv\\scripts\\python.exe -m pip install --upgrade pip' command.\n"
     ]
    }
   ],
   "source": [
    "pip list | findstr selenium"
   ]
  },
  {
   "cell_type": "code",
   "execution_count": 8,
   "metadata": {
    "ExecuteTime": {
     "end_time": "2021-06-11T13:35:39.022027Z",
     "start_time": "2021-06-11T13:35:39.006071Z"
    }
   },
   "outputs": [],
   "source": [
    "import requests\n",
    "from bs4 import BeautifulSoup\n",
    "from selenium.webdriver import Chrome\n",
    "from selenium.webdriver.support.ui import Select\n",
    "import time"
   ]
  },
  {
   "cell_type": "markdown",
   "metadata": {},
   "source": []
  },
  {
   "cell_type": "code",
   "execution_count": 19,
   "metadata": {
    "ExecuteTime": {
     "end_time": "2021-06-11T13:38:24.273731Z",
     "start_time": "2021-06-11T13:38:20.592943Z"
    }
   },
   "outputs": [
    {
     "data": {
      "text/plain": [
       "'\\n# close 視窗\\ndriver.find_element_by_xpath(\"//*[@id=\\'btnConfirm\\']\").click()\\n\\ntime.sleep(2)\\n\\n# 查詢\\ndriver.find_element_by_xpath(\"//*[@id=\\'ctl00_contentPlaceHolder_btnQuery\\']\").click()\\n\\n\\n### 獲取html\\n...\\n'"
      ]
     },
     "execution_count": 19,
     "metadata": {},
     "output_type": "execute_result"
    }
   ],
   "source": [
    "url = \"https://amis.afa.gov.tw/fruit/FruitProdDayTransInfo.aspx\"\n",
    "\n",
    "driver = Chrome(\"../../chromedriver\")\n",
    "driver.get(url)\n",
    "\n",
    "# 選取範圍 => 期間\n",
    "# driver.find_element_by_xpath(\"//*[@id='ctl00_contentPlaceHolder_ucDateScope_rblDateScope_1']\").click()\n",
    "# time.sleep(2)\n",
    "\n",
    "# 選取日期\n",
    "# 目前問題 => 無法換到datetable的上面進行點選\n",
    "# driver.find_element_by_xpath(\"//*[@id='ctl00_contentPlaceHolder_txtSTransDate']\").click()\n",
    "# time.sleep(2)\n",
    "\n",
    "## 輸入日期 => 除去日期input只能read限制，然後清空既有input並放入keys\n",
    "driver.execute_script(\"$('input[id=ctl00_contentPlaceHolder_txtSTransDate]').removeAttr('readonly')\")\n",
    "driver.find_element_by_id('ctl00_contentPlaceHolder_txtSTransDate').clear()         \n",
    "driver.find_element_by_id('ctl00_contentPlaceHolder_txtSTransDate').send_keys(\"110/06/09\")\n",
    "\n",
    "\n",
    "# 選取市場(目前階段僅能選擇全部市場)\n",
    "driver.find_element_by_xpath(\"//*[@id='ctl00_contentPlaceHolder_txtMarket']\").click() \n",
    "\n",
    "iframe = driver.find_elements_by_tag_name(\"iframe\")[0]\n",
    "driver.switch_to.frame(iframe)\n",
    "radio_target = driver.find_element_by_xpath(\"//*[@id='radlMarketRange_0']\")\n",
    "radio_target.click()\n",
    "\n",
    "# 選取水果\n",
    "driver.find_element_by_xpath(\"//*[@id='ctl00_contentPlaceHolder_txtProduct']\").click()\n",
    "\n",
    "iframe = driver.find_elements_by_tag_name(\"iframe\")[0]\n",
    "driver.switch_to.frame(iframe)\n",
    "\n",
    "driver.find_element_by_xpath(\"//*[@id='radlProductType_1']\").click()\n",
    "driver.\n",
    "soup = BeautifulSoup(driver.page_source, \"html.parser\")\n",
    "\n",
    "# 抓取下拉選單元件\n",
    "# select = Select(driver.find_element_by_name('lstProduct'))\n",
    "# select.select_by_value(\"A1\") # A1 香蕉\n",
    "\n",
    "'''\n",
    "# close 視窗\n",
    "driver.find_element_by_xpath(\"//*[@id='btnConfirm']\").click()\n",
    "\n",
    "time.sleep(2)\n",
    "\n",
    "# 查詢\n",
    "driver.find_element_by_xpath(\"//*[@id='ctl00_contentPlaceHolder_btnQuery']\").click()\n",
    "\n",
    "\n",
    "### 獲取html\n",
    "...\n",
    "'''"
   ]
  },
  {
   "cell_type": "code",
   "execution_count": 14,
   "metadata": {
    "ExecuteTime": {
     "end_time": "2021-06-11T13:37:22.157196Z",
     "start_time": "2021-06-11T13:37:22.137248Z"
    }
   },
   "outputs": [],
   "source": [
    "data = soup.select(\"select option\")"
   ]
  },
  {
   "cell_type": "code",
   "execution_count": 18,
   "metadata": {
    "ExecuteTime": {
     "end_time": "2021-06-11T13:38:11.310572Z",
     "start_time": "2021-06-11T13:38:11.289480Z"
    }
   },
   "outputs": [
    {
     "data": {
      "text/plain": [
       "[<option value=\"11\">11 椰子 </option>,\n",
       " <option value=\"119\">119 椰子 進口</option>,\n",
       " <option value=\"12\">12 椰子 剝殼</option>,\n",
       " <option value=\"129\">129 椰子 剝殼進口</option>,\n",
       " <option value=\"22\">22 棗子 </option>,\n",
       " <option value=\"229\">229 棗子 進口</option>,\n",
       " <option value=\"30\">30 釋迦 其他</option>,\n",
       " <option value=\"31\">31 釋迦 </option>,\n",
       " <option value=\"32\">32 釋迦 鳳梨釋迦</option>,\n",
       " <option value=\"41\">41 梅 </option>,\n",
       " <option value=\"42\">42 楊梅 </option>,\n",
       " <option value=\"43\">43 桑椹 </option>,\n",
       " <option value=\"45\">45 草莓 </option>,\n",
       " <option value=\"459\">459 草莓 進口</option>,\n",
       " <option value=\"46\">46 藍莓 </option>,\n",
       " <option value=\"469\">469 藍莓 進口</option>,\n",
       " <option value=\"50\">50 百香果 其他</option>,\n",
       " <option value=\"51\">51 百香果 改良種</option>,\n",
       " <option value=\"61\">61 甘蔗 帶皮</option>,\n",
       " <option value=\"62\">62 甘蔗 削皮</option>,\n",
       " <option value=\"70\">70 小番茄 其他</option>,\n",
       " <option value=\"71\">71 小番茄 ㄧ般</option>,\n",
       " <option value=\"72\">72 小番茄 聖女</option>,\n",
       " <option value=\"73\">73 小番茄 嬌女</option>,\n",
       " <option value=\"74\">74 小番茄 玉女</option>,\n",
       " <option value=\"811\">811 火龍果 白肉</option>,\n",
       " <option value=\"812\">812 火龍果 紅肉</option>,\n",
       " <option value=\"819\">819 火龍果 進口</option>,\n",
       " <option value=\"829\">829 蜜棗 進口</option>,\n",
       " <option value=\"839\">839 櫻桃 進口</option>,\n",
       " <option value=\"84\">84 石榴 </option>,\n",
       " <option value=\"849\">849 石榴 進口</option>,\n",
       " <option value=\"85\">85 榴槤 </option>,\n",
       " <option value=\"859\">859 榴槤 進口</option>,\n",
       " <option value=\"86\">86 山竹 </option>,\n",
       " <option value=\"869\">869 山竹 進口</option>,\n",
       " <option value=\"87\">87 紅毛丹 </option>,\n",
       " <option value=\"879\">879 紅毛丹 進口</option>,\n",
       " <option value=\"88\">88 樹葡萄 </option>,\n",
       " <option value=\"91\">91 其他 </option>,\n",
       " <option value=\"919\">919 其他 進口</option>,\n",
       " <option value=\"A0\">A0 香蕉 其他</option>,\n",
       " <option value=\"A1\">A1 香蕉 </option>,\n",
       " <option value=\"A2\">A2 香蕉 芭蕉紅芭蕉</option>,\n",
       " <option value=\"A3\">A3 香蕉 旦蕉</option>,\n",
       " <option value=\"A4\">A4 香蕉 越旦</option>,\n",
       " <option value=\"B0\">B0 鳳梨 其他</option>,\n",
       " <option value=\"B1\">B1 鳳梨 開英</option>,\n",
       " <option value=\"B2\">B2 鳳梨 金鑽鳳梨</option>,\n",
       " <option value=\"B3\">B3 鳳梨 香水鳳梨</option>,\n",
       " <option value=\"B4\">B4 鳳梨 鳳梨花</option>,\n",
       " <option value=\"B5\">B5 鳳梨 蘋果鳳梨</option>,\n",
       " <option value=\"B6\">B6 鳳梨 甜蜜蜜</option>,\n",
       " <option value=\"B7\">B7 鳳梨 牛奶鳳梨</option>,\n",
       " <option value=\"B8\">B8 鳳梨 西瓜鳳梨</option>,\n",
       " <option value=\"B9\">B9 鳳梨 進口</option>,\n",
       " <option value=\"C0\">C0 椪柑 其他</option>,\n",
       " <option value=\"C1\">C1 椪柑 </option>,\n",
       " <option value=\"C2\">C2 茂谷柑 </option>,\n",
       " <option value=\"C3\">C3 虎頭柑 </option>,\n",
       " <option value=\"C4\">C4 紅柑 美女柑</option>,\n",
       " <option value=\"C5\">C5 溫州柑 </option>,\n",
       " <option value=\"C6\">C6 佛利檬 </option>,\n",
       " <option value=\"C7\">C7 豔陽柑 </option>,\n",
       " <option value=\"C8\">C8 珍珠柑 </option>,\n",
       " <option value=\"C9\">C9 椪柑 進口</option>,\n",
       " <option value=\"D1\">D1 桶柑 </option>,\n",
       " <option value=\"D2\">D2 海梨柑 </option>,\n",
       " <option value=\"E0\">E0 甜橙 其他</option>,\n",
       " <option value=\"E1\">E1 甜橙 柳橙</option>,\n",
       " <option value=\"E2\">E2 甜橙 晚崙西亞</option>,\n",
       " <option value=\"E3\">E3 甜橙 紅肉柳橙</option>,\n",
       " <option value=\"E9\">E9 甜橙 進口</option>,\n",
       " <option value=\"F0\">F0 雜柑 其他</option>,\n",
       " <option value=\"F1\">F1 雜柑 檸檬</option>,\n",
       " <option value=\"F2\">F2 雜柑 金棗</option>,\n",
       " <option value=\"F4\">F4 雜柑 桔子</option>,\n",
       " <option value=\"F5\">F5 雜柑 無子檸檬</option>,\n",
       " <option value=\"F6\">F6 雜柑 黃金檸檬</option>,\n",
       " <option value=\"F9\">F9 雜柑 進口</option>,\n",
       " <option value=\"G1\">G1 蛋黃果 仙桃</option>,\n",
       " <option value=\"G2\">G2 黃金果 </option>,\n",
       " <option value=\"G3\">G3 酪梨 </option>,\n",
       " <option value=\"G39\">G39 酪梨 進口</option>,\n",
       " <option value=\"G49\">G49 奇異果 進口</option>,\n",
       " <option value=\"G5\">G5 香瓜梨 </option>,\n",
       " <option value=\"G6\">G6 香櫞 佛手</option>,\n",
       " <option value=\"G7\">G7 橄欖 </option>,\n",
       " <option value=\"G8\">G8 栗子 </option>,\n",
       " <option value=\"G9\">G9 波蘿蜜 </option>,\n",
       " <option value=\"G99\">G99 波蘿蜜 進口</option>,\n",
       " <option value=\"H0\">H0 柚子 其他</option>,\n",
       " <option value=\"H1\">H1 柚子 文旦</option>,\n",
       " <option value=\"H2\">H2 柚子 白柚</option>,\n",
       " <option value=\"H3\">H3 柚子 紅柚</option>,\n",
       " <option value=\"H4\">H4 葡萄柚 紅肉</option>,\n",
       " <option value=\"H41\">H41 葡萄柚 紅寶石</option>,\n",
       " <option value=\"H49\">H49 葡萄柚 紅肉進口</option>,\n",
       " <option value=\"H5\">H5 葡萄柚 白肉</option>,\n",
       " <option value=\"H59\">H59 葡萄柚 白肉進口</option>,\n",
       " <option value=\"H6\">H6 柚子 西施柚</option>,\n",
       " <option value=\"H69\">H69 柚子 西施柚進口</option>,\n",
       " <option value=\"H9\">H9 柚子 進口</option>,\n",
       " <option value=\"I0\">I0 木瓜 其他</option>,\n",
       " <option value=\"I1\">I1 木瓜 網室紅肉</option>,\n",
       " <option value=\"I2\">I2 木瓜 一般紅肉</option>,\n",
       " <option value=\"I3\">I3 木瓜 日昇種</option>,\n",
       " <option value=\"I4\">I4 木瓜 青木瓜</option>,\n",
       " <option value=\"J0\">J0 荔枝 其他</option>,\n",
       " <option value=\"J1\">J1 荔枝 玉荷包</option>,\n",
       " <option value=\"J2\">J2 荔枝 黑葉</option>,\n",
       " <option value=\"J3\">J3 荔枝 糯米</option>,\n",
       " <option value=\"J4\">J4 荔枝 竹葉黑</option>,\n",
       " <option value=\"J5\">J5 荔枝 桂味</option>,\n",
       " <option value=\"J9\">J9 荔枝 進口</option>,\n",
       " <option value=\"K0\">K0 龍眼 其他</option>,\n",
       " <option value=\"K2\">K2 龍眼 十月眼</option>,\n",
       " <option value=\"K3\">K3 龍眼 粉殼</option>,\n",
       " <option value=\"K4\">K4 龍眼 龍眼乾帶殼</option>,\n",
       " <option value=\"K41\">K41 龍眼 龍眼肉</option>,\n",
       " <option value=\"K9\">K9 龍眼 進口</option>,\n",
       " <option value=\"L1\">L1 枇杷 茂木</option>,\n",
       " <option value=\"L9\">L9 枇杷 進口</option>,\n",
       " <option value=\"M0\">M0 楊桃 其他</option>,\n",
       " <option value=\"M1\">M1 楊桃 軟枝密絲</option>,\n",
       " <option value=\"M2\">M2 楊桃 紅龍</option>,\n",
       " <option value=\"M3\">M3 楊桃 馬來亞種</option>,\n",
       " <option value=\"N0\">N0 李 其他</option>,\n",
       " <option value=\"N1\">N1 李 沙蓮李</option>,\n",
       " <option value=\"N2\">N2 李 桃接李</option>,\n",
       " <option value=\"N3\">N3 李 紅肉李</option>,\n",
       " <option value=\"N4\">N4 李 黃肉李</option>,\n",
       " <option value=\"N5\">N5 李 加州李</option>,\n",
       " <option value=\"N6\">N6 李 泰安李</option>,\n",
       " <option value=\"N9\">N9 李 進口</option>,\n",
       " <option value=\"O0\">O0 梨 其他</option>,\n",
       " <option value=\"O1\">O1 梨 橫山梨</option>,\n",
       " <option value=\"O10\">O10 梨 寶島甘露梨</option>,\n",
       " <option value=\"O2\">O2 梨 秋水梨</option>,\n",
       " <option value=\"O3\">O3 梨 世紀梨</option>,\n",
       " <option value=\"O4\">O4 梨 新興梨</option>,\n",
       " <option value=\"O5\">O5 梨 豐水梨</option>,\n",
       " <option value=\"O6\">O6 梨 幸水梨</option>,\n",
       " <option value=\"O7\">O7 梨 鳥梨</option>,\n",
       " <option value=\"O8\">O8 梨 4029梨</option>,\n",
       " <option value=\"O9\">O9 梨 其他進口</option>,\n",
       " <option value=\"O99\">O99 梨 西洋梨進口</option>,\n",
       " <option value=\"OV\">OV 梨 蜜梨</option>,\n",
       " <option value=\"OW\">OW 梨 雪梨</option>,\n",
       " <option value=\"P0\">P0 番石榴 其他</option>,\n",
       " <option value=\"P1\">P1 番石榴 珍珠芭</option>,\n",
       " <option value=\"P2\">P2 番石榴 紅心</option>,\n",
       " <option value=\"P3\">P3 番石榴 帝王芭</option>,\n",
       " <option value=\"P4\">P4 番石榴 世紀芭</option>,\n",
       " <option value=\"P5\">P5 番石榴 水晶無子</option>,\n",
       " <option value=\"Q0\">Q0 蓮霧 其他</option>,\n",
       " <option value=\"Q1\">Q1 蓮霧 紅蓮霧</option>,\n",
       " <option value=\"Q2\">Q2 蓮霧 子彈型</option>,\n",
       " <option value=\"Q3\">Q3 蓮霧 翠玉</option>,\n",
       " <option value=\"Q4\">Q4 蓮霧 巴掌蓮霧</option>,\n",
       " <option value=\"Q5\">Q5 蓮霧 黑糖芭比</option>,\n",
       " <option value=\"R0\">R0 芒果 其他</option>,\n",
       " <option value=\"R1\">R1 芒果 愛文</option>,\n",
       " <option value=\"R10\">R10 芒果 西施</option>,\n",
       " <option value=\"R2\">R2 芒果 玉文</option>,\n",
       " <option value=\"R3\">R3 芒果 本島</option>,\n",
       " <option value=\"R31\">R31 芒果 夏雪</option>,\n",
       " <option value=\"R4\">R4 芒果 凱特</option>,\n",
       " <option value=\"R5\">R5 芒果 黑香金興</option>,\n",
       " <option value=\"R6\">R6 芒果 金煌</option>,\n",
       " <option value=\"R7\">R7 芒果 聖心</option>,\n",
       " <option value=\"R8\">R8 芒果 芒果青</option>,\n",
       " <option value=\"S0\">S0 葡萄 其他</option>,\n",
       " <option value=\"S1\">S1 葡萄 巨峰</option>,\n",
       " <option value=\"S2\">S2 葡萄 義大利</option>,\n",
       " <option value=\"S4\">S4 葡萄 無子</option>,\n",
       " <option value=\"S49\">S49 葡萄 無子進口</option>,\n",
       " <option value=\"S5\">S5 葡萄 蜜紅</option>,\n",
       " <option value=\"S9\">S9 葡萄 進口</option>,\n",
       " <option value=\"T0\">T0 西瓜 其他</option>,\n",
       " <option value=\"T1\">T1 西瓜 大西瓜</option>,\n",
       " <option value=\"T2\">T2 西瓜 無子西瓜</option>,\n",
       " <option value=\"T3\">T3 西瓜 黑美人</option>,\n",
       " <option value=\"T4\">T4 西瓜 鳳光英妙</option>,\n",
       " <option value=\"T5\">T5 西瓜 黃肉</option>,\n",
       " <option value=\"T6\">T6 西瓜 紅肉</option>,\n",
       " <option value=\"T7\">T7 西瓜 秀鈴</option>,\n",
       " <option value=\"T9\">T9 西瓜 進口</option>,\n",
       " <option value=\"V0\">V0 甜瓜 其他</option>,\n",
       " <option value=\"V1\">V1 甜瓜 美濃</option>,\n",
       " <option value=\"V2\">V2 甜瓜 溫室吊瓜</option>,\n",
       " <option value=\"W0\">W0 洋香瓜 其他</option>,\n",
       " <option value=\"W1\">W1 洋香瓜 網狀紅肉</option>,\n",
       " <option value=\"W2\">W2 洋香瓜 網狀綠肉</option>,\n",
       " <option value=\"W3\">W3 洋香瓜 網狀白肉</option>,\n",
       " <option value=\"W4\">W4 洋香瓜 新疆</option>,\n",
       " <option value=\"W5\">W5 洋香瓜 光面紅肉</option>,\n",
       " <option value=\"W6\">W6 洋香瓜 光面綠肉</option>,\n",
       " <option value=\"W7\">W7 洋香瓜 光面白肉</option>,\n",
       " <option value=\"W8\">W8 洋香瓜 阿露斯</option>,\n",
       " <option value=\"W9\">W9 洋香瓜 進口</option>,\n",
       " <option value=\"X0\">X0 蘋果 其他</option>,\n",
       " <option value=\"X09\">X09 蘋果 其他進口</option>,\n",
       " <option value=\"X1\">X1 蘋果 五爪</option>,\n",
       " <option value=\"X19\">X19 蘋果 五爪進口</option>,\n",
       " <option value=\"X2\">X2 蘋果 秋香</option>,\n",
       " <option value=\"X29\">X29 蘋果 秋香進口</option>,\n",
       " <option value=\"X3\">X3 蘋果 惠</option>,\n",
       " <option value=\"X39\">X39 蘋果 惠進口</option>,\n",
       " <option value=\"X4\">X4 蘋果 金冠</option>,\n",
       " <option value=\"X49\">X49 蘋果 金冠進口</option>,\n",
       " <option value=\"X5\">X5 蘋果 紅玉</option>,\n",
       " <option value=\"X59\">X59 蘋果 紅玉進口</option>,\n",
       " <option value=\"X6\">X6 蘋果 富士</option>,\n",
       " <option value=\"X69\">X69 蘋果 富士進口</option>,\n",
       " <option value=\"X7\">X7 蘋果 陸奧</option>,\n",
       " <option value=\"X79\">X79 蘋果 陸奧進口</option>,\n",
       " <option value=\"Y0\">Y0 桃子 其他</option>,\n",
       " <option value=\"Y1\">Y1 桃子 水蜜桃</option>,\n",
       " <option value=\"Y19\">Y19 桃子 水蜜桃進口</option>,\n",
       " <option value=\"Y2\">Y2 桃子 鶯歌桃</option>,\n",
       " <option value=\"Y3\">Y3 桃子 甜桃</option>,\n",
       " <option value=\"Y39\">Y39 桃子 甜桃進口</option>,\n",
       " <option value=\"Y4\">Y4 桃子 早桃</option>,\n",
       " <option value=\"Y5\">Y5 桃子 福壽桃</option>,\n",
       " <option value=\"Y9\">Y9 桃子 進口</option>,\n",
       " <option value=\"Z0\">Z0 柿子 其他</option>,\n",
       " <option value=\"Z1\">Z1 柿子 紅柿</option>,\n",
       " <option value=\"Z2\">Z2 柿子 水柿</option>,\n",
       " <option value=\"Z3\">Z3 柿子 柿餅</option>,\n",
       " <option value=\"Z39\">Z39 柿子 柿餅進口</option>,\n",
       " <option value=\"Z4\">Z4 柿子 甜柿</option>,\n",
       " <option value=\"Z5\">Z5 柿子 筆柿</option>,\n",
       " <option value=\"Z6\">Z6 柿子 秋柿</option>,\n",
       " <option value=\"Z9\">Z9 柿子 進口</option>,\n",
       " <option value=\"ZZZ\">ZZZ 其他 </option>]"
      ]
     },
     "execution_count": 18,
     "metadata": {},
     "output_type": "execute_result"
    }
   ],
   "source": [
    "data"
   ]
  },
  {
   "cell_type": "code",
   "execution_count": null,
   "metadata": {},
   "outputs": [],
   "source": []
  }
 ],
 "metadata": {
  "kernelspec": {
   "display_name": "Python 3",
   "language": "python",
   "name": "python3"
  },
  "language_info": {
   "codemirror_mode": {
    "name": "ipython",
    "version": 3
   },
   "file_extension": ".py",
   "mimetype": "text/x-python",
   "name": "python",
   "nbconvert_exporter": "python",
   "pygments_lexer": "ipython3",
   "version": "3.8.6"
  },
  "toc": {
   "base_numbering": 1,
   "nav_menu": {},
   "number_sections": true,
   "sideBar": true,
   "skip_h1_title": false,
   "title_cell": "Table of Contents",
   "title_sidebar": "Contents",
   "toc_cell": false,
   "toc_position": {},
   "toc_section_display": true,
   "toc_window_display": false
  },
  "varInspector": {
   "cols": {
    "lenName": 16,
    "lenType": 16,
    "lenVar": 40
   },
   "kernels_config": {
    "python": {
     "delete_cmd_postfix": "",
     "delete_cmd_prefix": "del ",
     "library": "var_list.py",
     "varRefreshCmd": "print(var_dic_list())"
    },
    "r": {
     "delete_cmd_postfix": ") ",
     "delete_cmd_prefix": "rm(",
     "library": "var_list.r",
     "varRefreshCmd": "cat(var_dic_list()) "
    }
   },
   "types_to_exclude": [
    "module",
    "function",
    "builtin_function_or_method",
    "instance",
    "_Feature"
   ],
   "window_display": false
  }
 },
 "nbformat": 4,
 "nbformat_minor": 4
}
